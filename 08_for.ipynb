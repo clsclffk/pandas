{
 "cells": [
  {
   "cell_type": "markdown",
   "metadata": {
    "colab_type": "text",
    "id": "view-in-github"
   },
   "source": [
    "<a href=\"https://colab.research.google.com/github/zzhining/python_basic/blob/master/08_for.ipynb\" target=\"_parent\"><img src=\"https://colab.research.google.com/assets/colab-badge.svg\" alt=\"Open In Colab\"/></a>"
   ]
  },
  {
   "cell_type": "markdown",
   "metadata": {
    "id": "_-Wc9rfKOT2R"
   },
   "source": [
    "## 반복문\n",
    "- 작업을 반복적으로 수행하는 구문\n",
    "- `for` 문과 `while` 문"
   ]
  },
  {
   "cell_type": "markdown",
   "metadata": {
    "id": "0LniJs2RQlBA"
   },
   "source": [
    "## for문"
   ]
  },
  {
   "cell_type": "code",
   "execution_count": 1,
   "metadata": {
    "id": "_8JnN-h1NlRz",
    "outputId": "2f3726d1-ad38-4f9e-c662-d0c0e72e1fd8"
   },
   "outputs": [
    {
     "name": "stdout",
     "output_type": "stream",
     "text": [
      "0\n",
      "1\n",
      "2\n",
      "3\n",
      "4\n",
      "5\n"
     ]
    }
   ],
   "source": [
    "for a in [0,1,2,3,4,5]:\n",
    "    print(a)"
   ]
  },
  {
   "cell_type": "markdown",
   "metadata": {
    "id": "ayj42lnBOcE9"
   },
   "source": [
    "### 반복 범위 지정\n",
    "`리스트`와 `range()` 함수를 이용\n"
   ]
  },
  {
   "cell_type": "code",
   "execution_count": 3,
   "metadata": {
    "id": "0c0ZIHxwNlR0",
    "outputId": "59624c3b-1535-4fa1-9e88-c12358b8f086"
   },
   "outputs": [
    {
     "name": "stdout",
     "output_type": "stream",
     "text": [
      "James\n",
      "Robert\n",
      "Lisa\n",
      "Mary\n"
     ]
    }
   ],
   "source": [
    "myFriends = ['James', 'Robert', 'Lisa', 'Mary']\n",
    "\n",
    "for friend in myFriends:\n",
    "    print(friend)"
   ]
  },
  {
   "cell_type": "code",
   "execution_count": 5,
   "metadata": {},
   "outputs": [
    {
     "name": "stdout",
     "output_type": "stream",
     "text": [
      "h\n",
      "e\n",
      "l\n",
      "l\n",
      "o\n"
     ]
    }
   ],
   "source": [
    "# 반복자\n",
    "message = 'hello'\n",
    "for m in message:\n",
    "    print(m)"
   ]
  },
  {
   "cell_type": "code",
   "execution_count": 7,
   "metadata": {},
   "outputs": [
    {
     "name": "stdout",
     "output_type": "stream",
     "text": [
      "1\n",
      "2\n",
      "3\n",
      "4\n",
      "5\n"
     ]
    }
   ],
   "source": [
    "# 튜플\n",
    "numbers = (1,2,3,4,5)\n",
    "for n in numbers:\n",
    "    print(n)"
   ]
  },
  {
   "cell_type": "code",
   "execution_count": 15,
   "metadata": {},
   "outputs": [
    {
     "name": "stdout",
     "output_type": "stream",
     "text": [
      "('name', 'ylee')\n",
      "('age', 30)\n",
      "('addr', 'Gapyeong')\n"
     ]
    }
   ],
   "source": [
    "# dict\n",
    "student = {'name':'ylee', 'age':30, 'addr':'Gapyeong'}\n",
    "for s in student.items():\n",
    "    print(s)"
   ]
  },
  {
   "cell_type": "code",
   "execution_count": 17,
   "metadata": {},
   "outputs": [
    {
     "name": "stdout",
     "output_type": "stream",
     "text": [
      "ylee\n",
      "30\n",
      "Gapyeong\n"
     ]
    }
   ],
   "source": [
    "for s in student.values():\n",
    "    print(s)"
   ]
  },
  {
   "cell_type": "markdown",
   "metadata": {
    "id": "qkFxiPRUOlW5"
   },
   "source": [
    "## range(start, stop, step)\n",
    "- `start`는 범위의 시작 지점, `stop`은 범위의 끝 지점, `step`은 증감의 크기\n",
    "- `step`이 1인 경우 생략 가능\n",
    "- `step`이 1이고 `start`가 0인 경우 `start`역시 생략 가능\n",
    "\n"
   ]
  },
  {
   "cell_type": "code",
   "execution_count": 19,
   "metadata": {
    "id": "skD8Xzw9NlR1",
    "outputId": "74660315-1f54-40a8-dec8-3a99307454a4"
   },
   "outputs": [
    {
     "name": "stdout",
     "output_type": "stream",
     "text": [
      "range(0, 10)\n"
     ]
    }
   ],
   "source": [
    "print(range(0, 10, 1))"
   ]
  },
  {
   "cell_type": "code",
   "execution_count": 21,
   "metadata": {
    "id": "6sZgp5HrNlR1",
    "outputId": "73ec4056-c271-4a09-8090-2a002c618ffb"
   },
   "outputs": [
    {
     "name": "stdout",
     "output_type": "stream",
     "text": [
      "[0, 1, 2, 3, 4, 5, 6, 7, 8, 9]\n"
     ]
    }
   ],
   "source": [
    "print(list(range(0,10,1)))"
   ]
  },
  {
   "cell_type": "code",
   "execution_count": 23,
   "metadata": {
    "id": "tSapq5UPNlR2",
    "outputId": "20f3ee62-5521-4001-b910-b06ecec7c137"
   },
   "outputs": [
    {
     "name": "stdout",
     "output_type": "stream",
     "text": [
      "0\n",
      "1\n",
      "2\n",
      "3\n",
      "4\n",
      "5\n"
     ]
    }
   ],
   "source": [
    "for a in range(0,6):\n",
    "    print(a)"
   ]
  },
  {
   "cell_type": "code",
   "execution_count": 31,
   "metadata": {
    "colab": {
     "base_uri": "https://localhost:8080/"
    },
    "id": "XbANfYvBzxbL",
    "outputId": "5e268775-5e81-4ff6-9035-1e96134db09d"
   },
   "outputs": [
    {
     "name": "stdout",
     "output_type": "stream",
     "text": [
      "0 a\n",
      "1 b\n",
      "2 c\n",
      "3 d\n",
      "4 e\n"
     ]
    }
   ],
   "source": [
    "# 인덱스, 값을 함께 꺼내기\n",
    "x_list = ['a', 'b', 'c', 'd', 'e']\n",
    "\n",
    "for i,j in enumerate(x_list):\n",
    "    print(i,j)"
   ]
  },
  {
   "cell_type": "code",
   "execution_count": 33,
   "metadata": {},
   "outputs": [
    {
     "name": "stdout",
     "output_type": "stream",
     "text": [
      "('a', 'aa')\n",
      "('b', 'bb')\n",
      "('c', 'cc')\n"
     ]
    }
   ],
   "source": [
    "# zip\n",
    "seq1 = ['a','b','c']\n",
    "seq2 = ['aa','bb','cc']\n",
    "\n",
    "for i in zip(seq1,seq2):\n",
    "    print(i)"
   ]
  },
  {
   "cell_type": "code",
   "execution_count": 37,
   "metadata": {},
   "outputs": [
    {
     "name": "stdout",
     "output_type": "stream",
     "text": [
      "a aa\n",
      "b bb\n",
      "c cc\n"
     ]
    }
   ],
   "source": [
    "for i,j in zip(seq1,seq2):\n",
    "    print(i,j)"
   ]
  },
  {
   "cell_type": "code",
   "execution_count": 27,
   "metadata": {},
   "outputs": [
    {
     "data": {
      "text/plain": [
       "55"
      ]
     },
     "execution_count": 27,
     "metadata": {},
     "output_type": "execute_result"
    }
   ],
   "source": [
    "# 1에서 10까지 합 구하기\n",
    "sum = 0\n",
    "for i in range(1,11):\n",
    "    sum += i\n",
    "sum"
   ]
  },
  {
   "cell_type": "code",
   "execution_count": 29,
   "metadata": {},
   "outputs": [
    {
     "data": {
      "text/plain": [
       "1683"
      ]
     },
     "execution_count": 29,
     "metadata": {},
     "output_type": "execute_result"
    }
   ],
   "source": [
    "# 1~100 사이의 3의 배수의 합을 구하기\n",
    "sum = 0\n",
    "for i in range(3,100,3):\n",
    "    sum += i\n",
    "sum"
   ]
  },
  {
   "cell_type": "code",
   "execution_count": 39,
   "metadata": {},
   "outputs": [
    {
     "name": "stdout",
     "output_type": "stream",
     "text": [
      "몇 단을 출력할까요?  9\n"
     ]
    },
    {
     "name": "stdout",
     "output_type": "stream",
     "text": [
      "9 * 1 = 9\n",
      "9 * 2 = 18\n",
      "9 * 3 = 27\n",
      "9 * 4 = 36\n",
      "9 * 5 = 45\n",
      "9 * 6 = 54\n",
      "9 * 7 = 63\n",
      "9 * 8 = 72\n",
      "9 * 9 = 81\n"
     ]
    }
   ],
   "source": [
    "# 구구단\n",
    "a = int(input('몇 단을 출력할까요? '))\n",
    "\n",
    "for i in range(1, 10):\n",
    "    print(f'{a} * {i} = {a*i}')"
   ]
  },
  {
   "cell_type": "markdown",
   "metadata": {
    "id": "1x8YN8bT0btb"
   },
   "source": [
    "딕셔너리의 키/값 출력\n"
   ]
  },
  {
   "cell_type": "code",
   "execution_count": 41,
   "metadata": {
    "colab": {
     "base_uri": "https://localhost:8080/"
    },
    "id": "0AYPDSor0PbZ",
    "outputId": "b2ada712-b4e5-4de8-c6fa-d3a44b04763c"
   },
   "outputs": [
    {
     "name": "stdout",
     "output_type": "stream",
     "text": [
      "a 6\n",
      "b 2\n",
      "c 3\n",
      "d 7\n"
     ]
    }
   ],
   "source": [
    "x_dict = {'a': 6, 'b': 2, 'c': 3, 'd': 7}\n",
    "\n",
    "for k,v in x_dict.items():\n",
    "    print(k, v)"
   ]
  },
  {
   "cell_type": "markdown",
   "metadata": {
    "id": "FNkA1rSgPGyr"
   },
   "source": [
    "## 중첩 for 문"
   ]
  },
  {
   "cell_type": "code",
   "execution_count": 45,
   "metadata": {
    "id": "fEzoLVpJNlR3",
    "outputId": "bc5a903a-a11c-40fd-da35-e86059e10533"
   },
   "outputs": [
    {
     "name": "stdout",
     "output_type": "stream",
     "text": [
      "x1 y1\n",
      "x1 y2\n",
      "x2 y1\n",
      "x2 y2\n"
     ]
    }
   ],
   "source": [
    "x_list = ['x1', 'x2']\n",
    "y_list = ['y1', 'y2']\n",
    "\n",
    "for x in x_list:\n",
    "    for y in y_list:\n",
    "        print(x,y)"
   ]
  },
  {
   "cell_type": "code",
   "execution_count": 53,
   "metadata": {},
   "outputs": [
    {
     "name": "stdout",
     "output_type": "stream",
     "text": [
      "2단 시작\n",
      "2 * 1 = 2\n",
      "2 * 2 = 4\n",
      "2 * 3 = 6\n",
      "2 * 4 = 8\n",
      "2 * 5 = 10\n",
      "2 * 6 = 12\n",
      "2 * 7 = 14\n",
      "2 * 8 = 16\n",
      "2 * 9 = 18\n",
      "3단 시작\n",
      "3 * 1 = 3\n",
      "3 * 2 = 6\n",
      "3 * 3 = 9\n",
      "3 * 4 = 12\n",
      "3 * 5 = 15\n",
      "3 * 6 = 18\n",
      "3 * 7 = 21\n",
      "3 * 8 = 24\n",
      "3 * 9 = 27\n",
      "4단 시작\n",
      "4 * 1 = 4\n",
      "4 * 2 = 8\n",
      "4 * 3 = 12\n",
      "4 * 4 = 16\n",
      "4 * 5 = 20\n",
      "4 * 6 = 24\n",
      "4 * 7 = 28\n",
      "4 * 8 = 32\n",
      "4 * 9 = 36\n",
      "5단 시작\n",
      "5 * 1 = 5\n",
      "5 * 2 = 10\n",
      "5 * 3 = 15\n",
      "5 * 4 = 20\n",
      "5 * 5 = 25\n",
      "5 * 6 = 30\n",
      "5 * 7 = 35\n",
      "5 * 8 = 40\n",
      "5 * 9 = 45\n",
      "6단 시작\n",
      "6 * 1 = 6\n",
      "6 * 2 = 12\n",
      "6 * 3 = 18\n",
      "6 * 4 = 24\n",
      "6 * 5 = 30\n",
      "6 * 6 = 36\n",
      "6 * 7 = 42\n",
      "6 * 8 = 48\n",
      "6 * 9 = 54\n",
      "7단 시작\n",
      "7 * 1 = 7\n",
      "7 * 2 = 14\n",
      "7 * 3 = 21\n",
      "7 * 4 = 28\n",
      "7 * 5 = 35\n",
      "7 * 6 = 42\n",
      "7 * 7 = 49\n",
      "7 * 8 = 56\n",
      "7 * 9 = 63\n",
      "8단 시작\n",
      "8 * 1 = 8\n",
      "8 * 2 = 16\n",
      "8 * 3 = 24\n",
      "8 * 4 = 32\n",
      "8 * 5 = 40\n",
      "8 * 6 = 48\n",
      "8 * 7 = 56\n",
      "8 * 8 = 64\n",
      "8 * 9 = 72\n",
      "9단 시작\n",
      "9 * 1 = 9\n",
      "9 * 2 = 18\n",
      "9 * 3 = 27\n",
      "9 * 4 = 36\n",
      "9 * 5 = 45\n",
      "9 * 6 = 54\n",
      "9 * 7 = 63\n",
      "9 * 8 = 72\n",
      "9 * 9 = 81\n"
     ]
    }
   ],
   "source": [
    "for i in range(2,10):\n",
    "    print(f'{i}단 시작')\n",
    "    for j in range(1,10):\n",
    "        print(f'{i} * {j} = {i*j}')"
   ]
  },
  {
   "cell_type": "markdown",
   "metadata": {},
   "source": [
    "## list comprehension\n",
    "\n",
    "```python\n",
    "for 변수 in 반복자:\n",
    "    실행문\n",
    "```\n",
    "\n",
    "```python\n",
    "새로운 리스트 = [실행문 for 변수 in 반복자]\n",
    "```"
   ]
  },
  {
   "cell_type": "code",
   "execution_count": 56,
   "metadata": {},
   "outputs": [
    {
     "data": {
      "text/plain": [
       "[5, 6, 7, 8, 9, 10]"
      ]
     },
     "execution_count": 56,
     "metadata": {},
     "output_type": "execute_result"
    }
   ],
   "source": [
    "numbers = [0,1,2,3,4,5]\n",
    "\n",
    "[a+5 for a in numbers]"
   ]
  },
  {
   "cell_type": "code",
   "execution_count": 62,
   "metadata": {},
   "outputs": [],
   "source": [
    "# if문과 함께 쓰는 list comprehension\n",
    "test = []\n",
    "\n",
    "for x in range(10):\n",
    "    if x<5:\n",
    "        test.append(x*2)\n",
    "    else:\n",
    "        test.append(x)"
   ]
  },
  {
   "cell_type": "code",
   "execution_count": 64,
   "metadata": {},
   "outputs": [
    {
     "data": {
      "text/plain": [
       "[0, 2, 4, 6, 8, 5, 6, 7, 8, 9]"
      ]
     },
     "execution_count": 64,
     "metadata": {},
     "output_type": "execute_result"
    }
   ],
   "source": [
    "[x*2 if x < 5 else x for x in range(10)]"
   ]
  },
  {
   "cell_type": "code",
   "execution_count": 66,
   "metadata": {},
   "outputs": [
    {
     "data": {
      "text/plain": [
       "[0, 1, 2, 3, 4]"
      ]
     },
     "execution_count": 66,
     "metadata": {},
     "output_type": "execute_result"
    }
   ],
   "source": [
    "[x for x in range(10) if x<5]"
   ]
  },
  {
   "cell_type": "markdown",
   "metadata": {
    "id": "EgNaLPS1PK12"
   },
   "source": [
    "## while 문\n",
    "- 조건에 따라 반복 여부를 결정\n"
   ]
  },
  {
   "cell_type": "code",
   "execution_count": 68,
   "metadata": {
    "colab": {
     "base_uri": "https://localhost:8080/"
    },
    "id": "Lh2_5_6UNlR3",
    "outputId": "725aba2e-1b18-4ed9-ef7e-45ec12a93fb1"
   },
   "outputs": [
    {
     "name": "stdout",
     "output_type": "stream",
     "text": [
      "0 0\n",
      "1 1\n",
      "2 3\n",
      "3 6\n",
      "4 10\n",
      "5 15\n",
      "6 21\n"
     ]
    }
   ],
   "source": [
    "i= 0\n",
    "sum = 0\n",
    "print(i, sum)\n",
    "\n",
    "while sum < 20:\n",
    "    i = i + 1\n",
    "    sum = sum + i\n",
    "    print(i, sum)"
   ]
  },
  {
   "cell_type": "code",
   "execution_count": 70,
   "metadata": {},
   "outputs": [
    {
     "data": {
      "text/plain": [
       "5050"
      ]
     },
     "execution_count": 70,
     "metadata": {},
     "output_type": "execute_result"
    }
   ],
   "source": [
    "# 1~100 합계\n",
    "sum = 0\n",
    "a = 100\n",
    "while a>=0:\n",
    "    sum += a\n",
    "    a -= 1\n",
    "sum"
   ]
  },
  {
   "cell_type": "markdown",
   "metadata": {
    "id": "4h5rmMp_PaMs"
   },
   "source": [
    "## 무한 반복 while 문\n",
    "- 코드 블록을 무조건 계속 반복하라고 명령을 내려야 할 때"
   ]
  },
  {
   "cell_type": "code",
   "execution_count": null,
   "metadata": {},
   "outputs": [],
   "source": [
    "# 실행 금지\n",
    "while True:\n",
    "    print('while test')"
   ]
  },
  {
   "cell_type": "markdown",
   "metadata": {
    "id": "ExX0ZfEQPnw4"
   },
   "source": [
    "## break\n",
    "- 반복문에서 빠져나옴"
   ]
  },
  {
   "cell_type": "code",
   "execution_count": null,
   "metadata": {
    "id": "BYg78JCENlR4",
    "outputId": "491882df-dfa4-48fe-c716-f7eb55cedfdb"
   },
   "outputs": [],
   "source": [
    "k = 0\n",
    "\n",
    "while True:\n",
    "    print('무한 반복')\n",
    "    k += 1\n",
    "    if k>3 : \n",
    "        break"
   ]
  },
  {
   "cell_type": "code",
   "execution_count": null,
   "metadata": {},
   "outputs": [],
   "source": [
    "k = 0\n",
    "while k>3:\n",
    "    print('무한 반복')\n",
    "    k += 1"
   ]
  },
  {
   "cell_type": "markdown",
   "metadata": {
    "id": "nId9BuHCPywH"
   },
   "source": [
    "## continue\n",
    "- 해당 차례의 남은 작업을 하지 않고 다음 반복으로 넘어감"
   ]
  },
  {
   "cell_type": "code",
   "execution_count": 72,
   "metadata": {
    "colab": {
     "base_uri": "https://localhost:8080/"
    },
    "id": "GcjDw38bNlR5",
    "outputId": "9611ec83-bcb0-4bb5-c3ec-780f68a844c5"
   },
   "outputs": [
    {
     "name": "stdout",
     "output_type": "stream",
     "text": [
      "0\n",
      "1\n",
      "3\n",
      "4\n"
     ]
    }
   ],
   "source": [
    "for k in range(5):\n",
    "    if k ==2:\n",
    "        continue\n",
    "    print(k)"
   ]
  },
  {
   "cell_type": "code",
   "execution_count": 74,
   "metadata": {},
   "outputs": [
    {
     "name": "stdout",
     "output_type": "stream",
     "text": [
      "0\n",
      "1\n",
      "2\n",
      "3\n",
      "4\n"
     ]
    }
   ],
   "source": [
    "for k in range(5):\n",
    "    if k ==2:\n",
    "        pass\n",
    "    print(k)"
   ]
  },
  {
   "cell_type": "markdown",
   "metadata": {
    "id": "HOSDbyulP-3Q"
   },
   "source": [
    "## 컴프리헨션 (comprehension)\n",
    "- 리스트 컴프리헨션\n",
    "- 세트 컴프리헨션\n",
    "- 딕셔너리 컴프리헨션\n"
   ]
  },
  {
   "cell_type": "markdown",
   "metadata": {
    "id": "PuiG41vFQG-z"
   },
   "source": [
    "### 리스트 컴프리헨션의 기본 구조\n",
    "\n",
    "`[<반복 실행문> for <반복 변수> in <반복 범위>]`"
   ]
  },
  {
   "cell_type": "code",
   "execution_count": null,
   "metadata": {
    "id": "rQNsQw5aNlR5",
    "outputId": "b741ad5e-2539-4859-a523-2624be4e483d"
   },
   "outputs": [],
   "source": [
    "numbers = [1,2,3,4,5]\n",
    "square = [i **2 for i in numbers]\n",
    "print(square)"
   ]
  },
  {
   "cell_type": "markdown",
   "metadata": {
    "id": "519PP_ydQPbC"
   },
   "source": [
    "### 조건문을 포함한 리스트 컴프리헨션\n",
    "`[<반복 실행문> for <반복 변수> in <반복 범위> if <조건문>]`"
   ]
  },
  {
   "cell_type": "code",
   "execution_count": null,
   "metadata": {
    "id": "Tmxc6UPDNlR6"
   },
   "outputs": [],
   "source": [
    "square = [i ** 2 for i in numbers if i >= 3]"
   ]
  },
  {
   "cell_type": "code",
   "execution_count": null,
   "metadata": {
    "id": "RXJyTi5ENlR6",
    "outputId": "c2580b90-84f5-421c-bd45-64310f47d475"
   },
   "outputs": [],
   "source": [
    "square"
   ]
  },
  {
   "cell_type": "markdown",
   "metadata": {
    "id": "YMesQgpC4bD_"
   },
   "source": [
    "else가 포함된 경우\n",
    "\n",
    "\n",
    "`[<반복 실행문> if <조건문> else <else문> for <반복 변수> in <반복 범위> ]`"
   ]
  },
  {
   "cell_type": "code",
   "execution_count": null,
   "metadata": {
    "colab": {
     "base_uri": "https://localhost:8080/"
    },
    "id": "BR9jX9lPNlR7",
    "outputId": "3701b6d8-6792-4670-9d1e-a1264b8fac50"
   },
   "outputs": [],
   "source": [
    "test = [x if x < 5 else x * 3 for x in range(10)]\n",
    "test"
   ]
  },
  {
   "cell_type": "markdown",
   "metadata": {},
   "source": [
    "<div class=\"alert alert-success\">\n",
    "[문제]\n",
    "    \n",
    "이번에 개발할 프로그램은 ‘스마트폰 사용량 감시 프로그램’입니다. 사용자가 스마트폰 사용 허용시간을 300분으로 지정해 두었습니다. 이 사용자는 스마트폰을 한 번 사용할 때마다 50분씩 사용한다고 할 때, 지정시간에 도달하였을 경우 핸드폰 사용을 중단하도록 하는 프로그램을 만들어 보세요.\n",
    "</div>"
   ]
  },
  {
   "cell_type": "code",
   "execution_count": 85,
   "metadata": {},
   "outputs": [
    {
     "name": "stdout",
     "output_type": "stream",
     "text": [
      "핸드폰 1회 사용\n",
      "핸드폰 2회 사용\n",
      "핸드폰 3회 사용\n",
      "핸드폰 4회 사용\n",
      "핸드폰 5회 사용\n",
      "핸드폰 6회 사용\n",
      "핸드폰 사용을 중단해주세요.\n"
     ]
    }
   ],
   "source": [
    "use = 0\n",
    "limited_time = 300\n",
    "\n",
    "while limited_time > 0:\n",
    "    limited_time -= 50\n",
    "    use +=1\n",
    "    print(f'핸드폰 {use}회 사용')\n",
    "    if limited_time <=0:\n",
    "        print('핸드폰 사용을 중단해주세요.')"
   ]
  },
  {
   "cell_type": "code",
   "execution_count": null,
   "metadata": {},
   "outputs": [],
   "source": [
    "time = 0 # 누적 사용 시간\n",
    "while True:\n",
    "    print('현재 사용량: {}'.format(time))\n",
    "    if time >= 300 :\n",
    "        print('[사용 중단]하루 사용 권장량에 도달 또는 초과하였습니다.')\n",
    "        break\n",
    "    else:\n",
    "        time = time + 50"
   ]
  },
  {
   "cell_type": "markdown",
   "metadata": {},
   "source": [
    "<div class=\"alert alert-success\">\n",
    "[문제]\n",
    " \n",
    "‘스마트폰 사용량 감시 프로그램’의 신규 버전에서는 사용자에게 현재 사용량이 150분 미만일 경우에는 ‘안전’하다는 메시지를 보여주는 컨셉이 추가되었습니다. 기존 작성한 코드에서 메시지를 보여주는 컨셉만 추가해 보세요.\n",
    "</div>"
   ]
  },
  {
   "cell_type": "code",
   "execution_count": 90,
   "metadata": {},
   "outputs": [
    {
     "name": "stdout",
     "output_type": "stream",
     "text": [
      "핸드폰 1회 사용\n",
      "안전\n",
      "핸드폰 2회 사용\n",
      "안전\n",
      "핸드폰 3회 사용\n",
      "핸드폰 4회 사용\n",
      "핸드폰 5회 사용\n",
      "핸드폰 6회 사용\n",
      "핸드폰 사용을 중단해주세요.\n"
     ]
    }
   ],
   "source": [
    "use = 0\n",
    "limited_time = 300\n",
    "\n",
    "while limited_time > 0:\n",
    "    limited_time -= 50\n",
    "    use +=1\n",
    "    print(f'핸드폰 {use}회 사용')\n",
    "    if use * 50 < 150:\n",
    "        print('안전')\n",
    "    if limited_time <=0:\n",
    "        print('핸드폰 사용을 중단해주세요.')"
   ]
  },
  {
   "cell_type": "code",
   "execution_count": null,
   "metadata": {},
   "outputs": [],
   "source": [
    "time = 0 # 누적 사용 시간\n",
    "while True:\n",
    "    print('현재 사용량: {}'.format(time))\n",
    "    if time < 150:\n",
    "        print('안전')\n",
    "    if time >= 300:\n",
    "        print('[사용 중단]하루 사용 권장량에 도달 또는 초과하였습니다.')\n",
    "        break\n",
    "    else:\n",
    "        time = time + 50"
   ]
  },
  {
   "cell_type": "markdown",
   "metadata": {},
   "source": [
    "<div class=\"alert alert-success\">\n",
    "[문제]\n",
    "    \n",
    "‘스마트폰 사용량 감시 프로그램’의 신규 버전에서는 이전 버전에 추가되었던 ‘안전’ 메시지를 보여주는 컨셉을 삭제하기로 결정되었습니다. 기존 작성한 코드에서 메시지를 보여주는 부분이 동작하지 않도록 코드를 수정해보세요.\n",
    "</div>"
   ]
  },
  {
   "cell_type": "code",
   "execution_count": 93,
   "metadata": {},
   "outputs": [
    {
     "name": "stdout",
     "output_type": "stream",
     "text": [
      "핸드폰 1회 사용\n",
      "핸드폰 2회 사용\n",
      "핸드폰 3회 사용\n",
      "핸드폰 4회 사용\n",
      "핸드폰 5회 사용\n",
      "핸드폰 6회 사용\n",
      "핸드폰 사용을 중단해주세요.\n"
     ]
    }
   ],
   "source": [
    "use = 0\n",
    "limited_time = 300\n",
    "\n",
    "while limited_time > 0:\n",
    "    limited_time -= 50\n",
    "    use +=1\n",
    "    print(f'핸드폰 {use}회 사용')\n",
    "    if use * 50 < 150:\n",
    "        pass\n",
    "    if limited_time <=0:\n",
    "        print('핸드폰 사용을 중단해주세요.')"
   ]
  },
  {
   "cell_type": "code",
   "execution_count": null,
   "metadata": {},
   "outputs": [],
   "source": [
    "time = 0 # 누적 사용 시간\n",
    "while True:\n",
    "    print('현재 사용량: {}'.format(time))\n",
    "    if time < 150:\n",
    "        pass\n",
    "    if time >= 300:\n",
    "        print('[사용 중단]하루 사용 권장량에 도달 또는 초과하였습니다.')\n",
    "        break\n",
    "    else:\n",
    "        time = time + 50"
   ]
  },
  {
   "cell_type": "markdown",
   "metadata": {},
   "source": [
    "<div class=\"alert alert-success\">\n",
    "    \n",
    "[문제]\n",
    "    \n",
    "ABC 쇼핑몰에 신규 주문 목록이 아래와 같이 생성되었습니다. \n",
    "\n",
    "shopping_dict = {'주문번호': 123,   \n",
    "                 '주문자': '김**',   \n",
    "                 '주소': '서울 마포구 상암동',  \n",
    "                 '주문항목': ['맛좋은 김치', '맛좋은 라면', '시원한 물']}  \n",
    "\n",
    "for문을 사용해서 shopping_dict를 출력해보세요.  \n",
    "\n",
    "</div>"
   ]
  },
  {
   "cell_type": "code",
   "execution_count": 96,
   "metadata": {},
   "outputs": [
    {
     "name": "stdout",
     "output_type": "stream",
     "text": [
      "('주문번호', 123)\n",
      "('주문자', '김**')\n",
      "('주소', '서울 마포구 상암동')\n",
      "('주문항목', ['맛좋은 김치', '맛좋은 라면', '시원한 물'])\n"
     ]
    }
   ],
   "source": [
    "shopping_dict = {'주문번호': 123,\n",
    "'주문자': '김**',\n",
    "'주소': '서울 마포구 상암동',\n",
    "'주문항목': ['맛좋은 김치', '맛좋은 라면', '시원한 물']}\n",
    "\n",
    "for i in shopping_dict.items():\n",
    "    print(i)"
   ]
  },
  {
   "cell_type": "markdown",
   "metadata": {},
   "source": [
    "<div class=\"alert alert-success\">\n",
    "    \n",
    "[문제]\n",
    "    \n",
    "다음과 같은 칼로리 메뉴판이 있습니다.\n",
    "menu = {\"고구마\": 200, \"떡볶이\": 600, \"라면\": 800}  \n",
    "다이어트를 하기 위해 500kcal가 넘는 음식은 선택하지 않으려고 합니다. 칼로리 메뉴판에 있는 음식의 섭취 가능 여부를 출력하는 프로그램을 작성해 보세요.\n",
    "</div>"
   ]
  },
  {
   "cell_type": "code",
   "execution_count": 119,
   "metadata": {},
   "outputs": [
    {
     "name": "stdout",
     "output_type": "stream",
     "text": [
      "고구마 섭취 가능\n",
      "떡볶이 섭취 불가능\n",
      "라면 섭취 불가능\n"
     ]
    }
   ],
   "source": [
    "menu = {\"고구마\": 200, \"떡볶이\": 600, \"라면\": 800}\n",
    "\n",
    "for i in menu.items():\n",
    "    if i[1] > 500:\n",
    "        print(f'{i[0]} 섭취 불가능')\n",
    "    else:\n",
    "        print(f'{i[0]} 섭취 가능')"
   ]
  },
  {
   "cell_type": "code",
   "execution_count": null,
   "metadata": {},
   "outputs": [],
   "source": [
    "menu = {\"고구마\": 200, \"떡볶이\": 600, \"라면\": 800}\n",
    "\n",
    "for key, value in menu.items():\n",
    "    if value > 500:\n",
    "        print(\"{}:X\".format(key))\n",
    "    else:\n",
    "        print(\"{}:O\".format(key))"
   ]
  },
  {
   "cell_type": "markdown",
   "metadata": {},
   "source": [
    "<div class=\"alert alert-success\">\n",
    "    \n",
    "[문제]\n",
    "    \n",
    "동요 ‘산토끼’에서 ‘토’는 몇 번이나 나올까요?  \n",
    "산토끼 토끼야. 어디를 가느냐. 깡충깡충 뛰면서. 어디를 가느냐.   \n",
    "산고개 고개를. 나혼자 넘어서. 토실토실 알밤을. 주워 올 테야   \n",
    "\n",
    "</div>"
   ]
  },
  {
   "cell_type": "code",
   "execution_count": 122,
   "metadata": {},
   "outputs": [
    {
     "data": {
      "text/plain": [
       "4"
      ]
     },
     "execution_count": 122,
     "metadata": {},
     "output_type": "execute_result"
    }
   ],
   "source": [
    "rabbit = '''\n",
    "산토끼 토끼야. 어디를 가느냐. 깡충깡충 뛰면서. 어디를 가느냐.\n",
    "산고개 고개를. 나혼자 넘어서. 토실토실 알밤을. 주워 올 테야\n",
    "'''\n",
    "\n",
    "rabbit.count('토')"
   ]
  },
  {
   "cell_type": "code",
   "execution_count": null,
   "metadata": {},
   "outputs": [],
   "source": [
    "lyric = \"\"\"산토끼 토끼야. 어디를 가느냐. 깡충깡충 뛰면서. 어디를 가느냐. \n",
    "산고개 고개를. 나혼자 넘어서. 토실토실 알밤을. 주워 올 테야.\"\"\"\n",
    "\n",
    "count = 0\n",
    "for l in lyric:\n",
    "    if l == '토':\n",
    "        count = count + 1\n",
    "print(count)"
   ]
  },
  {
   "cell_type": "markdown",
   "metadata": {},
   "source": [
    "<div class=\"alert alert-success\">\n",
    "    \n",
    "[문제]\n",
    "    \n",
    "하루에 다섯 쪽씩 20일 동안 책을 공부하려고 합니다. 공부 스케줄을 출력하는 프로그램을 작성해 보세요.\n",
    "</div>"
   ]
  },
  {
   "cell_type": "code",
   "execution_count": 1,
   "metadata": {
    "scrolled": true
   },
   "outputs": [
    {
     "name": "stdout",
     "output_type": "stream",
     "text": [
      "1일차\n",
      "1 페이지부터 5페이지까지 공부\n",
      "2일차\n",
      "6 페이지부터 10페이지까지 공부\n",
      "3일차\n",
      "11 페이지부터 15페이지까지 공부\n",
      "4일차\n",
      "16 페이지부터 20페이지까지 공부\n",
      "5일차\n",
      "21 페이지부터 25페이지까지 공부\n",
      "6일차\n",
      "26 페이지부터 30페이지까지 공부\n",
      "7일차\n",
      "31 페이지부터 35페이지까지 공부\n",
      "8일차\n",
      "36 페이지부터 40페이지까지 공부\n",
      "9일차\n",
      "41 페이지부터 45페이지까지 공부\n",
      "10일차\n",
      "46 페이지부터 50페이지까지 공부\n",
      "11일차\n",
      "51 페이지부터 55페이지까지 공부\n",
      "12일차\n",
      "56 페이지부터 60페이지까지 공부\n",
      "13일차\n",
      "61 페이지부터 65페이지까지 공부\n",
      "14일차\n",
      "66 페이지부터 70페이지까지 공부\n",
      "15일차\n",
      "71 페이지부터 75페이지까지 공부\n",
      "16일차\n",
      "76 페이지부터 80페이지까지 공부\n",
      "17일차\n",
      "81 페이지부터 85페이지까지 공부\n",
      "18일차\n",
      "86 페이지부터 90페이지까지 공부\n",
      "19일차\n",
      "91 페이지부터 95페이지까지 공부\n",
      "20일차\n",
      "96 페이지부터 100페이지까지 공부\n",
      "2일차\n",
      "1 페이지부터 5페이지까지 공부\n",
      "3일차\n",
      "6 페이지부터 10페이지까지 공부\n",
      "4일차\n",
      "11 페이지부터 15페이지까지 공부\n",
      "5일차\n",
      "16 페이지부터 20페이지까지 공부\n",
      "6일차\n",
      "21 페이지부터 25페이지까지 공부\n",
      "7일차\n",
      "26 페이지부터 30페이지까지 공부\n",
      "8일차\n",
      "31 페이지부터 35페이지까지 공부\n",
      "9일차\n",
      "36 페이지부터 40페이지까지 공부\n",
      "10일차\n",
      "41 페이지부터 45페이지까지 공부\n",
      "11일차\n",
      "46 페이지부터 50페이지까지 공부\n",
      "12일차\n",
      "51 페이지부터 55페이지까지 공부\n",
      "13일차\n",
      "56 페이지부터 60페이지까지 공부\n",
      "14일차\n",
      "61 페이지부터 65페이지까지 공부\n",
      "15일차\n",
      "66 페이지부터 70페이지까지 공부\n",
      "16일차\n",
      "71 페이지부터 75페이지까지 공부\n",
      "17일차\n",
      "76 페이지부터 80페이지까지 공부\n",
      "18일차\n",
      "81 페이지부터 85페이지까지 공부\n",
      "19일차\n",
      "86 페이지부터 90페이지까지 공부\n",
      "20일차\n",
      "91 페이지부터 95페이지까지 공부\n",
      "21일차\n",
      "96 페이지부터 100페이지까지 공부\n",
      "3일차\n",
      "1 페이지부터 5페이지까지 공부\n",
      "4일차\n",
      "6 페이지부터 10페이지까지 공부\n",
      "5일차\n",
      "11 페이지부터 15페이지까지 공부\n",
      "6일차\n",
      "16 페이지부터 20페이지까지 공부\n",
      "7일차\n",
      "21 페이지부터 25페이지까지 공부\n",
      "8일차\n",
      "26 페이지부터 30페이지까지 공부\n",
      "9일차\n",
      "31 페이지부터 35페이지까지 공부\n",
      "10일차\n",
      "36 페이지부터 40페이지까지 공부\n",
      "11일차\n",
      "41 페이지부터 45페이지까지 공부\n",
      "12일차\n",
      "46 페이지부터 50페이지까지 공부\n",
      "13일차\n",
      "51 페이지부터 55페이지까지 공부\n",
      "14일차\n",
      "56 페이지부터 60페이지까지 공부\n",
      "15일차\n",
      "61 페이지부터 65페이지까지 공부\n",
      "16일차\n",
      "66 페이지부터 70페이지까지 공부\n",
      "17일차\n",
      "71 페이지부터 75페이지까지 공부\n",
      "18일차\n",
      "76 페이지부터 80페이지까지 공부\n",
      "19일차\n",
      "81 페이지부터 85페이지까지 공부\n",
      "20일차\n",
      "86 페이지부터 90페이지까지 공부\n",
      "21일차\n",
      "91 페이지부터 95페이지까지 공부\n",
      "22일차\n",
      "96 페이지부터 100페이지까지 공부\n",
      "4일차\n",
      "1 페이지부터 5페이지까지 공부\n",
      "5일차\n",
      "6 페이지부터 10페이지까지 공부\n",
      "6일차\n",
      "11 페이지부터 15페이지까지 공부\n",
      "7일차\n",
      "16 페이지부터 20페이지까지 공부\n",
      "8일차\n",
      "21 페이지부터 25페이지까지 공부\n",
      "9일차\n",
      "26 페이지부터 30페이지까지 공부\n",
      "10일차\n",
      "31 페이지부터 35페이지까지 공부\n",
      "11일차\n",
      "36 페이지부터 40페이지까지 공부\n",
      "12일차\n",
      "41 페이지부터 45페이지까지 공부\n",
      "13일차\n",
      "46 페이지부터 50페이지까지 공부\n",
      "14일차\n",
      "51 페이지부터 55페이지까지 공부\n",
      "15일차\n",
      "56 페이지부터 60페이지까지 공부\n",
      "16일차\n",
      "61 페이지부터 65페이지까지 공부\n",
      "17일차\n",
      "66 페이지부터 70페이지까지 공부\n",
      "18일차\n",
      "71 페이지부터 75페이지까지 공부\n",
      "19일차\n",
      "76 페이지부터 80페이지까지 공부\n",
      "20일차\n",
      "81 페이지부터 85페이지까지 공부\n",
      "21일차\n",
      "86 페이지부터 90페이지까지 공부\n",
      "22일차\n",
      "91 페이지부터 95페이지까지 공부\n",
      "23일차\n",
      "96 페이지부터 100페이지까지 공부\n",
      "5일차\n",
      "1 페이지부터 5페이지까지 공부\n",
      "6일차\n",
      "6 페이지부터 10페이지까지 공부\n",
      "7일차\n",
      "11 페이지부터 15페이지까지 공부\n",
      "8일차\n",
      "16 페이지부터 20페이지까지 공부\n",
      "9일차\n",
      "21 페이지부터 25페이지까지 공부\n",
      "10일차\n",
      "26 페이지부터 30페이지까지 공부\n",
      "11일차\n",
      "31 페이지부터 35페이지까지 공부\n",
      "12일차\n",
      "36 페이지부터 40페이지까지 공부\n",
      "13일차\n",
      "41 페이지부터 45페이지까지 공부\n",
      "14일차\n",
      "46 페이지부터 50페이지까지 공부\n",
      "15일차\n",
      "51 페이지부터 55페이지까지 공부\n",
      "16일차\n",
      "56 페이지부터 60페이지까지 공부\n",
      "17일차\n",
      "61 페이지부터 65페이지까지 공부\n",
      "18일차\n",
      "66 페이지부터 70페이지까지 공부\n",
      "19일차\n",
      "71 페이지부터 75페이지까지 공부\n",
      "20일차\n",
      "76 페이지부터 80페이지까지 공부\n",
      "21일차\n",
      "81 페이지부터 85페이지까지 공부\n",
      "22일차\n",
      "86 페이지부터 90페이지까지 공부\n",
      "23일차\n",
      "91 페이지부터 95페이지까지 공부\n",
      "24일차\n",
      "96 페이지부터 100페이지까지 공부\n",
      "6일차\n",
      "1 페이지부터 5페이지까지 공부\n",
      "7일차\n",
      "6 페이지부터 10페이지까지 공부\n",
      "8일차\n",
      "11 페이지부터 15페이지까지 공부\n",
      "9일차\n",
      "16 페이지부터 20페이지까지 공부\n",
      "10일차\n",
      "21 페이지부터 25페이지까지 공부\n",
      "11일차\n",
      "26 페이지부터 30페이지까지 공부\n",
      "12일차\n",
      "31 페이지부터 35페이지까지 공부\n",
      "13일차\n",
      "36 페이지부터 40페이지까지 공부\n",
      "14일차\n",
      "41 페이지부터 45페이지까지 공부\n",
      "15일차\n",
      "46 페이지부터 50페이지까지 공부\n",
      "16일차\n",
      "51 페이지부터 55페이지까지 공부\n",
      "17일차\n",
      "56 페이지부터 60페이지까지 공부\n",
      "18일차\n",
      "61 페이지부터 65페이지까지 공부\n",
      "19일차\n",
      "66 페이지부터 70페이지까지 공부\n",
      "20일차\n",
      "71 페이지부터 75페이지까지 공부\n",
      "21일차\n",
      "76 페이지부터 80페이지까지 공부\n",
      "22일차\n",
      "81 페이지부터 85페이지까지 공부\n",
      "23일차\n",
      "86 페이지부터 90페이지까지 공부\n",
      "24일차\n",
      "91 페이지부터 95페이지까지 공부\n",
      "25일차\n",
      "96 페이지부터 100페이지까지 공부\n",
      "7일차\n",
      "1 페이지부터 5페이지까지 공부\n",
      "8일차\n",
      "6 페이지부터 10페이지까지 공부\n",
      "9일차\n",
      "11 페이지부터 15페이지까지 공부\n",
      "10일차\n",
      "16 페이지부터 20페이지까지 공부\n",
      "11일차\n",
      "21 페이지부터 25페이지까지 공부\n",
      "12일차\n",
      "26 페이지부터 30페이지까지 공부\n",
      "13일차\n",
      "31 페이지부터 35페이지까지 공부\n",
      "14일차\n",
      "36 페이지부터 40페이지까지 공부\n",
      "15일차\n",
      "41 페이지부터 45페이지까지 공부\n",
      "16일차\n",
      "46 페이지부터 50페이지까지 공부\n",
      "17일차\n",
      "51 페이지부터 55페이지까지 공부\n",
      "18일차\n",
      "56 페이지부터 60페이지까지 공부\n",
      "19일차\n",
      "61 페이지부터 65페이지까지 공부\n",
      "20일차\n",
      "66 페이지부터 70페이지까지 공부\n",
      "21일차\n",
      "71 페이지부터 75페이지까지 공부\n",
      "22일차\n",
      "76 페이지부터 80페이지까지 공부\n",
      "23일차\n",
      "81 페이지부터 85페이지까지 공부\n",
      "24일차\n",
      "86 페이지부터 90페이지까지 공부\n",
      "25일차\n",
      "91 페이지부터 95페이지까지 공부\n",
      "26일차\n",
      "96 페이지부터 100페이지까지 공부\n",
      "8일차\n",
      "1 페이지부터 5페이지까지 공부\n",
      "9일차\n",
      "6 페이지부터 10페이지까지 공부\n",
      "10일차\n",
      "11 페이지부터 15페이지까지 공부\n",
      "11일차\n",
      "16 페이지부터 20페이지까지 공부\n",
      "12일차\n",
      "21 페이지부터 25페이지까지 공부\n",
      "13일차\n",
      "26 페이지부터 30페이지까지 공부\n",
      "14일차\n",
      "31 페이지부터 35페이지까지 공부\n",
      "15일차\n",
      "36 페이지부터 40페이지까지 공부\n",
      "16일차\n",
      "41 페이지부터 45페이지까지 공부\n",
      "17일차\n",
      "46 페이지부터 50페이지까지 공부\n",
      "18일차\n",
      "51 페이지부터 55페이지까지 공부\n",
      "19일차\n",
      "56 페이지부터 60페이지까지 공부\n",
      "20일차\n",
      "61 페이지부터 65페이지까지 공부\n",
      "21일차\n",
      "66 페이지부터 70페이지까지 공부\n",
      "22일차\n",
      "71 페이지부터 75페이지까지 공부\n",
      "23일차\n",
      "76 페이지부터 80페이지까지 공부\n",
      "24일차\n",
      "81 페이지부터 85페이지까지 공부\n",
      "25일차\n",
      "86 페이지부터 90페이지까지 공부\n",
      "26일차\n",
      "91 페이지부터 95페이지까지 공부\n",
      "27일차\n",
      "96 페이지부터 100페이지까지 공부\n",
      "9일차\n",
      "1 페이지부터 5페이지까지 공부\n",
      "10일차\n",
      "6 페이지부터 10페이지까지 공부\n",
      "11일차\n",
      "11 페이지부터 15페이지까지 공부\n",
      "12일차\n",
      "16 페이지부터 20페이지까지 공부\n",
      "13일차\n",
      "21 페이지부터 25페이지까지 공부\n",
      "14일차\n",
      "26 페이지부터 30페이지까지 공부\n",
      "15일차\n",
      "31 페이지부터 35페이지까지 공부\n",
      "16일차\n",
      "36 페이지부터 40페이지까지 공부\n",
      "17일차\n",
      "41 페이지부터 45페이지까지 공부\n",
      "18일차\n",
      "46 페이지부터 50페이지까지 공부\n",
      "19일차\n",
      "51 페이지부터 55페이지까지 공부\n",
      "20일차\n",
      "56 페이지부터 60페이지까지 공부\n",
      "21일차\n",
      "61 페이지부터 65페이지까지 공부\n",
      "22일차\n",
      "66 페이지부터 70페이지까지 공부\n",
      "23일차\n",
      "71 페이지부터 75페이지까지 공부\n",
      "24일차\n",
      "76 페이지부터 80페이지까지 공부\n",
      "25일차\n",
      "81 페이지부터 85페이지까지 공부\n",
      "26일차\n",
      "86 페이지부터 90페이지까지 공부\n",
      "27일차\n",
      "91 페이지부터 95페이지까지 공부\n",
      "28일차\n",
      "96 페이지부터 100페이지까지 공부\n",
      "10일차\n",
      "1 페이지부터 5페이지까지 공부\n",
      "11일차\n",
      "6 페이지부터 10페이지까지 공부\n",
      "12일차\n",
      "11 페이지부터 15페이지까지 공부\n",
      "13일차\n",
      "16 페이지부터 20페이지까지 공부\n",
      "14일차\n",
      "21 페이지부터 25페이지까지 공부\n",
      "15일차\n",
      "26 페이지부터 30페이지까지 공부\n",
      "16일차\n",
      "31 페이지부터 35페이지까지 공부\n",
      "17일차\n",
      "36 페이지부터 40페이지까지 공부\n",
      "18일차\n",
      "41 페이지부터 45페이지까지 공부\n",
      "19일차\n",
      "46 페이지부터 50페이지까지 공부\n",
      "20일차\n",
      "51 페이지부터 55페이지까지 공부\n",
      "21일차\n",
      "56 페이지부터 60페이지까지 공부\n",
      "22일차\n",
      "61 페이지부터 65페이지까지 공부\n",
      "23일차\n",
      "66 페이지부터 70페이지까지 공부\n",
      "24일차\n",
      "71 페이지부터 75페이지까지 공부\n",
      "25일차\n",
      "76 페이지부터 80페이지까지 공부\n",
      "26일차\n",
      "81 페이지부터 85페이지까지 공부\n",
      "27일차\n",
      "86 페이지부터 90페이지까지 공부\n",
      "28일차\n",
      "91 페이지부터 95페이지까지 공부\n",
      "29일차\n",
      "96 페이지부터 100페이지까지 공부\n",
      "11일차\n",
      "1 페이지부터 5페이지까지 공부\n",
      "12일차\n",
      "6 페이지부터 10페이지까지 공부\n",
      "13일차\n",
      "11 페이지부터 15페이지까지 공부\n",
      "14일차\n",
      "16 페이지부터 20페이지까지 공부\n",
      "15일차\n",
      "21 페이지부터 25페이지까지 공부\n",
      "16일차\n",
      "26 페이지부터 30페이지까지 공부\n",
      "17일차\n",
      "31 페이지부터 35페이지까지 공부\n",
      "18일차\n",
      "36 페이지부터 40페이지까지 공부\n",
      "19일차\n",
      "41 페이지부터 45페이지까지 공부\n",
      "20일차\n",
      "46 페이지부터 50페이지까지 공부\n",
      "21일차\n",
      "51 페이지부터 55페이지까지 공부\n",
      "22일차\n",
      "56 페이지부터 60페이지까지 공부\n",
      "23일차\n",
      "61 페이지부터 65페이지까지 공부\n",
      "24일차\n",
      "66 페이지부터 70페이지까지 공부\n",
      "25일차\n",
      "71 페이지부터 75페이지까지 공부\n",
      "26일차\n",
      "76 페이지부터 80페이지까지 공부\n",
      "27일차\n",
      "81 페이지부터 85페이지까지 공부\n",
      "28일차\n",
      "86 페이지부터 90페이지까지 공부\n",
      "29일차\n",
      "91 페이지부터 95페이지까지 공부\n",
      "30일차\n",
      "96 페이지부터 100페이지까지 공부\n",
      "12일차\n",
      "1 페이지부터 5페이지까지 공부\n",
      "13일차\n",
      "6 페이지부터 10페이지까지 공부\n",
      "14일차\n",
      "11 페이지부터 15페이지까지 공부\n",
      "15일차\n",
      "16 페이지부터 20페이지까지 공부\n",
      "16일차\n",
      "21 페이지부터 25페이지까지 공부\n",
      "17일차\n",
      "26 페이지부터 30페이지까지 공부\n",
      "18일차\n",
      "31 페이지부터 35페이지까지 공부\n",
      "19일차\n",
      "36 페이지부터 40페이지까지 공부\n",
      "20일차\n",
      "41 페이지부터 45페이지까지 공부\n",
      "21일차\n",
      "46 페이지부터 50페이지까지 공부\n",
      "22일차\n",
      "51 페이지부터 55페이지까지 공부\n",
      "23일차\n",
      "56 페이지부터 60페이지까지 공부\n",
      "24일차\n",
      "61 페이지부터 65페이지까지 공부\n",
      "25일차\n",
      "66 페이지부터 70페이지까지 공부\n",
      "26일차\n",
      "71 페이지부터 75페이지까지 공부\n",
      "27일차\n",
      "76 페이지부터 80페이지까지 공부\n",
      "28일차\n",
      "81 페이지부터 85페이지까지 공부\n",
      "29일차\n",
      "86 페이지부터 90페이지까지 공부\n",
      "30일차\n",
      "91 페이지부터 95페이지까지 공부\n",
      "31일차\n",
      "96 페이지부터 100페이지까지 공부\n",
      "13일차\n",
      "1 페이지부터 5페이지까지 공부\n",
      "14일차\n",
      "6 페이지부터 10페이지까지 공부\n",
      "15일차\n",
      "11 페이지부터 15페이지까지 공부\n",
      "16일차\n",
      "16 페이지부터 20페이지까지 공부\n",
      "17일차\n",
      "21 페이지부터 25페이지까지 공부\n",
      "18일차\n",
      "26 페이지부터 30페이지까지 공부\n",
      "19일차\n",
      "31 페이지부터 35페이지까지 공부\n",
      "20일차\n",
      "36 페이지부터 40페이지까지 공부\n",
      "21일차\n",
      "41 페이지부터 45페이지까지 공부\n",
      "22일차\n",
      "46 페이지부터 50페이지까지 공부\n",
      "23일차\n",
      "51 페이지부터 55페이지까지 공부\n",
      "24일차\n",
      "56 페이지부터 60페이지까지 공부\n",
      "25일차\n",
      "61 페이지부터 65페이지까지 공부\n",
      "26일차\n",
      "66 페이지부터 70페이지까지 공부\n",
      "27일차\n",
      "71 페이지부터 75페이지까지 공부\n",
      "28일차\n",
      "76 페이지부터 80페이지까지 공부\n",
      "29일차\n",
      "81 페이지부터 85페이지까지 공부\n",
      "30일차\n",
      "86 페이지부터 90페이지까지 공부\n",
      "31일차\n",
      "91 페이지부터 95페이지까지 공부\n",
      "32일차\n",
      "96 페이지부터 100페이지까지 공부\n",
      "14일차\n",
      "1 페이지부터 5페이지까지 공부\n",
      "15일차\n",
      "6 페이지부터 10페이지까지 공부\n",
      "16일차\n",
      "11 페이지부터 15페이지까지 공부\n",
      "17일차\n",
      "16 페이지부터 20페이지까지 공부\n",
      "18일차\n",
      "21 페이지부터 25페이지까지 공부\n",
      "19일차\n",
      "26 페이지부터 30페이지까지 공부\n",
      "20일차\n",
      "31 페이지부터 35페이지까지 공부\n",
      "21일차\n",
      "36 페이지부터 40페이지까지 공부\n",
      "22일차\n",
      "41 페이지부터 45페이지까지 공부\n",
      "23일차\n",
      "46 페이지부터 50페이지까지 공부\n",
      "24일차\n",
      "51 페이지부터 55페이지까지 공부\n",
      "25일차\n",
      "56 페이지부터 60페이지까지 공부\n",
      "26일차\n",
      "61 페이지부터 65페이지까지 공부\n",
      "27일차\n",
      "66 페이지부터 70페이지까지 공부\n",
      "28일차\n",
      "71 페이지부터 75페이지까지 공부\n",
      "29일차\n",
      "76 페이지부터 80페이지까지 공부\n",
      "30일차\n",
      "81 페이지부터 85페이지까지 공부\n",
      "31일차\n",
      "86 페이지부터 90페이지까지 공부\n",
      "32일차\n",
      "91 페이지부터 95페이지까지 공부\n",
      "33일차\n",
      "96 페이지부터 100페이지까지 공부\n",
      "15일차\n",
      "1 페이지부터 5페이지까지 공부\n",
      "16일차\n",
      "6 페이지부터 10페이지까지 공부\n",
      "17일차\n",
      "11 페이지부터 15페이지까지 공부\n",
      "18일차\n",
      "16 페이지부터 20페이지까지 공부\n",
      "19일차\n",
      "21 페이지부터 25페이지까지 공부\n",
      "20일차\n",
      "26 페이지부터 30페이지까지 공부\n",
      "21일차\n",
      "31 페이지부터 35페이지까지 공부\n",
      "22일차\n",
      "36 페이지부터 40페이지까지 공부\n",
      "23일차\n",
      "41 페이지부터 45페이지까지 공부\n",
      "24일차\n",
      "46 페이지부터 50페이지까지 공부\n",
      "25일차\n",
      "51 페이지부터 55페이지까지 공부\n",
      "26일차\n",
      "56 페이지부터 60페이지까지 공부\n",
      "27일차\n",
      "61 페이지부터 65페이지까지 공부\n",
      "28일차\n",
      "66 페이지부터 70페이지까지 공부\n",
      "29일차\n",
      "71 페이지부터 75페이지까지 공부\n",
      "30일차\n",
      "76 페이지부터 80페이지까지 공부\n",
      "31일차\n",
      "81 페이지부터 85페이지까지 공부\n",
      "32일차\n",
      "86 페이지부터 90페이지까지 공부\n",
      "33일차\n",
      "91 페이지부터 95페이지까지 공부\n",
      "34일차\n",
      "96 페이지부터 100페이지까지 공부\n",
      "16일차\n",
      "1 페이지부터 5페이지까지 공부\n",
      "17일차\n",
      "6 페이지부터 10페이지까지 공부\n",
      "18일차\n",
      "11 페이지부터 15페이지까지 공부\n",
      "19일차\n",
      "16 페이지부터 20페이지까지 공부\n",
      "20일차\n",
      "21 페이지부터 25페이지까지 공부\n",
      "21일차\n",
      "26 페이지부터 30페이지까지 공부\n",
      "22일차\n",
      "31 페이지부터 35페이지까지 공부\n",
      "23일차\n",
      "36 페이지부터 40페이지까지 공부\n",
      "24일차\n",
      "41 페이지부터 45페이지까지 공부\n",
      "25일차\n",
      "46 페이지부터 50페이지까지 공부\n",
      "26일차\n",
      "51 페이지부터 55페이지까지 공부\n",
      "27일차\n",
      "56 페이지부터 60페이지까지 공부\n",
      "28일차\n",
      "61 페이지부터 65페이지까지 공부\n",
      "29일차\n",
      "66 페이지부터 70페이지까지 공부\n",
      "30일차\n",
      "71 페이지부터 75페이지까지 공부\n",
      "31일차\n",
      "76 페이지부터 80페이지까지 공부\n",
      "32일차\n",
      "81 페이지부터 85페이지까지 공부\n",
      "33일차\n",
      "86 페이지부터 90페이지까지 공부\n",
      "34일차\n",
      "91 페이지부터 95페이지까지 공부\n",
      "35일차\n",
      "96 페이지부터 100페이지까지 공부\n",
      "17일차\n",
      "1 페이지부터 5페이지까지 공부\n",
      "18일차\n",
      "6 페이지부터 10페이지까지 공부\n",
      "19일차\n",
      "11 페이지부터 15페이지까지 공부\n",
      "20일차\n",
      "16 페이지부터 20페이지까지 공부\n",
      "21일차\n",
      "21 페이지부터 25페이지까지 공부\n",
      "22일차\n",
      "26 페이지부터 30페이지까지 공부\n",
      "23일차\n",
      "31 페이지부터 35페이지까지 공부\n",
      "24일차\n",
      "36 페이지부터 40페이지까지 공부\n",
      "25일차\n",
      "41 페이지부터 45페이지까지 공부\n",
      "26일차\n",
      "46 페이지부터 50페이지까지 공부\n",
      "27일차\n",
      "51 페이지부터 55페이지까지 공부\n",
      "28일차\n",
      "56 페이지부터 60페이지까지 공부\n",
      "29일차\n",
      "61 페이지부터 65페이지까지 공부\n",
      "30일차\n",
      "66 페이지부터 70페이지까지 공부\n",
      "31일차\n",
      "71 페이지부터 75페이지까지 공부\n",
      "32일차\n",
      "76 페이지부터 80페이지까지 공부\n",
      "33일차\n",
      "81 페이지부터 85페이지까지 공부\n",
      "34일차\n",
      "86 페이지부터 90페이지까지 공부\n",
      "35일차\n",
      "91 페이지부터 95페이지까지 공부\n",
      "36일차\n",
      "96 페이지부터 100페이지까지 공부\n",
      "18일차\n",
      "1 페이지부터 5페이지까지 공부\n",
      "19일차\n",
      "6 페이지부터 10페이지까지 공부\n",
      "20일차\n",
      "11 페이지부터 15페이지까지 공부\n",
      "21일차\n",
      "16 페이지부터 20페이지까지 공부\n",
      "22일차\n",
      "21 페이지부터 25페이지까지 공부\n",
      "23일차\n",
      "26 페이지부터 30페이지까지 공부\n",
      "24일차\n",
      "31 페이지부터 35페이지까지 공부\n",
      "25일차\n",
      "36 페이지부터 40페이지까지 공부\n",
      "26일차\n",
      "41 페이지부터 45페이지까지 공부\n",
      "27일차\n",
      "46 페이지부터 50페이지까지 공부\n",
      "28일차\n",
      "51 페이지부터 55페이지까지 공부\n",
      "29일차\n",
      "56 페이지부터 60페이지까지 공부\n",
      "30일차\n",
      "61 페이지부터 65페이지까지 공부\n",
      "31일차\n",
      "66 페이지부터 70페이지까지 공부\n",
      "32일차\n",
      "71 페이지부터 75페이지까지 공부\n",
      "33일차\n",
      "76 페이지부터 80페이지까지 공부\n",
      "34일차\n",
      "81 페이지부터 85페이지까지 공부\n",
      "35일차\n",
      "86 페이지부터 90페이지까지 공부\n",
      "36일차\n",
      "91 페이지부터 95페이지까지 공부\n",
      "37일차\n",
      "96 페이지부터 100페이지까지 공부\n",
      "19일차\n",
      "1 페이지부터 5페이지까지 공부\n",
      "20일차\n",
      "6 페이지부터 10페이지까지 공부\n",
      "21일차\n",
      "11 페이지부터 15페이지까지 공부\n",
      "22일차\n",
      "16 페이지부터 20페이지까지 공부\n",
      "23일차\n",
      "21 페이지부터 25페이지까지 공부\n",
      "24일차\n",
      "26 페이지부터 30페이지까지 공부\n",
      "25일차\n",
      "31 페이지부터 35페이지까지 공부\n",
      "26일차\n",
      "36 페이지부터 40페이지까지 공부\n",
      "27일차\n",
      "41 페이지부터 45페이지까지 공부\n",
      "28일차\n",
      "46 페이지부터 50페이지까지 공부\n",
      "29일차\n",
      "51 페이지부터 55페이지까지 공부\n",
      "30일차\n",
      "56 페이지부터 60페이지까지 공부\n",
      "31일차\n",
      "61 페이지부터 65페이지까지 공부\n",
      "32일차\n",
      "66 페이지부터 70페이지까지 공부\n",
      "33일차\n",
      "71 페이지부터 75페이지까지 공부\n",
      "34일차\n",
      "76 페이지부터 80페이지까지 공부\n",
      "35일차\n",
      "81 페이지부터 85페이지까지 공부\n",
      "36일차\n",
      "86 페이지부터 90페이지까지 공부\n",
      "37일차\n",
      "91 페이지부터 95페이지까지 공부\n",
      "38일차\n",
      "96 페이지부터 100페이지까지 공부\n",
      "20일차\n",
      "1 페이지부터 5페이지까지 공부\n",
      "21일차\n",
      "6 페이지부터 10페이지까지 공부\n",
      "22일차\n",
      "11 페이지부터 15페이지까지 공부\n",
      "23일차\n",
      "16 페이지부터 20페이지까지 공부\n",
      "24일차\n",
      "21 페이지부터 25페이지까지 공부\n",
      "25일차\n",
      "26 페이지부터 30페이지까지 공부\n",
      "26일차\n",
      "31 페이지부터 35페이지까지 공부\n",
      "27일차\n",
      "36 페이지부터 40페이지까지 공부\n",
      "28일차\n",
      "41 페이지부터 45페이지까지 공부\n",
      "29일차\n",
      "46 페이지부터 50페이지까지 공부\n",
      "30일차\n",
      "51 페이지부터 55페이지까지 공부\n",
      "31일차\n",
      "56 페이지부터 60페이지까지 공부\n",
      "32일차\n",
      "61 페이지부터 65페이지까지 공부\n",
      "33일차\n",
      "66 페이지부터 70페이지까지 공부\n",
      "34일차\n",
      "71 페이지부터 75페이지까지 공부\n",
      "35일차\n",
      "76 페이지부터 80페이지까지 공부\n",
      "36일차\n",
      "81 페이지부터 85페이지까지 공부\n",
      "37일차\n",
      "86 페이지부터 90페이지까지 공부\n",
      "38일차\n",
      "91 페이지부터 95페이지까지 공부\n",
      "39일차\n",
      "96 페이지부터 100페이지까지 공부\n"
     ]
    }
   ],
   "source": [
    "for i in range(1,21):\n",
    "    for j in range(1,101,5):\n",
    "        print(f'{i}일차')\n",
    "        i+=1\n",
    "        print(f'{j} 페이지부터 {j+4}페이지까지 공부')"
   ]
  },
  {
   "cell_type": "code",
   "execution_count": null,
   "metadata": {},
   "outputs": [],
   "source": [
    "bookmark = 0\n",
    "for day in range(20):\n",
    "    print(\"[{}일차 공부계획]\".format(day+1))\n",
    "    for s in range(5):\n",
    "        print(\" {}쪽 공부\".format(bookmark+s+1))\n",
    "    bookmark = bookmark + s + 1"
   ]
  },
  {
   "cell_type": "markdown",
   "metadata": {},
   "source": [
    "## 문제\n",
    "1. 원 그리기\n",
    "2. 사각형 그리기\n",
    "3. 선 그리기\n",
    "4. 종료\n",
    "메뉴를 선택하세요 :1  \n",
    "원 그리기를 선택했습니다.\n",
    "\n",
    "\n",
    "1. 원 그리기\n",
    "2. 사각형 그리기\n",
    "3. 선 그리기\n",
    "4. 종료\n",
    "메뉴를 선택하세요 : 4\n",
    "종료합니다."
   ]
  },
  {
   "cell_type": "code",
   "execution_count": 8,
   "metadata": {},
   "outputs": [
    {
     "name": "stdout",
     "output_type": "stream",
     "text": [
      "1. 원 그리기\n",
      "2. 사각형 그리기\n",
      "3. 선 그리기\n",
      "4. 종료\n"
     ]
    },
    {
     "name": "stdout",
     "output_type": "stream",
     "text": [
      "메뉴를 선택하시오. :  5\n"
     ]
    },
    {
     "name": "stdout",
     "output_type": "stream",
     "text": [
      "메뉴 선택이 잘못 되었습니다. 1~4 중에 선택하세요.\n",
      "1. 원 그리기\n",
      "2. 사각형 그리기\n",
      "3. 선 그리기\n",
      "4. 종료\n"
     ]
    },
    {
     "name": "stdout",
     "output_type": "stream",
     "text": [
      "메뉴를 선택하시오. :  4\n"
     ]
    },
    {
     "name": "stdout",
     "output_type": "stream",
     "text": [
      "종료합니다.\n"
     ]
    }
   ],
   "source": [
    "while True:\n",
    "    print('1. 원 그리기')\n",
    "    print('2. 사각형 그리기')\n",
    "    print('3. 선 그리기')\n",
    "    print('4. 종료')\n",
    "\n",
    "    choice = int(input('메뉴를 선택하시오. : '))\n",
    "    if choice == 4:\n",
    "        print('종료합니다.')\n",
    "        break\n",
    "    elif choice == 1:\n",
    "        print('원 그리기를 선택했습니다.')\n",
    "    elif choice == 2:\n",
    "        print('사각형 그리기를 선택했습니다.')\n",
    "    elif choice == 3:\n",
    "        print('선 그리기를 선택했습니다.')\n",
    "    else:\n",
    "        print('메뉴 선택이 잘못 되었습니다. 1~4 중에 선택하세요.')"
   ]
  },
  {
   "cell_type": "markdown",
   "metadata": {},
   "source": [
    "## 성적처리 시스템"
   ]
  },
  {
   "cell_type": "code",
   "execution_count": 76,
   "metadata": {
    "scrolled": true
   },
   "outputs": [
    {
     "data": {
      "text/plain": [
       "[{'num': 2,\n",
       "  'name': '이철수',\n",
       "  'kor': 95,\n",
       "  'eng': 90,\n",
       "  'math': 88,\n",
       "  'total': 273,\n",
       "  'avg': 91.0,\n",
       "  'order': 1},\n",
       " {'num': 9,\n",
       "  'name': '김길동',\n",
       "  'kor': 93,\n",
       "  'eng': 99,\n",
       "  'math': 81,\n",
       "  'total': 273,\n",
       "  'avg': 91.0,\n",
       "  'order': 2},\n",
       " {'num': 8,\n",
       "  'name': '윤제이',\n",
       "  'kor': 81,\n",
       "  'eng': 87,\n",
       "  'math': 97,\n",
       "  'total': 265,\n",
       "  'avg': 88.33333333333333,\n",
       "  'order': 3},\n",
       " {'num': 5,\n",
       "  'name': '안제이',\n",
       "  'kor': 95,\n",
       "  'eng': 95,\n",
       "  'math': 66,\n",
       "  'total': 256,\n",
       "  'avg': 85.33333333333333,\n",
       "  'order': 4},\n",
       " {'num': 1,\n",
       "  'name': '김철수',\n",
       "  'kor': 90,\n",
       "  'eng': 80,\n",
       "  'math': 83,\n",
       "  'total': 253,\n",
       "  'avg': 84.33333333333333,\n",
       "  'order': 5},\n",
       " {'num': 10,\n",
       "  'name': '박길동',\n",
       "  'kor': 81,\n",
       "  'eng': 81,\n",
       "  'math': 88,\n",
       "  'total': 250,\n",
       "  'avg': 83.33333333333333,\n",
       "  'order': 6},\n",
       " {'num': 3,\n",
       "  'name': '박철수',\n",
       "  'kor': 80,\n",
       "  'eng': 85,\n",
       "  'math': 76,\n",
       "  'total': 241,\n",
       "  'avg': 80.33333333333333,\n",
       "  'order': 7},\n",
       " {'num': 4,\n",
       "  'name': '최철수',\n",
       "  'kor': 87,\n",
       "  'eng': 82,\n",
       "  'math': 56,\n",
       "  'total': 225,\n",
       "  'avg': 75.0,\n",
       "  'order': 8},\n",
       " {'num': 6,\n",
       "  'name': '홍길동',\n",
       "  'kor': 77,\n",
       "  'eng': 65,\n",
       "  'math': 81,\n",
       "  'total': 223,\n",
       "  'avg': 74.33333333333333,\n",
       "  'order': 9},\n",
       " {'num': 7,\n",
       "  'name': '강철수',\n",
       "  'kor': 87,\n",
       "  'eng': 42,\n",
       "  'math': 82,\n",
       "  'total': 211,\n",
       "  'avg': 70.33333333333333,\n",
       "  'order': 10}]"
      ]
     },
     "execution_count": 76,
     "metadata": {},
     "output_type": "execute_result"
    }
   ],
   "source": [
    "# 학생 데이터 초기화 : 최소 10명 이상으로 설정\n",
    "# 학생들의 성적 총점과 평균 및 반 총점과 과목별 총점 구하기\n",
    "# 학생별 성적 처리 결과를 출력\n",
    "# 반 총점, 평균 및 각 과목별 총점과 평균을 계산\n",
    "# 반 평균 및 각 과목별 평균 출력\n",
    "# order는 석차\n",
    "\n",
    "students = [\n",
    "    {'num': 1, 'name': '김철수', 'kor': 90, 'eng': 80, 'math': 83, 'total': 0, 'avg': 0.0, 'order': 0},\n",
    "    {'num': 2, 'name': '이철수', 'kor': 95, 'eng': 90, 'math': 88, 'total': 0, 'avg': 0.0, 'order': 0},\n",
    "    {'num': 3, 'name': '박철수', 'kor': 80, 'eng': 85, 'math': 76, 'total': 0, 'avg': 0.0, 'order': 0},\n",
    "    {'num': 4, 'name': '최철수', 'kor': 87, 'eng': 82, 'math': 56, 'total': 0, 'avg': 0.0, 'order': 0},\n",
    "    {'num': 5, 'name': '안제이', 'kor': 95, 'eng': 95, 'math': 66, 'total': 0, 'avg': 0.0, 'order': 0},\n",
    "    {'num': 6, 'name': '홍길동', 'kor': 77, 'eng': 65, 'math': 81, 'total': 0, 'avg': 0.0, 'order': 0},\n",
    "    {'num': 7, 'name': '강철수', 'kor': 87, 'eng': 42, 'math': 82, 'total': 0, 'avg': 0.0, 'order': 0},\n",
    "    {'num': 8, 'name': '윤제이', 'kor': 81, 'eng': 87, 'math': 97, 'total': 0, 'avg': 0.0, 'order': 0},\n",
    "    {'num': 9, 'name': '김길동', 'kor': 93, 'eng': 99, 'math': 81, 'total': 0, 'avg': 0.0, 'order': 0},\n",
    "    {'num': 10, 'name': '박길동', 'kor': 81, 'eng': 81, 'math': 88, 'total': 0, 'avg': 0.0, 'order': 0}\n",
    "]\n",
    "\n",
    "\n",
    "for i in students:\n",
    "    i['total'] = i['kor'] + i['eng'] + i['math']\n",
    "    i['avg'] = i['total'] / 3\n",
    "\n",
    "class_total = 0\n",
    "for j in students:\n",
    "    class_total += j['total']\n",
    "\n",
    "class_avg = class_total / 10\n",
    "\n",
    "kor_total = 0\n",
    "for k in students:\n",
    "    kor_total += k['kor']\n",
    "\n",
    "kor_avg = kor_total / 10\n",
    "\n",
    "eng_total = 0\n",
    "for k in students:\n",
    "    eng_total += k['eng']\n",
    "\n",
    "eng_avg = eng_total / 10\n",
    "\n",
    "math_total = 0\n",
    "for k in students:\n",
    "    math_total += k['math']\n",
    "\n",
    "math_avg = math_total / 10\n",
    "\n",
    "# 석차 구하기!!!\n",
    "students = sorted(students, key=lambda x: x['total'], reverse=True)\n",
    "for i, j in enumerate(students):\n",
    "    j['order'] = i + 1\n",
    "\n",
    "students"
   ]
  },
  {
   "cell_type": "markdown",
   "metadata": {},
   "source": [
    "## 요일 구하기\n",
    "\n",
    "- 서기 1년 1월 1일은 월요일\n",
    "- 윤년을 구하는 공식은 다음과 같다.\n",
    "- 4로 나누어지는 해는 윤년이다.\n",
    "- 100으로 나누어지는 해는 윤년이 아니다.\n",
    "- 400으로 나누어지는 해는 윤년이다."
   ]
  },
  {
   "cell_type": "code",
   "execution_count": 11,
   "metadata": {},
   "outputs": [
    {
     "name": "stdout",
     "output_type": "stream",
     "text": [
      "해를 입력하시오. :  2024\n",
      "달을 입력하시오. :  10\n",
      "일을 입력하시오. :  10\n"
     ]
    },
    {
     "data": {
      "text/plain": [
       "3"
      ]
     },
     "execution_count": 11,
     "metadata": {},
     "output_type": "execute_result"
    }
   ],
   "source": [
    "# 2024 10 10 > 목요일 입니다.\n",
    "\n",
    "import datetime\n",
    "\n",
    "year = int(input('해를 입력하시오. : '))\n",
    "month = int(input('달을 입력하시오. : '))\n",
    "day = int(input('일을 입력하시오. : '))\n",
    "\n",
    "# datetime 객체를 만들고 weekday() 메소드 활용\n",
    "today = datetime.date(year, month, day)\n",
    "today.weekday()"
   ]
  },
  {
   "cell_type": "code",
   "execution_count": 74,
   "metadata": {},
   "outputs": [
    {
     "name": "stdout",
     "output_type": "stream",
     "text": [
      "해를 입력하시오. :  2024\n",
      "달을 입력하시오. :  10\n",
      "일을 입력하시오. :  10\n"
     ]
    },
    {
     "data": {
      "text/plain": [
       "4"
      ]
     },
     "execution_count": 74,
     "metadata": {},
     "output_type": "execute_result"
    }
   ],
   "source": [
    "# 총일수 계산 % 7 = 요일\n",
    "# 총일수 = 1년(365) .... 2024\n",
    "# 윤년은 366일, 평년은 365일\n",
    "# 윤년은 4년에 한 번씩 돌아오는 해로, 2월이 29일로 늘어나는 해\n",
    "# 일요일이 0\n",
    "\n",
    "# 달별 날수를 리스트로 저장\n",
    "year_month_days = [0,31,28,31,30,31,30,31,31,30,31,30,31]\n",
    "\n",
    "year = int(input('해를 입력하시오. : '))\n",
    "month = int(input('달을 입력하시오. : '))\n",
    "day = int(input('일을 입력하시오. : '))\n",
    "\n",
    "total_days = 0\n",
    "\n",
    "for i in range(1, year):\n",
    "    if (i % 4 == 0 and i % 100 != 0) or (i % 400 == 0):\n",
    "        total_days += 366\n",
    "    else:\n",
    "        total_days += 365\n",
    "\n",
    "for m in range(1,month):\n",
    "    total_days += year_month_days[m]\n",
    "    \n",
    "# 현재 해가 윤년인지 아닌지 판단하기\n",
    "# 현재 해가 2월전인지 후인지 판단하기\n",
    "if month > 2:\n",
    "    if (year % 4 == 0 and year % 100 != 0) or (year % 400 == 0):\n",
    "        total_days+=1\n",
    "else:\n",
    "    total_days+=0\n",
    "\n",
    "total_days += day\n",
    "\n",
    "answer = total_days % 7\n",
    "answer"
   ]
  }
 ],
 "metadata": {
  "colab": {
   "include_colab_link": true,
   "provenance": [],
   "toc_visible": true
  },
  "kernelspec": {
   "display_name": "Python 3 (ipykernel)",
   "language": "python",
   "name": "python3"
  },
  "language_info": {
   "codemirror_mode": {
    "name": "ipython",
    "version": 3
   },
   "file_extension": ".py",
   "mimetype": "text/x-python",
   "name": "python",
   "nbconvert_exporter": "python",
   "pygments_lexer": "ipython3",
   "version": "3.12.4"
  },
  "toc": {
   "base_numbering": 1,
   "nav_menu": {},
   "number_sections": false,
   "sideBar": true,
   "skip_h1_title": false,
   "title_cell": "Table of Contents",
   "title_sidebar": "Contents",
   "toc_cell": false,
   "toc_position": {},
   "toc_section_display": true,
   "toc_window_display": false
  }
 },
 "nbformat": 4,
 "nbformat_minor": 4
}
