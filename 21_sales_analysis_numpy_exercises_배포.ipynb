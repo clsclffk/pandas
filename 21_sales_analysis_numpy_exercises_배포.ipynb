{
 "cells": [
  {
   "cell_type": "markdown",
   "metadata": {},
   "source": [
    "# 쇼핑몰 매출 데이터 분석을 통한 NumPy 기본 연습 문제\n",
    "\n",
    "이 연습 문제들은 30일 동안의 쇼핑몰 매출 데이터를 분석하며, NumPy의 기본 기능을 실습하는 것을 목표로 합니다.\n"
   ]
  },
  {
   "cell_type": "markdown",
   "metadata": {},
   "source": [
    "### 문제 1: 매출 데이터에서 일일 평균 매출 계산하기\n",
    "- **설명**: 30일 동안의 쇼핑몰 매출 데이터를 배열로 제공할 때, 일일 평균 매출을 계산하세요.\n",
    "- **힌트**: `np.mean()` 함수를 사용하여 배열의 평균값을 계산합니다.\n"
   ]
  },
  {
   "cell_type": "code",
   "execution_count": 1,
   "metadata": {},
   "outputs": [
    {
     "data": {
      "text/plain": [
       "3070.0"
      ]
     },
     "execution_count": 1,
     "metadata": {},
     "output_type": "execute_result"
    }
   ],
   "source": [
    "import numpy as np\n",
    "\n",
    "sales_data = np.array([2200, 2350, 2500, 2750, 3000, 3100, 2700, 2600, 2900, 3200,\n",
    "                       3400, 3600, 3300, 3100, 2900, 2700, 2800, 2900, 3100, 3200,\n",
    "                       3300, 3400, 3500, 3700, 3600, 3500, 3400, 3300, 3000, 3100])\n",
    "np.mean(sales_data)"
   ]
  },
  {
   "cell_type": "code",
   "execution_count": 20,
   "metadata": {},
   "outputs": [
    {
     "data": {
      "text/plain": [
       "3070.0"
      ]
     },
     "execution_count": 20,
     "metadata": {},
     "output_type": "execute_result"
    }
   ],
   "source": [
    "sales_data.sum() / sales_data.size"
   ]
  },
  {
   "cell_type": "markdown",
   "metadata": {},
   "source": [
    "### 문제 2: 매출 데이터에서 최대 매출일과 최소 매출일 찾기\n",
    "- **설명**: 매출 데이터에서 가장 높은 매출과 가장 낮은 매출을 기록한 날짜를 찾아보세요.\n",
    "- **힌트**: `np.argmax()`, `np.argmin()`을 사용하여 최대값, 최소값의 인덱스를 찾습니다.\n"
   ]
  },
  {
   "cell_type": "code",
   "execution_count": 7,
   "metadata": {},
   "outputs": [
    {
     "data": {
      "text/plain": [
       "(24, 1)"
      ]
     },
     "execution_count": 7,
     "metadata": {},
     "output_type": "execute_result"
    }
   ],
   "source": [
    "max_sales = np.argmax(sales_data)\n",
    "min_sales = np.argmin(sales_data)\n",
    "max_sales+1, min_sales+1"
   ]
  },
  {
   "cell_type": "markdown",
   "metadata": {},
   "source": [
    "### 문제 3: 7일 단위로 매출 합계 계산하기\n",
    "- **설명**: 30일 매출 데이터를 7일 단위로 나누어 각 주차별 매출 합계를 계산하세요.\n",
    "- **힌트**: 배열을 슬라이싱하거나 `reshape()`를 사용하여 배열을 변환합니다.\n"
   ]
  },
  {
   "cell_type": "code",
   "execution_count": null,
   "metadata": {},
   "outputs": [],
   "source": [
    "first_week = sales_data[:7]\n",
    "second_week = sales_data[7:14]\n",
    "third_week = sales_data[14:21]\n",
    "fourth_week = sales_data[21:28]\n",
    "fifth_week = sales_data[28:]"
   ]
  },
  {
   "cell_type": "code",
   "execution_count": 27,
   "metadata": {},
   "outputs": [
    {
     "name": "stdout",
     "output_type": "stream",
     "text": [
      "18600\n",
      "22100\n",
      "20900\n",
      "24400\n",
      "6100\n"
     ]
    }
   ],
   "source": [
    "weeks = [sales_data[i:i + 7] for i in range(0, len(sales_data), 7)]\n",
    "\n",
    "for i in weeks:\n",
    "    print(np.sum(i))"
   ]
  },
  {
   "cell_type": "code",
   "execution_count": 35,
   "metadata": {},
   "outputs": [
    {
     "data": {
      "text/plain": [
       "array([18600, 22100, 20900, 24400,  6100])"
      ]
     },
     "execution_count": 35,
     "metadata": {},
     "output_type": "execute_result"
    }
   ],
   "source": [
    "# 요소 추가\n",
    "# (0, 5)는 배열의 앞쪽에는 아무것도 추가하지 않고, 뒤쪽에 5개의 0을 추가\n",
    "# 마지막 2일에 해당하는 부족한 데이터를 0으로 채워서 35일로 맞춘 후, 7일 단위로 나누고 주차별 합계를 계산\n",
    "np.pad(sales_data, (0,5), 'constant', constant_values = 0).reshape(5,7).sum(axis=1)"
   ]
  },
  {
   "cell_type": "markdown",
   "metadata": {},
   "source": [
    "### 문제 4: 매출 데이터에서 특정 조건에 맞는 매출 데이터 필터링하기\n",
    "- **설명**: 매출이 3000 이상인 날들의 매출만 필터링하여 보여주세요.\n",
    "- **힌트**: 배열에서 조건 필터링을 사용하는 방법을 익힙니다.\n"
   ]
  },
  {
   "cell_type": "code",
   "execution_count": 13,
   "metadata": {},
   "outputs": [
    {
     "data": {
      "text/plain": [
       "array([3000, 3100, 3200, 3400, 3600, 3300, 3100, 3100, 3200, 3300, 3400,\n",
       "       3500, 3700, 3600, 3500, 3400, 3300, 3000, 3100])"
      ]
     },
     "execution_count": 13,
     "metadata": {},
     "output_type": "execute_result"
    }
   ],
   "source": [
    "sales_data[sales_data >= 3000]"
   ]
  },
  {
   "cell_type": "markdown",
   "metadata": {},
   "source": [
    "### 문제 5: 특정 범위 내 매출의 평균값 계산하기\n",
    "- **설명**: 매출이 2800에서 3500 사이인 날들의 평균 매출을 계산하세요.\n",
    "- **힌트**: 조건 필터링 후 `np.mean()`을 사용하여 계산합니다.\n"
   ]
  },
  {
   "cell_type": "code",
   "execution_count": 17,
   "metadata": {},
   "outputs": [
    {
     "data": {
      "text/plain": [
       "3170.0"
      ]
     },
     "execution_count": 17,
     "metadata": {},
     "output_type": "execute_result"
    }
   ],
   "source": [
    "np.mean(sales_data[(sales_data >= 2800) & (sales_data <= 3500)])"
   ]
  }
 ],
 "metadata": {
  "kernelspec": {
   "display_name": "Python 3 (ipykernel)",
   "language": "python",
   "name": "python3"
  },
  "language_info": {
   "codemirror_mode": {
    "name": "ipython",
    "version": 3
   },
   "file_extension": ".py",
   "mimetype": "text/x-python",
   "name": "python",
   "nbconvert_exporter": "python",
   "pygments_lexer": "ipython3",
   "version": "3.12.4"
  }
 },
 "nbformat": 4,
 "nbformat_minor": 4
}
