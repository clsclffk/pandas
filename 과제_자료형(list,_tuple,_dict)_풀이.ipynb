{
 "cells": [
  {
   "cell_type": "markdown",
   "metadata": {
    "colab_type": "text",
    "id": "view-in-github"
   },
   "source": [
    "<a href=\"https://colab.research.google.com/github/zzhining/python_basic/blob/master/exercise/%EC%9E%90%EB%A3%8C%ED%98%95(list%2C_tuple%2C_dict).ipynb\" target=\"_parent\"><img src=\"https://colab.research.google.com/assets/colab-badge.svg\" alt=\"Open In Colab\"/></a>"
   ]
  },
  {
   "cell_type": "markdown",
   "metadata": {
    "id": "wOyc8JEKtj2m"
   },
   "source": [
    "1. 리스트 numbers가 다음과 같을 때, 첫 번째 원소와 마지막 원소의 합을 구하는 코드를 작성하세요."
   ]
  },
  {
   "cell_type": "code",
   "execution_count": 2,
   "metadata": {
    "id": "GldE3jITtAKO"
   },
   "outputs": [],
   "source": [
    "numbers = [10, 20,  30,  40,  50,  60, 70, 80, 90, 100]"
   ]
  },
  {
   "cell_type": "code",
   "execution_count": 3,
   "metadata": {
    "id": "t3GZWdQpqTiR"
   },
   "outputs": [
    {
     "name": "stdout",
     "output_type": "stream",
     "text": [
      "110\n"
     ]
    }
   ],
   "source": [
    "#답을 작성하세요.\n",
    "answer1 = numbers[0] + numbers[-1] \n",
    "\n",
    "print(answer1)"
   ]
  },
  {
   "cell_type": "markdown",
   "metadata": {
    "id": "ubyXowADuNql"
   },
   "source": [
    "2. 리스트 colors가 다음과 같을 때, 첫 3개 원소와 마지막 2개 원소를 슬라이싱을 사용하여 출력하는 코드를 작성하세요."
   ]
  },
  {
   "cell_type": "code",
   "execution_count": 5,
   "metadata": {
    "id": "3Qgcb2vvuMwP"
   },
   "outputs": [],
   "source": [
    "colors = [\"red\", \"green\", \"blue\", \"yellow\", \"purple\", \"orange\", \"black\"]"
   ]
  },
  {
   "cell_type": "code",
   "execution_count": 6,
   "metadata": {
    "id": "PGb59Mu1qXTK"
   },
   "outputs": [
    {
     "name": "stdout",
     "output_type": "stream",
     "text": [
      "첫 3개 원소 :  ['red', 'green', 'blue']\n",
      "마지막 2개 원소 :  ['orange', 'black']\n"
     ]
    }
   ],
   "source": [
    "#답을 작성하세요.\n",
    "answer2_1 = colors[:3]\n",
    "answer2_2 = colors[-2:]\n",
    "\n",
    "print(\"첫 3개 원소 : \", answer2_1)\n",
    "print(\"마지막 2개 원소 : \", answer2_2)"
   ]
  },
  {
   "cell_type": "markdown",
   "metadata": {
    "id": "GcrYhNlWzjt8"
   },
   "source": [
    "3. 다음 리스트에서 \"korean\"이라는 문자열을 찾아 출력하는 코드를 작성하세요."
   ]
  },
  {
   "cell_type": "code",
   "execution_count": 7,
   "metadata": {
    "id": "opqd26QSzqNo"
   },
   "outputs": [],
   "source": [
    "list_a = [\n",
    "    [1, 2, 3],\n",
    "    [\"red\", \"green\", \"blue\"],\n",
    "    [False, \"korean\", True]\n",
    "]"
   ]
  },
  {
   "cell_type": "code",
   "execution_count": 8,
   "metadata": {
    "id": "XxZ4nVRQqo06"
   },
   "outputs": [
    {
     "name": "stdout",
     "output_type": "stream",
     "text": [
      "korean\n"
     ]
    }
   ],
   "source": [
    "#답을 작성하세요.\n",
    "answer3 = list_a[2][1]\n",
    "\n",
    "print(answer3)"
   ]
  },
  {
   "cell_type": "code",
   "execution_count": 11,
   "metadata": {},
   "outputs": [
    {
     "name": "stdout",
     "output_type": "stream",
     "text": [
      "korean\n"
     ]
    }
   ],
   "source": [
    "if 'korean' in list_a[2]:\n",
    "    print('korean')\n"
   ]
  },
  {
   "cell_type": "markdown",
   "metadata": {
    "id": "eHBj8twm0EKJ"
   },
   "source": [
    "4. 리스트 list_a과 list_b가 다음과 같을 때, 두 리스트를 합쳐서 새로운 리스트 list_c를 만드는 코드를 작성하세요."
   ]
  },
  {
   "cell_type": "code",
   "execution_count": 12,
   "metadata": {
    "id": "vVs5CpAt0NhM"
   },
   "outputs": [],
   "source": [
    "list_a = [1, 2, 3]\n",
    "list_b = [4, 5, 6]"
   ]
  },
  {
   "cell_type": "code",
   "execution_count": 13,
   "metadata": {
    "id": "m3Mj6sFyq4K-"
   },
   "outputs": [
    {
     "name": "stdout",
     "output_type": "stream",
     "text": [
      "[1, 2, 3, 4, 5, 6]\n"
     ]
    }
   ],
   "source": [
    "#답을 작성하세요.\n",
    "list_c = list_a + list_b\n",
    "\n",
    "print(list_c)"
   ]
  },
  {
   "cell_type": "code",
   "execution_count": 15,
   "metadata": {},
   "outputs": [
    {
     "data": {
      "text/plain": [
       "(None, [1, 2, 3, 4, 5, 6, 4, 5, 6])"
      ]
     },
     "execution_count": 15,
     "metadata": {},
     "output_type": "execute_result"
    }
   ],
   "source": [
    "list_c = list_a.extend(list_b)\n",
    "list_c, list_a"
   ]
  },
  {
   "cell_type": "code",
   "execution_count": null,
   "metadata": {},
   "outputs": [],
   "source": []
  },
  {
   "cell_type": "markdown",
   "metadata": {
    "id": "F5JsDNTd0pAu"
   },
   "source": [
    "5. 아래의 튜플 tuple_a에서 \"banana\"를 \"blueberry\"로 변경하는 코드를 작성하세요."
   ]
  },
  {
   "cell_type": "code",
   "execution_count": 16,
   "metadata": {
    "id": "zPYxZgXw0Vn8"
   },
   "outputs": [],
   "source": [
    "tuple_a = (\"apple\", \"banana\", \"cherry\")"
   ]
  },
  {
   "cell_type": "code",
   "execution_count": 17,
   "metadata": {},
   "outputs": [
    {
     "ename": "TypeError",
     "evalue": "'tuple' object does not support item assignment",
     "output_type": "error",
     "traceback": [
      "\u001b[1;31m---------------------------------------------------------------------------\u001b[0m",
      "\u001b[1;31mTypeError\u001b[0m                                 Traceback (most recent call last)",
      "Cell \u001b[1;32mIn[17], line 1\u001b[0m\n\u001b[1;32m----> 1\u001b[0m \u001b[43mtuple_a\u001b[49m\u001b[43m[\u001b[49m\u001b[38;5;241;43m1\u001b[39;49m\u001b[43m]\u001b[49m \u001b[38;5;241m=\u001b[39m \u001b[38;5;124m'\u001b[39m\u001b[38;5;124mbluberry\u001b[39m\u001b[38;5;124m'\u001b[39m\n",
      "\u001b[1;31mTypeError\u001b[0m: 'tuple' object does not support item assignment"
     ]
    }
   ],
   "source": [
    "tuple_a[1] = 'bluberry'"
   ]
  },
  {
   "cell_type": "code",
   "execution_count": 21,
   "metadata": {
    "id": "JJx5yjelrAHM"
   },
   "outputs": [
    {
     "name": "stdout",
     "output_type": "stream",
     "text": [
      "('apple', 'blueberry', 'cherry')\n"
     ]
    }
   ],
   "source": [
    "#답을 작성하세요.\n",
    "answer5 = list(tuple_a)\n",
    "answer5[1] = 'blueberry'\n",
    "answer5 = tuple(answer5)\n",
    "print(answer5)"
   ]
  },
  {
   "cell_type": "markdown",
   "metadata": {
    "id": "AUaC64941iNE"
   },
   "source": [
    "6. 변수 a, b, c의 값을 사용하여 튜플 tuple_a를 생성하고 출력하는 코드를 작성하세요."
   ]
  },
  {
   "cell_type": "code",
   "execution_count": 23,
   "metadata": {
    "id": "-vuiB0fx0-FG"
   },
   "outputs": [],
   "source": [
    "a = 5\n",
    "b = 10\n",
    "c = 15"
   ]
  },
  {
   "cell_type": "code",
   "execution_count": 26,
   "metadata": {
    "id": "GZNmPPDRrGb7"
   },
   "outputs": [
    {
     "name": "stdout",
     "output_type": "stream",
     "text": [
      "(5, 10, 15)\n"
     ]
    }
   ],
   "source": [
    "#답을 작성하세요.\n",
    "tuple_a = (a,b,c)\n",
    "\n",
    "print(tuple_a)"
   ]
  },
  {
   "cell_type": "markdown",
   "metadata": {
    "id": "q0rukGXK18JD"
   },
   "source": [
    "7. 튜플 numbers가 주어졌을 때, 튜플의 최대값과 최소값을 출력하는 코드를 작성하세요."
   ]
  },
  {
   "cell_type": "code",
   "execution_count": 27,
   "metadata": {
    "id": "4H1_jaLT1FIf"
   },
   "outputs": [],
   "source": [
    "numbers = (92, 89, 72, 31, 71, 33, 19)"
   ]
  },
  {
   "cell_type": "code",
   "execution_count": 38,
   "metadata": {
    "id": "Xufr6zWBrM9E",
    "scrolled": true
   },
   "outputs": [
    {
     "data": {
      "text/plain": [
       "((92, 89, 72, 31, 71, 33, 19),\n",
       " (92, 89, 72, 31, 71, 33, 19, 92, 89, 72, 31, 71, 33, 19),\n",
       " (92,\n",
       "  89,\n",
       "  72,\n",
       "  31,\n",
       "  71,\n",
       "  33,\n",
       "  19,\n",
       "  92,\n",
       "  89,\n",
       "  72,\n",
       "  31,\n",
       "  71,\n",
       "  33,\n",
       "  19,\n",
       "  92,\n",
       "  89,\n",
       "  72,\n",
       "  31,\n",
       "  71,\n",
       "  33,\n",
       "  19))"
      ]
     },
     "execution_count": 38,
     "metadata": {},
     "output_type": "execute_result"
    }
   ],
   "source": [
    "#답을 작성하세요.\n",
    "answer7_1 = max(numbers)\n",
    "answer7_2 = min(numbers)\n",
    "#numbers.max()\n",
    "num1 = numbers + numbers #__add__()\n",
    "num2 = numbers * 3 #__mul__()\n",
    "\n",
    "numbers, num1, num2\n",
    "#print(\"최대값 : \", answer7_1)\n",
    "#print(\"최소값 : \", answer7_2)"
   ]
  },
  {
   "cell_type": "code",
   "execution_count": null,
   "metadata": {},
   "outputs": [],
   "source": [
    "# function, method\n",
    "\n",
    "함수이름( )  -> 파이썬 전체적으로 사용하는 기능 : 파이썬 문서\n",
    "객체.함수이름( ) -> 객체를 정의한 클래스에서 만들어준 기능\n",
    "dir(객체)"
   ]
  },
  {
   "cell_type": "code",
   "execution_count": 33,
   "metadata": {
    "scrolled": true
   },
   "outputs": [
    {
     "data": {
      "text/plain": [
       "['__add__',\n",
       " '__class__',\n",
       " '__class_getitem__',\n",
       " '__contains__',\n",
       " '__delattr__',\n",
       " '__dir__',\n",
       " '__doc__',\n",
       " '__eq__',\n",
       " '__format__',\n",
       " '__ge__',\n",
       " '__getattribute__',\n",
       " '__getitem__',\n",
       " '__getnewargs__',\n",
       " '__getstate__',\n",
       " '__gt__',\n",
       " '__hash__',\n",
       " '__init__',\n",
       " '__init_subclass__',\n",
       " '__iter__',\n",
       " '__le__',\n",
       " '__len__',\n",
       " '__lt__',\n",
       " '__mul__',\n",
       " '__ne__',\n",
       " '__new__',\n",
       " '__reduce__',\n",
       " '__reduce_ex__',\n",
       " '__repr__',\n",
       " '__rmul__',\n",
       " '__setattr__',\n",
       " '__sizeof__',\n",
       " '__str__',\n",
       " '__subclasshook__',\n",
       " 'count',\n",
       " 'index']"
      ]
     },
     "execution_count": 33,
     "metadata": {},
     "output_type": "execute_result"
    }
   ],
   "source": [
    "dir(numbers)"
   ]
  },
  {
   "cell_type": "markdown",
   "metadata": {
    "id": "OQ4wlbLL2pNY"
   },
   "source": [
    "8. dict 타입의 student(변수명)를 생성하고, 아래의 키-값 쌍을 추가하는 코드를 작성하세요.\n",
    "\n",
    "- name: \"Alice\"\n",
    "- age: 24\n",
    "- major: \"Computer Science\""
   ]
  },
  {
   "cell_type": "code",
   "execution_count": 30,
   "metadata": {
    "id": "SmGl3aVU28Av"
   },
   "outputs": [
    {
     "name": "stdout",
     "output_type": "stream",
     "text": [
      "{'name': 'Alice', 'age': 24, 'major': 'Computer Science'}\n"
     ]
    }
   ],
   "source": [
    "#답을 작성하세요.\n",
    "student = {\n",
    "    'name': \"Alice\",\n",
    "    'age': 24,\n",
    "    'major': \"Computer Science\",\n",
    "}\n",
    "\n",
    "print(student)"
   ]
  },
  {
   "cell_type": "markdown",
   "metadata": {
    "id": "xCKsKXQ626po"
   },
   "source": [
    "9. 위에서 생성한 student에서, 모든 키와 값을 출력하는 코드를 작성하세요"
   ]
  },
  {
   "cell_type": "code",
   "execution_count": 31,
   "metadata": {
    "id": "BISP8V6x2o8p"
   },
   "outputs": [
    {
     "name": "stdout",
     "output_type": "stream",
     "text": [
      "모든 키(key) :  dict_keys(['name', 'age', 'major'])\n",
      "모든 값(value) :  dict_values(['Alice', 24, 'Computer Science'])\n"
     ]
    }
   ],
   "source": [
    "#답을 작성하세요.\n",
    "answer9_1 = student.keys()\n",
    "answer9_2 = student.values()\n",
    "\n",
    "print(\"모든 키(key) : \", answer9_1)\n",
    "print(\"모든 값(value) : \" , answer9_2)"
   ]
  },
  {
   "cell_type": "markdown",
   "metadata": {
    "id": "44Z6O7gn3Tkl"
   },
   "source": [
    "10. 위에서 생성한 student에서, age(나이)를 26으로 변경하세요."
   ]
  },
  {
   "cell_type": "code",
   "execution_count": 32,
   "metadata": {
    "id": "09_EXg8y3kD2"
   },
   "outputs": [
    {
     "name": "stdout",
     "output_type": "stream",
     "text": [
      "{'name': 'Alice', 'age': 26, 'major': 'Computer Science'}\n"
     ]
    }
   ],
   "source": [
    "#답을 작성하세요.\n",
    "student['age'] = 26\n",
    "answer10 = student\n",
    "\n",
    "print(answer10)"
   ]
  },
  {
   "cell_type": "markdown",
   "metadata": {
    "id": "_Z8iAUHt3jau"
   },
   "source": [
    "@. 다음 딕셔너리 students에서 name의 값을 리스트(name_list)로, age의 값을 튜플(age_tuple) 만드는 코드를 작성하세요"
   ]
  },
  {
   "cell_type": "code",
   "execution_count": 39,
   "metadata": {
    "id": "vu8l1f_T37YW"
   },
   "outputs": [],
   "source": [
    "students = {\n",
    "    \"student1\": {\"name\": \"Alice\", \"age\": 24},\n",
    "    \"student2\": {\"name\": \"Bob\", \"age\": 22},\n",
    "    \"student3\": {\"name\": \"Charlie\", \"age\": 23}\n",
    "}"
   ]
  },
  {
   "cell_type": "code",
   "execution_count": 65,
   "metadata": {},
   "outputs": [
    {
     "data": {
      "text/plain": [
       "dict_values([{'name': 'Alice', 'age': 24}, {'name': 'Bob', 'age': 22}, {'name': 'Charlie', 'age': 23}])"
      ]
     },
     "execution_count": 65,
     "metadata": {},
     "output_type": "execute_result"
    }
   ],
   "source": [
    "students.values()"
   ]
  },
  {
   "cell_type": "code",
   "execution_count": 81,
   "metadata": {},
   "outputs": [
    {
     "data": {
      "text/plain": [
       "[{'name': 'Alice', 'age': 24},\n",
       " {'name': 'Bob', 'age': 22},\n",
       " {'name': 'Charlie', 'age': 23}]"
      ]
     },
     "execution_count": 81,
     "metadata": {},
     "output_type": "execute_result"
    }
   ],
   "source": [
    "name_list = list(students.values())\n",
    "name_list"
   ]
  },
  {
   "cell_type": "code",
   "execution_count": 82,
   "metadata": {},
   "outputs": [
    {
     "data": {
      "text/plain": [
       "('Alice', 'Bob', 'Charlie')"
      ]
     },
     "execution_count": 82,
     "metadata": {},
     "output_type": "execute_result"
    }
   ],
   "source": [
    "name_list[0]['name'], name_list[1]['name'], name_list[2]['name']"
   ]
  },
  {
   "cell_type": "code",
   "execution_count": 83,
   "metadata": {},
   "outputs": [
    {
     "data": {
      "text/plain": [
       "([{'name': 'Alice', 'age': 24},\n",
       "  {'name': 'Bob', 'age': 22},\n",
       "  {'name': 'Charlie', 'age': 23}],\n",
       " [24, 22, 23])"
      ]
     },
     "execution_count": 83,
     "metadata": {},
     "output_type": "execute_result"
    }
   ],
   "source": [
    "name_val_list =[name_list[0]['name'], name_list[1]['name'], name_list[2]['name']]\n",
    "age_val_list =[name_list[0]['age'], name_list[1]['age'], name_list[2]['age']]\n",
    "name_list, age_list"
   ]
  },
  {
   "cell_type": "code",
   "execution_count": 60,
   "metadata": {
    "id": "Mq8sxoh1sn3S"
   },
   "outputs": [
    {
     "name": "stdout",
     "output_type": "stream",
     "text": [
      "['Alice', 'Bob', 'Charlie']\n",
      "(24, 22, 23)\n"
     ]
    }
   ],
   "source": [
    "#답을 작성하세요.\n",
    "name_list = [] #list(students.values())[0]['name']\n",
    "age_list = []\n",
    "for student in students.values():\n",
    "    name_list.append(student['name'])\n",
    "    age_list.append(student['age'])\n",
    "    \n",
    "age_tuple = tuple(age_list)\n",
    "\n",
    "print(name_list)\n",
    "print(age_tuple)"
   ]
  },
  {
   "cell_type": "code",
   "execution_count": 58,
   "metadata": {},
   "outputs": [
    {
     "data": {
      "text/plain": [
       "['Alice', 'Bob', 'Charlie']"
      ]
     },
     "execution_count": 58,
     "metadata": {},
     "output_type": "execute_result"
    }
   ],
   "source": [
    "list(student['name'] for student in students.values())"
   ]
  },
  {
   "cell_type": "code",
   "execution_count": 59,
   "metadata": {},
   "outputs": [
    {
     "data": {
      "text/plain": [
       "(24, 22, 23)"
      ]
     },
     "execution_count": 59,
     "metadata": {},
     "output_type": "execute_result"
    }
   ],
   "source": [
    "tuple(student['age'] for student in students.values())"
   ]
  }
 ],
 "metadata": {
  "colab": {
   "include_colab_link": true,
   "provenance": []
  },
  "kernelspec": {
   "display_name": "Python 3 (ipykernel)",
   "language": "python",
   "name": "python3"
  },
  "language_info": {
   "codemirror_mode": {
    "name": "ipython",
    "version": 3
   },
   "file_extension": ".py",
   "mimetype": "text/x-python",
   "name": "python",
   "nbconvert_exporter": "python",
   "pygments_lexer": "ipython3",
   "version": "3.11.4"
  }
 },
 "nbformat": 4,
 "nbformat_minor": 4
}
