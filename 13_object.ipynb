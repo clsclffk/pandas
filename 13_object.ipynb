{
 "cells": [
  {
   "cell_type": "markdown",
   "metadata": {
    "colab_type": "text",
    "id": "view-in-github"
   },
   "source": [
    "<a href=\"https://colab.research.google.com/github/zzhining/python_basic/blob/master/13_object.ipynb\" target=\"_parent\"><img src=\"https://colab.research.google.com/assets/colab-badge.svg\" alt=\"Open In Colab\"/></a>"
   ]
  },
  {
   "cell_type": "markdown",
   "metadata": {
    "id": "sZTURgEXV1SK"
   },
   "source": [
    "## 객체지향프로그래밍(OOP)\n",
    "\n",
    "- 객체를 만들고 이용할 수 있는 기능을 제공하는 프로그래밍 언어\n"
   ]
  },
  {
   "cell_type": "markdown",
   "metadata": {
    "id": "ehjxnq36WD3-"
   },
   "source": [
    "## 객체\n",
    " - *속성*과 *행위*로 구성\n",
    " - **속성**: 특징, 상태 → 변수로 구현\n",
    " - **행위**: 할 수 있는 일(행동, 동작, 기능) → 함수로 구현\n",
    " - 객체는 변수와 함수의 묶음\n"
   ]
  },
  {
   "cell_type": "markdown",
   "metadata": {
    "id": "h-eaGF49WXZy"
   },
   "source": [
    "## 객체 만드는 방법\n",
    "- 객체를 만들려면 먼저 **클래스**를 선언해야 함\n",
    "- 클래스: 객체의 공통된 속성과 행위를 변수와 함수로 정의한 것\n",
    "- **클래스**는 객체를 만들기 위한 기본 틀, **객체**는 기본 틀을 바탕으로 만들어진 결과\n",
    "- 객체는 클래스에서 생성하므로 객체를 클래스의 인스턴스 (Instance)라고 함\n",
    "----\n",
    "⭐클래스와 객체의 관계⭐\n",
    "\n",
    " 1. 클래스 선언(붕어빵 틀)\n",
    "     - 클래스: 객체를 만들기 위한 기본 틀\n",
    " 2. 객체 생성(붕어빵)\n",
    "     - 인스턴스(instance)\n",
    "     \n",
    "     \n"
   ]
  },
  {
   "cell_type": "markdown",
   "metadata": {
    "id": "VEVzA3Y0XDhT"
   },
   "source": [
    "![class](https://blog.kakaocdn.net/dn/chH1CQ/btrp55RgLk4/B5LFxkHKOjWFwkOOvBuKt0/img.png)"
   ]
  },
  {
   "cell_type": "markdown",
   "metadata": {
    "id": "HWhiTDkyXT71"
   },
   "source": [
    "클래스 선언을 위한 기본 구조\n",
    "```\n",
    "class 클래스명():\n",
    "   [변수1]  # 클래스 변수\n",
    "   [변수2]\n",
    "   ...\n",
    "   def 함수1(self[, 인자1, 인자2, ··· , 인자n]): # 클래스 함수\n",
    "       <코드 블록>\n",
    "       ...\n",
    "   def 함수2(self[, 인자1, 인자2, ··· , 인자n]):\n",
    "       <코드 블록>\n",
    "       ...\n",
    "```\n",
    "\n"
   ]
  },
  {
   "cell_type": "markdown",
   "metadata": {
    "id": "Gs_3D9DHV1SO"
   },
   "source": [
    "### [예제]: 자전거 클래스\n",
    "\n",
    "- 클래스 이름: Bicycle()\n",
    "- 속성: 바퀴크기(wheelSize), 색상(color)\n",
    "- 동작: 이동(move), 회전(turn), 정지(stop)"
   ]
  },
  {
   "cell_type": "code",
   "execution_count": null,
   "metadata": {
    "id": "5vzCZA-XXuS4"
   },
   "outputs": [],
   "source": [
    "# 자전거 클래스 선언\n",
    "class Bicycle(): # 클래스 선언\n",
    "    pass"
   ]
  },
  {
   "cell_type": "markdown",
   "metadata": {
    "id": "liQD6VDMYH5R"
   },
   "source": [
    "객체 초기화\n",
    "- 초기화 함수 `__init__()`를 구현하면 객체를 생성하는 것과 동시에 속성값을 지정할 수 있음\n",
    "- `__init__()` 함수는 클래스의 인스턴스가 생성될 때 (즉, 객체가 생성될 때) 자동으로 실행됨\n"
   ]
  },
  {
   "cell_type": "markdown",
   "metadata": {
    "id": "_AIKrlONX5wN"
   },
   "source": [
    "속성 및 동작 추가"
   ]
  },
  {
   "cell_type": "code",
   "execution_count": 16,
   "metadata": {
    "id": "vXNyVmmdvuR8"
   },
   "outputs": [],
   "source": [
    "class Bicycle():\n",
    "    \n",
    "    wheelSize = 0\n",
    "    color = ''\n",
    "    \n",
    "    # dunder method(magic method)\n",
    "    def __init__(self, wheel_size, color):\n",
    "        self.wheelSize = wheel_size\n",
    "        self.color = color\n",
    "        print(f'[init] {self.color} 자전거가 생성되었습니다.')\n",
    "    def move(self, speed):\n",
    "        print(f'[move] speed={speed}')\n",
    "    def turn(self):\n",
    "        print(f'[turn]')\n",
    "    def stop(self):\n",
    "        print(f'[stop]')"
   ]
  },
  {
   "cell_type": "markdown",
   "metadata": {
    "id": "DhszjK94X7zb"
   },
   "source": [
    "객체 선언"
   ]
  },
  {
   "cell_type": "code",
   "execution_count": 18,
   "metadata": {
    "id": "r6wwpVFbV1SP"
   },
   "outputs": [
    {
     "name": "stdout",
     "output_type": "stream",
     "text": [
      "[init] Blue 자전거가 생성되었습니다.\n",
      "[init] White 자전거가 생성되었습니다.\n"
     ]
    },
    {
     "data": {
      "text/plain": [
       "(50, 30)"
      ]
     },
     "execution_count": 18,
     "metadata": {},
     "output_type": "execute_result"
    }
   ],
   "source": [
    "myb1 = Bicycle(50, 'Blue')\n",
    "myb2 = Bicycle(30, 'White')\n",
    "\n",
    "myb1.wheelSize, myb2.wheelSize"
   ]
  },
  {
   "cell_type": "markdown",
   "metadata": {
    "id": "6t0MS3huX_kf"
   },
   "source": [
    "메서드 호출"
   ]
  },
  {
   "cell_type": "code",
   "execution_count": 20,
   "metadata": {},
   "outputs": [
    {
     "name": "stdout",
     "output_type": "stream",
     "text": [
      "[move] speed=60\n"
     ]
    }
   ],
   "source": [
    "myb1.move(60)"
   ]
  },
  {
   "cell_type": "code",
   "execution_count": 22,
   "metadata": {
    "scrolled": true
   },
   "outputs": [
    {
     "data": {
      "text/plain": [
       "['__class__',\n",
       " '__delattr__',\n",
       " '__dict__',\n",
       " '__dir__',\n",
       " '__doc__',\n",
       " '__eq__',\n",
       " '__format__',\n",
       " '__ge__',\n",
       " '__getattribute__',\n",
       " '__getstate__',\n",
       " '__gt__',\n",
       " '__hash__',\n",
       " '__init__',\n",
       " '__init_subclass__',\n",
       " '__le__',\n",
       " '__lt__',\n",
       " '__module__',\n",
       " '__ne__',\n",
       " '__new__',\n",
       " '__reduce__',\n",
       " '__reduce_ex__',\n",
       " '__repr__',\n",
       " '__setattr__',\n",
       " '__sizeof__',\n",
       " '__str__',\n",
       " '__subclasshook__',\n",
       " '__weakref__',\n",
       " 'color',\n",
       " 'move',\n",
       " 'stop',\n",
       " 'turn',\n",
       " 'wheelSize']"
      ]
     },
     "execution_count": 22,
     "metadata": {},
     "output_type": "execute_result"
    }
   ],
   "source": [
    "dir(myb1)"
   ]
  },
  {
   "cell_type": "markdown",
   "metadata": {
    "id": "iKI-xVLUYYdh"
   },
   "source": [
    "## 클래스에서  사용하는 변수\n",
    "- 위치에 따라 **클래스 변수 (class variable)**와 **인스턴스 변수 (instance variable)**로 구분\n",
    "- **클래스 변수**: 클래스 내에 있지만 함수 밖에서 `'변수명 = 데이터'` 형식으로 정의한 변수\n",
    "    - 클래스에서 생성한 모든 객체가 공통으로 사용 가능\n",
    "    - '클래스명.변수명' 형식으로 접근\n",
    "- **인스턴스 변수**: 클래스 내의 함수 안에서 `'self.변수명= 데이터'` 형식으로 정의한 변수\n",
    "    - 클래스 내의 모든 함수에서 'self.변수명'으로 접근\n",
    "    - 각 인스턴스(객체)에서 개별적으로 관리하며, 객체를 생성한 후에 '객체명.변수명' 형식으로 접근\n",
    "\n",
    "\n"
   ]
  },
  {
   "cell_type": "code",
   "execution_count": 25,
   "metadata": {
    "id": "DxCmLV7JYytX"
   },
   "outputs": [],
   "source": [
    "# 클래스 변수와 인스턴스 변수를 사용한 자동차 클래스\n",
    "class Car():\n",
    "    instance_count = 0\n",
    "\n",
    "    def __init__(self, size, color):\n",
    "        self.size = size\n",
    "        self.color = color\n",
    "        Car.instance_count += 1\n",
    "        print(f'자동차가 {Car.instance_count}대 만큼 생성되었습니다.')\n",
    "        \n",
    "    def move(self):\n",
    "        print('자동차가 움직입니다.')"
   ]
  },
  {
   "cell_type": "code",
   "execution_count": 27,
   "metadata": {
    "colab": {
     "base_uri": "https://localhost:8080/"
    },
    "id": "gFzW2BcQY2bz",
    "outputId": "8d5da7af-5d91-4e24-b965-7ad768066442"
   },
   "outputs": [
    {
     "name": "stdout",
     "output_type": "stream",
     "text": [
      "자동차가 1대 만큼 생성되었습니다.\n",
      "자동차가 2대 만큼 생성되었습니다.\n"
     ]
    }
   ],
   "source": [
    "c1 = Car('small','blue')\n",
    "c2 = Car('big', 'black')"
   ]
  },
  {
   "cell_type": "code",
   "execution_count": 33,
   "metadata": {
    "id": "Y2jGL9Q3ZKe8"
   },
   "outputs": [],
   "source": [
    "# 이름이 같은 클래스 변수와 인스턴스 변수가 있는 클래스를 정의한 경우\n",
    "class Car2():\n",
    "    instance_count = 0\n",
    "\n",
    "    def __init__(self, size, color, count):\n",
    "        self.size = size\n",
    "        self.color = color\n",
    "        # 인스턴스 변수!!\n",
    "        self.instance_count = count\n",
    "        # 클래스 변수!!\n",
    "        Car2.instance_count += 1\n",
    "        print(f'자동차가 {Car2.instance_count}대 만큼 {self.instance_count}가 생성되었습니다.')\n",
    "        \n",
    "    def move(self):\n",
    "        print('자동차가 움직입니다.')"
   ]
  },
  {
   "cell_type": "code",
   "execution_count": 37,
   "metadata": {
    "colab": {
     "base_uri": "https://localhost:8080/"
    },
    "id": "aXpjAGQ2ZOz3",
    "outputId": "1db8db75-64d1-412f-bf5a-2676e03acfc9"
   },
   "outputs": [
    {
     "name": "stdout",
     "output_type": "stream",
     "text": [
      "자동차가 3대 만큼 1가 생성되었습니다.\n",
      "자동차가 4대 만큼 2가 생성되었습니다.\n"
     ]
    }
   ],
   "source": [
    "c1 = Car2('small','Blue',1)\n",
    "c2 = Car2('big','Black',2)"
   ]
  },
  {
   "cell_type": "markdown",
   "metadata": {
    "id": "7lLcYZiTV1SU"
   },
   "source": [
    "## 클래스에서 사용하는 함수\n",
    "\n",
    "1. **인스턴스 메서드(instance method)**\n",
    "    - 각 객체에서 개별적으로 동작하는 함수를 만들고자 할 때 사용  \n",
    "    - 함수를 정의할 때 첫 인자로 self가 필요\n",
    "    - 인스턴스 메서드 안에서는 `self.함수명()` 형식으로 클래스 내의 다른 함수 호출\n",
    "    \n",
    "    \n",
    "2. **정적 메서드(static method)**\n",
    "    - 클래스와 관련이 있어서 클래스 안에 두기는 하지만,클래스나 클래스의 인스턴스와는 무관하게 독립적으로 동작하는 함수\n",
    "    - self를 사용하지 않음\n",
    "    - 정적메서드 안에서는 클래스나 클래스 변수에 접근할 수 없음\n",
    "    - 데코레이터: @staticmethod\n",
    "    \n",
    "    \n",
    "3. **클래스 메서드(class method)**   \n",
    "    - 클래스 변수를 사용하기 위한 함수  \n",
    "    - 함수를 정의할 때 첫 번째 인자로 클래스를 넘겨받는 cls가 필요  \n",
    "    - 함수 앞에 데코레이터인 @classmethod를 지정  \n",
    "    \n",
    "    ---------------\n"
   ]
  },
  {
   "cell_type": "markdown",
   "metadata": {
    "id": "FI25M77Dscvx"
   },
   "source": [
    "### 인스턴스 메서드\n",
    "```\n",
    "객체명 = 클래스명()\n",
    "객체명.메서드명([인자1, 인자2, ··· , 인자n])\n",
    "```"
   ]
  },
  {
   "cell_type": "markdown",
   "metadata": {
    "id": "fUnSEVb2sjkk"
   },
   "source": [
    "인스턴스 메서드를 사용한 자동차 클래스"
   ]
  },
  {
   "cell_type": "code",
   "execution_count": 45,
   "metadata": {
    "id": "ru5OH7_5sclW"
   },
   "outputs": [],
   "source": [
    "# Car 클래스 선언\n",
    "class Car():\n",
    "    instance_count = 0 # 클래스 변수 생성 및 초기화\n",
    "\n",
    "    # 초기화 함수(인스턴스 메서드)\n",
    "    def __init__(self, size, color):\n",
    "        self.size = size    # 인스턴스 변수 생성 및 초기화\n",
    "        self.color = color  # 인스턴스 변수 생성 및 초기화\n",
    "        Car.instance_count = Car.instance_count + 1 # 클래스 변수 이용\n",
    "        print(\"자동차 객체의 수: {0}\".format(Car.instance_count))\n",
    "\n",
    "    # 인스턴스 메서드\n",
    "    def move(self, speed):\n",
    "        self.speed = speed\n",
    "        print(f'{self.color} {self.size} 자동차가 {self.speed}로 움직입니다.')\n",
    "        \n",
    "    # 인스턴스 메서드\n",
    "    def auto_cruise(self):\n",
    "        print(f'자율주행모드')\n",
    "        self.move(80)\n"
   ]
  },
  {
   "cell_type": "markdown",
   "metadata": {
    "id": "tAi9ez2aspk0"
   },
   "source": [
    "객체를 생성하고 인스턴스 메서드를 사용하는 예"
   ]
  },
  {
   "cell_type": "code",
   "execution_count": 47,
   "metadata": {
    "colab": {
     "base_uri": "https://localhost:8080/"
    },
    "id": "EUPp01GHsch1",
    "outputId": "4eec90dd-91c8-43e4-98b1-312cea0e4ffa"
   },
   "outputs": [
    {
     "name": "stdout",
     "output_type": "stream",
     "text": [
      "자동차 객체의 수: 1\n",
      "자동차 객체의 수: 2\n",
      "blue small 자동차가 100로 움직입니다.\n",
      "black big 자동차가 90로 움직입니다.\n",
      "자율주행모드\n",
      "blue small 자동차가 80로 움직입니다.\n",
      "자율주행모드\n",
      "black big 자동차가 80로 움직입니다.\n"
     ]
    }
   ],
   "source": [
    "# 객체 생성 (car1)\n",
    "# 객체 생성 (car2)\n",
    "c1 = Car('small','blue')\n",
    "c2 = Car('big','black')\n",
    "\n",
    "#객체(car1)의 move() 메서드 호출\n",
    "#객체(car2)의 move() 메서드 호출\n",
    "c1.move(100)\n",
    "c2.move(90)\n",
    "\n",
    "#객체(car1)의 auto_cruise() 메서드 호출\n",
    "#객체(car2)의 auto_cruise() 메서드 호출\n",
    "c1.auto_cruise()\n",
    "c2.auto_cruise()"
   ]
  },
  {
   "cell_type": "markdown",
   "metadata": {
    "id": "2EtuoFu9svjx"
   },
   "source": [
    "### 정적 메서드\n",
    "- 클래스와 관련이 있어서 클래스 안에 두기는 하지만 클래스나 클래스의  인스턴스(객체)와는 무관하게 독립적으로 동작하는 함수를 만들고 싶을 때 이용하는 함수\n",
    "- 함수를 정의할 때 인자로 self를 사용하지 않으며 정적 메서드 안에서는 클래스나 클래스 변수에  접근할 수 없음\n",
    "- 함수 앞에 데코레이터(Decorator)인 **@staticmethod**를 선언해 정적 메서드임을  표시\n"
   ]
  },
  {
   "cell_type": "markdown",
   "metadata": {
    "id": "A8ChJ85cs4ZQ"
   },
   "source": [
    "\n",
    "정적 메서드의 구조\n",
    "\n",
    "```\n",
    " class 클래스명():\n",
    "       @staticmethod\n",
    "       def 함수명([인자1, 인자2, ··· , 인자n]):\n",
    "           <코드 블록>\n",
    "```\n",
    "\n",
    "정적 메서드 호출\n",
    "```\n",
    "클래스명.메서드명([인자1, 인자2, ··· , 인자n]):\n",
    "```"
   ]
  },
  {
   "cell_type": "markdown",
   "metadata": {
    "id": "P4HLT65KtC-U"
   },
   "source": [
    "정적 메서드를 사용한 예"
   ]
  },
  {
   "cell_type": "code",
   "execution_count": 49,
   "metadata": {
    "id": "iKhR9oFatDXo"
   },
   "outputs": [],
   "source": [
    "# Car 클래스 선언\n",
    "class Car():\n",
    "\n",
    "    # def __init__(self, size, color): => 앞의 코드 활용\n",
    "    # def move(self, speed): => 앞의 코드 활용\n",
    "    # def auto_cruise(self): => 앞의 코드 활용\n",
    "\n",
    "    # 정적 메서드 선언\n",
    "    @staticmethod\n",
    "    def check_type(model_code):\n",
    "        if model_code > 20:\n",
    "            print('전기자동차')\n",
    "        elif 10 < model_code < 20:\n",
    "            print('가솔린자동차')\n",
    "        else:\n",
    "            print('디젤차')"
   ]
  },
  {
   "cell_type": "code",
   "execution_count": 51,
   "metadata": {
    "colab": {
     "base_uri": "https://localhost:8080/"
    },
    "id": "6hgsRhBRtKpC",
    "outputId": "0b1e5399-48ac-4eb3-cdb0-9ce6ea0d4fa9"
   },
   "outputs": [
    {
     "name": "stdout",
     "output_type": "stream",
     "text": [
      "전기자동차\n",
      "디젤차\n"
     ]
    }
   ],
   "source": [
    "#정적 메서드 호출\n",
    "Car.check_type(25)\n",
    "Car.check_type(5)"
   ]
  },
  {
   "cell_type": "markdown",
   "metadata": {
    "id": "uU9ADsn5tPUt"
   },
   "source": [
    "### 클래스 메서드\n",
    "- 클래스 변수를 사용하기 위한 함수\n",
    "- 함수를 정의할 때 첫 번째 인자로 클래스를 넘겨받는 cls가 필요\n",
    "- 함수 앞에 데코레이터인 @classmethod를 지정\n"
   ]
  },
  {
   "cell_type": "markdown",
   "metadata": {
    "id": "c_xFdTvRtTZy"
   },
   "source": [
    "\n",
    "클래스 메서드의 구조\n",
    "```\n",
    " class 클래스명():\n",
    "      클래스 변수 선언\n",
    "\n",
    "      @classmethod\n",
    "      def 함수명(cls[, 인자1, 인자2, ··· , 인자n]):\n",
    "          <코드 블록>\n",
    "```\n",
    "\n",
    "클래스 메서드를 호출하는 방법\n",
    "```\n",
    "클래스명.메서드명([인자1, 인자2, ··· , 인자n]):\n",
    "```\n"
   ]
  },
  {
   "cell_type": "markdown",
   "metadata": {
    "id": "n52umB_6tWAd"
   },
   "source": [
    "클래스 메서드를 사용하는 예"
   ]
  },
  {
   "cell_type": "code",
   "execution_count": 55,
   "metadata": {
    "id": "Z3r6HEG5tXo3"
   },
   "outputs": [],
   "source": [
    "# Car 클래스 선언\n",
    "class Car():\n",
    "    # 클래스 변수\n",
    "    instance_count = 0 # 클래스 변수 생성 및 초기화\n",
    "    \n",
    "    # 초기화 함수(인스턴스 메서드)\n",
    "    def __init__(self, size, color):\n",
    "        self.size = size    # 인스턴스 변수 생성 및 초기화\n",
    "        self.color = color  # 인스턴스 변수 생성 및 초기화\n",
    "        Car.instance_count = Car.instance_count + 1 # 클래스 변수 이용\n",
    "        \n",
    "    # 클래스 메서드\n",
    "    @classmethod\n",
    "    def count_instance(cls):\n",
    "        print(\"자동차 객체의 수: {0}\".format(cls.instance_count))\n",
    "        "
   ]
  },
  {
   "cell_type": "markdown",
   "metadata": {
    "id": "hzdaDUL0tigs"
   },
   "source": [
    "클래스 메서드를 사용하는 예"
   ]
  },
  {
   "cell_type": "code",
   "execution_count": 57,
   "metadata": {
    "colab": {
     "base_uri": "https://localhost:8080/"
    },
    "id": "Ylg4XhUUtj8Q",
    "outputId": "9d80135a-7251-42e1-e588-386de38bb6fb"
   },
   "outputs": [
    {
     "name": "stdout",
     "output_type": "stream",
     "text": [
      "자동차 객체의 수: 0\n",
      "자동차 객체의 수: 1\n",
      "자동차 객체의 수: 2\n"
     ]
    }
   ],
   "source": [
    "# 객체 생성 전에 클래스 메서드 호출\n",
    "Car.count_instance()\n",
    "\n",
    "# 첫 번째 객체 생성\n",
    "c1 = Car('big','red')\n",
    "\n",
    "# 클래스 메서드 호출\n",
    "Car.count_instance()\n",
    "\n",
    "# 두 번째 객체 생성\n",
    "c2 = Car('small','white')\n",
    "\n",
    "# 클래스 메서드 호출\n",
    "Car.count_instance()"
   ]
  },
  {
   "cell_type": "markdown",
   "metadata": {
    "id": "avD5MjH3sbwH"
   },
   "source": [
    "### [예제]자동차 클래스(full-code)"
   ]
  },
  {
   "cell_type": "code",
   "execution_count": null,
   "metadata": {
    "id": "tfR-sr97V1SV"
   },
   "outputs": [],
   "source": [
    "class Car():\n",
    "    instance_count = 0 # 클래스 변수 생성 및 초기화\n",
    "\n",
    "    #초기화 함수(인스턴스 메서드)\n",
    "    def __init__(self, size, color):\n",
    "        self.size = size #인스턴스 변수 생성 및 초기화\n",
    "        self.color = color # 인스턴스 변수 생성 및 초기화\n",
    "        Car.instance_count = Car.instance_count + 1 # 클래스 변수\n",
    "        print(\"자동차 객체 수: {0}\".format(Car.instance_count))\n",
    "\n",
    "    #인스턴스 메서드\n",
    "    def move(self, speed) :\n",
    "        self.speed = speed # 인스턴스 변수 생성\n",
    "        print(\"자동차 {0} & {1}가\".format(self.size, self.color), end='')\n",
    "        print(\"시속 {0}km로 전진\".format(self.speed))\n",
    "\n",
    "    #인스턴스 메서드\n",
    "    def auto_cruise(self):\n",
    "        print(\"자율주행모드\")\n",
    "        self.move(self.speed) # 함수의 인자로 인스턴스 변수를 입력\n",
    "\n",
    "    #정적메서드\n",
    "    @staticmethod\n",
    "    def check_type(model_code):\n",
    "        if(model_code > 20):\n",
    "            print(\"이 자동차는 전기차입니다\")\n",
    "        elif(10 <= model_code < 20) :\n",
    "            print(\"이 자동차는 가솔린차입니다\")\n",
    "        else:\n",
    "            print(\"이 자동차는 디젤차입니다\")\n",
    "\n",
    "    #클래스메서드\n",
    "    @classmethod\n",
    "    def count_instance(cls):\n",
    "        print(\"자동차 객체의 개수: {0}\".format(cls.instance_count))"
   ]
  },
  {
   "cell_type": "code",
   "execution_count": null,
   "metadata": {
    "colab": {
     "base_uri": "https://localhost:8080/"
    },
    "id": "PtqmQNqmV1SV",
    "outputId": "dd3f377f-2bac-429c-c4fd-66fdb73eb188"
   },
   "outputs": [],
   "source": [
    "car1 = Car(\"small\", \"red\") # 객체생성(car1)\n",
    "car2 = Car(\"big\", \"green\") # 객체생성(car2)\n",
    "\n",
    "print(\"--\")\n",
    "car1.move(80) #객체(car1)의 move() 메서드 호출\n",
    "car2.move(100)#객체(Car2)의 move() 메서드 호출\n",
    "print(\"--\")\n",
    "car1.auto_cruise() #객체(car1)의 auto_cruise 메서드 호출\n",
    "car2.auto_cruise() #객체(car2)의 auto_cruise 메서드 호출\n",
    "print(\"--\")\n"
   ]
  },
  {
   "cell_type": "code",
   "execution_count": null,
   "metadata": {
    "colab": {
     "base_uri": "https://localhost:8080/"
    },
    "id": "Pvk4ZUwXV1SW",
    "outputId": "699f03ef-f326-492d-9e3a-821e2733a3df"
   },
   "outputs": [],
   "source": [
    "Car.check_type(25)\n",
    "Car.check_type(2)"
   ]
  },
  {
   "cell_type": "code",
   "execution_count": null,
   "metadata": {
    "colab": {
     "base_uri": "https://localhost:8080/"
    },
    "id": "wiWziCQjV1SX",
    "outputId": "5a77b616-3637-4575-8f99-d08d24dfaf77"
   },
   "outputs": [],
   "source": [
    "Car.count_instance()"
   ]
  },
  {
   "cell_type": "markdown",
   "metadata": {},
   "source": [
    "## 클래스에서 클래스 사용하기"
   ]
  },
  {
   "cell_type": "code",
   "execution_count": 60,
   "metadata": {},
   "outputs": [],
   "source": [
    "class Radio():\n",
    "    def __init__(self):\n",
    "        pass\n",
    "    def turn_on(self):\n",
    "        print('라디오를 켭니다.')\n",
    "    def turn_off(self):\n",
    "        print('라디오를 끕니다.')"
   ]
  },
  {
   "cell_type": "code",
   "execution_count": 62,
   "metadata": {},
   "outputs": [
    {
     "name": "stdout",
     "output_type": "stream",
     "text": [
      "자동차 20 red\n",
      "red 20 자동차가 20로 움직입니다.\n",
      "라디오를 켭니다.\n"
     ]
    }
   ],
   "source": [
    "class Car():\n",
    "\n",
    "    #초기화 함수(인스턴스 메서드)\n",
    "    def __init__(self, size, color):\n",
    "        self.size = size #인스턴스 변수 생성 및 초기화\n",
    "        self.color = color # 인스턴스 변수 생성 및 초기화\n",
    "        self.radio = Radio()\n",
    "        print(f'자동차 {self.size} {self.color}')\n",
    "\n",
    "    #인스턴스 메서드\n",
    "    def move(self, speed) :\n",
    "        self.speed = speed # 인스턴스 변수 생성\n",
    "        print(f'{self.color} {self.size} 자동차가 {self.speed}로 움직입니다.')\n",
    "        self.radio.turn_on()\n",
    "\n",
    "    #인스턴스 메서드\n",
    "    def auto_cruise(self):\n",
    "        print(f\"자율주행모드\")\n",
    "        self.radio.turn_off()\n",
    "\n",
    "c1 = Car(20, 'red')\n",
    "c1.move(20)"
   ]
  },
  {
   "cell_type": "markdown",
   "metadata": {
    "id": "Mbo9nBwmtnuX"
   },
   "source": [
    "## 객체와 클래스를 사용하는 이유\n",
    "- 코드 작성과 관리가 편하기 때문\n",
    "- 규모가 큰 프로그램을 만들 때 클래스와 객체를 많이 이용\n",
    "- 유사한 객체가 많은 프로그램을 만들 때도 주로 클래스와 객체를 이용해 코드를 작성"
   ]
  },
  {
   "cell_type": "markdown",
   "metadata": {
    "id": "lkKxdIgRt38c"
   },
   "source": [
    "### [예제] 컴퓨터 게임의 로봇\n",
    "- 로봇의 속성과 동작\n",
    "    - 로봇의  속성: 이름, 위치\n",
    "    - 로봇의  동작: 한 칸 이동"
   ]
  },
  {
   "cell_type": "markdown",
   "metadata": {
    "id": "iRUiPp9st9SX"
   },
   "source": [
    "### 클래스와 객체를 사용하지 않는 코드"
   ]
  },
  {
   "cell_type": "code",
   "execution_count": null,
   "metadata": {
    "id": "yg9YSSA0uCf-"
   },
   "outputs": [],
   "source": [
    "robot_name = 'R1'   # 로봇 이름\n",
    "robot_pos = 0     # 로봇의 초기 위치\n",
    "\n",
    "def robot_move():\n",
    "    global robot_pos\n",
    "    robot_pos = robot_pos + 1\n",
    "    print(\"{0} position: {1}\".format(robot_name, robot_pos))"
   ]
  },
  {
   "cell_type": "code",
   "execution_count": null,
   "metadata": {
    "colab": {
     "base_uri": "https://localhost:8080/"
    },
    "id": "MGLhPkqWuFWy",
    "outputId": "2be5cc2b-ad67-48e2-a66b-563524171a88"
   },
   "outputs": [],
   "source": [
    "robot_move()"
   ]
  },
  {
   "cell_type": "markdown",
   "metadata": {
    "id": "HHK6qfUwuG4M"
   },
   "source": [
    "로봇을 추가해 두 대의 로봇을 구현"
   ]
  },
  {
   "cell_type": "code",
   "execution_count": 10,
   "metadata": {
    "id": "o16oOHv6uIw6"
   },
   "outputs": [],
   "source": [
    "robot1_name = 'R1'   # 로봇 이름\n",
    "robot1_pos = 0        # 로봇의 초기 위치\n",
    "\n",
    "def robot1_move():\n",
    "    global robot1_pos\n",
    "    robot1_pos = robot1_pos + 1\n",
    "    print(\"{0} position: {1}\".format(robot1_name, robot1_pos))\n",
    "\n",
    "#####################################################################\n",
    "\n",
    "robot2_name = 'R2'    # 로봇 이름\n",
    "robot2_pos = 10       # 로봇의 초기 위치\n",
    "\n",
    "def robot2_move():\n",
    "    global robot2_pos\n",
    "    robot2_pos = robot2_pos + 1\n",
    "    print(\"{0} position: {1}\".format(robot2_name, robot2_pos))"
   ]
  },
  {
   "cell_type": "code",
   "execution_count": null,
   "metadata": {
    "colab": {
     "base_uri": "https://localhost:8080/"
    },
    "id": "-JP9gcUtuMc8",
    "outputId": "9b1a6c6f-1a82-4fcc-9979-37b050801727"
   },
   "outputs": [],
   "source": [
    "robot1_move()\n",
    "robot2_move()"
   ]
  },
  {
   "cell_type": "markdown",
   "metadata": {
    "id": "SUCrp3iaV1SX"
   },
   "source": [
    "### 클래스와 객체를 사용하는 코드"
   ]
  },
  {
   "cell_type": "code",
   "execution_count": 69,
   "metadata": {
    "id": "7-eSNI8qV1SX"
   },
   "outputs": [
    {
     "name": "stdout",
     "output_type": "stream",
     "text": [
      "로봇1가 한 칸 이동했습니다. 현재 위치: 1\n",
      "로봇1가 한 칸 이동했습니다. 현재 위치: 2\n",
      "총 로봇 개수: 1\n",
      "로봇은 이름과 위치를 가지며, 이동할 수 있는 객체입니다.\n"
     ]
    }
   ],
   "source": [
    "class Robot:\n",
    "    total_robots = 0 # 클래스 변수 선언!!\n",
    "    \n",
    "    def __init__(self,name,position=0):\n",
    "        self.name = name\n",
    "        self.position = position\n",
    "        Robot.total_robots += 1 # 클래스 변수!!\n",
    "        \n",
    "    def move(self):\n",
    "        self.position += 1\n",
    "        print(f'{self.name}가 한 칸 이동했습니다. 현재 위치: {self.position}')\n",
    "        \n",
    "    # classmethod\n",
    "    # 객체가 아니라 클래스 전체와 관련된 메서드를 정의\n",
    "    @classmethod\n",
    "    def get_total_robots(cls):\n",
    "        return cls.total_robots\n",
    "        \n",
    "    # staticmethod\n",
    "    # 클래스와 객체와 관계없이 독립적으로 동작하는 메서드\n",
    "    @staticmethod\n",
    "    def robot_info():\n",
    "        print(\"로봇은 이름과 위치를 가지며, 이동할 수 있는 객체입니다.\")\n",
    "\n",
    "robot1 = Robot('로봇1')\n",
    "robot1.move()\n",
    "robot1.move()\n",
    "\n",
    "# 클래스 메서드 호출: 총 로봇 개수 확인\n",
    "print(f\"총 로봇 개수: {Robot.get_total_robots()}\")\n",
    "\n",
    "# 정적 메서드 호출: 로봇 정보 출력\n",
    "Robot.robot_info()"
   ]
  },
  {
   "cell_type": "code",
   "execution_count": 71,
   "metadata": {
    "scrolled": true
   },
   "outputs": [
    {
     "data": {
      "text/plain": [
       "['__class__',\n",
       " '__delattr__',\n",
       " '__dict__',\n",
       " '__dir__',\n",
       " '__doc__',\n",
       " '__eq__',\n",
       " '__format__',\n",
       " '__ge__',\n",
       " '__getattribute__',\n",
       " '__getstate__',\n",
       " '__gt__',\n",
       " '__hash__',\n",
       " '__init__',\n",
       " '__init_subclass__',\n",
       " '__le__',\n",
       " '__lt__',\n",
       " '__module__',\n",
       " '__ne__',\n",
       " '__new__',\n",
       " '__reduce__',\n",
       " '__reduce_ex__',\n",
       " '__repr__',\n",
       " '__setattr__',\n",
       " '__sizeof__',\n",
       " '__str__',\n",
       " '__subclasshook__',\n",
       " '__weakref__',\n",
       " 'get_total_robots',\n",
       " 'move',\n",
       " 'robot_info',\n",
       " 'total_robots']"
      ]
     },
     "execution_count": 71,
     "metadata": {},
     "output_type": "execute_result"
    }
   ],
   "source": [
    "dir(Robot)"
   ]
  },
  {
   "cell_type": "code",
   "execution_count": 73,
   "metadata": {},
   "outputs": [
    {
     "data": {
      "text/plain": [
       "__main__.Robot"
      ]
     },
     "execution_count": 73,
     "metadata": {},
     "output_type": "execute_result"
    }
   ],
   "source": [
    "type(robot1)"
   ]
  },
  {
   "cell_type": "code",
   "execution_count": 75,
   "metadata": {},
   "outputs": [
    {
     "data": {
      "text/plain": [
       "True"
      ]
     },
     "execution_count": 75,
     "metadata": {},
     "output_type": "execute_result"
    }
   ],
   "source": [
    "isinstance(robot1, Robot)"
   ]
  },
  {
   "cell_type": "markdown",
   "metadata": {},
   "source": [
    "## 객체지향의 특성\n",
    "\n",
    "- 캡슐화(encapsulation)\n",
    "- 상속성(inheritance)\n",
    "- 다형성(polymorphism)"
   ]
  },
  {
   "cell_type": "markdown",
   "metadata": {},
   "source": [
    "## 캡슐화"
   ]
  },
  {
   "cell_type": "markdown",
   "metadata": {},
   "source": [
    "1. 이름맹글링\n",
    "\n",
    "- 함수 이름에 __ 언더바 2개\n",
    "- 외부 접근 어렵다 > 캡슐화\n",
    "- 상속시 이름 충돌 방지 > '클래스 이름__메소드이름'으로 변경된다.\n",
    "\n",
    "2. 접근 제어를 나타내기 위한 네이밍 컨벤션\n",
    "\n",
    "- 공개 변수: 특별한 접두사 없이 정의된 변수. 모든 곳에서 접근 가능(public)\n",
    "- 보호된 변수: 한 개의 밑줄(_)로 시작하는 변수로, 외부에서 접근할 수 있지만, 관례적으로 클래스 내부에서만 사용해야 함(protected)\n",
    "- 비공개 변수: 두 개의 밑줄(__)로 시작하는 변수로, 이름 맹글링이 적용되어 외부에서 접근을 더 어렵게 만들지만, 완전히 차단하는 것은 아님.(private)\n",
    "\n",
    "3. 던더 메소드 \n",
    "- `__메소드__` : 매직메소드, 자동호출 기능\n",
    "- `__init__() `:  객체 생성시 자동 호출\n",
    "\n",
    "4. setter, getter 메서드\n",
    "- 차단된 속성에 대한 접근 제어 구현"
   ]
  },
  {
   "cell_type": "code",
   "execution_count": 99,
   "metadata": {},
   "outputs": [],
   "source": [
    "class Robot:\n",
    "    def __init__(self,name,position):\n",
    "        self._name = name\n",
    "        self._position = position\n",
    "    def move(self):\n",
    "        self.position += 1\n",
    "        print(f'{self._name} position: {self._position}')\n",
    "    def __add__(self, other):\n",
    "        print(f'{self._name}과 {other._name} 가 들어와 로봇이 2대가 되었습니다.')\n",
    "    def __str__(self):\n",
    "        return f'{self._name}은 내가 만든 로봇입니다.'\n",
    "        \n",
    "    def get_name(self):\n",
    "        return self._name\n",
    "    def set_name(self, value):\n",
    "        self._name = value\n",
    "\n",
    "    def get_position(self):\n",
    "        return self._position\n",
    "\n",
    "    def set_position(self,value):\n",
    "        self._position = value"
   ]
  },
  {
   "cell_type": "code",
   "execution_count": 101,
   "metadata": {},
   "outputs": [
    {
     "name": "stdout",
     "output_type": "stream",
     "text": [
      "R1은 내가 만든 로봇입니다.\n"
     ]
    }
   ],
   "source": [
    "r1 = Robot('R1', 0)\n",
    "r2 = Robot('R2', 50)\n",
    "\n",
    "print(r1)"
   ]
  },
  {
   "cell_type": "code",
   "execution_count": 92,
   "metadata": {},
   "outputs": [
    {
     "name": "stdout",
     "output_type": "stream",
     "text": [
      "R1과 R2 가 들어와 로봇이 2대가 되었습니다.\n"
     ]
    }
   ],
   "source": [
    "r1 + r2"
   ]
  },
  {
   "cell_type": "code",
   "execution_count": 94,
   "metadata": {},
   "outputs": [
    {
     "name": "stdout",
     "output_type": "stream",
     "text": [
      "10\n",
      "20\n"
     ]
    },
    {
     "ename": "AttributeError",
     "evalue": "'Myclass' object has no attribute '__private_var'",
     "output_type": "error",
     "traceback": [
      "\u001b[1;31m---------------------------------------------------------------------------\u001b[0m",
      "\u001b[1;31mAttributeError\u001b[0m                            Traceback (most recent call last)",
      "Cell \u001b[1;32mIn[94], line 10\u001b[0m\n\u001b[0;32m      8\u001b[0m \u001b[38;5;28mprint\u001b[39m(c1\u001b[38;5;241m.\u001b[39mpublic_var)\n\u001b[0;32m      9\u001b[0m \u001b[38;5;28mprint\u001b[39m(c1\u001b[38;5;241m.\u001b[39m_protected_var)\n\u001b[1;32m---> 10\u001b[0m \u001b[38;5;28mprint\u001b[39m(c1\u001b[38;5;241m.\u001b[39m__private_var)\n",
      "\u001b[1;31mAttributeError\u001b[0m: 'Myclass' object has no attribute '__private_var'"
     ]
    }
   ],
   "source": [
    "class Myclass:\n",
    "    def __init__(self):\n",
    "        self.public_var = 10\n",
    "        self._protected_var = 20\n",
    "        self.__private_var = 30\n",
    "\n",
    "c1 = Myclass()\n",
    "print(c1.public_var)\n",
    "print(c1._protected_var)\n",
    "print(c1.__private_var)"
   ]
  },
  {
   "cell_type": "code",
   "execution_count": 103,
   "metadata": {},
   "outputs": [
    {
     "name": "stdout",
     "output_type": "stream",
     "text": [
      "R2D2은 내가 만든 로봇입니다. 3PO은 내가 만든 로봇입니다.\n"
     ]
    }
   ],
   "source": [
    "r1.set_name('R2D2')\n",
    "r2.set_name('3PO')\n",
    "print(r1, r2)"
   ]
  },
  {
   "cell_type": "markdown",
   "metadata": {},
   "source": [
    "## Book 클래스 만들기\n",
    "- dunder method\n",
    "- 클래스/인스턴스 변수\n",
    "- 클래스/인스턴스/정적 메서드\n",
    "- 접근 제어자"
   ]
  },
  {
   "cell_type": "code",
   "execution_count": 106,
   "metadata": {},
   "outputs": [
    {
     "name": "stdout",
     "output_type": "stream",
     "text": [
      "책 제목: 파이썬 프로그래밍, 저자: 홍길동, 복사본 수: 2\n",
      "책 제목: 데이터 분석, 저자: 김철수, 복사본 수: 2\n",
      "5\n",
      "책 제목: 파이썬 프로그래밍 & 데이터 분석, 저자: 홍길동 / 김철수, 복사본 수: 12\n",
      "12\n",
      "10\n"
     ]
    }
   ],
   "source": [
    "class Book:\n",
    "    # 클래스 변수\n",
    "    copies = 0\n",
    "    \n",
    "    def __init__(self, title, author):\n",
    "        self.title = title # 인스턴스 변수\n",
    "        self.author = author # 인스턴스 변수\n",
    "        Book.copies += 1 \n",
    "    \n",
    "    def __str__(self):\n",
    "        return f'책 제목: {self.title}, 저자: {self.author}, 복사본 수: {Book.copies}'\n",
    "        \n",
    "    def __add__(self, other):\n",
    "        if isinstance(other, Book):\n",
    "            new_book = Book(f\"{self.title} & {other.title}\", f\"{self.author} / {other.author}\")\n",
    "            new_book.set_copies(self.get_copies() + other.get_copies())  # 복사본 수 더하기\n",
    "            return new_book\n",
    "        return NotImplemented\n",
    "        \n",
    "    # 객체를 인덱스로 접근\n",
    "    def __getitem__(self, index):\n",
    "        if index == 0:\n",
    "            return self.author\n",
    "        raise IndexError(\"Invalid index. Use 0 to get the author.\")\n",
    "        \n",
    "    # 객체의 속성을 인덱스를 사용하여 설정\n",
    "    def __setitem__(self, index, value):\n",
    "        if index == 0:\n",
    "            self.title = value\n",
    "        else:\n",
    "            raise IndexError(\"Invalid index. Use 0 to set the title.\")\n",
    "            \n",
    "    # getter\n",
    "    # 클래스 변수 반환\n",
    "    def get_copies(self):\n",
    "        return Book.copies\n",
    "        \n",
    "    # setter\n",
    "    # 클래스 속성 값 설정\n",
    "    @classmethod\n",
    "    def set_copies(cls, value):\n",
    "        cls.copies = value\n",
    "\n",
    "    @staticmethod\n",
    "    def get_info(title, author):\n",
    "        return f\"책 제목: {title}, 저자: {author}\"\n",
    "        \n",
    "# 사용 예\n",
    "book1 = Book(\"파이썬 프로그래밍\", \"홍길동\")\n",
    "book2 = Book(\"데이터 분석\", \"김철수\")\n",
    "\n",
    "print(book1)  # 책 정보 출력\n",
    "print(book2)  # 책 정보 출력\n",
    "\n",
    "# 복사본 수 업데이트\n",
    "book1.set_copies(5)\n",
    "print(book1.get_copies())  # 5 출력\n",
    "\n",
    "# 두 책 더하기\n",
    "book3 = book1 + book2\n",
    "print(book3)  # 새로운 책 정보 출력\n",
    "\n",
    "# 복사본 수를 getter와 setter를 통해 변경\n",
    "print(book3.get_copies())  # 2 출력 (초기값에 따라)\n",
    "book3.set_copies(10)\n",
    "print(book3.get_copies())  # 10 출력            "
   ]
  },
  {
   "cell_type": "markdown",
   "metadata": {},
   "source": [
    "## 숫자 맞추기"
   ]
  },
  {
   "cell_type": "code",
   "execution_count": null,
   "metadata": {},
   "outputs": [],
   "source": [
    "import random \n",
    "\n",
    "def generate_number(n1=1, n2=10):  # num\n",
    "    return random.randint(n1, n2)\n",
    "\n",
    "def get_user_input():  # ans\n",
    "    print('종료하려면 quit를 입력하세요')\n",
    "    while True: # 계속해서 사용자 입력을 받기 위한 경우, 특정 조건을 기다리기 위한 경우!\n",
    "        ans = input('1~10 사이의 숫자를 선택하세요: ')\n",
    "        if ans.lower() == 'quit':\n",
    "            return 'quit'\n",
    "        if ans.isdigit() and 1<= int(ans) <=10: # elif는 앞의 조건이 거짓인 경우에만 실행!\n",
    "            return int(ans)\n",
    "        print('유효한 숫자를 입력하세요. 다시 시도해 주세요. (1~10 사이의 숫자)')\n",
    "\n",
    "def answer_check(num, ans):\n",
    "    if num == ans:\n",
    "        print('정답입니다! 게임이 종료되었습니다.')\n",
    "        return True  \n",
    "    elif num > ans:\n",
    "        print('더 높은 숫자를 선택하세요.')\n",
    "    else:\n",
    "        print('더 낮은 숫자를 선택하세요.')\n",
    "    return False\n",
    "\n",
    "def exe():\n",
    "    num = generate_number()\n",
    "    \n",
    "    while True:  # 계속해서 사용자 입력을 받기 위한 경우, 특정 조건을 기다리기 위한 경우!\n",
    "        ans = get_user_input() \n",
    "\n",
    "        if ans == 'quit':\n",
    "            print('게임을 종료합니다.')\n",
    "            break\n",
    "        if answer_check(num, ans):  # 정답 확인\n",
    "            break\n",
    "\n",
    "# 게임 실행\n",
    "exe()"
   ]
  },
  {
   "cell_type": "code",
   "execution_count": 2,
   "metadata": {},
   "outputs": [],
   "source": [
    "import random\n",
    "\n",
    "class GuessingGame():\n",
    "    \n",
    "    def __init__(self, lower=1, upper=10):\n",
    "        self.num = random.randint(lower, upper)\n",
    "        self.lower = lower\n",
    "        self.upper = upper\n",
    "\n",
    "    def get_user_input(self):\n",
    "        print('종료하려면 quit를 입력하세요')\n",
    "        while True:\n",
    "            ans = input(f'{self.lower}~{self.upper} 사이의 숫자를 선택하세요: ')\n",
    "            if ans.lower() == 'quit':\n",
    "                return 'quit'\n",
    "            if ans.isdigit() and self.lower <= int(ans) <= self.upper:\n",
    "                return int(ans)\n",
    "            print(f'유효한 숫자를 입력하세요. 다시 시도해 주세요. ({self.lower}~{self.upper} 사이의 숫자)')\n",
    "    \n",
    "    def answer_check(self, ans):\n",
    "        if self.num == ans:\n",
    "            print('정답입니다! 게임이 종료되었습니다.')\n",
    "            return True\n",
    "        elif self.num > ans:\n",
    "            print('더 높은 숫자를 선택하세요.')\n",
    "        else:\n",
    "            print('더 낮은 숫자를 선택하세요.')\n",
    "        return False\n",
    "    \n",
    "    def play(self):\n",
    "        while True:\n",
    "            ans = self.get_user_input()\n",
    "            if ans == 'quit':\n",
    "                print('게임을 종료합니다.')\n",
    "                break\n",
    "            if ans is not None:\n",
    "                if self.answer_check(ans):\n",
    "                    break"
   ]
  },
  {
   "cell_type": "code",
   "execution_count": 6,
   "metadata": {},
   "outputs": [
    {
     "name": "stdout",
     "output_type": "stream",
     "text": [
      "종료하려면 quit를 입력하세요\n"
     ]
    },
    {
     "name": "stdout",
     "output_type": "stream",
     "text": [
      "1~10 사이의 숫자를 선택하세요:  q\n"
     ]
    },
    {
     "name": "stdout",
     "output_type": "stream",
     "text": [
      "유효한 숫자를 입력하세요. 다시 시도해 주세요. (1~10 사이의 숫자)\n"
     ]
    },
    {
     "name": "stdout",
     "output_type": "stream",
     "text": [
      "1~10 사이의 숫자를 선택하세요:  quit\n"
     ]
    },
    {
     "name": "stdout",
     "output_type": "stream",
     "text": [
      "게임을 종료합니다.\n"
     ]
    }
   ],
   "source": [
    "my_game = GuessingGame()\n",
    "my_game.play()"
   ]
  },
  {
   "cell_type": "markdown",
   "metadata": {
    "id": "JKvqv48CV1SZ"
   },
   "source": [
    "## 상속\n",
    "\n",
    "- 상속: 이미 만들어진 클래스의 변수와 함수를 그대로 이어받고 새로운 내용만 추가해서 클래스를 선언\n",
    "- 상속관계에 있는 두 클래스는 자식이 부모의 유전적 형질을 이어받는 관계와 유사하기 때문에  흔히 부모 자식과의 관계로 표현\n"
   ]
  },
  {
   "cell_type": "markdown",
   "metadata": {
    "id": "S9ECxOEvus0H"
   },
   "source": [
    "### 부모 클래스와 자식 클래스\n",
    "- 부모 클래스: 상위  클래스 혹은 슈퍼클래스\n",
    "- 자식 클래스: 하위 클래스 혹은 서브 클래스\n",
    "- 자식 클래스가 부모 클래스로부터 상속을 받으면 자식 클래스는 부모 클래스의 속성(변수)과  행위(함수)를 그대로 이용 가능\n",
    "- 상속 후에는 자식 클래스만 갖는 속성과 행위를 추가할 수  있음"
   ]
  },
  {
   "cell_type": "markdown",
   "metadata": {
    "id": "i_5TAd8puyc3"
   },
   "source": [
    "### 부모 클래스와 자식 클래스의 관계<br>\n",
    "<img src=\"https://blog.kakaocdn.net/dn/cycaBw/btqEkNO0T2Y/PQFOWxKG4ilXB7dmBVXABK/img.png\" width=\"500\" height=\"300\">\n"
   ]
  },
  {
   "cell_type": "markdown",
   "metadata": {
    "id": "gP5nkQodvWAw"
   },
   "source": [
    "부모 클래스를 상속받는 자식 클래스를 선언하는 형식\n",
    "```\n",
    " class 자식 클래스 이름(부모 클래스 이름):\n",
    "       <코드 블록>\n",
    "```"
   ]
  },
  {
   "cell_type": "markdown",
   "metadata": {
    "id": "QLCQmVJwvaYR"
   },
   "source": [
    "##[예제] Bicycle을 상속하는 FoldingBicycle 클래스"
   ]
  },
  {
   "cell_type": "code",
   "execution_count": 9,
   "metadata": {},
   "outputs": [],
   "source": [
    "class Bicycle:\n",
    "    def __init__(self, wheel_size, color):\n",
    "        self.wheelSize = wheel_size\n",
    "        self.color = color\n",
    "        print(f'{self.color} 자전거가 생성되었습니다.')\n",
    "    def move(self, speed):\n",
    "        print(f'speed={speed}')\n",
    "\n",
    "    def turn(self):\n",
    "        print('turn')\n",
    "    def stop(self):\n",
    "        print('stop')"
   ]
  },
  {
   "cell_type": "code",
   "execution_count": 11,
   "metadata": {
    "id": "5j4V9-dyV1Sa"
   },
   "outputs": [],
   "source": [
    "class FoldingBicycle(Bicycle):\n",
    "    def __init__(self, wheel_size, color, state):\n",
    "        # Bicycle.__init__(self, wheel_size, color)\n",
    "        super().__init__(wheel_size, color)\n",
    "        self.state = state\n",
    "\n",
    "    def fold(self):\n",
    "        self.state='folding'\n",
    "        print(\"자전거: 접기, state={0}\".format(self.state))\n",
    "\n",
    "    def unfold(self):\n",
    "        self.state='unfolding'\n",
    "        print(\"자전거: 펴기, state={0}\".format(self.state))"
   ]
  },
  {
   "cell_type": "code",
   "execution_count": 13,
   "metadata": {
    "scrolled": true
   },
   "outputs": [
    {
     "data": {
      "text/plain": [
       "['__class__',\n",
       " '__delattr__',\n",
       " '__dict__',\n",
       " '__dir__',\n",
       " '__doc__',\n",
       " '__eq__',\n",
       " '__format__',\n",
       " '__ge__',\n",
       " '__getattribute__',\n",
       " '__getstate__',\n",
       " '__gt__',\n",
       " '__hash__',\n",
       " '__init__',\n",
       " '__init_subclass__',\n",
       " '__le__',\n",
       " '__lt__',\n",
       " '__module__',\n",
       " '__ne__',\n",
       " '__new__',\n",
       " '__reduce__',\n",
       " '__reduce_ex__',\n",
       " '__repr__',\n",
       " '__setattr__',\n",
       " '__sizeof__',\n",
       " '__str__',\n",
       " '__subclasshook__',\n",
       " '__weakref__',\n",
       " 'fold',\n",
       " 'move',\n",
       " 'stop',\n",
       " 'turn',\n",
       " 'unfold']"
      ]
     },
     "execution_count": 13,
     "metadata": {},
     "output_type": "execute_result"
    }
   ],
   "source": [
    "dir(FoldingBicycle)"
   ]
  },
  {
   "cell_type": "markdown",
   "metadata": {
    "id": "ZGDEYgtXvfWa"
   },
   "source": [
    "FoldingBicycle 클래스의  인스턴스를 생성한 후 메서드 호출"
   ]
  },
  {
   "cell_type": "code",
   "execution_count": 15,
   "metadata": {
    "colab": {
     "base_uri": "https://localhost:8080/"
    },
    "id": "mtPTKO92vhTV",
    "outputId": "0ae23a36-261a-46b3-c9f7-67a616719882"
   },
   "outputs": [
    {
     "name": "stdout",
     "output_type": "stream",
     "text": [
      "white 자전거가 생성되었습니다.\n",
      "speed=20\n",
      "자전거: 접기, state=folding\n",
      "자전거: 펴기, state=unfolding\n"
     ]
    }
   ],
   "source": [
    "folding_bicycle = FoldingBicycle(27, 'white', 'unfolding') # 객체 생성\n",
    "folding_bicycle.move(20)        # 부모 클래스의 함수(메서드) 호출\n",
    "folding_bicycle.fold()          # 자식 클래스에서 정의한 함수 호출\n",
    "folding_bicycle.unfold()"
   ]
  },
  {
   "cell_type": "markdown",
   "metadata": {
    "id": "cteRaUs3V1Sb"
   },
   "source": [
    "### 상속 만들기"
   ]
  },
  {
   "cell_type": "code",
   "execution_count": 18,
   "metadata": {},
   "outputs": [],
   "source": [
    "class Parent:\n",
    "    def __init__(self):\n",
    "        self.data = '부모의 데이터'\n",
    "        print(self.data)\n",
    "        \n",
    "class Child(Parent):\n",
    "    pass"
   ]
  },
  {
   "cell_type": "code",
   "execution_count": 20,
   "metadata": {},
   "outputs": [
    {
     "name": "stdout",
     "output_type": "stream",
     "text": [
      "부모의 데이터\n"
     ]
    },
    {
     "data": {
      "text/plain": [
       "<__main__.Child at 0x1b978de9520>"
      ]
     },
     "execution_count": 20,
     "metadata": {},
     "output_type": "execute_result"
    }
   ],
   "source": [
    "Child()"
   ]
  },
  {
   "cell_type": "code",
   "execution_count": null,
   "metadata": {},
   "outputs": [],
   "source": [
    "class Parent:\n",
    "    def __init__(self):\n",
    "        self.data = '부모의 데이터'\n",
    "        print(self.data)\n",
    "        \n",
    "class Child(Parent):\n",
    "\n",
    "    def __init__(self):\n",
    "        self.data = '자식의 데이터'  # overriding : 부모로부터 받은 메소드를 내가 재정의\n",
    "        print(self.data)"
   ]
  },
  {
   "cell_type": "code",
   "execution_count": 22,
   "metadata": {},
   "outputs": [
    {
     "name": "stdout",
     "output_type": "stream",
     "text": [
      "부모의 데이터\n"
     ]
    }
   ],
   "source": [
    "c = Child()"
   ]
  },
  {
   "cell_type": "code",
   "execution_count": 24,
   "metadata": {},
   "outputs": [],
   "source": [
    "class Parent:\n",
    "    def __init__(self):\n",
    "        self.data = '부모의 데이터'\n",
    "        print(self.data)\n",
    "        \n",
    "class Child(Parent):\n",
    "\n",
    "    def __init__(self):\n",
    "        super().__init__()\n",
    "        self.data = '자식의 데이터'  # overriding : 부모로부터 받은 메소드를 내가 재정의\n",
    "        print(self.data)"
   ]
  },
  {
   "cell_type": "code",
   "execution_count": 26,
   "metadata": {},
   "outputs": [
    {
     "name": "stdout",
     "output_type": "stream",
     "text": [
      "부모의 데이터\n",
      "자식의 데이터\n"
     ]
    }
   ],
   "source": [
    "c = Child()"
   ]
  },
  {
   "cell_type": "code",
   "execution_count": 28,
   "metadata": {},
   "outputs": [],
   "source": [
    "class Parent:\n",
    "    def __init__(self):\n",
    "        self.data = '부모의 데이터'\n",
    "        print(self.data)\n",
    "        \n",
    "    def get_data(self):\n",
    "        return self.data\n",
    "        \n",
    "class Child(Parent):\n",
    "    def __init__(self):\n",
    "        super().__init__()\n",
    "        self.data = '자식의 데이터'  # overriding : 부모로부터 받은 메소드를 내가 재정의\n",
    "        print(self.data)\n",
    "        \n",
    "    def get_child_data(self):\n",
    "        return self.data\n",
    "        "
   ]
  },
  {
   "cell_type": "code",
   "execution_count": 30,
   "metadata": {},
   "outputs": [
    {
     "name": "stdout",
     "output_type": "stream",
     "text": [
      "부모의 데이터\n",
      "자식의 데이터\n"
     ]
    },
    {
     "data": {
      "text/plain": [
       "'자식의 데이터'"
      ]
     },
     "execution_count": 30,
     "metadata": {},
     "output_type": "execute_result"
    }
   ],
   "source": [
    "c = Child()\n",
    "c.get_data()"
   ]
  },
  {
   "cell_type": "code",
   "execution_count": 32,
   "metadata": {},
   "outputs": [
    {
     "name": "stdout",
     "output_type": "stream",
     "text": [
      "부모의 데이터\n"
     ]
    },
    {
     "data": {
      "text/plain": [
       "'부모의 데이터'"
      ]
     },
     "execution_count": 32,
     "metadata": {},
     "output_type": "execute_result"
    }
   ],
   "source": [
    "p = Parent()\n",
    "p.get_data()"
   ]
  },
  {
   "cell_type": "markdown",
   "metadata": {},
   "source": [
    "## 다형성\n",
    "- 같은 이름의 메서드가 서로 다른 데이터 타입에서 다르게 동작\n",
    "- 오버라이딩, 오버로딩, 인터페이스 및 추상 클래스를 통해 구현"
   ]
  },
  {
   "cell_type": "code",
   "execution_count": 36,
   "metadata": {},
   "outputs": [],
   "source": [
    "class Airforce():\n",
    "    def take_off(self):\n",
    "        pass\n",
    "\n",
    "class Fighter(Airforce):\n",
    "    pass"
   ]
  },
  {
   "cell_type": "code",
   "execution_count": 38,
   "metadata": {
    "scrolled": true
   },
   "outputs": [
    {
     "data": {
      "text/plain": [
       "['__class__',\n",
       " '__delattr__',\n",
       " '__dict__',\n",
       " '__dir__',\n",
       " '__doc__',\n",
       " '__eq__',\n",
       " '__format__',\n",
       " '__ge__',\n",
       " '__getattribute__',\n",
       " '__getstate__',\n",
       " '__gt__',\n",
       " '__hash__',\n",
       " '__init__',\n",
       " '__init_subclass__',\n",
       " '__le__',\n",
       " '__lt__',\n",
       " '__module__',\n",
       " '__ne__',\n",
       " '__new__',\n",
       " '__reduce__',\n",
       " '__reduce_ex__',\n",
       " '__repr__',\n",
       " '__setattr__',\n",
       " '__sizeof__',\n",
       " '__str__',\n",
       " '__subclasshook__',\n",
       " '__weakref__',\n",
       " 'take_off']"
      ]
     },
     "execution_count": 38,
     "metadata": {},
     "output_type": "execute_result"
    }
   ],
   "source": [
    "dir(Fighter)"
   ]
  },
  {
   "cell_type": "code",
   "execution_count": 40,
   "metadata": {},
   "outputs": [
    {
     "name": "stdout",
     "output_type": "stream",
     "text": [
      "전투기 발진\n",
      "폭격기 발진\n"
     ]
    }
   ],
   "source": [
    "class Airforce():\n",
    "    def take_off(self):\n",
    "        pass\n",
    "\n",
    "class Fighter(Airforce):\n",
    "    def __init__(self, num):\n",
    "        self.num = num\n",
    "\n",
    "    def take_off(self):\n",
    "        print('전투기 발진')\n",
    "\n",
    "class Bomber(Airforce):\n",
    "    def __init__(self, num):\n",
    "        self.bomb_num = num\n",
    "\n",
    "    def take_off(self):\n",
    "        print('폭격기 발진')\n",
    "\n",
    "a1 = Fighter(10)\n",
    "a2 = Bomber(20)\n",
    "\n",
    "# 직접 메서드 호출\n",
    "a1.take_off()\n",
    "a2.take_off()"
   ]
  },
  {
   "cell_type": "code",
   "execution_count": 42,
   "metadata": {},
   "outputs": [
    {
     "name": "stdout",
     "output_type": "stream",
     "text": [
      "전투기 발진\n",
      "폭격기 발진\n"
     ]
    }
   ],
   "source": [
    "# 다형성을 활용한 함수 정의\n",
    "def game(airforce):\n",
    "    airforce.take_off()  # 매개변수로 받은 객체의 take_off 메서드 호출\n",
    "\n",
    "# game 함수를 통해 각 객체의 take_off 메서드 호출\n",
    "game(a1)\n",
    "game(a2)"
   ]
  },
  {
   "cell_type": "markdown",
   "metadata": {},
   "source": [
    "## 성적처리시스템"
   ]
  },
  {
   "cell_type": "code",
   "execution_count": null,
   "metadata": {},
   "outputs": [],
   "source": [
    "def get_sum(*args):\n",
    "    sum = 0\n",
    "    for i in args:\n",
    "        sum += i\n",
    "    return sum\n",
    "\n",
    "def get_average(sum, n):\n",
    "    return sum / n\n",
    "\n",
    "students = [\n",
    "    {'num': 1, 'name': '김철수', 'kor': 90, 'eng': 80, 'math': 83, 'total': 0, 'avg': 0.0, 'order': 0},\n",
    "    {'num': 2, 'name': '이철수', 'kor': 95, 'eng': 90, 'math': 88, 'total': 0, 'avg': 0.0, 'order': 0},\n",
    "    {'num': 3, 'name': '박철수', 'kor': 80, 'eng': 85, 'math': 76, 'total': 0, 'avg': 0.0, 'order': 0},\n",
    "    {'num': 4, 'name': '최철수', 'kor': 87, 'eng': 82, 'math': 56, 'total': 0, 'avg': 0.0, 'order': 0},\n",
    "    {'num': 5, 'name': '안제이', 'kor': 95, 'eng': 95, 'math': 66, 'total': 0, 'avg': 0.0, 'order': 0},\n",
    "    {'num': 6, 'name': '홍길동', 'kor': 77, 'eng': 65, 'math': 81, 'total': 0, 'avg': 0.0, 'order': 0},\n",
    "    {'num': 7, 'name': '강철수', 'kor': 87, 'eng': 42, 'math': 82, 'total': 0, 'avg': 0.0, 'order': 0},\n",
    "    {'num': 8, 'name': '윤제이', 'kor': 81, 'eng': 87, 'math': 97, 'total': 0, 'avg': 0.0, 'order': 0},\n",
    "    {'num': 9, 'name': '김길동', 'kor': 93, 'eng': 99, 'math': 81, 'total': 0, 'avg': 0.0, 'order': 0},\n",
    "    {'num': 10, 'name': '박길동', 'kor': 81, 'eng': 81, 'math': 88, 'total': 0, 'avg': 0.0, 'order': 0}\n",
    "]\n",
    "\n",
    "class_total = 0\n",
    "kor_total = 0\n",
    "eng_total = 0\n",
    "math_total = 0\n",
    "\n",
    "\n",
    "for i in students:\n",
    "    i['total'] = get_sum(i['kor'], i['eng'], i['math'])\n",
    "    class_total = get_sum(i['total'])\n",
    "    kor_total = get_sum(i['kor'])\n",
    "    eng_total = get_sum(i['eng'])\n",
    "    math_total = get_sum(i['math'])\n",
    "\n",
    "i['avg'] = get_average(i['total'], 3)\n",
    "class_avg = get_average(class_total, 10)\n",
    "kor_avg = get_average(kor_total, 10)\n",
    "eng_avg = get_average(eng_total, 10)\n",
    "math_avg = get_average(math_total, 10)\n",
    "\n",
    "students = sorted(students, key=lambda x: x['total'], reverse=True)\n",
    "for i, j in enumerate(students):\n",
    "    j['order'] = i + 1\n",
    "\n",
    "students"
   ]
  },
  {
   "cell_type": "markdown",
   "metadata": {},
   "source": [
    "## 인스턴스 변수 초기화 방식\n",
    "1. 매개변수를 통해 할당\n",
    "- 인수로 전달된 값을 인스턴스 변수에 할당\n",
    "- 특정 객체마다 다른 값인 경우\n",
    "2. 고정된 초기값을 직접 할당\n",
    "- 인스턴스 변수의 초기 값을 직접 할당\n",
    "- 모든 객체가 동일한 초기값을 가져야 할 때\n",
    "\n",
    "```python\n",
    "class Student:\n",
    "    def __init__(self, num, name, kor, eng, math):\n",
    "        self.num = num # 매개변수를 통해 할당\n",
    "        self.name = name \n",
    "        self.kor = kor\n",
    "        self.eng = eng\n",
    "        self.math = math\n",
    "        self.total = 0  # 고정된 초기값을 직접 할당\n",
    "        self.avg = 0.0 \n",
    "        self.order = 0\n",
    "```\n"
   ]
  },
  {
   "cell_type": "code",
   "execution_count": 66,
   "metadata": {},
   "outputs": [],
   "source": [
    "import random\n",
    "\n",
    "# 개별 학생\n",
    "class Student:\n",
    "    def __init__(self, num, name, kor, eng, math):\n",
    "        self.num = num\n",
    "        self.name = name\n",
    "        self.kor = kor\n",
    "        self.eng = eng\n",
    "        self.math = math\n",
    "        self.total = 0\n",
    "        self.avg = 0.0\n",
    "        self.order = 0\n",
    "\n",
    "    def cal_scores(self):\n",
    "        self.total = self.kor + self.eng + self.math\n",
    "        self.avg = self.total / 3\n",
    "\n",
    "    def __str__(self):\n",
    "        return f'num: {self.num}, name: {self.name}, kor: {self.kor}, eng: {self.eng}, math: {self.math}, total: {self.total}, order: {self.order}'\n",
    "\n",
    "# 반 전체 학생\n",
    "class Classroom:\n",
    "    def __init__(self, student_name):\n",
    "        self.students = self.generate_student_data(student_name)\n",
    "        self.class_total = 0\n",
    "        self.class_avg = 0.0\n",
    "        self.kor_total = 0\n",
    "        self.kor_avg = 0.0\n",
    "        self.math_total = 0\n",
    "        self.math_avg = 0.0\n",
    "        self.eng_total = 0\n",
    "        self.eng_avg = 0.0\n",
    "        \n",
    "    def generate_student_data(self, student_name):\n",
    "        students = []\n",
    "        for i, j in enumerate(student_name, start=1):\n",
    "            s = Student(i, j, random.randint(50,100), random.randint(50,100), random.randint(50,100))\n",
    "            students.append(s)\n",
    "        return students\n",
    "        \n",
    "    def cal_student_scores(self): \n",
    "        for i in self.students:\n",
    "            i.cal_scores()\n",
    "\n",
    "    def cal_class_total(self):\n",
    "        self.kor_total = sum(s.kor for s in self.students)\n",
    "        self.eng_total = sum(s.eng for s in self.students)\n",
    "        self.math_total = sum(s.math for s in self.students)\n",
    "        self.class_total = sum(s.total for s in self.students)\n",
    "\n",
    "        num_students = len(self.students)\n",
    "        self.kor_avg = self.kor_total / num_students\n",
    "        self.eng_avg = self.eng_total / num_students\n",
    "        self.math_avg = self.math_total / num_students\n",
    "        self.class_avg = self.class_total / num_students\n",
    "\n",
    "    def assign_order(self):\n",
    "        sorted_student = sorted(self.students, key=lambda s : s.total, reverse=True)\n",
    "        for idx, student in enumerate(sorted_student, start=1):\n",
    "            student.order = idx\n",
    "\n",
    "    def print_student_scores(self):\n",
    "        for i in self.students:\n",
    "            print(i)\n",
    "\n",
    "    def prot_ordered_student_list(self):\n",
    "        sorted_students = sorted(self.students, key=lambda s: s.order)\n",
    "        for s in sorted_students:\n",
    "            print(s)\n",
    "\n",
    "    def print_class_scores(self):\n",
    "        print(f'클래스 총점 : {self.class_total}, 클래스 평균 : {self.class_avg}')\n",
    "        print(f'국어 총점 : {self.kor_total}, 국어 평균 : {self.kor_avg}')\n",
    "        print(f'영어 총점 : {self.eng_total}, 영어 평균 : {self.eng_avg}')\n",
    "        print(f'수학 총점 : {self.math_total}, 수학 평균 : {self.math_avg}')\n"
   ]
  },
  {
   "cell_type": "code",
   "execution_count": 68,
   "metadata": {},
   "outputs": [
    {
     "name": "stdout",
     "output_type": "stream",
     "text": [
      "num: 1, name: 김철수, kor: 57, eng: 69, math: 82, total: 208, order: 5\n",
      "num: 2, name: 홍길동, kor: 72, eng: 86, math: 80, total: 238, order: 2\n",
      "num: 3, name: 박제동, kor: 73, eng: 92, math: 63, total: 228, order: 4\n",
      "num: 4, name: 이영희, kor: 92, eng: 83, math: 57, total: 232, order: 3\n",
      "num: 5, name: 한사랑, kor: 100, eng: 90, math: 50, total: 240, order: 1\n",
      "클래스 총점 : 1146, 클래스 평균 : 229.2\n",
      "국어 총점 : 394, 국어 평균 : 78.8\n",
      "영어 총점 : 420, 영어 평균 : 84.0\n",
      "수학 총점 : 332, 수학 평균 : 66.4\n"
     ]
    }
   ],
   "source": [
    "student_name = ['김철수','홍길동','박제동','이영희','한사랑']\n",
    "my_classroom = Classroom(student_name)\n",
    "my_classroom.cal_student_scores()\n",
    "my_classroom.assign_order()\n",
    "my_classroom.print_student_scores()\n",
    "my_classroom.cal_class_total()\n",
    "my_classroom.print_class_scores()"
   ]
  }
 ],
 "metadata": {
  "colab": {
   "include_colab_link": true,
   "provenance": [],
   "toc_visible": true
  },
  "kernelspec": {
   "display_name": "Python 3 (ipykernel)",
   "language": "python",
   "name": "python3"
  },
  "language_info": {
   "codemirror_mode": {
    "name": "ipython",
    "version": 3
   },
   "file_extension": ".py",
   "mimetype": "text/x-python",
   "name": "python",
   "nbconvert_exporter": "python",
   "pygments_lexer": "ipython3",
   "version": "3.12.4"
  },
  "toc": {
   "base_numbering": 1,
   "nav_menu": {},
   "number_sections": false,
   "sideBar": true,
   "skip_h1_title": false,
   "title_cell": "Table of Contents",
   "title_sidebar": "Contents",
   "toc_cell": false,
   "toc_position": {},
   "toc_section_display": true,
   "toc_window_display": false
  }
 },
 "nbformat": 4,
 "nbformat_minor": 4
}
