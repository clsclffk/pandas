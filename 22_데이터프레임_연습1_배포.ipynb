{
 "cells": [
  {
   "cell_type": "markdown",
   "metadata": {},
   "source": [
    "# 연습: DataFrame 1"
   ]
  },
  {
   "cell_type": "code",
   "execution_count": 1,
   "metadata": {},
   "outputs": [],
   "source": [
    "#판다스를 가져오기\n",
    "import pandas as pd\n",
    "import numpy as np"
   ]
  },
  {
   "cell_type": "markdown",
   "metadata": {
    "collapsed": true,
    "jupyter": {
     "outputs_hidden": true
    }
   },
   "source": [
    "### 예제 1 \n",
    "1. Nan이 아닌 부분을 출력하시오.\n",
    "2. NaN의 값을 0으로 바꾼후 출력하시오."
   ]
  },
  {
   "cell_type": "code",
   "execution_count": 5,
   "metadata": {},
   "outputs": [
    {
     "data": {
      "text/plain": [
       "California        NaN\n",
       "Ohio          35000.0\n",
       "Oregon        16000.0\n",
       "Texas         71000.0\n",
       "dtype: float64"
      ]
     },
     "execution_count": 5,
     "metadata": {},
     "output_type": "execute_result"
    }
   ],
   "source": [
    "sdata = {'Ohio': 35000,\n",
    "         'Texas': 71000,\n",
    "         'Oregon': 16000,\n",
    "         'Utah': 5000}\n",
    "\n",
    "states = ['California', 'Ohio', 'Oregon', 'Texas'] #california is not in sdata\n",
    "obj4 = pd.Series(sdata, index=states)\n",
    "obj4"
   ]
  },
  {
   "cell_type": "code",
   "execution_count": 7,
   "metadata": {},
   "outputs": [
    {
     "data": {
      "text/plain": [
       "Ohio      35000.0\n",
       "Oregon    16000.0\n",
       "Texas     71000.0\n",
       "dtype: float64"
      ]
     },
     "execution_count": 7,
     "metadata": {},
     "output_type": "execute_result"
    }
   ],
   "source": [
    "# 예제 1.1\n",
    "obj4[obj4.isna()==False]"
   ]
  },
  {
   "cell_type": "code",
   "execution_count": null,
   "metadata": {},
   "outputs": [],
   "source": [
    "obj4[obj4.notnull()]"
   ]
  },
  {
   "cell_type": "code",
   "execution_count": 15,
   "metadata": {},
   "outputs": [
    {
     "name": "stdout",
     "output_type": "stream",
     "text": [
      "Help on function fillna in module pandas.core.generic:\n",
      "\n",
      "fillna(self, value: 'Hashable | Mapping | Series | DataFrame | None' = None, *, method: 'FillnaOptions | None' = None, axis: 'Axis | None' = None, inplace: 'bool_t' = False, limit: 'int | None' = None, downcast: 'dict | None | lib.NoDefault' = <no_default>) -> 'Self | None'\n",
      "    Fill NA/NaN values using the specified method.\n",
      "\n",
      "    Parameters\n",
      "    ----------\n",
      "    value : scalar, dict, Series, or DataFrame\n",
      "        Value to use to fill holes (e.g. 0), alternately a\n",
      "        dict/Series/DataFrame of values specifying which value to use for\n",
      "        each index (for a Series) or column (for a DataFrame).  Values not\n",
      "        in the dict/Series/DataFrame will not be filled. This value cannot\n",
      "        be a list.\n",
      "    method : {'backfill', 'bfill', 'ffill', None}, default None\n",
      "        Method to use for filling holes in reindexed Series:\n",
      "\n",
      "        * ffill: propagate last valid observation forward to next valid.\n",
      "        * backfill / bfill: use next valid observation to fill gap.\n",
      "\n",
      "        .. deprecated:: 2.1.0\n",
      "            Use ffill or bfill instead.\n",
      "\n",
      "    axis : {0 or 'index'} for Series, {0 or 'index', 1 or 'columns'} for DataFrame\n",
      "        Axis along which to fill missing values. For `Series`\n",
      "        this parameter is unused and defaults to 0.\n",
      "    inplace : bool, default False\n",
      "        If True, fill in-place. Note: this will modify any\n",
      "        other views on this object (e.g., a no-copy slice for a column in a\n",
      "        DataFrame).\n",
      "    limit : int, default None\n",
      "        If method is specified, this is the maximum number of consecutive\n",
      "        NaN values to forward/backward fill. In other words, if there is\n",
      "        a gap with more than this number of consecutive NaNs, it will only\n",
      "        be partially filled. If method is not specified, this is the\n",
      "        maximum number of entries along the entire axis where NaNs will be\n",
      "        filled. Must be greater than 0 if not None.\n",
      "    downcast : dict, default is None\n",
      "        A dict of item->dtype of what to downcast if possible,\n",
      "        or the string 'infer' which will try to downcast to an appropriate\n",
      "        equal type (e.g. float64 to int64 if possible).\n",
      "\n",
      "        .. deprecated:: 2.2.0\n",
      "\n",
      "    Returns\n",
      "    -------\n",
      "    Series/DataFrame or None\n",
      "        Object with missing values filled or None if ``inplace=True``.\n",
      "\n",
      "    See Also\n",
      "    --------\n",
      "    ffill : Fill values by propagating the last valid observation to next valid.\n",
      "    bfill : Fill values by using the next valid observation to fill the gap.\n",
      "    interpolate : Fill NaN values using interpolation.\n",
      "    reindex : Conform object to new index.\n",
      "    asfreq : Convert TimeSeries to specified frequency.\n",
      "\n",
      "    Examples\n",
      "    --------\n",
      "    >>> df = pd.DataFrame([[np.nan, 2, np.nan, 0],\n",
      "    ...                    [3, 4, np.nan, 1],\n",
      "    ...                    [np.nan, np.nan, np.nan, np.nan],\n",
      "    ...                    [np.nan, 3, np.nan, 4]],\n",
      "    ...                   columns=list(\"ABCD\"))\n",
      "    >>> df\n",
      "         A    B   C    D\n",
      "    0  NaN  2.0 NaN  0.0\n",
      "    1  3.0  4.0 NaN  1.0\n",
      "    2  NaN  NaN NaN  NaN\n",
      "    3  NaN  3.0 NaN  4.0\n",
      "\n",
      "    Replace all NaN elements with 0s.\n",
      "\n",
      "    >>> df.fillna(0)\n",
      "         A    B    C    D\n",
      "    0  0.0  2.0  0.0  0.0\n",
      "    1  3.0  4.0  0.0  1.0\n",
      "    2  0.0  0.0  0.0  0.0\n",
      "    3  0.0  3.0  0.0  4.0\n",
      "\n",
      "    Replace all NaN elements in column 'A', 'B', 'C', and 'D', with 0, 1,\n",
      "    2, and 3 respectively.\n",
      "\n",
      "    >>> values = {\"A\": 0, \"B\": 1, \"C\": 2, \"D\": 3}\n",
      "    >>> df.fillna(value=values)\n",
      "         A    B    C    D\n",
      "    0  0.0  2.0  2.0  0.0\n",
      "    1  3.0  4.0  2.0  1.0\n",
      "    2  0.0  1.0  2.0  3.0\n",
      "    3  0.0  3.0  2.0  4.0\n",
      "\n",
      "    Only replace the first NaN element.\n",
      "\n",
      "    >>> df.fillna(value=values, limit=1)\n",
      "         A    B    C    D\n",
      "    0  0.0  2.0  2.0  0.0\n",
      "    1  3.0  4.0  NaN  1.0\n",
      "    2  NaN  1.0  NaN  3.0\n",
      "    3  NaN  3.0  NaN  4.0\n",
      "\n",
      "    When filling using a DataFrame, replacement happens along\n",
      "    the same column names and same indices\n",
      "\n",
      "    >>> df2 = pd.DataFrame(np.zeros((4, 4)), columns=list(\"ABCE\"))\n",
      "    >>> df.fillna(df2)\n",
      "         A    B    C    D\n",
      "    0  0.0  2.0  0.0  0.0\n",
      "    1  3.0  4.0  0.0  1.0\n",
      "    2  0.0  0.0  0.0  NaN\n",
      "    3  0.0  3.0  0.0  4.0\n",
      "\n",
      "    Note that column D is not affected since it is not present in df2.\n",
      "\n"
     ]
    }
   ],
   "source": [
    "help(pd.DataFrame.fillna)"
   ]
  },
  {
   "cell_type": "code",
   "execution_count": 17,
   "metadata": {},
   "outputs": [
    {
     "data": {
      "text/plain": [
       "California        0.0\n",
       "Ohio          35000.0\n",
       "Oregon        16000.0\n",
       "Texas         71000.0\n",
       "dtype: float64"
      ]
     },
     "execution_count": 17,
     "metadata": {},
     "output_type": "execute_result"
    }
   ],
   "source": [
    "# 예제 1.2\n",
    "obj4 = obj4.fillna(0)\n",
    "obj4"
   ]
  },
  {
   "cell_type": "markdown",
   "metadata": {},
   "source": [
    "### 예제 2\n",
    "\n",
    "index가 'four'인 행의 값을 [1999, 'Ohio', 3.2, 0]으로 변경하시오.\n",
    "\n",
    "`columns=['year', 'state', 'pop', 'debt']`"
   ]
  },
  {
   "cell_type": "code",
   "execution_count": 26,
   "metadata": {},
   "outputs": [],
   "source": [
    "data = {\n",
    "    'year': [2020, 2021, 2022, 2023, 2024],\n",
    "    'state': ['California', 'Texas', 'Florida', 'New York', 'Illinois'],\n",
    "    'pop': [39538223, 29145505, 21538187, 20201249, 12812508],\n",
    "    'debt': [np.nan, np.nan, np.nan, np.nan, np.nan]  # debt 열은 NaN으로 채움\n",
    "}"
   ]
  },
  {
   "cell_type": "code",
   "execution_count": 28,
   "metadata": {
    "scrolled": true
   },
   "outputs": [
    {
     "data": {
      "text/html": [
       "<div>\n",
       "<style scoped>\n",
       "    .dataframe tbody tr th:only-of-type {\n",
       "        vertical-align: middle;\n",
       "    }\n",
       "\n",
       "    .dataframe tbody tr th {\n",
       "        vertical-align: top;\n",
       "    }\n",
       "\n",
       "    .dataframe thead th {\n",
       "        text-align: right;\n",
       "    }\n",
       "</style>\n",
       "<table border=\"1\" class=\"dataframe\">\n",
       "  <thead>\n",
       "    <tr style=\"text-align: right;\">\n",
       "      <th></th>\n",
       "      <th>year</th>\n",
       "      <th>state</th>\n",
       "      <th>pop</th>\n",
       "      <th>debt</th>\n",
       "    </tr>\n",
       "  </thead>\n",
       "  <tbody>\n",
       "    <tr>\n",
       "      <th>one</th>\n",
       "      <td>2020</td>\n",
       "      <td>California</td>\n",
       "      <td>39538223</td>\n",
       "      <td>NaN</td>\n",
       "    </tr>\n",
       "    <tr>\n",
       "      <th>two</th>\n",
       "      <td>2021</td>\n",
       "      <td>Texas</td>\n",
       "      <td>29145505</td>\n",
       "      <td>NaN</td>\n",
       "    </tr>\n",
       "    <tr>\n",
       "      <th>three</th>\n",
       "      <td>2022</td>\n",
       "      <td>Florida</td>\n",
       "      <td>21538187</td>\n",
       "      <td>NaN</td>\n",
       "    </tr>\n",
       "    <tr>\n",
       "      <th>four</th>\n",
       "      <td>2023</td>\n",
       "      <td>New York</td>\n",
       "      <td>20201249</td>\n",
       "      <td>NaN</td>\n",
       "    </tr>\n",
       "    <tr>\n",
       "      <th>five</th>\n",
       "      <td>2024</td>\n",
       "      <td>Illinois</td>\n",
       "      <td>12812508</td>\n",
       "      <td>NaN</td>\n",
       "    </tr>\n",
       "  </tbody>\n",
       "</table>\n",
       "</div>"
      ],
      "text/plain": [
       "       year       state       pop  debt\n",
       "one    2020  California  39538223   NaN\n",
       "two    2021       Texas  29145505   NaN\n",
       "three  2022     Florida  21538187   NaN\n",
       "four   2023    New York  20201249   NaN\n",
       "five   2024    Illinois  12812508   NaN"
      ]
     },
     "execution_count": 28,
     "metadata": {},
     "output_type": "execute_result"
    }
   ],
   "source": [
    "frame = pd.DataFrame(data, columns=['year', 'state', 'pop', 'debt'], #debt는 없으므로 NaN으로 채움\n",
    "                   index=['one', 'two', 'three', 'four', 'five']) #index를 지정해줌\n",
    "\n",
    "frame"
   ]
  },
  {
   "cell_type": "code",
   "execution_count": 30,
   "metadata": {
    "scrolled": true
   },
   "outputs": [
    {
     "name": "stderr",
     "output_type": "stream",
     "text": [
      "C:\\Users\\jisu\\AppData\\Local\\Temp\\ipykernel_18548\\523579201.py:2: FutureWarning: Setting an item of incompatible dtype is deprecated and will raise an error in a future version of pandas. Value '3.2' has dtype incompatible with int64, please explicitly cast to a compatible dtype first.\n",
      "  frame.loc['four'] = [1999, 'Ohio', 3.2, 0]\n"
     ]
    },
    {
     "data": {
      "text/html": [
       "<div>\n",
       "<style scoped>\n",
       "    .dataframe tbody tr th:only-of-type {\n",
       "        vertical-align: middle;\n",
       "    }\n",
       "\n",
       "    .dataframe tbody tr th {\n",
       "        vertical-align: top;\n",
       "    }\n",
       "\n",
       "    .dataframe thead th {\n",
       "        text-align: right;\n",
       "    }\n",
       "</style>\n",
       "<table border=\"1\" class=\"dataframe\">\n",
       "  <thead>\n",
       "    <tr style=\"text-align: right;\">\n",
       "      <th></th>\n",
       "      <th>year</th>\n",
       "      <th>state</th>\n",
       "      <th>pop</th>\n",
       "      <th>debt</th>\n",
       "    </tr>\n",
       "  </thead>\n",
       "  <tbody>\n",
       "    <tr>\n",
       "      <th>one</th>\n",
       "      <td>2020</td>\n",
       "      <td>California</td>\n",
       "      <td>39538223.0</td>\n",
       "      <td>NaN</td>\n",
       "    </tr>\n",
       "    <tr>\n",
       "      <th>two</th>\n",
       "      <td>2021</td>\n",
       "      <td>Texas</td>\n",
       "      <td>29145505.0</td>\n",
       "      <td>NaN</td>\n",
       "    </tr>\n",
       "    <tr>\n",
       "      <th>three</th>\n",
       "      <td>2022</td>\n",
       "      <td>Florida</td>\n",
       "      <td>21538187.0</td>\n",
       "      <td>NaN</td>\n",
       "    </tr>\n",
       "    <tr>\n",
       "      <th>four</th>\n",
       "      <td>1999</td>\n",
       "      <td>Ohio</td>\n",
       "      <td>3.2</td>\n",
       "      <td>0.0</td>\n",
       "    </tr>\n",
       "    <tr>\n",
       "      <th>five</th>\n",
       "      <td>2024</td>\n",
       "      <td>Illinois</td>\n",
       "      <td>12812508.0</td>\n",
       "      <td>NaN</td>\n",
       "    </tr>\n",
       "  </tbody>\n",
       "</table>\n",
       "</div>"
      ],
      "text/plain": [
       "       year       state         pop  debt\n",
       "one    2020  California  39538223.0   NaN\n",
       "two    2021       Texas  29145505.0   NaN\n",
       "three  2022     Florida  21538187.0   NaN\n",
       "four   1999        Ohio         3.2   0.0\n",
       "five   2024    Illinois  12812508.0   NaN"
      ]
     },
     "execution_count": 30,
     "metadata": {},
     "output_type": "execute_result"
    }
   ],
   "source": [
    "# 예제 2\n",
    "frame.loc['four'] = [1999, 'Ohio', 3.2, 0]\n",
    "frame"
   ]
  },
  {
   "cell_type": "markdown",
   "metadata": {},
   "source": [
    "### 예제 3\n",
    "위 frame에서 index가 two, column이 state 인 값을 'Nevada'로 변경하시오."
   ]
  },
  {
   "cell_type": "code",
   "execution_count": 32,
   "metadata": {
    "scrolled": true
   },
   "outputs": [
    {
     "data": {
      "text/html": [
       "<div>\n",
       "<style scoped>\n",
       "    .dataframe tbody tr th:only-of-type {\n",
       "        vertical-align: middle;\n",
       "    }\n",
       "\n",
       "    .dataframe tbody tr th {\n",
       "        vertical-align: top;\n",
       "    }\n",
       "\n",
       "    .dataframe thead th {\n",
       "        text-align: right;\n",
       "    }\n",
       "</style>\n",
       "<table border=\"1\" class=\"dataframe\">\n",
       "  <thead>\n",
       "    <tr style=\"text-align: right;\">\n",
       "      <th></th>\n",
       "      <th>year</th>\n",
       "      <th>state</th>\n",
       "      <th>pop</th>\n",
       "      <th>debt</th>\n",
       "    </tr>\n",
       "  </thead>\n",
       "  <tbody>\n",
       "    <tr>\n",
       "      <th>one</th>\n",
       "      <td>2020</td>\n",
       "      <td>California</td>\n",
       "      <td>39538223.0</td>\n",
       "      <td>NaN</td>\n",
       "    </tr>\n",
       "    <tr>\n",
       "      <th>two</th>\n",
       "      <td>2021</td>\n",
       "      <td>Nevada</td>\n",
       "      <td>29145505.0</td>\n",
       "      <td>NaN</td>\n",
       "    </tr>\n",
       "    <tr>\n",
       "      <th>three</th>\n",
       "      <td>2022</td>\n",
       "      <td>Florida</td>\n",
       "      <td>21538187.0</td>\n",
       "      <td>NaN</td>\n",
       "    </tr>\n",
       "    <tr>\n",
       "      <th>four</th>\n",
       "      <td>1999</td>\n",
       "      <td>Ohio</td>\n",
       "      <td>3.2</td>\n",
       "      <td>0.0</td>\n",
       "    </tr>\n",
       "    <tr>\n",
       "      <th>five</th>\n",
       "      <td>2024</td>\n",
       "      <td>Illinois</td>\n",
       "      <td>12812508.0</td>\n",
       "      <td>NaN</td>\n",
       "    </tr>\n",
       "  </tbody>\n",
       "</table>\n",
       "</div>"
      ],
      "text/plain": [
       "       year       state         pop  debt\n",
       "one    2020  California  39538223.0   NaN\n",
       "two    2021      Nevada  29145505.0   NaN\n",
       "three  2022     Florida  21538187.0   NaN\n",
       "four   1999        Ohio         3.2   0.0\n",
       "five   2024    Illinois  12812508.0   NaN"
      ]
     },
     "execution_count": 32,
     "metadata": {},
     "output_type": "execute_result"
    }
   ],
   "source": [
    "# 예제 3\n",
    "frame.loc['two','state'] = 'Nevada'\n",
    "frame"
   ]
  },
  {
   "cell_type": "markdown",
   "metadata": {},
   "source": [
    "### 예제 4 \n",
    "위 frame에 year=2002이고 state='Ohio' 일때 True를 갖는 etc 컬럼을 생성하시오."
   ]
  },
  {
   "cell_type": "code",
   "execution_count": 36,
   "metadata": {},
   "outputs": [
    {
     "data": {
      "text/html": [
       "<div>\n",
       "<style scoped>\n",
       "    .dataframe tbody tr th:only-of-type {\n",
       "        vertical-align: middle;\n",
       "    }\n",
       "\n",
       "    .dataframe tbody tr th {\n",
       "        vertical-align: top;\n",
       "    }\n",
       "\n",
       "    .dataframe thead th {\n",
       "        text-align: right;\n",
       "    }\n",
       "</style>\n",
       "<table border=\"1\" class=\"dataframe\">\n",
       "  <thead>\n",
       "    <tr style=\"text-align: right;\">\n",
       "      <th></th>\n",
       "      <th>year</th>\n",
       "      <th>state</th>\n",
       "      <th>pop</th>\n",
       "      <th>debt</th>\n",
       "      <th>etc</th>\n",
       "    </tr>\n",
       "  </thead>\n",
       "  <tbody>\n",
       "    <tr>\n",
       "      <th>one</th>\n",
       "      <td>2020</td>\n",
       "      <td>California</td>\n",
       "      <td>39538223.0</td>\n",
       "      <td>NaN</td>\n",
       "      <td>False</td>\n",
       "    </tr>\n",
       "    <tr>\n",
       "      <th>two</th>\n",
       "      <td>2021</td>\n",
       "      <td>Nevada</td>\n",
       "      <td>29145505.0</td>\n",
       "      <td>NaN</td>\n",
       "      <td>False</td>\n",
       "    </tr>\n",
       "    <tr>\n",
       "      <th>three</th>\n",
       "      <td>2022</td>\n",
       "      <td>Florida</td>\n",
       "      <td>21538187.0</td>\n",
       "      <td>NaN</td>\n",
       "      <td>False</td>\n",
       "    </tr>\n",
       "    <tr>\n",
       "      <th>four</th>\n",
       "      <td>1999</td>\n",
       "      <td>Ohio</td>\n",
       "      <td>3.2</td>\n",
       "      <td>0.0</td>\n",
       "      <td>False</td>\n",
       "    </tr>\n",
       "    <tr>\n",
       "      <th>five</th>\n",
       "      <td>2024</td>\n",
       "      <td>Illinois</td>\n",
       "      <td>12812508.0</td>\n",
       "      <td>NaN</td>\n",
       "      <td>False</td>\n",
       "    </tr>\n",
       "  </tbody>\n",
       "</table>\n",
       "</div>"
      ],
      "text/plain": [
       "       year       state         pop  debt    etc\n",
       "one    2020  California  39538223.0   NaN  False\n",
       "two    2021      Nevada  29145505.0   NaN  False\n",
       "three  2022     Florida  21538187.0   NaN  False\n",
       "four   1999        Ohio         3.2   0.0  False\n",
       "five   2024    Illinois  12812508.0   NaN  False"
      ]
     },
     "execution_count": 36,
     "metadata": {},
     "output_type": "execute_result"
    }
   ],
   "source": [
    "frame['etc'] = np.where((frame['year'] == 2002) & (frame['state'] == 'Ohio'), True, False)\n",
    "frame"
   ]
  },
  {
   "cell_type": "code",
   "execution_count": null,
   "metadata": {},
   "outputs": [],
   "source": [
    "frame['etc'] = False  # 모든 값을 False로 초기화\n",
    "frame.loc[(frame['year'] == 2022) & (frame['state'] == 'Florida'), 'etc'] = True"
   ]
  },
  {
   "cell_type": "markdown",
   "metadata": {},
   "source": [
    "### 예제 5 \n",
    "1. 위 frame에서 one, three, four 행에서 year, state, etc 열만 가져와 frame2에 저장하시오.\n",
    "2. 수정된 frame2에서 year > 2000, state == Ohio 인 행을 출력 하시오."
   ]
  },
  {
   "cell_type": "code",
   "execution_count": 42,
   "metadata": {},
   "outputs": [
    {
     "data": {
      "text/html": [
       "<div>\n",
       "<style scoped>\n",
       "    .dataframe tbody tr th:only-of-type {\n",
       "        vertical-align: middle;\n",
       "    }\n",
       "\n",
       "    .dataframe tbody tr th {\n",
       "        vertical-align: top;\n",
       "    }\n",
       "\n",
       "    .dataframe thead th {\n",
       "        text-align: right;\n",
       "    }\n",
       "</style>\n",
       "<table border=\"1\" class=\"dataframe\">\n",
       "  <thead>\n",
       "    <tr style=\"text-align: right;\">\n",
       "      <th></th>\n",
       "      <th>year</th>\n",
       "      <th>state</th>\n",
       "      <th>etc</th>\n",
       "    </tr>\n",
       "  </thead>\n",
       "  <tbody>\n",
       "    <tr>\n",
       "      <th>one</th>\n",
       "      <td>2020</td>\n",
       "      <td>California</td>\n",
       "      <td>False</td>\n",
       "    </tr>\n",
       "    <tr>\n",
       "      <th>three</th>\n",
       "      <td>2022</td>\n",
       "      <td>Florida</td>\n",
       "      <td>False</td>\n",
       "    </tr>\n",
       "    <tr>\n",
       "      <th>four</th>\n",
       "      <td>1999</td>\n",
       "      <td>Ohio</td>\n",
       "      <td>False</td>\n",
       "    </tr>\n",
       "  </tbody>\n",
       "</table>\n",
       "</div>"
      ],
      "text/plain": [
       "       year       state    etc\n",
       "one    2020  California  False\n",
       "three  2022     Florida  False\n",
       "four   1999        Ohio  False"
      ]
     },
     "execution_count": 42,
     "metadata": {},
     "output_type": "execute_result"
    }
   ],
   "source": [
    "# 예제 5.1\n",
    "\n",
    "frame2 = frame.loc[['one','three','four'],['year','state','etc']]\n",
    "frame2"
   ]
  },
  {
   "cell_type": "code",
   "execution_count": 54,
   "metadata": {},
   "outputs": [
    {
     "data": {
      "text/html": [
       "<div>\n",
       "<style scoped>\n",
       "    .dataframe tbody tr th:only-of-type {\n",
       "        vertical-align: middle;\n",
       "    }\n",
       "\n",
       "    .dataframe tbody tr th {\n",
       "        vertical-align: top;\n",
       "    }\n",
       "\n",
       "    .dataframe thead th {\n",
       "        text-align: right;\n",
       "    }\n",
       "</style>\n",
       "<table border=\"1\" class=\"dataframe\">\n",
       "  <thead>\n",
       "    <tr style=\"text-align: right;\">\n",
       "      <th></th>\n",
       "      <th>year</th>\n",
       "      <th>state</th>\n",
       "      <th>etc</th>\n",
       "    </tr>\n",
       "  </thead>\n",
       "  <tbody>\n",
       "  </tbody>\n",
       "</table>\n",
       "</div>"
      ],
      "text/plain": [
       "Empty DataFrame\n",
       "Columns: [year, state, etc]\n",
       "Index: []"
      ]
     },
     "execution_count": 54,
     "metadata": {},
     "output_type": "execute_result"
    }
   ],
   "source": [
    "frame2[(frame2['year'] > 2000) & (frame2['state'] == 'Ohio')]"
   ]
  },
  {
   "cell_type": "markdown",
   "metadata": {},
   "source": [
    "### 예제 6 \n",
    "데이터 프레임의 각 행과 열의 합을 각각 계산하여 출력하시오."
   ]
  },
  {
   "cell_type": "code",
   "execution_count": 48,
   "metadata": {},
   "outputs": [
    {
     "data": {
      "text/html": [
       "<div>\n",
       "<style scoped>\n",
       "    .dataframe tbody tr th:only-of-type {\n",
       "        vertical-align: middle;\n",
       "    }\n",
       "\n",
       "    .dataframe tbody tr th {\n",
       "        vertical-align: top;\n",
       "    }\n",
       "\n",
       "    .dataframe thead th {\n",
       "        text-align: right;\n",
       "    }\n",
       "</style>\n",
       "<table border=\"1\" class=\"dataframe\">\n",
       "  <thead>\n",
       "    <tr style=\"text-align: right;\">\n",
       "      <th></th>\n",
       "      <th>b</th>\n",
       "      <th>d</th>\n",
       "      <th>e</th>\n",
       "    </tr>\n",
       "  </thead>\n",
       "  <tbody>\n",
       "    <tr>\n",
       "      <th>Utah</th>\n",
       "      <td>1.196106</td>\n",
       "      <td>1.004613</td>\n",
       "      <td>0.635318</td>\n",
       "    </tr>\n",
       "    <tr>\n",
       "      <th>Ohio</th>\n",
       "      <td>-2.693137</td>\n",
       "      <td>-1.406024</td>\n",
       "      <td>-0.313458</td>\n",
       "    </tr>\n",
       "    <tr>\n",
       "      <th>Texas</th>\n",
       "      <td>-0.743472</td>\n",
       "      <td>3.331856</td>\n",
       "      <td>-0.969965</td>\n",
       "    </tr>\n",
       "    <tr>\n",
       "      <th>Oregon</th>\n",
       "      <td>0.944918</td>\n",
       "      <td>0.460195</td>\n",
       "      <td>0.079653</td>\n",
       "    </tr>\n",
       "  </tbody>\n",
       "</table>\n",
       "</div>"
      ],
      "text/plain": [
       "               b         d         e\n",
       "Utah    1.196106  1.004613  0.635318\n",
       "Ohio   -2.693137 -1.406024 -0.313458\n",
       "Texas  -0.743472  3.331856 -0.969965\n",
       "Oregon  0.944918  0.460195  0.079653"
      ]
     },
     "execution_count": 48,
     "metadata": {},
     "output_type": "execute_result"
    }
   ],
   "source": [
    "frame = pd.DataFrame(np.random.randn(4, 3), columns=list('bde'), #bde 열을 생성\n",
    "                  index=['Utah', 'Ohio', 'Texas', 'Oregon']) #Utah, Ohio, Texas, Oregon 행을 생성\n",
    "frame"
   ]
  },
  {
   "cell_type": "code",
   "execution_count": 56,
   "metadata": {},
   "outputs": [
    {
     "data": {
      "text/plain": [
       "b   -1.295586\n",
       "d    3.390640\n",
       "e   -0.568452\n",
       "dtype: float64"
      ]
     },
     "execution_count": 56,
     "metadata": {},
     "output_type": "execute_result"
    }
   ],
   "source": [
    "# 예제 6:열의 합\n",
    "frame.sum()"
   ]
  },
  {
   "cell_type": "code",
   "execution_count": 58,
   "metadata": {},
   "outputs": [
    {
     "data": {
      "text/plain": [
       "Utah      2.836036\n",
       "Ohio     -4.412620\n",
       "Texas     1.618419\n",
       "Oregon    1.484766\n",
       "dtype: float64"
      ]
     },
     "execution_count": 58,
     "metadata": {},
     "output_type": "execute_result"
    }
   ],
   "source": [
    "# 예제 6: 행의 합\n",
    "frame.sum(axis=1)"
   ]
  },
  {
   "cell_type": "markdown",
   "metadata": {},
   "source": [
    "### 예제 7\n",
    "아래 int_frame을 index, column기준으로 정렬하시오. (단, index, column 모두 정렬되어야 함)<br>"
   ]
  },
  {
   "cell_type": "code",
   "execution_count": 52,
   "metadata": {},
   "outputs": [
    {
     "data": {
      "text/html": [
       "<div>\n",
       "<style scoped>\n",
       "    .dataframe tbody tr th:only-of-type {\n",
       "        vertical-align: middle;\n",
       "    }\n",
       "\n",
       "    .dataframe tbody tr th {\n",
       "        vertical-align: top;\n",
       "    }\n",
       "\n",
       "    .dataframe thead th {\n",
       "        text-align: right;\n",
       "    }\n",
       "</style>\n",
       "<table border=\"1\" class=\"dataframe\">\n",
       "  <thead>\n",
       "    <tr style=\"text-align: right;\">\n",
       "      <th></th>\n",
       "      <th>d</th>\n",
       "      <th>b</th>\n",
       "      <th>c</th>\n",
       "      <th>a</th>\n",
       "    </tr>\n",
       "  </thead>\n",
       "  <tbody>\n",
       "    <tr>\n",
       "      <th>three</th>\n",
       "      <td>0</td>\n",
       "      <td>1</td>\n",
       "      <td>2</td>\n",
       "      <td>3</td>\n",
       "    </tr>\n",
       "    <tr>\n",
       "      <th>one</th>\n",
       "      <td>4</td>\n",
       "      <td>5</td>\n",
       "      <td>6</td>\n",
       "      <td>7</td>\n",
       "    </tr>\n",
       "  </tbody>\n",
       "</table>\n",
       "</div>"
      ],
      "text/plain": [
       "       d  b  c  a\n",
       "three  0  1  2  3\n",
       "one    4  5  6  7"
      ]
     },
     "execution_count": 52,
     "metadata": {},
     "output_type": "execute_result"
    }
   ],
   "source": [
    "int_frame = pd.DataFrame(np.arange(8).reshape((2, 4)), index=['three', 'one'],\n",
    "                  columns=['d', 'b', 'c', 'a']) #column 기준 정렬\n",
    "int_frame"
   ]
  },
  {
   "cell_type": "code",
   "execution_count": 60,
   "metadata": {
    "scrolled": true
   },
   "outputs": [
    {
     "data": {
      "text/html": [
       "<div>\n",
       "<style scoped>\n",
       "    .dataframe tbody tr th:only-of-type {\n",
       "        vertical-align: middle;\n",
       "    }\n",
       "\n",
       "    .dataframe tbody tr th {\n",
       "        vertical-align: top;\n",
       "    }\n",
       "\n",
       "    .dataframe thead th {\n",
       "        text-align: right;\n",
       "    }\n",
       "</style>\n",
       "<table border=\"1\" class=\"dataframe\">\n",
       "  <thead>\n",
       "    <tr style=\"text-align: right;\">\n",
       "      <th></th>\n",
       "      <th>d</th>\n",
       "      <th>b</th>\n",
       "      <th>c</th>\n",
       "      <th>a</th>\n",
       "    </tr>\n",
       "  </thead>\n",
       "  <tbody>\n",
       "    <tr>\n",
       "      <th>one</th>\n",
       "      <td>4</td>\n",
       "      <td>5</td>\n",
       "      <td>6</td>\n",
       "      <td>7</td>\n",
       "    </tr>\n",
       "    <tr>\n",
       "      <th>three</th>\n",
       "      <td>0</td>\n",
       "      <td>1</td>\n",
       "      <td>2</td>\n",
       "      <td>3</td>\n",
       "    </tr>\n",
       "  </tbody>\n",
       "</table>\n",
       "</div>"
      ],
      "text/plain": [
       "       d  b  c  a\n",
       "one    4  5  6  7\n",
       "three  0  1  2  3"
      ]
     },
     "execution_count": 60,
     "metadata": {},
     "output_type": "execute_result"
    }
   ],
   "source": [
    "# 예제 7\n",
    "int_frame.sort_index()"
   ]
  },
  {
   "cell_type": "code",
   "execution_count": 62,
   "metadata": {},
   "outputs": [
    {
     "data": {
      "text/html": [
       "<div>\n",
       "<style scoped>\n",
       "    .dataframe tbody tr th:only-of-type {\n",
       "        vertical-align: middle;\n",
       "    }\n",
       "\n",
       "    .dataframe tbody tr th {\n",
       "        vertical-align: top;\n",
       "    }\n",
       "\n",
       "    .dataframe thead th {\n",
       "        text-align: right;\n",
       "    }\n",
       "</style>\n",
       "<table border=\"1\" class=\"dataframe\">\n",
       "  <thead>\n",
       "    <tr style=\"text-align: right;\">\n",
       "      <th></th>\n",
       "      <th>d</th>\n",
       "      <th>b</th>\n",
       "      <th>c</th>\n",
       "      <th>a</th>\n",
       "    </tr>\n",
       "  </thead>\n",
       "  <tbody>\n",
       "    <tr>\n",
       "      <th>three</th>\n",
       "      <td>0</td>\n",
       "      <td>1</td>\n",
       "      <td>2</td>\n",
       "      <td>3</td>\n",
       "    </tr>\n",
       "    <tr>\n",
       "      <th>one</th>\n",
       "      <td>4</td>\n",
       "      <td>5</td>\n",
       "      <td>6</td>\n",
       "      <td>7</td>\n",
       "    </tr>\n",
       "  </tbody>\n",
       "</table>\n",
       "</div>"
      ],
      "text/plain": [
       "       d  b  c  a\n",
       "three  0  1  2  3\n",
       "one    4  5  6  7"
      ]
     },
     "execution_count": 62,
     "metadata": {},
     "output_type": "execute_result"
    }
   ],
   "source": [
    "int_frame.sort_values(by='b')"
   ]
  },
  {
   "cell_type": "markdown",
   "metadata": {},
   "source": [
    "### 예제 8\n",
    "코스피와 IBM 가격정보를 불러와 상관관계를 파악하시오.\n",
    "- 코스피 = '^KS11'\n",
    "- IBM = 'IBM'\n",
    "- 애플 = 'APLE'\n",
    "\n",
    "# 주가 데이터를 불러올 티커 목록\n",
    "tickers = ['^KS11', 'IBM', 'AAPL', 'GOOGL', 'MSFT', 'TSLA']  # AAPL: 애플, GOOGL: 구글, MSFT: 마이크로소프트, TSLA: 테슬라"
   ]
  },
  {
   "cell_type": "markdown",
   "metadata": {},
   "source": [
    "## pandas_datareader\n",
    "- 금융, 경제 데이터를 손쉽게 가져올 수 있도록 도와주는 Python 라이브러리\n",
    "\n",
    "```python\n",
    "!pip install pandas_datareader\n",
    "\n",
    "import pandas_datareader as pdr\n",
    "```\n",
    "\n",
    "## yfinance\n",
    "- Yahoo Finance 데이터를 쉽게 가져와 분석할 수 있도록 도와주는 Python 라이브러리\n",
    "\n",
    "```python\n",
    "!pip install yfinance\n",
    "\n",
    "import yfinance as yf\n",
    "```"
   ]
  },
  {
   "cell_type": "code",
   "execution_count": 1,
   "metadata": {
    "scrolled": true
   },
   "outputs": [
    {
     "name": "stdout",
     "output_type": "stream",
     "text": [
      "Requirement already satisfied: yfinance in c:\\users\\jisu\\anaconda3\\lib\\site-packages (0.2.46)\n",
      "Requirement already satisfied: pandas>=1.3.0 in c:\\users\\jisu\\anaconda3\\lib\\site-packages (from yfinance) (2.2.2)\n",
      "Requirement already satisfied: numpy>=1.16.5 in c:\\users\\jisu\\anaconda3\\lib\\site-packages (from yfinance) (1.26.4)\n",
      "Requirement already satisfied: requests>=2.31 in c:\\users\\jisu\\anaconda3\\lib\\site-packages (from yfinance) (2.32.2)\n",
      "Requirement already satisfied: multitasking>=0.0.7 in c:\\users\\jisu\\anaconda3\\lib\\site-packages (from yfinance) (0.0.11)\n",
      "Requirement already satisfied: lxml>=4.9.1 in c:\\users\\jisu\\anaconda3\\lib\\site-packages (from yfinance) (5.2.1)\n",
      "Requirement already satisfied: platformdirs>=2.0.0 in c:\\users\\jisu\\anaconda3\\lib\\site-packages (from yfinance) (3.10.0)\n",
      "Requirement already satisfied: pytz>=2022.5 in c:\\users\\jisu\\anaconda3\\lib\\site-packages (from yfinance) (2024.1)\n",
      "Requirement already satisfied: frozendict>=2.3.4 in c:\\users\\jisu\\anaconda3\\lib\\site-packages (from yfinance) (2.4.2)\n",
      "Requirement already satisfied: peewee>=3.16.2 in c:\\users\\jisu\\anaconda3\\lib\\site-packages (from yfinance) (3.17.7)\n",
      "Requirement already satisfied: beautifulsoup4>=4.11.1 in c:\\users\\jisu\\anaconda3\\lib\\site-packages (from yfinance) (4.12.3)\n",
      "Requirement already satisfied: html5lib>=1.1 in c:\\users\\jisu\\anaconda3\\lib\\site-packages (from yfinance) (1.1)\n",
      "Requirement already satisfied: soupsieve>1.2 in c:\\users\\jisu\\anaconda3\\lib\\site-packages (from beautifulsoup4>=4.11.1->yfinance) (2.5)\n",
      "Requirement already satisfied: six>=1.9 in c:\\users\\jisu\\anaconda3\\lib\\site-packages (from html5lib>=1.1->yfinance) (1.16.0)\n",
      "Requirement already satisfied: webencodings in c:\\users\\jisu\\anaconda3\\lib\\site-packages (from html5lib>=1.1->yfinance) (0.5.1)\n",
      "Requirement already satisfied: python-dateutil>=2.8.2 in c:\\users\\jisu\\anaconda3\\lib\\site-packages (from pandas>=1.3.0->yfinance) (2.9.0.post0)\n",
      "Requirement already satisfied: tzdata>=2022.7 in c:\\users\\jisu\\anaconda3\\lib\\site-packages (from pandas>=1.3.0->yfinance) (2023.3)\n",
      "Requirement already satisfied: charset-normalizer<4,>=2 in c:\\users\\jisu\\anaconda3\\lib\\site-packages (from requests>=2.31->yfinance) (2.0.4)\n",
      "Requirement already satisfied: idna<4,>=2.5 in c:\\users\\jisu\\anaconda3\\lib\\site-packages (from requests>=2.31->yfinance) (3.7)\n",
      "Requirement already satisfied: urllib3<3,>=1.21.1 in c:\\users\\jisu\\anaconda3\\lib\\site-packages (from requests>=2.31->yfinance) (2.2.2)\n",
      "Requirement already satisfied: certifi>=2017.4.17 in c:\\users\\jisu\\anaconda3\\lib\\site-packages (from requests>=2.31->yfinance) (2024.8.30)\n",
      "Requirement already satisfied: pandas_datareader in c:\\users\\jisu\\anaconda3\\lib\\site-packages (0.10.0)\n",
      "Requirement already satisfied: lxml in c:\\users\\jisu\\anaconda3\\lib\\site-packages (from pandas_datareader) (5.2.1)\n",
      "Requirement already satisfied: pandas>=0.23 in c:\\users\\jisu\\anaconda3\\lib\\site-packages (from pandas_datareader) (2.2.2)\n",
      "Requirement already satisfied: requests>=2.19.0 in c:\\users\\jisu\\anaconda3\\lib\\site-packages (from pandas_datareader) (2.32.2)\n",
      "Requirement already satisfied: numpy>=1.26.0 in c:\\users\\jisu\\anaconda3\\lib\\site-packages (from pandas>=0.23->pandas_datareader) (1.26.4)\n",
      "Requirement already satisfied: python-dateutil>=2.8.2 in c:\\users\\jisu\\anaconda3\\lib\\site-packages (from pandas>=0.23->pandas_datareader) (2.9.0.post0)\n",
      "Requirement already satisfied: pytz>=2020.1 in c:\\users\\jisu\\anaconda3\\lib\\site-packages (from pandas>=0.23->pandas_datareader) (2024.1)\n",
      "Requirement already satisfied: tzdata>=2022.7 in c:\\users\\jisu\\anaconda3\\lib\\site-packages (from pandas>=0.23->pandas_datareader) (2023.3)\n",
      "Requirement already satisfied: charset-normalizer<4,>=2 in c:\\users\\jisu\\anaconda3\\lib\\site-packages (from requests>=2.19.0->pandas_datareader) (2.0.4)\n",
      "Requirement already satisfied: idna<4,>=2.5 in c:\\users\\jisu\\anaconda3\\lib\\site-packages (from requests>=2.19.0->pandas_datareader) (3.7)\n",
      "Requirement already satisfied: urllib3<3,>=1.21.1 in c:\\users\\jisu\\anaconda3\\lib\\site-packages (from requests>=2.19.0->pandas_datareader) (2.2.2)\n",
      "Requirement already satisfied: certifi>=2017.4.17 in c:\\users\\jisu\\anaconda3\\lib\\site-packages (from requests>=2.19.0->pandas_datareader) (2024.8.30)\n",
      "Requirement already satisfied: six>=1.5 in c:\\users\\jisu\\anaconda3\\lib\\site-packages (from python-dateutil>=2.8.2->pandas>=0.23->pandas_datareader) (1.16.0)\n"
     ]
    }
   ],
   "source": [
    "!pip install yfinance\n",
    "!pip install pandas_datareader\n",
    "\n",
    "import yfinance as yf\n",
    "import pandas_datareader as pdr"
   ]
  },
  {
   "cell_type": "code",
   "execution_count": 15,
   "metadata": {},
   "outputs": [
    {
     "name": "stdout",
     "output_type": "stream",
     "text": [
      "Name: yfinance\n",
      "Version: 0.2.46\n",
      "Summary: Download market data from Yahoo! Finance API\n",
      "Home-page: https://github.com/ranaroussi/yfinance\n",
      "Author: Ran Aroussi\n",
      "Author-email: ran@aroussi.com\n",
      "License: Apache\n",
      "Location: C:\\Users\\jisu\\anaconda3\\Lib\\site-packages\n",
      "Requires: beautifulsoup4, frozendict, html5lib, lxml, multitasking, numpy, pandas, peewee, platformdirs, pytz, requests\n",
      "Required-by: \n"
     ]
    }
   ],
   "source": [
    "!pip show yfinance"
   ]
  },
  {
   "cell_type": "code",
   "execution_count": 17,
   "metadata": {},
   "outputs": [
    {
     "name": "stderr",
     "output_type": "stream",
     "text": [
      "[*********************100%***********************]  1 of 1 completed\n"
     ]
    },
    {
     "name": "stdout",
     "output_type": "stream",
     "text": [
      "MultiIndex([('Adj Close', '^KS11'),\n",
      "            (    'Close', '^KS11'),\n",
      "            (     'High', '^KS11'),\n",
      "            (      'Low', '^KS11'),\n",
      "            (     'Open', '^KS11'),\n",
      "            (   'Volume', '^KS11')],\n",
      "           names=['Price', 'Ticker'])\n"
     ]
    },
    {
     "name": "stderr",
     "output_type": "stream",
     "text": [
      "[*********************100%***********************]  1 of 1 completed\n"
     ]
    },
    {
     "name": "stdout",
     "output_type": "stream",
     "text": [
      "MultiIndex([('Adj Close', 'IBM'),\n",
      "            (    'Close', 'IBM'),\n",
      "            (     'High', 'IBM'),\n",
      "            (      'Low', 'IBM'),\n",
      "            (     'Open', 'IBM'),\n",
      "            (   'Volume', 'IBM')],\n",
      "           names=['Price', 'Ticker'])\n"
     ]
    },
    {
     "name": "stderr",
     "output_type": "stream",
     "text": [
      "[*********************100%***********************]  1 of 1 completed\n"
     ]
    },
    {
     "name": "stdout",
     "output_type": "stream",
     "text": [
      "MultiIndex([('Adj Close', 'AAPL'),\n",
      "            (    'Close', 'AAPL'),\n",
      "            (     'High', 'AAPL'),\n",
      "            (      'Low', 'AAPL'),\n",
      "            (     'Open', 'AAPL'),\n",
      "            (   'Volume', 'AAPL')],\n",
      "           names=['Price', 'Ticker'])\n"
     ]
    },
    {
     "name": "stderr",
     "output_type": "stream",
     "text": [
      "[*********************100%***********************]  1 of 1 completed\n"
     ]
    },
    {
     "name": "stdout",
     "output_type": "stream",
     "text": [
      "MultiIndex([('Adj Close', 'GOOGL'),\n",
      "            (    'Close', 'GOOGL'),\n",
      "            (     'High', 'GOOGL'),\n",
      "            (      'Low', 'GOOGL'),\n",
      "            (     'Open', 'GOOGL'),\n",
      "            (   'Volume', 'GOOGL')],\n",
      "           names=['Price', 'Ticker'])\n"
     ]
    },
    {
     "name": "stderr",
     "output_type": "stream",
     "text": [
      "[*********************100%***********************]  1 of 1 completed\n"
     ]
    },
    {
     "name": "stdout",
     "output_type": "stream",
     "text": [
      "MultiIndex([('Adj Close', 'MSFT'),\n",
      "            (    'Close', 'MSFT'),\n",
      "            (     'High', 'MSFT'),\n",
      "            (      'Low', 'MSFT'),\n",
      "            (     'Open', 'MSFT'),\n",
      "            (   'Volume', 'MSFT')],\n",
      "           names=['Price', 'Ticker'])\n"
     ]
    },
    {
     "name": "stderr",
     "output_type": "stream",
     "text": [
      "[*********************100%***********************]  1 of 1 completed"
     ]
    },
    {
     "name": "stdout",
     "output_type": "stream",
     "text": [
      "MultiIndex([('Adj Close', 'TSLA'),\n",
      "            (    'Close', 'TSLA'),\n",
      "            (     'High', 'TSLA'),\n",
      "            (      'Low', 'TSLA'),\n",
      "            (     'Open', 'TSLA'),\n",
      "            (   'Volume', 'TSLA')],\n",
      "           names=['Price', 'Ticker'])\n"
     ]
    },
    {
     "name": "stderr",
     "output_type": "stream",
     "text": [
      "\n"
     ]
    },
    {
     "data": {
      "text/plain": [
       "{'^KS11': Price                        Adj Close        Close         High          Low  \\\n",
       " Date                                                                            \n",
       " 1996-12-11 00:00:00+00:00   704.679993   704.679993   709.479980   704.429993   \n",
       " 1996-12-12 00:00:00+00:00   689.380005   689.380005   706.010010   688.739990   \n",
       " 1996-12-13 00:00:00+00:00   689.070007   689.070007   695.719971   677.640015   \n",
       " 1996-12-16 00:00:00+00:00   673.919983   673.919983   686.969971   667.710022   \n",
       " 1996-12-17 00:00:00+00:00   663.349976   663.349976   680.090027   660.390015   \n",
       " ...                                ...          ...          ...          ...   \n",
       " 2024-10-17 00:00:00+00:00  2609.300049  2609.300049  2622.709961  2603.520020   \n",
       " 2024-10-18 00:00:00+00:00  2593.820068  2593.820068  2618.320068  2587.959961   \n",
       " 2024-10-21 00:00:00+00:00  2604.919922  2604.919922  2618.709961  2594.050049   \n",
       " 2024-10-22 00:00:00+00:00  2570.699951  2570.699951  2604.159912  2564.459961   \n",
       " 2024-10-23 00:00:00+00:00  2599.620117  2599.620117  2607.790039  2567.419922   \n",
       " \n",
       " Price                             Open  Volume  \n",
       " Date                                            \n",
       " 1996-12-11 00:00:00+00:00   705.989990   28000  \n",
       " 1996-12-12 00:00:00+00:00   705.109985   25900  \n",
       " 1996-12-13 00:00:00+00:00   690.440002   26500  \n",
       " 1996-12-16 00:00:00+00:00   686.969971   22800  \n",
       " 1996-12-17 00:00:00+00:00   675.349976   31600  \n",
       " ...                                ...     ...  \n",
       " 2024-10-17 00:00:00+00:00  2620.739990  331300  \n",
       " 2024-10-18 00:00:00+00:00  2616.040039  265200  \n",
       " 2024-10-21 00:00:00+00:00  2600.770020  240700  \n",
       " 2024-10-22 00:00:00+00:00  2600.870117  343300  \n",
       " 2024-10-23 00:00:00+00:00  2575.250000  345962  \n",
       " \n",
       " [6864 rows x 6 columns],\n",
       " 'IBM': Price                       Adj Close       Close        High         Low  \\\n",
       " Date                                                                        \n",
       " 1962-01-02 00:00:00+00:00    1.513320    7.291268    7.374124    7.291268   \n",
       " 1962-01-03 00:00:00+00:00    1.526550    7.355003    7.355003    7.291268   \n",
       " 1962-01-04 00:00:00+00:00    1.511336    7.281708    7.355003    7.278521   \n",
       " 1962-01-05 00:00:00+00:00    1.481573    7.138305    7.272148    7.125558   \n",
       " 1962-01-08 00:00:00+00:00    1.453793    7.004461    7.131931    6.947100   \n",
       " ...                               ...         ...         ...         ...   \n",
       " 2024-10-16 00:00:00+00:00  233.669998  233.669998  233.880005  231.119995   \n",
       " 2024-10-17 00:00:00+00:00  232.880005  232.880005  233.149994  230.660004   \n",
       " 2024-10-18 00:00:00+00:00  232.199997  232.199997  232.649994  230.169998   \n",
       " 2024-10-21 00:00:00+00:00  231.750000  231.750000  232.419998  230.259995   \n",
       " 2024-10-22 00:00:00+00:00  232.250000  232.250000  232.970001  230.669998   \n",
       " \n",
       " Price                            Open   Volume  \n",
       " Date                                            \n",
       " 1962-01-02 00:00:00+00:00    7.374124   407940  \n",
       " 1962-01-03 00:00:00+00:00    7.291268   305955  \n",
       " 1962-01-04 00:00:00+00:00    7.355003   274575  \n",
       " 1962-01-05 00:00:00+00:00    7.272148   384405  \n",
       " 1962-01-08 00:00:00+00:00    7.131931   572685  \n",
       " ...                               ...      ...  \n",
       " 2024-10-16 00:00:00+00:00  232.110001  2846700  \n",
       " 2024-10-17 00:00:00+00:00  232.000000  5040100  \n",
       " 2024-10-18 00:00:00+00:00  231.919998  4715700  \n",
       " 2024-10-21 00:00:00+00:00  231.210007  2733300  \n",
       " 2024-10-22 00:00:00+00:00  231.990005  3172600  \n",
       " \n",
       " [15810 rows x 6 columns],\n",
       " 'AAPL': Price                       Adj Close       Close        High         Low  \\\n",
       " Date                                                                        \n",
       " 1980-12-12 00:00:00+00:00    0.098943    0.128348    0.128906    0.128348   \n",
       " 1980-12-15 00:00:00+00:00    0.093781    0.121652    0.122210    0.121652   \n",
       " 1980-12-16 00:00:00+00:00    0.086898    0.112723    0.113281    0.112723   \n",
       " 1980-12-17 00:00:00+00:00    0.089049    0.115513    0.116071    0.115513   \n",
       " 1980-12-18 00:00:00+00:00    0.091630    0.118862    0.119420    0.118862   \n",
       " ...                               ...         ...         ...         ...   \n",
       " 2024-10-16 00:00:00+00:00  231.779999  231.779999  232.119995  229.839996   \n",
       " 2024-10-17 00:00:00+00:00  232.149994  232.149994  233.850006  230.520004   \n",
       " 2024-10-18 00:00:00+00:00  235.000000  235.000000  236.179993  234.009995   \n",
       " 2024-10-21 00:00:00+00:00  236.479996  236.479996  236.850006  234.449997   \n",
       " 2024-10-22 00:00:00+00:00  235.860001  235.860001  236.220001  232.600006   \n",
       " \n",
       " Price                            Open     Volume  \n",
       " Date                                              \n",
       " 1980-12-12 00:00:00+00:00    0.128348  469033600  \n",
       " 1980-12-15 00:00:00+00:00    0.122210  175884800  \n",
       " 1980-12-16 00:00:00+00:00    0.113281  105728000  \n",
       " 1980-12-17 00:00:00+00:00    0.115513   86441600  \n",
       " 1980-12-18 00:00:00+00:00    0.118862   73449600  \n",
       " ...                               ...        ...  \n",
       " 2024-10-16 00:00:00+00:00  231.600006   34082200  \n",
       " 2024-10-17 00:00:00+00:00  233.429993   32993800  \n",
       " 2024-10-18 00:00:00+00:00  236.179993   46431500  \n",
       " 2024-10-21 00:00:00+00:00  234.449997   36254500  \n",
       " 2024-10-22 00:00:00+00:00  233.889999   38512600  \n",
       " \n",
       " [11057 rows x 6 columns],\n",
       " 'GOOGL': Price                       Adj Close       Close        High         Low  \\\n",
       " Date                                                                        \n",
       " 2004-08-19 00:00:00+00:00    2.504808    2.511011    2.604104    2.401401   \n",
       " 2004-08-20 00:00:00+00:00    2.703765    2.710460    2.729730    2.515015   \n",
       " 2004-08-23 00:00:00+00:00    2.730975    2.737738    2.839840    2.728979   \n",
       " 2004-08-24 00:00:00+00:00    2.617892    2.624374    2.792793    2.591842   \n",
       " 2004-08-25 00:00:00+00:00    2.646101    2.652653    2.702703    2.599600   \n",
       " ...                               ...         ...         ...         ...   \n",
       " 2024-10-16 00:00:00+00:00  165.160004  165.160004  165.800003  163.740005   \n",
       " 2024-10-17 00:00:00+00:00  162.929993  162.929993  166.369995  162.759995   \n",
       " 2024-10-18 00:00:00+00:00  163.419998  163.419998  164.710007  163.080002   \n",
       " 2024-10-21 00:00:00+00:00  164.070007  164.070007  164.500000  162.619995   \n",
       " 2024-10-22 00:00:00+00:00  165.139999  165.139999  165.770004  162.979996   \n",
       " \n",
       " Price                            Open     Volume  \n",
       " Date                                              \n",
       " 2004-08-19 00:00:00+00:00    2.502503  893181924  \n",
       " 2004-08-20 00:00:00+00:00    2.527778  456686856  \n",
       " 2004-08-23 00:00:00+00:00    2.771522  365122512  \n",
       " 2004-08-24 00:00:00+00:00    2.783784  304946748  \n",
       " 2004-08-25 00:00:00+00:00    2.626627  183772044  \n",
       " ...                               ...        ...  \n",
       " 2024-10-16 00:00:00+00:00  164.529999   16406000  \n",
       " 2024-10-17 00:00:00+00:00  165.729996   21453400  \n",
       " 2024-10-18 00:00:00+00:00  163.190002   19757700  \n",
       " 2024-10-21 00:00:00+00:00  162.949997   20946500  \n",
       " 2024-10-22 00:00:00+00:00  162.979996   16171900  \n",
       " \n",
       " [5079 rows x 6 columns],\n",
       " 'MSFT': Price                       Adj Close       Close        High         Low  \\\n",
       " Date                                                                        \n",
       " 1986-03-13 00:00:00+00:00    0.059946    0.097222    0.101563    0.088542   \n",
       " 1986-03-14 00:00:00+00:00    0.062087    0.100694    0.102431    0.097222   \n",
       " 1986-03-17 00:00:00+00:00    0.063158    0.102431    0.103299    0.100694   \n",
       " 1986-03-18 00:00:00+00:00    0.061552    0.099826    0.103299    0.098958   \n",
       " 1986-03-19 00:00:00+00:00    0.060482    0.098090    0.100694    0.097222   \n",
       " ...                               ...         ...         ...         ...   \n",
       " 2024-10-16 00:00:00+00:00  416.119995  416.119995  416.359985  410.480011   \n",
       " 2024-10-17 00:00:00+00:00  416.720001  416.720001  422.500000  415.589996   \n",
       " 2024-10-18 00:00:00+00:00  418.160004  418.160004  419.649994  416.260010   \n",
       " 2024-10-21 00:00:00+00:00  418.779999  418.779999  418.959991  413.750000   \n",
       " 2024-10-22 00:00:00+00:00  427.510010  427.510010  430.579987  418.040009   \n",
       " \n",
       " Price                            Open      Volume  \n",
       " Date                                               \n",
       " 1986-03-13 00:00:00+00:00    0.088542  1031788800  \n",
       " 1986-03-14 00:00:00+00:00    0.097222   308160000  \n",
       " 1986-03-17 00:00:00+00:00    0.100694   133171200  \n",
       " 1986-03-18 00:00:00+00:00    0.102431    67766400  \n",
       " 1986-03-19 00:00:00+00:00    0.099826    47894400  \n",
       " ...                               ...         ...  \n",
       " 2024-10-16 00:00:00+00:00  415.170013    15508900  \n",
       " 2024-10-17 00:00:00+00:00  422.359985    14820000  \n",
       " 2024-10-18 00:00:00+00:00  417.140015    17145300  \n",
       " 2024-10-21 00:00:00+00:00  416.119995    14206100  \n",
       " 2024-10-22 00:00:00+00:00  418.489990    24625100  \n",
       " \n",
       " [9731 rows x 6 columns],\n",
       " 'TSLA': Price                       Adj Close       Close        High         Low  \\\n",
       " Date                                                                        \n",
       " 2010-06-29 00:00:00+00:00    1.592667    1.592667    1.666667    1.169333   \n",
       " 2010-06-30 00:00:00+00:00    1.588667    1.588667    2.028000    1.553333   \n",
       " 2010-07-01 00:00:00+00:00    1.464000    1.464000    1.728000    1.351333   \n",
       " 2010-07-02 00:00:00+00:00    1.280000    1.280000    1.540000    1.247333   \n",
       " 2010-07-06 00:00:00+00:00    1.074000    1.074000    1.333333    1.055333   \n",
       " ...                               ...         ...         ...         ...   \n",
       " 2024-10-16 00:00:00+00:00  221.330002  221.330002  222.820007  218.929993   \n",
       " 2024-10-17 00:00:00+00:00  220.889999  220.889999  222.080002  217.899994   \n",
       " 2024-10-18 00:00:00+00:00  220.699997  220.699997  222.279999  219.229996   \n",
       " 2024-10-21 00:00:00+00:00  218.850006  218.850006  220.479996  215.729996   \n",
       " 2024-10-22 00:00:00+00:00  217.970001  217.970001  218.220001  215.259995   \n",
       " \n",
       " Price                            Open     Volume  \n",
       " Date                                              \n",
       " 2010-06-29 00:00:00+00:00    1.266667  281494500  \n",
       " 2010-06-30 00:00:00+00:00    1.719333  257806500  \n",
       " 2010-07-01 00:00:00+00:00    1.666667  123282000  \n",
       " 2010-07-02 00:00:00+00:00    1.533333   77097000  \n",
       " 2010-07-06 00:00:00+00:00    1.333333  103003500  \n",
       " ...                               ...        ...  \n",
       " 2024-10-16 00:00:00+00:00  221.399994   49632800  \n",
       " 2024-10-17 00:00:00+00:00  221.589996   50791800  \n",
       " 2024-10-18 00:00:00+00:00  220.710007   49611900  \n",
       " 2024-10-21 00:00:00+00:00  218.899994   47329000  \n",
       " 2024-10-22 00:00:00+00:00  217.309998   43054600  \n",
       " \n",
       " [3604 rows x 6 columns]}"
      ]
     },
     "execution_count": 17,
     "metadata": {},
     "output_type": "execute_result"
    }
   ],
   "source": [
    "tickers = ['^KS11', 'IBM', 'AAPL', 'GOOGL', 'MSFT', 'TSLA']\n",
    "all_data = {}\n",
    "\n",
    "# Yahoo Finance 데이터를 가져옴\n",
    "for ticker in tickers:\n",
    "    #all_data[ticker] = yf.download(ticker)\n",
    "    data_temp = yf.download(ticker)\n",
    "    print (data_temp.columns)\n",
    "    \n",
    "    if not data_temp.empty :\n",
    "        data_temp.columns = data_temp.columns.droplevel(1)\n",
    "        all_data[ticker] = data_temp\n",
    "all_data"
   ]
  },
  {
   "cell_type": "code",
   "execution_count": 19,
   "metadata": {},
   "outputs": [
    {
     "data": {
      "text/html": [
       "<div>\n",
       "<style scoped>\n",
       "    .dataframe tbody tr th:only-of-type {\n",
       "        vertical-align: middle;\n",
       "    }\n",
       "\n",
       "    .dataframe tbody tr th {\n",
       "        vertical-align: top;\n",
       "    }\n",
       "\n",
       "    .dataframe thead th {\n",
       "        text-align: right;\n",
       "    }\n",
       "</style>\n",
       "<table border=\"1\" class=\"dataframe\">\n",
       "  <thead>\n",
       "    <tr style=\"text-align: right;\">\n",
       "      <th></th>\n",
       "      <th>^KS11</th>\n",
       "      <th>IBM</th>\n",
       "      <th>AAPL</th>\n",
       "      <th>GOOGL</th>\n",
       "      <th>MSFT</th>\n",
       "      <th>TSLA</th>\n",
       "    </tr>\n",
       "  </thead>\n",
       "  <tbody>\n",
       "    <tr>\n",
       "      <th>^KS11</th>\n",
       "      <td>1.000000</td>\n",
       "      <td>0.852148</td>\n",
       "      <td>0.722645</td>\n",
       "      <td>0.815326</td>\n",
       "      <td>0.683060</td>\n",
       "      <td>0.821418</td>\n",
       "    </tr>\n",
       "    <tr>\n",
       "      <th>IBM</th>\n",
       "      <td>0.852148</td>\n",
       "      <td>1.000000</td>\n",
       "      <td>0.718863</td>\n",
       "      <td>0.728847</td>\n",
       "      <td>0.721156</td>\n",
       "      <td>0.471351</td>\n",
       "    </tr>\n",
       "    <tr>\n",
       "      <th>AAPL</th>\n",
       "      <td>0.722645</td>\n",
       "      <td>0.718863</td>\n",
       "      <td>1.000000</td>\n",
       "      <td>0.976825</td>\n",
       "      <td>0.988753</td>\n",
       "      <td>0.926383</td>\n",
       "    </tr>\n",
       "    <tr>\n",
       "      <th>GOOGL</th>\n",
       "      <td>0.815326</td>\n",
       "      <td>0.728847</td>\n",
       "      <td>0.976825</td>\n",
       "      <td>1.000000</td>\n",
       "      <td>0.982374</td>\n",
       "      <td>0.900297</td>\n",
       "    </tr>\n",
       "    <tr>\n",
       "      <th>MSFT</th>\n",
       "      <td>0.683060</td>\n",
       "      <td>0.721156</td>\n",
       "      <td>0.988753</td>\n",
       "      <td>0.982374</td>\n",
       "      <td>1.000000</td>\n",
       "      <td>0.889371</td>\n",
       "    </tr>\n",
       "    <tr>\n",
       "      <th>TSLA</th>\n",
       "      <td>0.821418</td>\n",
       "      <td>0.471351</td>\n",
       "      <td>0.926383</td>\n",
       "      <td>0.900297</td>\n",
       "      <td>0.889371</td>\n",
       "      <td>1.000000</td>\n",
       "    </tr>\n",
       "  </tbody>\n",
       "</table>\n",
       "</div>"
      ],
      "text/plain": [
       "          ^KS11       IBM      AAPL     GOOGL      MSFT      TSLA\n",
       "^KS11  1.000000  0.852148  0.722645  0.815326  0.683060  0.821418\n",
       "IBM    0.852148  1.000000  0.718863  0.728847  0.721156  0.471351\n",
       "AAPL   0.722645  0.718863  1.000000  0.976825  0.988753  0.926383\n",
       "GOOGL  0.815326  0.728847  0.976825  1.000000  0.982374  0.900297\n",
       "MSFT   0.683060  0.721156  0.988753  0.982374  1.000000  0.889371\n",
       "TSLA   0.821418  0.471351  0.926383  0.900297  0.889371  1.000000"
      ]
     },
     "execution_count": 19,
     "metadata": {},
     "output_type": "execute_result"
    }
   ],
   "source": [
    "# 종가 데이터를 추출하여 DataFrame 생성\n",
    "price = pd.DataFrame({tic: data['Adj Close'] for tic, data in all_data.items()})\n",
    "price\n",
    "\n",
    "# 상관계수 계산\n",
    "price_corr = price.corr()\n",
    "price_corr"
   ]
  },
  {
   "cell_type": "markdown",
   "metadata": {},
   "source": [
    "### 예제 9\n",
    "1. 2~3행에서 '0'컬럼을 None으로 변경 하시오.\n",
    "2. 0~2행에서 '2'컬럼을 None으로 변경하시오.\n",
    "3. 각 컬럼의 None값들을 각 컬럼의 평균값으로 채우시오."
   ]
  },
  {
   "cell_type": "code",
   "execution_count": null,
   "metadata": {},
   "outputs": [],
   "source": [
    "# 예제 9.1 2~3행에서 '0'컬럼을 None으로 변경 하시오.\n"
   ]
  },
  {
   "cell_type": "code",
   "execution_count": null,
   "metadata": {},
   "outputs": [],
   "source": [
    "# 예제 9.2 0~2행에서 '2'컬럼을 None으로 변경하시오.\n"
   ]
  },
  {
   "cell_type": "code",
   "execution_count": null,
   "metadata": {
    "scrolled": true
   },
   "outputs": [],
   "source": [
    "# 예제 9.3 각 컬럼의 None값들을 각 컬럼의 평균값으로 채우시오.\n"
   ]
  },
  {
   "cell_type": "markdown",
   "metadata": {},
   "source": [
    "### 예제 10\n",
    "1. multi_idx 이름으로 0 ~ 20의 값을 갖는 (5,4) 데이터 프레임을 생성하시오.\n",
    "  - index 상위 색인: a, a, b, b, c\n",
    "  - index 하위 색인: 1,2, 1, 2, 1\n",
    "  - columns 상위 색인: 'KOR', 'KOR', 'USA', 'USA'\n",
    "  - columns 하위 색인: 'Seoul', 'Busan', 'LA', 'NewYork'\n",
    "2. index=b, column= KOR의 Seoul에 해당하는 값을 출력하시오.\n"
   ]
  },
  {
   "cell_type": "code",
   "execution_count": null,
   "metadata": {},
   "outputs": [],
   "source": [
    "# 예제 10.1\n"
   ]
  },
  {
   "cell_type": "code",
   "execution_count": null,
   "metadata": {},
   "outputs": [],
   "source": [
    "# 예제 10.2\n"
   ]
  },
  {
   "cell_type": "code",
   "execution_count": null,
   "metadata": {},
   "outputs": [],
   "source": []
  },
  {
   "cell_type": "markdown",
   "metadata": {},
   "source": [
    "### 예제 11\n",
    "1. 위 데이터프레임에 index(key1, key2), column(Country, Region)의 이름을 설정하시오.\n",
    "2. 2번째 index로 데이터 프레임을 정렬 하시오.\n",
    "3. column의 레벨을 바꾸시오."
   ]
  },
  {
   "cell_type": "code",
   "execution_count": null,
   "metadata": {},
   "outputs": [],
   "source": [
    "# 예제 11.1\n"
   ]
  },
  {
   "cell_type": "code",
   "execution_count": null,
   "metadata": {},
   "outputs": [],
   "source": [
    "# 예제 11.2\n"
   ]
  },
  {
   "cell_type": "code",
   "execution_count": null,
   "metadata": {},
   "outputs": [],
   "source": [
    "# 예제 11.3\n"
   ]
  },
  {
   "cell_type": "markdown",
   "metadata": {},
   "source": [
    "---"
   ]
  },
  {
   "cell_type": "code",
   "execution_count": null,
   "metadata": {},
   "outputs": [],
   "source": [
    "# end of file"
   ]
  },
  {
   "cell_type": "code",
   "execution_count": null,
   "metadata": {},
   "outputs": [],
   "source": []
  }
 ],
 "metadata": {
  "anaconda-cloud": {},
  "kernelspec": {
   "display_name": "Python 3 (ipykernel)",
   "language": "python",
   "name": "python3"
  },
  "language_info": {
   "codemirror_mode": {
    "name": "ipython",
    "version": 3
   },
   "file_extension": ".py",
   "mimetype": "text/x-python",
   "name": "python",
   "nbconvert_exporter": "python",
   "pygments_lexer": "ipython3",
   "version": "3.12.4"
  },
  "vp": {
   "base_numbering": 1,
   "nav_menu": {},
   "number_sections": true,
   "sideBar": true,
   "title_cell": "VisualPython",
   "title_sidebar": "VisualPython",
   "vpPosition": {
    "height": "calc(100% - 180px)",
    "right": "10px",
    "top": "150px",
    "width": "50%"
   },
   "vp_cell": false,
   "vp_section_display": true,
   "vp_window_display": false
  }
 },
 "nbformat": 4,
 "nbformat_minor": 4
}
