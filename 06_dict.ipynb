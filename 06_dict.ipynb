{
 "cells": [
  {
   "cell_type": "markdown",
   "metadata": {
    "colab_type": "text",
    "id": "view-in-github"
   },
   "source": [
    "<a href=\"https://colab.research.google.com/github/zzhining/python_basic/blob/master/06_dict.ipynb\" target=\"_parent\"><img src=\"https://colab.research.google.com/assets/colab-badge.svg\" alt=\"Open In Colab\"/></a>"
   ]
  },
  {
   "cell_type": "markdown",
   "metadata": {
    "id": "dV827uwUXypB"
   },
   "source": [
    "## 딕셔너리\n",
    "▶사전의 구성: 표제어가 있고 그에 대한 설명. 표제어만 찾으면 그에 대한 설명을 전부 확인할 수 있음\n",
    "\n",
    "▶파이썬의 딕셔너리도 사전과 유사하게 구성돼 있으며 사전의  표제어와  설명은  파이썬에서 각각 키 (key)와 값 (value)에 해당\n",
    "\n",
    "▶키와 값이 항상 쌍으로 구성. 따라서 키를 알면 그에 해당하는 값을 쉽게 알 수 있음\n",
    "\n",
    "▶딕셔너리는 인덱스 대신 키를 이용해 값을 다룸\n",
    "딕셔너리의 키는 임의로 지정한 숫자나 문자열이 될 수 있으며, 값으로는 어떤  데이터 타입도 사용 가능\n",
    "\n",
    "----\n",
    "- 키(key), 값(value)의 쌍으로 구성된 데이터 타입\n",
    "- 키(key) :  임의로 지정한 숫자나 문자열\n",
    "- 값(value): 어떤 데이터 타입도 가능\n",
    "\n",
    "\n",
    "- 중괄호 {키:값, 키:값,  ... }"
   ]
  },
  {
   "cell_type": "markdown",
   "metadata": {
    "id": "D0vKiJ1JaRJ5"
   },
   "source": [
    "## 딕셔너리 만들기"
   ]
  },
  {
   "cell_type": "markdown",
   "metadata": {
    "id": "LbMaT9QcaFZl"
   },
   "source": [
    "\n",
    "----\n",
    "\n",
    "⭐딕셔너리 만들기⭐\n",
    "- 데이터 전체를 `중괄호` (`{ }`)로 감싸서 만듦\n",
    "- 키와 값의  구분은 `콜론` (`:`)으로 함\n",
    "- 키와 값으로 이뤄진 각 쌍은 `콤마` (`,`)로 구분\n",
    "\n",
    "\n",
    "- 추가, 변경\n",
    "- 삭제: del"
   ]
  },
  {
   "cell_type": "code",
   "execution_count": 1,
   "metadata": {
    "colab": {
     "base_uri": "https://localhost:8080/"
    },
    "id": "FsU6oSxWXypE",
    "outputId": "3b984e0c-a26f-43ce-f109-c746680a7f23"
   },
   "outputs": [
    {
     "data": {
      "text/plain": [
       "{'a': 'hello', 'b': 'hi', 'c': 'goodbye'}"
      ]
     },
     "execution_count": 1,
     "metadata": {},
     "output_type": "execute_result"
    }
   ],
   "source": [
    "# 딕셔너리의 키와 값이 모두 문자열인  예\n",
    "d2 = {'a':'hello', 'b':'hi', 'c':'goodbye' }\n",
    "d2"
   ]
  },
  {
   "cell_type": "code",
   "execution_count": null,
   "metadata": {},
   "outputs": [],
   "source": [
    "# key 값은 immutable해야 한다. > hash로 저장 > 키값으로 검색\n",
    "\n",
    "d3 = { ['a']:'hello' }"
   ]
  },
  {
   "cell_type": "code",
   "execution_count": 3,
   "metadata": {},
   "outputs": [
    {
     "ename": "KeyError",
     "evalue": "0",
     "output_type": "error",
     "traceback": [
      "\u001b[1;31m---------------------------------------------------------------------------\u001b[0m",
      "\u001b[1;31mKeyError\u001b[0m                                  Traceback (most recent call last)",
      "Cell \u001b[1;32mIn[3], line 1\u001b[0m\n\u001b[1;32m----> 1\u001b[0m d2[\u001b[38;5;241m0\u001b[39m]\n",
      "\u001b[1;31mKeyError\u001b[0m: 0"
     ]
    }
   ],
   "source": [
    "d2[0]"
   ]
  },
  {
   "cell_type": "markdown",
   "metadata": {
    "id": "-M9jMS_SZFJY"
   },
   "source": [
    "----\n",
    "⭐딕셔너리 메서드⭐\n",
    "\n",
    "|     딕셔너리 메서드       |     설명                                                                  |     사용 예                         |\n",
    "|---------------------------|---------------------------------------------------------------------------|-------------------------------------|\n",
    "|     keys()                |     딕셔너리에서  키    전체를  리스트  형태로  반환                      |     dict_data.keys()                |\n",
    "|     values()              |     딕셔너리에서  값    전체를  리스트  형태로  반환                      |     dict_data.values()              |\n",
    "|     items()               |     딕셔너리에서  키와  값의    쌍을  (키,  값)처럼  튜플  형태로 반환    |     dict_data.items()               |\n",
    "|     update(dict_data2)    |     딕셔너리에  딕셔너리    데이터(‘dict_data2’) 추가                     |     dict_data.update(dict_data2)    |\n",
    "|     clear()               |     딕셔너리의  모든    항목  삭제                                        |     dict_data.clear()               |\n",
    "|     copy()               |     딕셔너리의  항목  복사                                        |     dict_data.copy()               |\n"
   ]
  },
  {
   "cell_type": "markdown",
   "metadata": {
    "id": "PipSUw7lXypJ"
   },
   "source": [
    "----\n",
    "## keys\n",
    "- 딕셔너리의 키 전체를 리스트 형태로 리턴\n"
   ]
  },
  {
   "cell_type": "markdown",
   "metadata": {
    "id": "H8FvJ9yMZNq9"
   },
   "source": [
    "----\n",
    "## values\n",
    "- 딕셔너리의 값 전체를 리스트 형태로 리턴\n"
   ]
  },
  {
   "cell_type": "markdown",
   "metadata": {
    "id": "Z0TKCAdXZOav"
   },
   "source": [
    "----\n",
    "## items\n",
    "- 딕셔너리에서 키와 값의 쌍(key, value)을 튜플 형태로 리턴\n"
   ]
  },
  {
   "cell_type": "markdown",
   "metadata": {
    "id": "OF39qGtEZQQF"
   },
   "source": [
    "----\n",
    "## update\n",
    "- 딕셔너리에 딕셔너리 추가\n"
   ]
  },
  {
   "cell_type": "markdown",
   "metadata": {
    "id": "l209tBmD24_7"
   },
   "source": [
    "## copy\n",
    "- 복사"
   ]
  },
  {
   "cell_type": "code",
   "execution_count": 12,
   "metadata": {
    "colab": {
     "base_uri": "https://localhost:8080/"
    },
    "id": "ODX5NqlnXypL",
    "outputId": "6c9f2e1c-e70f-4e28-d8ed-5f921d83ac4b"
   },
   "outputs": [],
   "source": [
    "dictionary2 = {'일본': '도쿄', '독일': '베를린', '호주': '캔버라'}"
   ]
  },
  {
   "cell_type": "code",
   "execution_count": 7,
   "metadata": {
    "colab": {
     "base_uri": "https://localhost:8080/"
    },
    "id": "wUyXyhXC2DZA",
    "outputId": "b5cc90b5-d07a-465d-8698-05afaec50843"
   },
   "outputs": [
    {
     "data": {
      "text/plain": [
       "({'일본': '도쿄', '독일': '베를린', '호주': '캔버라'},\n",
       " {'일본': '도쿄', '독일': '베를린', '호주': '캔버라'})"
      ]
     },
     "execution_count": 7,
     "metadata": {},
     "output_type": "execute_result"
    }
   ],
   "source": [
    "d2_1 = dictionary2 # 얕은복사\n",
    "d2_2 = dictionary2.copy() # 깊은복사\n",
    "d2_1, d2_2"
   ]
  },
  {
   "cell_type": "code",
   "execution_count": 9,
   "metadata": {},
   "outputs": [
    {
     "data": {
      "text/plain": [
       "(2194220200704, 2194228655424, 2194220200704)"
      ]
     },
     "execution_count": 9,
     "metadata": {},
     "output_type": "execute_result"
    }
   ],
   "source": [
    "id(d2_1), id(d2_2), id(dictionary2)"
   ]
  },
  {
   "cell_type": "markdown",
   "metadata": {
    "id": "q-b_vBcHZQ32"
   },
   "source": [
    "----\n",
    "## clear\n",
    "- 모든 항목 삭제"
   ]
  },
  {
   "cell_type": "code",
   "execution_count": 14,
   "metadata": {},
   "outputs": [
    {
     "data": {
      "text/plain": [
       "{}"
      ]
     },
     "execution_count": 14,
     "metadata": {},
     "output_type": "execute_result"
    }
   ],
   "source": [
    "dictionary2.clear()\n",
    "dictionary2"
   ]
  },
  {
   "cell_type": "code",
   "execution_count": 16,
   "metadata": {},
   "outputs": [
    {
     "data": {
      "text/plain": [
       "({'일본': '도쿄', '독일': '베를린', '호주': '캔버라'},\n",
       " {'일본': '도쿄', '독일': '베를린', '호주': '캔버라'})"
      ]
     },
     "execution_count": 16,
     "metadata": {},
     "output_type": "execute_result"
    }
   ],
   "source": [
    "d2_1, d2_2"
   ]
  }
 ],
 "metadata": {
  "colab": {
   "include_colab_link": true,
   "provenance": []
  },
  "kernelspec": {
   "display_name": "Python 3 (ipykernel)",
   "language": "python",
   "name": "python3"
  },
  "language_info": {
   "codemirror_mode": {
    "name": "ipython",
    "version": 3
   },
   "file_extension": ".py",
   "mimetype": "text/x-python",
   "name": "python",
   "nbconvert_exporter": "python",
   "pygments_lexer": "ipython3",
   "version": "3.12.4"
  },
  "toc": {
   "base_numbering": 1,
   "nav_menu": {},
   "number_sections": false,
   "sideBar": true,
   "skip_h1_title": false,
   "title_cell": "Table of Contents",
   "title_sidebar": "Contents",
   "toc_cell": false,
   "toc_position": {},
   "toc_section_display": true,
   "toc_window_display": false
  }
 },
 "nbformat": 4,
 "nbformat_minor": 4
}
