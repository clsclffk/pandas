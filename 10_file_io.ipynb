{
 "cells": [
  {
   "cell_type": "markdown",
   "metadata": {
    "colab_type": "text",
    "id": "view-in-github"
   },
   "source": [
    "<a href=\"https://colab.research.google.com/github/zzhining/python_basic/blob/master/10_file_io.ipynb\" target=\"_parent\"><img src=\"https://colab.research.google.com/assets/colab-badge.svg\" alt=\"Open In Colab\"/></a>"
   ]
  },
  {
   "cell_type": "markdown",
   "metadata": {
    "id": "eFGegoVwcocy"
   },
   "source": [
    "## 파일 열기\n",
    "- 내장 함수 open() 사용\n",
    "\n",
    "```\n",
    "f = open('file_name', 'mode')\n",
    "```"
   ]
  },
  {
   "cell_type": "markdown",
   "metadata": {
    "id": "TmGkiKUsctrm"
   },
   "source": [
    "⭐ 파일 열기 속성 ⭐\n",
    "\n",
    "| mode | 의미                                                                                  |\n",
    "|------|---------------------------------------------------------------------------------------|\n",
    "| r    | 읽기 모드로 파일   열기(기본). 모드를 지정하지  않으면 기본적으로 읽기 모드로 지정됨  |\n",
    "| w    | 쓰기 모드로 파일   열기. 같은 이름의 파일이 있으면 기존 내용은 모두 삭제됨            |\n",
    "| x    | 쓰기 모드로 파일   열기. 같은 이름의 파일이 있을 경우 오류가 발생함                   |\n",
    "| a    | 추가 모드로 파일   열기. 같은 이름의 파일이 없으면 w와 기능 같음                      |\n",
    "| b    | 바이너리 파일   모드로 파일 열기                                                      |\n",
    "| t    | 텍스트 파일 모드로   파일 열기(기본). 지정하지 않으면 기본적으로 텍스트 모드로 지정됨 |\n",
    "\n",
    "🙋`mode`는 혼합해서 사용 가능\n",
    "\n"
   ]
  },
  {
   "cell_type": "markdown",
   "metadata": {
    "id": "z6MLlGxUdbWa"
   },
   "source": [
    "## 파일 쓰기\n",
    "- 파일 쓰기를 하려면 파일을 쓰기 모드로 열어야 함\n",
    "- 파일을 열고 지정한 내용을 쓴 후에는 파일을  닫아야 함\n",
    "\n",
    "```\n",
    "f = open('file_name', 'w')\n",
    "f.write(str)\n",
    "f.close()\n",
    "```"
   ]
  },
  {
   "cell_type": "code",
   "execution_count": null,
   "metadata": {
    "id": "e6RoOd1BdwNJ"
   },
   "outputs": [],
   "source": [
    "f = open('abc/myfile.txt','w') # abc라는 폴더가 없으면 오류 발생!\n",
    "f.write('a')\n",
    "f.write('b')\n",
    "f.close()"
   ]
  },
  {
   "cell_type": "code",
   "execution_count": null,
   "metadata": {},
   "outputs": [],
   "source": [
    "# 폴더를 만들고 싶으면 os 라이브러리 사용\n",
    "import os"
   ]
  },
  {
   "cell_type": "markdown",
   "metadata": {
    "id": "dvDCLMkgd638"
   },
   "source": [
    "## 파일 읽기\n",
    "- 파일을 읽으려면 파일을 읽기 모드로 열어야 함\n",
    "- 파일의 내용을 읽고 마지막으로  파일을 닫음\n",
    "\n",
    "\n",
    "```\n",
    "f = open('file_name', 'r')   # f = open('file_name')도 가능\n",
    "data = f.read()\n",
    "f.close()\n",
    "```"
   ]
  },
  {
   "cell_type": "code",
   "execution_count": null,
   "metadata": {
    "id": "ZC_X-GiJd09y"
   },
   "outputs": [],
   "source": [
    "f = open('abc/myfile.txt','r')\n",
    "data = f.read()\n",
    "f.close()"
   ]
  },
  {
   "cell_type": "code",
   "execution_count": null,
   "metadata": {},
   "outputs": [],
   "source": [
    "data"
   ]
  },
  {
   "cell_type": "markdown",
   "metadata": {
    "id": "nTNg0gB45oNv"
   },
   "source": [
    "count가 지정되면 시작 위치부터 해당 바이트까지 읽음\n",
    "```\n",
    "f.read(count)\n",
    "```\n"
   ]
  },
  {
   "cell_type": "markdown",
   "metadata": {
    "id": "o9UIr3MiIw8D"
   },
   "source": [
    "## 인코딩 지정"
   ]
  },
  {
   "cell_type": "markdown",
   "metadata": {
    "id": "QxihF93HeGIx"
   },
   "source": [
    "## 파일에 문자열 한 줄씩 쓰기"
   ]
  },
  {
   "cell_type": "code",
   "execution_count": null,
   "metadata": {
    "id": "JMPPhw6iIwZK"
   },
   "outputs": [],
   "source": [
    "# cp949 : 한글과 일부 특수 문자를 지원하는 2바이트 문자 집합\n",
    "f = open('abc/myfile_ko.txt','w',encoding='cp949')\n",
    "f.write('텍스트입니다.\\n')\n",
    "f.write('abc\\n')\n",
    "f.close() # cp949는 주피터 노트북에서는 오류 발생"
   ]
  },
  {
   "cell_type": "code",
   "execution_count": null,
   "metadata": {},
   "outputs": [],
   "source": [
    "f = open('abc/myfile_ko.txt','r')\n",
    "file_text = f.read()\n",
    "f.close()\n",
    "file_text"
   ]
  },
  {
   "cell_type": "markdown",
   "metadata": {
    "id": "NNL5TdU5fBPW"
   },
   "source": [
    "## 파일에서 문자열 한 줄씩 읽기"
   ]
  },
  {
   "cell_type": "markdown",
   "metadata": {
    "id": "Qr7r3KiNfDR0"
   },
   "source": [
    "### readline()\n",
    "- 파일로부터 문자열 한 줄을 읽음\n",
    "- 마지막 한 줄을 읽고 나서 다시 readline()을 실행하면  빈 문자열을  반환"
   ]
  },
  {
   "cell_type": "code",
   "execution_count": null,
   "metadata": {
    "id": "N9pu_SDbfC2U"
   },
   "outputs": [],
   "source": [
    "f = open('abc/myfile_two.txt', 'w')\n",
    "\n",
    "for i in range(1,6):\n",
    "    f.write(f'2 * {i} = {2*i} \\n')\n",
    "\n",
    "f.close()"
   ]
  },
  {
   "cell_type": "code",
   "execution_count": null,
   "metadata": {
    "id": "F_Mi2hnZer3R"
   },
   "outputs": [],
   "source": [
    "# !type : 파일 내용 출력\n",
    "!type abc/myfile_two.txt"
   ]
  },
  {
   "cell_type": "code",
   "execution_count": null,
   "metadata": {},
   "outputs": [],
   "source": [
    "f = open('abc/myfile_two.txt','r')\n",
    "l1 = f.readline()\n",
    "l2 = f.readline()\n",
    "l3 = f.readline()\n",
    "f.close()\n",
    "print(l1)\n",
    "print(l2)\n",
    "print(l3)"
   ]
  },
  {
   "cell_type": "markdown",
   "metadata": {
    "id": "cV609weTiFH5"
   },
   "source": [
    "### readlines()\n",
    "- 파일 전체의 모든 줄을 읽어서 한  줄씩을 요소로 갖는 리스트 타입으로  반환\n"
   ]
  },
  {
   "cell_type": "code",
   "execution_count": null,
   "metadata": {
    "id": "0BrkpKd-iBLV"
   },
   "outputs": [],
   "source": [
    "f = open('abc/myfile_two.txt','r')\n",
    "flines = f.readlines()\n",
    "f.close()\n",
    "print(flines)"
   ]
  },
  {
   "cell_type": "markdown",
   "metadata": {
    "id": "21RGW2K9ngQV"
   },
   "source": [
    "## 파일에서 문자열 한 줄씩 읽기\n",
    "lines 리스트에  할당된 문자열 for 문을 이용해 항목을 하나씩 처리"
   ]
  },
  {
   "cell_type": "code",
   "execution_count": null,
   "metadata": {
    "id": "kXDfoni1iMZs"
   },
   "outputs": [],
   "source": [
    "for i in flines:\n",
    "    print(i)"
   ]
  },
  {
   "cell_type": "markdown",
   "metadata": {
    "id": "bDOQvTSKnve-"
   },
   "source": [
    "for 문의 <반복 범위>에 lines 변수 대신 바로 f.readlines()를 사용\n"
   ]
  },
  {
   "cell_type": "code",
   "execution_count": null,
   "metadata": {
    "id": "yfeV1GqtnpqG"
   },
   "outputs": [],
   "source": [
    "for i in f.readlines():\n",
    "    print(i)"
   ]
  },
  {
   "cell_type": "markdown",
   "metadata": {
    "id": "Q4GX0P_6n1ZW"
   },
   "source": [
    "## with 문\n",
    "```\n",
    "with open('file_name', 'mode') as f:\n",
    "<코드 블록>\n",
    "```\n"
   ]
  },
  {
   "cell_type": "markdown",
   "metadata": {
    "id": "Np6kW-tHn7nh"
   },
   "source": [
    "파일에 문자열을 쓰는 예\n"
   ]
  },
  {
   "cell_type": "code",
   "execution_count": null,
   "metadata": {
    "id": "7PG32cCPn-47"
   },
   "outputs": [],
   "source": [
    "with open('abc/myfile_two.txt','w') as f1:\n",
    "    f1.write('12345677')\n",
    "    f2.write('abcdef')\n",
    "    f3.write('goodbye')"
   ]
  },
  {
   "cell_type": "markdown",
   "metadata": {
    "id": "VtAxhsedn9Gq"
   },
   "source": [
    "\n",
    "\n",
    "\n",
    "with 문을 이용해 생성한 파일을 읽는 예\n",
    "\n",
    "\n",
    "\n"
   ]
  },
  {
   "cell_type": "code",
   "execution_count": null,
   "metadata": {
    "id": "ZXixNLbuny_v"
   },
   "outputs": [],
   "source": [
    "with open('example.txt', 'w') as file:\n",
    "    file.write('Hello, World!\\n')\n",
    "    file.write('Welcome to Python programming.\\n')\n",
    "\n",
    "with open('example.txt', 'r') as file:\n",
    "    content = file.read()\n",
    "    print(content)"
   ]
  },
  {
   "cell_type": "markdown",
   "metadata": {
    "id": "ngpt5n8roLrJ"
   },
   "source": [
    "with 문을 반복문과 함께 이용하는 예\n"
   ]
  },
  {
   "cell_type": "code",
   "execution_count": null,
   "metadata": {
    "id": "BvmmJXjmoOUF"
   },
   "outputs": [],
   "source": [
    "lines_to_write = ['Line 1\\n', 'Line 2\\n', 'Line 3\\n']\n",
    "with open('example_lines.txt', 'w') as file:\n",
    "    for line in lines_to_write:\n",
    "        file.write(line)\n",
    "\n",
    "with open('example_lines.txt', 'r') as file:\n",
    "    content = file.read()\n",
    "    print(content)"
   ]
  },
  {
   "cell_type": "markdown",
   "metadata": {
    "id": "jnfxb9ZRoNrt"
   },
   "source": [
    "\n",
    "\n",
    "\n",
    "with 문과 for 문을 이용해 파일의 문자열을 한 줄씩 읽는 예\n"
   ]
  },
  {
   "cell_type": "code",
   "execution_count": null,
   "metadata": {
    "id": "NNIkOqxqoFSt"
   },
   "outputs": [],
   "source": [
    "with open('example_read_lines.txt', 'w') as file:\n",
    "    file.write('First line.\\n')\n",
    "    file.write('Second line.\\n')\n",
    "    file.write('Third line.\\n')\n",
    "\n",
    "with open('example_read_lines.txt', 'r') as file:\n",
    "    for line in file:\n",
    "        print(line.strip())"
   ]
  },
  {
   "cell_type": "markdown",
   "metadata": {
    "id": "NfE9x4W2K3SU"
   },
   "source": [
    "## pickle 모듈\n",
    "- 파일 작업 수행\n",
    "- 바이트 형식으로 저장하고 바이트 스트림을 읽어 Python 객체로 변환"
   ]
  },
  {
   "cell_type": "code",
   "execution_count": null,
   "metadata": {},
   "outputs": [],
   "source": [
    "import pickle\n",
    "\n",
    "fp = open('abc/binaryfile.dat','wb')\n",
    "fp"
   ]
  },
  {
   "cell_type": "code",
   "execution_count": null,
   "metadata": {},
   "outputs": [],
   "source": [
    "# 직렬화: 객체를 바이트 스트림으로 변환하여 파일에 저장 -> dump\n",
    "\n",
    "pickle.dump('abc', fp)\n",
    "pickle.dump([1,2,3],fp)\n",
    "pickle.dump((1,2,3),fp)\n",
    "fp.close()"
   ]
  },
  {
   "cell_type": "code",
   "execution_count": null,
   "metadata": {},
   "outputs": [],
   "source": [
    "# 역직렬화: 파일에서 바이트 스트림을 읽어 객체로 복원 -> load\n",
    "# dat 확장자 : 데이터 파일\n",
    "fp = open('abc/binaryfile.dat','rb')\n",
    "pickle.load(fp)"
   ]
  },
  {
   "cell_type": "code",
   "execution_count": null,
   "metadata": {},
   "outputs": [],
   "source": [
    "datalist =[]\n",
    "\n",
    "with open('abc/binaryfile.dat','rb') as pfile:\n",
    "    while True:\n",
    "        try:\n",
    "            data=pickle.load(pfile)\n",
    "            datalist.append(data)\n",
    "        except EOFError:\n",
    "            break\n",
    "datalist    "
   ]
  },
  {
   "cell_type": "markdown",
   "metadata": {},
   "source": [
    "## student 파일 저장해보기"
   ]
  },
  {
   "cell_type": "code",
   "execution_count": 1,
   "metadata": {},
   "outputs": [
    {
     "data": {
      "text/plain": [
       "[{'num': 2,\n",
       "  'name': '이철수',\n",
       "  'kor': 95,\n",
       "  'eng': 90,\n",
       "  'math': 88,\n",
       "  'total': 273,\n",
       "  'avg': 91.0,\n",
       "  'order': 1},\n",
       " {'num': 9,\n",
       "  'name': '김길동',\n",
       "  'kor': 93,\n",
       "  'eng': 99,\n",
       "  'math': 81,\n",
       "  'total': 273,\n",
       "  'avg': 91.0,\n",
       "  'order': 2},\n",
       " {'num': 8,\n",
       "  'name': '윤제이',\n",
       "  'kor': 81,\n",
       "  'eng': 87,\n",
       "  'math': 97,\n",
       "  'total': 265,\n",
       "  'avg': 88.33333333333333,\n",
       "  'order': 3},\n",
       " {'num': 5,\n",
       "  'name': '안제이',\n",
       "  'kor': 95,\n",
       "  'eng': 95,\n",
       "  'math': 66,\n",
       "  'total': 256,\n",
       "  'avg': 85.33333333333333,\n",
       "  'order': 4},\n",
       " {'num': 1,\n",
       "  'name': '김철수',\n",
       "  'kor': 90,\n",
       "  'eng': 80,\n",
       "  'math': 83,\n",
       "  'total': 253,\n",
       "  'avg': 84.33333333333333,\n",
       "  'order': 5},\n",
       " {'num': 10,\n",
       "  'name': '박길동',\n",
       "  'kor': 81,\n",
       "  'eng': 81,\n",
       "  'math': 88,\n",
       "  'total': 250,\n",
       "  'avg': 83.33333333333333,\n",
       "  'order': 6},\n",
       " {'num': 3,\n",
       "  'name': '박철수',\n",
       "  'kor': 80,\n",
       "  'eng': 85,\n",
       "  'math': 76,\n",
       "  'total': 241,\n",
       "  'avg': 80.33333333333333,\n",
       "  'order': 7},\n",
       " {'num': 4,\n",
       "  'name': '최철수',\n",
       "  'kor': 87,\n",
       "  'eng': 82,\n",
       "  'math': 56,\n",
       "  'total': 225,\n",
       "  'avg': 75.0,\n",
       "  'order': 8},\n",
       " {'num': 6,\n",
       "  'name': '홍길동',\n",
       "  'kor': 77,\n",
       "  'eng': 65,\n",
       "  'math': 81,\n",
       "  'total': 223,\n",
       "  'avg': 74.33333333333333,\n",
       "  'order': 9},\n",
       " {'num': 7,\n",
       "  'name': '강철수',\n",
       "  'kor': 87,\n",
       "  'eng': 42,\n",
       "  'math': 82,\n",
       "  'total': 211,\n",
       "  'avg': 70.33333333333333,\n",
       "  'order': 10}]"
      ]
     },
     "execution_count": 1,
     "metadata": {},
     "output_type": "execute_result"
    }
   ],
   "source": [
    "# 학생 데이터 초기화 : 최소 10명 이상으로 설정\n",
    "# 학생들의 성적 총점과 평균 및 반 총점과 과목별 총점 구하기\n",
    "# 학생별 성적 처리 결과를 출력\n",
    "# 반 총점, 평균 및 각 과목별 총점과 평균을 계산\n",
    "# 반 평균 및 각 과목별 평균 출력\n",
    "# order는 석차\n",
    "\n",
    "students = [\n",
    "    {'num': 1, 'name': '김철수', 'kor': 90, 'eng': 80, 'math': 83, 'total': 0, 'avg': 0.0, 'order': 0},\n",
    "    {'num': 2, 'name': '이철수', 'kor': 95, 'eng': 90, 'math': 88, 'total': 0, 'avg': 0.0, 'order': 0},\n",
    "    {'num': 3, 'name': '박철수', 'kor': 80, 'eng': 85, 'math': 76, 'total': 0, 'avg': 0.0, 'order': 0},\n",
    "    {'num': 4, 'name': '최철수', 'kor': 87, 'eng': 82, 'math': 56, 'total': 0, 'avg': 0.0, 'order': 0},\n",
    "    {'num': 5, 'name': '안제이', 'kor': 95, 'eng': 95, 'math': 66, 'total': 0, 'avg': 0.0, 'order': 0},\n",
    "    {'num': 6, 'name': '홍길동', 'kor': 77, 'eng': 65, 'math': 81, 'total': 0, 'avg': 0.0, 'order': 0},\n",
    "    {'num': 7, 'name': '강철수', 'kor': 87, 'eng': 42, 'math': 82, 'total': 0, 'avg': 0.0, 'order': 0},\n",
    "    {'num': 8, 'name': '윤제이', 'kor': 81, 'eng': 87, 'math': 97, 'total': 0, 'avg': 0.0, 'order': 0},\n",
    "    {'num': 9, 'name': '김길동', 'kor': 93, 'eng': 99, 'math': 81, 'total': 0, 'avg': 0.0, 'order': 0},\n",
    "    {'num': 10, 'name': '박길동', 'kor': 81, 'eng': 81, 'math': 88, 'total': 0, 'avg': 0.0, 'order': 0}\n",
    "]\n",
    "\n",
    "\n",
    "for i in students:\n",
    "    i['total'] = i['kor'] + i['eng'] + i['math']\n",
    "    i['avg'] = i['total'] / 3\n",
    "\n",
    "class_total = 0\n",
    "for j in students:\n",
    "    class_total += j['total']\n",
    "\n",
    "class_avg = round(class_total / 10, 1)\n",
    "\n",
    "kor_total = 0\n",
    "for k in students:\n",
    "    kor_total += k['kor']\n",
    "\n",
    "kor_avg = kor_total / 10\n",
    "\n",
    "eng_total = 0\n",
    "for k in students:\n",
    "    eng_total += k['eng']\n",
    "\n",
    "eng_avg = eng_total / 10\n",
    "\n",
    "math_total = 0\n",
    "for k in students:\n",
    "    math_total += k['math']\n",
    "\n",
    "math_avg = math_total / 10\n",
    "\n",
    "# 석차 구하기!!!\n",
    "students = sorted(students, key=lambda x: x['total'], reverse=True)\n",
    "for i, j in enumerate(students):\n",
    "    j['order'] = i + 1\n",
    "\n",
    "students"
   ]
  },
  {
   "cell_type": "code",
   "execution_count": 5,
   "metadata": {},
   "outputs": [
    {
     "name": "stdout",
     "output_type": "stream",
     "text": [
      "['반 국어 평균: 86.6, 반 영어 평균: 80.6, 반 수학 평균: 79.8, 반 전체 평균: 247.0\\n', '\\n', '석차: 1, 이름: 이철수, 국어: 95, 영어: 90, 수학: 88, 총점: 273, 평균: 91.00\\n', '석차: 2, 이름: 김길동, 국어: 93, 영어: 99, 수학: 81, 총점: 273, 평균: 91.00\\n', '석차: 3, 이름: 윤제이, 국어: 81, 영어: 87, 수학: 97, 총점: 265, 평균: 88.33\\n', '석차: 4, 이름: 안제이, 국어: 95, 영어: 95, 수학: 66, 총점: 256, 평균: 85.33\\n', '석차: 5, 이름: 김철수, 국어: 90, 영어: 80, 수학: 83, 총점: 253, 평균: 84.33\\n', '석차: 6, 이름: 박길동, 국어: 81, 영어: 81, 수학: 88, 총점: 250, 평균: 83.33\\n', '석차: 7, 이름: 박철수, 국어: 80, 영어: 85, 수학: 76, 총점: 241, 평균: 80.33\\n', '석차: 8, 이름: 최철수, 국어: 87, 영어: 82, 수학: 56, 총점: 225, 평균: 75.00\\n', '석차: 9, 이름: 홍길동, 국어: 77, 영어: 65, 수학: 81, 총점: 223, 평균: 74.33\\n', '석차: 10, 이름: 강철수, 국어: 87, 영어: 42, 수학: 82, 총점: 211, 평균: 70.33\\n']\n"
     ]
    }
   ],
   "source": [
    "with open('student_scores.txt', 'w', encoding='utf-8') as file:\n",
    "    file.write(f\"반 국어 평균: {kor_avg}, 반 영어 평균: {eng_avg}, 반 수학 평균: {math_avg}, 반 전체 평균: {class_avg}\\n\\n\")\n",
    "    \n",
    "    for student in students:\n",
    "        file.write(f\"석차: {student['order']}, 이름: {student['name']}, \"\n",
    "                   f\"국어: {student['kor']}, 영어: {student['eng']}, 수학: {student['math']}, \"\n",
    "                   f\"총점: {student['total']}, 평균: {student['avg']:.2f}\\n\")\n",
    "\n",
    "with open('student_scores.txt', 'r', encoding='utf-8') as file:\n",
    "    flines = file.readlines()\n",
    "\n",
    "print(flines)"
   ]
  }
 ],
 "metadata": {
  "colab": {
   "authorship_tag": "ABX9TyN3LnDgNx85ZCe/BSqnbyCe",
   "include_colab_link": true,
   "private_outputs": true,
   "provenance": [],
   "toc_visible": true
  },
  "kernelspec": {
   "display_name": "Python 3 (ipykernel)",
   "language": "python",
   "name": "python3"
  },
  "language_info": {
   "codemirror_mode": {
    "name": "ipython",
    "version": 3
   },
   "file_extension": ".py",
   "mimetype": "text/x-python",
   "name": "python",
   "nbconvert_exporter": "python",
   "pygments_lexer": "ipython3",
   "version": "3.12.4"
  }
 },
 "nbformat": 4,
 "nbformat_minor": 4
}
