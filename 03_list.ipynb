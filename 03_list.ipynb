{
 "cells": [
  {
   "cell_type": "markdown",
   "metadata": {
    "id": "ggXZA4BPCQks"
   },
   "source": [
    "## List(리스트)\n",
    "\n",
    "- 여러 개의 데이터를 묶어서 처리할 때 사용"
   ]
  },
  {
   "cell_type": "markdown",
   "metadata": {
    "id": "t2SRchESCeEh"
   },
   "source": [
    "### List 만드는 방법\n",
    "- 대괄호`[   ]`를 사용\n",
    "- 각각의 데이터는 콤마(`,`)를 사용해서 구분\n",
    "- 대괄호만 작성 시([    ]): 빈 List\n",
    "- List 안에 다양한 데이터를 넣을 수 있음"
   ]
  },
  {
   "cell_type": "code",
   "execution_count": 1,
   "metadata": {
    "colab": {
     "base_uri": "https://localhost:8080/"
    },
    "id": "gKO5zbZpCQk-",
    "outputId": "8d224dcc-1df4-4fc8-ee2c-cca0867a1aeb"
   },
   "outputs": [
    {
     "data": {
      "text/plain": [
       "[80, 90, 95, 100]"
      ]
     },
     "execution_count": 1,
     "metadata": {},
     "output_type": "execute_result"
    }
   ],
   "source": [
    "# 1번 학생의 국어, 영어, 수학, 과학 점수가 각각 80, 90, 95, 100\n",
    "score = [80, 90, 95, 100]\n",
    "score"
   ]
  },
  {
   "cell_type": "code",
   "execution_count": 3,
   "metadata": {},
   "outputs": [
    {
     "data": {
      "text/plain": [
       "list"
      ]
     },
     "execution_count": 3,
     "metadata": {},
     "output_type": "execute_result"
    }
   ],
   "source": [
    "type(score)"
   ]
  },
  {
   "cell_type": "code",
   "execution_count": 5,
   "metadata": {},
   "outputs": [
    {
     "data": {
      "text/plain": [
       "[0, 1, 2, 3, 4, 5, 6, 7, 8, 9]"
      ]
     },
     "execution_count": 5,
     "metadata": {},
     "output_type": "execute_result"
    }
   ],
   "source": [
    "score = list( range(0,10) )\n",
    "score"
   ]
  },
  {
   "cell_type": "markdown",
   "metadata": {
    "id": "rKoaCRx6DvUa"
   },
   "source": [
    "### List에서  각 항목 지정 방법\n",
    "`'변수명[i]'`로  지정"
   ]
  },
  {
   "cell_type": "code",
   "execution_count": 7,
   "metadata": {
    "colab": {
     "base_uri": "https://localhost:8080/"
    },
    "id": "C7J37xmDCQlB",
    "outputId": "b0eb7e38-5583-4004-80ae-6a68229b87b4"
   },
   "outputs": [
    {
     "data": {
      "text/plain": [
       "(0, 2, 9)"
      ]
     },
     "execution_count": 7,
     "metadata": {},
     "output_type": "execute_result"
    }
   ],
   "source": [
    "# 선택\n",
    "score[0], score[2], score[-1]"
   ]
  },
  {
   "cell_type": "markdown",
   "metadata": {
    "id": "PWXVNYmOEew7"
   },
   "source": [
    "##List의 특정 항목을 변경할 경우\n",
    "`변수명[i] = new_data`를 이용"
   ]
  },
  {
   "cell_type": "code",
   "execution_count": 9,
   "metadata": {
    "colab": {
     "base_uri": "https://localhost:8080/"
    },
    "id": "kUTwByJREmek",
    "outputId": "e496417a-2b66-4a23-f413-a7b5dbbf8f9d"
   },
   "outputs": [
    {
     "data": {
      "text/plain": [
       "[10, 1, 2, 3, 4, 5, 6, 7, 8, 9]"
      ]
     },
     "execution_count": 9,
     "metadata": {},
     "output_type": "execute_result"
    }
   ],
   "source": [
    "# 변경\n",
    "score[0]=10\n",
    "score"
   ]
  },
  {
   "cell_type": "markdown",
   "metadata": {
    "id": "2usZrfpnEcg3"
   },
   "source": [
    "List에 문자열을 입력하는 예"
   ]
  },
  {
   "cell_type": "code",
   "execution_count": 11,
   "metadata": {
    "colab": {
     "base_uri": "https://localhost:8080/"
    },
    "id": "p8crp2ukCQlD",
    "outputId": "680d858e-e321-44e4-d92a-bb507ee5fb24"
   },
   "outputs": [
    {
     "data": {
      "text/plain": [
       "['영희', '순희', '영수', '철수']"
      ]
     },
     "execution_count": 11,
     "metadata": {},
     "output_type": "execute_result"
    }
   ],
   "source": [
    "student = ['영희','순희','영수','철수']\n",
    "student"
   ]
  },
  {
   "cell_type": "markdown",
   "metadata": {
    "id": "gsEAqYMFEzK7"
   },
   "source": [
    "숫자, 문자열, 불, List를  혼합한 형태의  List"
   ]
  },
  {
   "cell_type": "code",
   "execution_count": 13,
   "metadata": {
    "colab": {
     "base_uri": "https://localhost:8080/"
    },
    "id": "NpN2C44HCQlF",
    "outputId": "565980be-477a-4419-9ca2-88a08edf7b8a"
   },
   "outputs": [
    {
     "data": {
      "text/plain": [
       "['영희', '순희', '영수', '철수', 100, 50, [20, 30], [10, 1, 2, 3, 4, 5, 6, 7, 8, 9]]"
      ]
     },
     "execution_count": 13,
     "metadata": {},
     "output_type": "execute_result"
    }
   ],
   "source": [
    "# 변수 = 자료의 주소\n",
    "school = ['영희','순희','영수','철수', 100, 50, [20,30], score]\n",
    "school"
   ]
  },
  {
   "cell_type": "code",
   "execution_count": 15,
   "metadata": {
    "colab": {
     "base_uri": "https://localhost:8080/"
    },
    "id": "5kJowDUwCQlG",
    "outputId": "396a8f23-e89d-4e60-fa0d-68bef1a21b13"
   },
   "outputs": [
    {
     "data": {
      "text/plain": [
       "[10, 1, 2, 3, 4, 5, 6, 7, 8, 9]"
      ]
     },
     "execution_count": 15,
     "metadata": {},
     "output_type": "execute_result"
    }
   ],
   "source": [
    "# 변수 = 변수(자료의 주소)\n",
    "# 주소의 복사 : 얕은 카피 - default\n",
    "\n",
    "a1 = school[7]\n",
    "a1"
   ]
  },
  {
   "cell_type": "code",
   "execution_count": 17,
   "metadata": {},
   "outputs": [
    {
     "data": {
      "text/plain": [
       "['k', 1, 2, 3, 4, 5, 6, 7, 8, 9]"
      ]
     },
     "execution_count": 17,
     "metadata": {},
     "output_type": "execute_result"
    }
   ],
   "source": [
    "# 주소의 공유 - 하나의 변수로 값을 수정, 다른 변수에도 반영되는 것처럼 보인다.\n",
    "# 왜냐면, 사실은 자료는 1개니까.\n",
    "\n",
    "a1[0] = 'k'\n",
    "a1"
   ]
  },
  {
   "cell_type": "code",
   "execution_count": 19,
   "metadata": {},
   "outputs": [
    {
     "data": {
      "text/plain": [
       "['k', 1, 2, 3, 4, 5, 6, 7, 8, 9]"
      ]
     },
     "execution_count": 19,
     "metadata": {},
     "output_type": "execute_result"
    }
   ],
   "source": [
    "# 서로 영향을 주지 않도록, 완전히 다른 값을 만들어야 할때는 깊은 카피\n",
    "# 자료의 복사본을 만든다.\n",
    "# 선택적으로 수행\n",
    "\n",
    "from copy import deepcopy\n",
    "a2 = deepcopy( school[7]  )\n",
    "a2"
   ]
  },
  {
   "cell_type": "code",
   "execution_count": 21,
   "metadata": {},
   "outputs": [
    {
     "data": {
      "text/plain": [
       "['k', 'j', 2, 3, 4, 5, 6, 7, 8, 9]"
      ]
     },
     "execution_count": 21,
     "metadata": {},
     "output_type": "execute_result"
    }
   ],
   "source": [
    "a2[1] ='j'\n",
    "a2"
   ]
  },
  {
   "cell_type": "markdown",
   "metadata": {
    "id": "MT-QNn8OCQlG"
   },
   "source": [
    "### List 연산\n",
    "\n",
    "▶ `+` 연산: 두 List를 연결\n",
    "▶ `*` 연산: 곱한 수만큼 반복\n",
    "▶ List 항목 일부 가져오기\n",
    " - list[start : end]\n",
    " - list[start : end : step]\n",
    "\n",
    "▶ List 항목 제거하기\n",
    "  - `del list[항목]`\n",
    "  \n",
    "▶ List 안에 값이 있는지 여부 확인\n",
    " - `in `: 값 in list\n",
    " - 결과: true/false"
   ]
  },
  {
   "cell_type": "markdown",
   "metadata": {
    "id": "tIAJP3VnFIxJ"
   },
   "source": [
    "### List 더하기\n",
    "두 List 연결"
   ]
  },
  {
   "cell_type": "code",
   "execution_count": 23,
   "metadata": {
    "colab": {
     "base_uri": "https://localhost:8080/"
    },
    "id": "GtMrHjmMCQlH",
    "outputId": "cc8ec98a-1892-488d-fc84-7abe7d9233d8"
   },
   "outputs": [
    {
     "data": {
      "text/plain": [
       "[1, 2, 3, 4, 6, 7, 8, 9]"
      ]
     },
     "execution_count": 23,
     "metadata": {},
     "output_type": "execute_result"
    }
   ],
   "source": [
    "list1 = list(range(1,5))\n",
    "list2 = list(range(6,10))\n",
    "list1 + list2"
   ]
  },
  {
   "cell_type": "code",
   "execution_count": 25,
   "metadata": {},
   "outputs": [
    {
     "data": {
      "text/plain": [
       "['__add__',\n",
       " '__class__',\n",
       " '__class_getitem__',\n",
       " '__contains__',\n",
       " '__delattr__',\n",
       " '__delitem__',\n",
       " '__dir__',\n",
       " '__doc__',\n",
       " '__eq__',\n",
       " '__format__',\n",
       " '__ge__',\n",
       " '__getattribute__',\n",
       " '__getitem__',\n",
       " '__getstate__',\n",
       " '__gt__',\n",
       " '__hash__',\n",
       " '__iadd__',\n",
       " '__imul__',\n",
       " '__init__',\n",
       " '__init_subclass__',\n",
       " '__iter__',\n",
       " '__le__',\n",
       " '__len__',\n",
       " '__lt__',\n",
       " '__mul__',\n",
       " '__ne__',\n",
       " '__new__',\n",
       " '__reduce__',\n",
       " '__reduce_ex__',\n",
       " '__repr__',\n",
       " '__reversed__',\n",
       " '__rmul__',\n",
       " '__setattr__',\n",
       " '__setitem__',\n",
       " '__sizeof__',\n",
       " '__str__',\n",
       " '__subclasshook__',\n",
       " 'append',\n",
       " 'clear',\n",
       " 'copy',\n",
       " 'count',\n",
       " 'extend',\n",
       " 'index',\n",
       " 'insert',\n",
       " 'pop',\n",
       " 'remove',\n",
       " 'reverse',\n",
       " 'sort']"
      ]
     },
     "execution_count": 25,
     "metadata": {},
     "output_type": "execute_result"
    }
   ],
   "source": [
    "dir(list1)"
   ]
  },
  {
   "cell_type": "markdown",
   "metadata": {
    "id": "DgFr5U18FL33"
   },
   "source": [
    "### List 곱하기\n",
    "List를 곱한 수만큼 반복"
   ]
  },
  {
   "cell_type": "code",
   "execution_count": 27,
   "metadata": {
    "colab": {
     "base_uri": "https://localhost:8080/"
    },
    "id": "QbOoMYp9CQlI",
    "outputId": "a697e871-259f-4216-a5a1-c674eff03bf0"
   },
   "outputs": [
    {
     "data": {
      "text/plain": [
       "[1, 2, 3, 4, 1, 2, 3, 4, 1, 2, 3, 4]"
      ]
     },
     "execution_count": 27,
     "metadata": {},
     "output_type": "execute_result"
    }
   ],
   "source": [
    "list1 * 3"
   ]
  },
  {
   "cell_type": "markdown",
   "metadata": {
    "id": "VKxg9kDFFTRp"
   },
   "source": [
    "### List  중 일부  항목 가져오기\n",
    "인덱스의 범위를  지정해 List 중 일부 항목을 가져옴\n",
    "\n",
    "\n",
    "\n",
    "\n",
    "> `List[i_start:i_end]` <br>\n",
    "> `List[i_start:i_end:i_step]`\n",
    "\n",
    "\n",
    "\n",
    "\n",
    "\n",
    "- `i_start`, `i_end`, `i_step`은 각각 인덱스의 시작, 끝, 스텝 (증가 단계)\n",
    "- `i_start`에서 `i_end - 1`까지의 List를 반환\n",
    "- `i_start`를 생략하면  인덱스는 0으로 간주\n",
    "- `i_end`를 생략하면 인덱스는 마지막이라고 간주\n",
    "\n",
    "\n",
    "\n",
    "\n",
    "\n",
    "\n"
   ]
  },
  {
   "cell_type": "code",
   "execution_count": 29,
   "metadata": {
    "colab": {
     "base_uri": "https://localhost:8080/"
    },
    "id": "cY2lF308CQlJ",
    "outputId": "db11fc4a-8f65-4763-e201-367eb78cf70d"
   },
   "outputs": [
    {
     "name": "stdout",
     "output_type": "stream",
     "text": [
      "[1, 2, 3, 4, 5]\n",
      "[1, 2, 3, 4, 5]\n",
      "[6, 7, 8, 9, 10, 11, 12, 13, 14, 15]\n"
     ]
    }
   ],
   "source": [
    "# slicing\n",
    "\n",
    "list3 = list(range(1,100))\n",
    "print(list3[0:5])\n",
    "print(list3[:5])\n",
    "print(list3[5:15])"
   ]
  },
  {
   "cell_type": "code",
   "execution_count": 31,
   "metadata": {
    "colab": {
     "base_uri": "https://localhost:8080/"
    },
    "id": "GlwtqTvfGMPq",
    "outputId": "bba897cd-51b1-4b00-fe02-7f540bcb369f"
   },
   "outputs": [
    {
     "data": {
      "text/plain": [
       "[90, 91, 92, 93, 94, 95, 96]"
      ]
     },
     "execution_count": 31,
     "metadata": {},
     "output_type": "execute_result"
    }
   ],
   "source": [
    "list3[-10:-3] # 역인덱스를 이용한 슬라이싱"
   ]
  },
  {
   "cell_type": "code",
   "execution_count": 33,
   "metadata": {
    "colab": {
     "base_uri": "https://localhost:8080/"
    },
    "id": "pieAk0dYGPyw",
    "outputId": "90f4f31f-e4e9-4688-e594-4a651d795812"
   },
   "outputs": [
    {
     "data": {
      "text/plain": [
       "[1, 3, 5, 7, 9, 11, 13, 15, 17, 19]"
      ]
     },
     "execution_count": 33,
     "metadata": {},
     "output_type": "execute_result"
    }
   ],
   "source": [
    "list3[0:20:2]"
   ]
  },
  {
   "cell_type": "code",
   "execution_count": 35,
   "metadata": {
    "colab": {
     "base_uri": "https://localhost:8080/"
    },
    "id": "v5WD9yz0GV0B",
    "outputId": "5e42a766-7d30-4f55-b4d1-da3f2cb780b9"
   },
   "outputs": [
    {
     "data": {
      "text/plain": [
       "[0, 1, 2, 3, 4, 5, 6, 7, 8, 9]"
      ]
     },
     "execution_count": 35,
     "metadata": {},
     "output_type": "execute_result"
    }
   ],
   "source": [
    "list3 = list(range(10))\n",
    "list3"
   ]
  },
  {
   "cell_type": "code",
   "execution_count": 37,
   "metadata": {
    "colab": {
     "base_uri": "https://localhost:8080/"
    },
    "id": "xJAoLBoDCQlJ",
    "outputId": "b105271f-df9b-42d9-cd4a-2138ad9b303b"
   },
   "outputs": [
    {
     "data": {
      "text/plain": [
       "2838944111808"
      ]
     },
     "execution_count": 37,
     "metadata": {},
     "output_type": "execute_result"
    }
   ],
   "source": [
    "id(list3)"
   ]
  },
  {
   "cell_type": "code",
   "execution_count": 39,
   "metadata": {},
   "outputs": [
    {
     "data": {
      "text/plain": [
       "2838944118080"
      ]
     },
     "execution_count": 39,
     "metadata": {},
     "output_type": "execute_result"
    }
   ],
   "source": [
    "list3 = list(range(100))\n",
    "id(list3)"
   ]
  },
  {
   "cell_type": "markdown",
   "metadata": {
    "id": "O3UIFUbFGB9T"
   },
   "source": [
    "### List에서 항목 삭제하기\n",
    "`del List[i]`\n"
   ]
  },
  {
   "cell_type": "code",
   "execution_count": 41,
   "metadata": {
    "colab": {
     "base_uri": "https://localhost:8080/"
    },
    "id": "-_Ip4X2nCQlJ",
    "outputId": "f147029e-f7ab-425b-8429-101c592d089a"
   },
   "outputs": [],
   "source": [
    "del list3\n",
    "del list1[0]"
   ]
  },
  {
   "cell_type": "markdown",
   "metadata": {
    "id": "otxtZ4f-GcW1"
   },
   "source": [
    "### List에서  항목의  존재  여부 확인하기\n",
    "`항목 in List`\n",
    "\n",
    "List에 항목이 있으면 `True`, 없으면 `False를` 반환"
   ]
  },
  {
   "cell_type": "code",
   "execution_count": 43,
   "metadata": {
    "colab": {
     "base_uri": "https://localhost:8080/"
    },
    "id": "abu1DZcsCQlK",
    "outputId": "de538d00-1202-488e-d3fd-eb930d379184"
   },
   "outputs": [],
   "source": [
    "list3 = list(range(1,100))"
   ]
  },
  {
   "cell_type": "code",
   "execution_count": 45,
   "metadata": {
    "colab": {
     "base_uri": "https://localhost:8080/"
    },
    "id": "RKOpv8pDCQlK",
    "outputId": "2aae9b14-35cf-4eb2-8c5d-acd2b93bf3f6"
   },
   "outputs": [
    {
     "data": {
      "text/plain": [
       "True"
      ]
     },
     "execution_count": 45,
     "metadata": {},
     "output_type": "execute_result"
    }
   ],
   "source": [
    "3 in list3"
   ]
  },
  {
   "cell_type": "markdown",
   "metadata": {
    "id": "so_YObMTCQlL"
   },
   "source": [
    "### 자주 사용하는 List 메소드\n",
    "\n",
    ":`변수명.메서드()`\n",
    "\n",
    "1) append()\n",
    " - List에서 항목을 맨 마지막에 추가\n",
    "\n",
    "2) insert()\n",
    " - List에서 특정 위치에 항목을 추가\n",
    "\n",
    "3) extend()\n",
    " - List에서 항목 여러 개를 마지막에 추가\n",
    "\n",
    "4) remove()\n",
    " - 입력값과 첫번째로 일치하는 항목을 List에서 삭제\n",
    "\n",
    "5) pop()\n",
    " - List의 마지막 항목을 제거한 후에 반환\n",
    "\n",
    "6) index()\n",
    " - List의 위치를 반환\n",
    "\n",
    "7) count()\n",
    " - List 안에 포함된 항목의 개수를 반환\n",
    "\n",
    "8) sort()\n",
    " - 순방향 정렬\n",
    "\n",
    "9) reverse()\n",
    " - List 항목을 역순으로 정렬"
   ]
  },
  {
   "cell_type": "markdown",
   "metadata": {
    "id": "k6VjSEkKHsE5"
   },
   "source": [
    "### append()\n",
    "\n",
    "List에서 항목을 맨 마지막에 추가"
   ]
  },
  {
   "cell_type": "code",
   "execution_count": 49,
   "metadata": {
    "colab": {
     "base_uri": "https://localhost:8080/"
    },
    "id": "Ys8dOfzeCQlM",
    "outputId": "50ad9901-b17a-4907-d0a4-10e31755bc6a"
   },
   "outputs": [
    {
     "data": {
      "text/plain": [
       "[2, 3, 4, 10, 10]"
      ]
     },
     "execution_count": 49,
     "metadata": {},
     "output_type": "execute_result"
    }
   ],
   "source": [
    "list1.append(10)\n",
    "list1"
   ]
  },
  {
   "cell_type": "markdown",
   "metadata": {
    "id": "RBxD6iyaHv0X"
   },
   "source": [
    "### insert()\n",
    "\n",
    "List에서 특정 위치에 항목을 추가"
   ]
  },
  {
   "cell_type": "code",
   "execution_count": 51,
   "metadata": {
    "colab": {
     "base_uri": "https://localhost:8080/"
    },
    "id": "kzjQeZZUCQlM",
    "outputId": "7ab067f9-86e0-4ea8-83e8-3a3599de60ba"
   },
   "outputs": [
    {
     "data": {
      "text/plain": [
       "[2, 3, 'test', 4, 10, 10]"
      ]
     },
     "execution_count": 51,
     "metadata": {},
     "output_type": "execute_result"
    }
   ],
   "source": [
    "list1.insert(2, 'test')\n",
    "list1"
   ]
  },
  {
   "cell_type": "markdown",
   "metadata": {
    "id": "kFNI8JR4H1TJ"
   },
   "source": [
    "### extend()\n",
    "\n",
    "List에서 항목 여러 개를 마지막에 추가"
   ]
  },
  {
   "cell_type": "code",
   "execution_count": 53,
   "metadata": {
    "colab": {
     "base_uri": "https://localhost:8080/"
    },
    "id": "8mDzrPcHCQlM",
    "outputId": "940e2e89-c652-40f8-c93c-f8d979328b6b"
   },
   "outputs": [
    {
     "data": {
      "text/plain": [
       "[2, 3, 'test', 4, 10, 10, '9', '9']"
      ]
     },
     "execution_count": 53,
     "metadata": {},
     "output_type": "execute_result"
    }
   ],
   "source": [
    "list1.extend('99')\n",
    "list1"
   ]
  },
  {
   "cell_type": "code",
   "execution_count": 55,
   "metadata": {},
   "outputs": [
    {
     "data": {
      "text/plain": [
       "[2, 3, 'test', 4, 10, 10, '9', '9', '99', '100', 10]"
      ]
     },
     "execution_count": 55,
     "metadata": {},
     "output_type": "execute_result"
    }
   ],
   "source": [
    "list1.extend(['99','100',10])\n",
    "list1"
   ]
  },
  {
   "cell_type": "markdown",
   "metadata": {
    "id": "log1ie61H9RF"
   },
   "source": [
    "### remove()\n",
    "\n",
    "입력값과 첫번째로 일치하는 항목을 List에서 삭제"
   ]
  },
  {
   "cell_type": "code",
   "execution_count": 57,
   "metadata": {
    "colab": {
     "base_uri": "https://localhost:8080/"
    },
    "id": "rPqGzyzrCQlN",
    "outputId": "e5b01685-9a2b-4815-c297-29cd643ce40b"
   },
   "outputs": [
    {
     "data": {
      "text/plain": [
       "[2, 3, 4, 10, 10, '9', '9', '99', '100', 10]"
      ]
     },
     "execution_count": 57,
     "metadata": {},
     "output_type": "execute_result"
    }
   ],
   "source": [
    "list1.remove('test')\n",
    "list1"
   ]
  },
  {
   "cell_type": "code",
   "execution_count": 59,
   "metadata": {
    "colab": {
     "base_uri": "https://localhost:8080/"
    },
    "id": "37K2zi79CQlN",
    "outputId": "376a525e-e701-407b-9300-0fee8d01b129"
   },
   "outputs": [
    {
     "ename": "ValueError",
     "evalue": "list.remove(x): x not in list",
     "output_type": "error",
     "traceback": [
      "\u001b[1;31m---------------------------------------------------------------------------\u001b[0m",
      "\u001b[1;31mValueError\u001b[0m                                Traceback (most recent call last)",
      "Cell \u001b[1;32mIn[59], line 1\u001b[0m\n\u001b[1;32m----> 1\u001b[0m list1\u001b[38;5;241m.\u001b[39mremove(\u001b[38;5;124m'\u001b[39m\u001b[38;5;124mtest\u001b[39m\u001b[38;5;124m'\u001b[39m)\n",
      "\u001b[1;31mValueError\u001b[0m: list.remove(x): x not in list"
     ]
    }
   ],
   "source": [
    "list1.remove('test')"
   ]
  },
  {
   "cell_type": "markdown",
   "metadata": {
    "id": "fLBSOWG_ICTP"
   },
   "source": [
    "### pop()\n",
    "\n",
    "List의 마지막 항목을 제거한 후에 반환"
   ]
  },
  {
   "cell_type": "code",
   "execution_count": 61,
   "metadata": {
    "colab": {
     "base_uri": "https://localhost:8080/"
    },
    "id": "M5ysUj5qCQlN",
    "outputId": "ad187a05-a275-41fe-bf7d-5fbb057e414c"
   },
   "outputs": [
    {
     "data": {
      "text/plain": [
       "10"
      ]
     },
     "execution_count": 61,
     "metadata": {},
     "output_type": "execute_result"
    }
   ],
   "source": [
    "list1.pop()"
   ]
  },
  {
   "cell_type": "code",
   "execution_count": 63,
   "metadata": {
    "id": "s8K-CDO6CQlN"
   },
   "outputs": [
    {
     "data": {
      "text/plain": [
       "[2, 3, 4, 10, 10, '9', '9', '99', '100']"
      ]
     },
     "execution_count": 63,
     "metadata": {},
     "output_type": "execute_result"
    }
   ],
   "source": [
    "list1"
   ]
  },
  {
   "cell_type": "code",
   "execution_count": 65,
   "metadata": {},
   "outputs": [
    {
     "data": {
      "text/plain": [
       "'100'"
      ]
     },
     "execution_count": 65,
     "metadata": {},
     "output_type": "execute_result"
    }
   ],
   "source": [
    "list1.pop()"
   ]
  },
  {
   "cell_type": "code",
   "execution_count": 67,
   "metadata": {},
   "outputs": [
    {
     "data": {
      "text/plain": [
       "[2, 3, 4, 10, 10, '9', '9', '99']"
      ]
     },
     "execution_count": 67,
     "metadata": {},
     "output_type": "execute_result"
    }
   ],
   "source": [
    "list1"
   ]
  },
  {
   "cell_type": "markdown",
   "metadata": {
    "id": "LhWN_3tMIGxa"
   },
   "source": [
    "### index()\n",
    "\n",
    "List의 위치를 반환"
   ]
  },
  {
   "cell_type": "code",
   "execution_count": 69,
   "metadata": {
    "colab": {
     "base_uri": "https://localhost:8080/"
    },
    "id": "J8AW9Qv6CQlN",
    "outputId": "421cb917-a34e-46ad-fac6-1961ac42b5c6"
   },
   "outputs": [
    {
     "data": {
      "text/plain": [
       "7"
      ]
     },
     "execution_count": 69,
     "metadata": {},
     "output_type": "execute_result"
    }
   ],
   "source": [
    "list1.index('99')"
   ]
  },
  {
   "cell_type": "markdown",
   "metadata": {
    "id": "xrZQBA9lIKLD"
   },
   "source": [
    "### count()\n",
    "\n",
    "List 안에 포함된 항목의 개수를 반환"
   ]
  },
  {
   "cell_type": "code",
   "execution_count": 71,
   "metadata": {
    "colab": {
     "base_uri": "https://localhost:8080/"
    },
    "id": "NgvoqbWqCQlN",
    "outputId": "a24eacbd-0b28-4d3b-823c-f8e4be005b01"
   },
   "outputs": [
    {
     "data": {
      "text/plain": [
       "1"
      ]
     },
     "execution_count": 71,
     "metadata": {},
     "output_type": "execute_result"
    }
   ],
   "source": [
    "cnt = list1.count('99')\n",
    "cnt"
   ]
  },
  {
   "cell_type": "markdown",
   "metadata": {
    "id": "xISFSaeOIOoj"
   },
   "source": [
    "### sort()\n",
    "\n",
    "순방향 정렬"
   ]
  },
  {
   "cell_type": "code",
   "execution_count": 75,
   "metadata": {
    "colab": {
     "base_uri": "https://localhost:8080/"
    },
    "id": "Pv5H7OWZCQlO",
    "outputId": "0943219b-e9f3-45df-9c7c-e8fd39ce4b0e"
   },
   "outputs": [
    {
     "data": {
      "text/plain": [
       "[0, 1, 2, 3, 4, 5, 9]"
      ]
     },
     "execution_count": 75,
     "metadata": {},
     "output_type": "execute_result"
    }
   ],
   "source": [
    "list5 = [0,1,3,5,4,2,9]\n",
    "list5.sort() # 메소드\n",
    "list5"
   ]
  },
  {
   "cell_type": "code",
   "execution_count": 77,
   "metadata": {},
   "outputs": [
    {
     "data": {
      "text/plain": [
       "[0, 1, 2, 3, 4, 5, 9]"
      ]
     },
     "execution_count": 77,
     "metadata": {},
     "output_type": "execute_result"
    }
   ],
   "source": [
    "sorted(list5) # 함수"
   ]
  },
  {
   "cell_type": "code",
   "execution_count": 79,
   "metadata": {},
   "outputs": [
    {
     "data": {
      "text/plain": [
       "[0, 1, 2, 3, 4, 5, 9]"
      ]
     },
     "execution_count": 79,
     "metadata": {},
     "output_type": "execute_result"
    }
   ],
   "source": [
    "list5 = [0,1,3,5,4,2,9]\n",
    "sorted(list5)"
   ]
  },
  {
   "cell_type": "code",
   "execution_count": 81,
   "metadata": {},
   "outputs": [
    {
     "data": {
      "text/plain": [
       "[0, 1, 3, 5, 4, 2, 9]"
      ]
     },
     "execution_count": 81,
     "metadata": {},
     "output_type": "execute_result"
    }
   ],
   "source": [
    "list5"
   ]
  },
  {
   "cell_type": "markdown",
   "metadata": {
    "id": "Ct_qxJtZIRnw"
   },
   "source": [
    " ### reverse()\n",
    "\n",
    "List 항목을 역순으로 정렬"
   ]
  },
  {
   "cell_type": "code",
   "execution_count": 85,
   "metadata": {
    "colab": {
     "base_uri": "https://localhost:8080/"
    },
    "id": "vxiVf1ZWCQlP",
    "outputId": "58cb3b31-2970-4aea-8173-2fea2eefc117"
   },
   "outputs": [
    {
     "data": {
      "text/plain": [
       "[0, 1, 3, 5, 4, 2, 9]"
      ]
     },
     "execution_count": 85,
     "metadata": {},
     "output_type": "execute_result"
    }
   ],
   "source": [
    "list5.reverse()\n",
    "list5"
   ]
  },
  {
   "cell_type": "markdown",
   "metadata": {
    "id": "wNSya0MKCQlP"
   },
   "source": [
    "### 리스트에 많이 쓰이는 함수들\n",
    "\n",
    "- type()\n",
    "- sorted()\n",
    "- dir()\n",
    "- id()"
   ]
  },
  {
   "cell_type": "code",
   "execution_count": 88,
   "metadata": {},
   "outputs": [
    {
     "data": {
      "text/plain": [
       "7"
      ]
     },
     "execution_count": 88,
     "metadata": {},
     "output_type": "execute_result"
    }
   ],
   "source": [
    "len(list5)"
   ]
  },
  {
   "cell_type": "code",
   "execution_count": 90,
   "metadata": {},
   "outputs": [
    {
     "data": {
      "text/plain": [
       "24"
      ]
     },
     "execution_count": 90,
     "metadata": {},
     "output_type": "execute_result"
    }
   ],
   "source": [
    "sum(list5)"
   ]
  },
  {
   "cell_type": "code",
   "execution_count": 92,
   "metadata": {},
   "outputs": [
    {
     "data": {
      "text/plain": [
       "2838955554944"
      ]
     },
     "execution_count": 92,
     "metadata": {},
     "output_type": "execute_result"
    }
   ],
   "source": [
    "list6 = [1, 2, 3, 4, 10, '9', '9', '99']\n",
    "id(list6)"
   ]
  },
  {
   "cell_type": "code",
   "execution_count": 94,
   "metadata": {},
   "outputs": [
    {
     "data": {
      "text/plain": [
       "2838968112384"
      ]
     },
     "execution_count": 94,
     "metadata": {},
     "output_type": "execute_result"
    }
   ],
   "source": [
    "id(list5)"
   ]
  },
  {
   "cell_type": "code",
   "execution_count": 96,
   "metadata": {},
   "outputs": [
    {
     "ename": "TypeError",
     "evalue": "unsupported operand type(s) for +: 'int' and 'str'",
     "output_type": "error",
     "traceback": [
      "\u001b[1;31m---------------------------------------------------------------------------\u001b[0m",
      "\u001b[1;31mTypeError\u001b[0m                                 Traceback (most recent call last)",
      "Cell \u001b[1;32mIn[96], line 1\u001b[0m\n\u001b[1;32m----> 1\u001b[0m \u001b[38;5;28msum\u001b[39m(list6)\n",
      "\u001b[1;31mTypeError\u001b[0m: unsupported operand type(s) for +: 'int' and 'str'"
     ]
    }
   ],
   "source": [
    "sum(list6)"
   ]
  },
  {
   "cell_type": "code",
   "execution_count": 98,
   "metadata": {},
   "outputs": [
    {
     "data": {
      "text/plain": [
       "9"
      ]
     },
     "execution_count": 98,
     "metadata": {},
     "output_type": "execute_result"
    }
   ],
   "source": [
    "max(list5)"
   ]
  },
  {
   "cell_type": "code",
   "execution_count": 100,
   "metadata": {},
   "outputs": [
    {
     "data": {
      "text/plain": [
       "0"
      ]
     },
     "execution_count": 100,
     "metadata": {},
     "output_type": "execute_result"
    }
   ],
   "source": [
    "min(list5)"
   ]
  },
  {
   "cell_type": "markdown",
   "metadata": {},
   "source": [
    "### 리스트 퀴즈\n",
    "\n",
    "Q1. [1,3,5,4,2]라는 리스트를 [5,4,3,2,1]로 만들어보자\n",
    "\n",
    "Q2. ['Life','is','too','short']라는 리스트를 Life is too short라는 문자열로 만들어 출력해 보자\n",
    "\n",
    "Q3. 다음 리스트 L의 순서를 아래와 같이 변경하시오. (힌트: pop())\n",
    "\n",
    "변경 전 \n",
    "\n",
    "[1, 3, 5, 7, 9]  \n",
    "\n",
    "변경 후\n",
    "\n",
    "[3, 5, 7, 9, 1]"
   ]
  },
  {
   "cell_type": "code",
   "execution_count": 105,
   "metadata": {},
   "outputs": [
    {
     "data": {
      "text/plain": [
       "[2, 4, 5, 3, 1]"
      ]
     },
     "execution_count": 105,
     "metadata": {},
     "output_type": "execute_result"
    }
   ],
   "source": [
    "# 1\n",
    "list1 = [1,3,5,4,2]\n",
    "list1 = reversed(list1)\n",
    "list(list1)"
   ]
  },
  {
   "cell_type": "code",
   "execution_count": 117,
   "metadata": {},
   "outputs": [
    {
     "data": {
      "text/plain": [
       "'Life is too short'"
      ]
     },
     "execution_count": 117,
     "metadata": {},
     "output_type": "execute_result"
    }
   ],
   "source": [
    "# 2\n",
    "list2 = ['Life','is','too','short']\n",
    "a = ' '.join(list2)\n",
    "a"
   ]
  },
  {
   "cell_type": "code",
   "execution_count": 1,
   "metadata": {},
   "outputs": [
    {
     "data": {
      "text/plain": [
       "[3, 5, 7, 9, 1]"
      ]
     },
     "execution_count": 1,
     "metadata": {},
     "output_type": "execute_result"
    }
   ],
   "source": [
    "# 3\n",
    "L = [1,3,5,7,9]\n",
    "a = L.pop(0)\n",
    "L.append(a)\n",
    "L"
   ]
  }
 ],
 "metadata": {
  "colab": {
   "include_colab_link": true,
   "provenance": [],
   "toc_visible": true
  },
  "kernelspec": {
   "display_name": "Python 3 (ipykernel)",
   "language": "python",
   "name": "python3"
  },
  "language_info": {
   "codemirror_mode": {
    "name": "ipython",
    "version": 3
   },
   "file_extension": ".py",
   "mimetype": "text/x-python",
   "name": "python",
   "nbconvert_exporter": "python",
   "pygments_lexer": "ipython3",
   "version": "3.12.4"
  },
  "toc": {
   "base_numbering": 1,
   "nav_menu": {},
   "number_sections": false,
   "sideBar": true,
   "skip_h1_title": false,
   "title_cell": "Table of Contents",
   "title_sidebar": "Contents",
   "toc_cell": false,
   "toc_position": {},
   "toc_section_display": true,
   "toc_window_display": false
  }
 },
 "nbformat": 4,
 "nbformat_minor": 4
}
