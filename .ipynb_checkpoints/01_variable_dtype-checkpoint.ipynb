{
 "cells": [
  {
   "cell_type": "markdown",
   "metadata": {
    "colab_type": "text",
    "id": "view-in-github"
   },
   "source": [
    "<a href=\"https://colab.research.google.com/github/zzhining/python_basic/blob/master/01_variable_dtype.ipynb\" target=\"_parent\"><img src=\"https://colab.research.google.com/assets/colab-badge.svg\" alt=\"Open In Colab\"/></a>"
   ]
  },
  {
   "cell_type": "markdown",
   "metadata": {
    "id": "BOwSskkOxfJf"
   },
   "source": [
    "# 파이썬의 변수 특징\n",
    "- 변수를 정의할 때 자료형을 선언하지 않음에도 불구하고 type-safe\n",
    "- type-safe는 프로그램이 실행되는 동안 데이터의 자료형이 일관성 있게 유지\n",
    "- 자료형 생성자를 이용해 형(type) 변환 가능\n"
   ]
  },
  {
   "cell_type": "markdown",
   "metadata": {
    "id": "TeAl2kCzxeXH"
   },
   "source": [
    "#  변수를 사용하지 않는 예"
   ]
  },
  {
   "cell_type": "code",
   "execution_count": null,
   "metadata": {
    "id": "3psC-k9CxeXI",
    "outputId": "ec87898d-e0f7-41ea-9deb-6dc95d0f6fdc"
   },
   "outputs": [],
   "source": [
    "12345 * 1/2"
   ]
  },
  {
   "cell_type": "markdown",
   "metadata": {
    "id": "M6kpGSucxeXK"
   },
   "source": [
    "# 변수의 개념\n",
    "\n",
    "## 변수(variable)\n",
    " - 자료(데이터)를 넣을 수 있는 상자\n",
    " - 변수명: 변수를 넣은 상자에 붙인 이름\n",
    " - \" 변수명 = 데이터 \"\n",
    "\n",
    "## 변수명을 만들 때의 규칙\n",
    " - 문자, 숫자, 밑줄(_)을 사용해서 만듦\n",
    " - 숫자로 시작하는 변수명 X\n",
    " - 대소문자를 구분\n",
    " - 공백 X\n",
    " - 밑줄을 제외한 다른 특수기호 X\n",
    " - 예약어X"
   ]
  },
  {
   "cell_type": "markdown",
   "metadata": {
    "id": "PMD7RZuGyEEU"
   },
   "source": [
    "# 이항 연산자\n",
    "\n",
    "|     연산자 표현식          |     연산자의 의미                                                                                                          |   |\n",
    "|----------------------------|----------------------------------------------------------------------------------------------------------------------------|---|\n",
    "|     a + b                  |     a와 b를 더한다                                                                                                         |   |\n",
    "|     a - b                  |     a에서 b를 뺀다                                                                                                         |   |\n",
    "|     a * b                  |     a에 b를 곱한다                                                                                                         |   |\n",
    "|     a / b                  |     a를 b로 나눈다                                                                                                         |   |\n",
    "|     a // b⭐                 |     a를 b로 나눈 몫을 취한다                                                                                               |   |\n",
    "|     a ** b⭐                 |     a의 b승을 구한다                                                                                                       |   |\n",
    "|     a &amp; b              |     a와 b   모두 True일   경우 True를   반환한다. 정수일   경우 비트 단위 AND를   구한다                                   |   |\n",
    "|     a \\| b                 |     a 혹은 b가 True일   경우 True를   반환한다. 정수일   경우 비트 단위 OR를   구한다                                      |   |\n",
    "|     a ^ b                  |     불리언일 경우 a   혹은 b 중   하나만 True일   경우 True를   반환한다. 정수일   경우 비트 단위 EXCLUSIVE-OR를 구한다    |   |\n",
    "|     a == b                 |     a와 b가 같은 경우 True                                                                                                 |   |\n",
    "|     a != b                 |     a와 b가 다를 경우 True                                                                                                 |   |\n",
    "|     a &lt;= b, a &lt; b    |     각각 a가   b 이하일 경우,   a가 b   미만일 경우 True                                                                   |   |\n",
    "|     a &gt; b, a &gt;= b    |     각각 a가   b 초과일 경우,   a가 b   이상일 경우 True                                                                   |   |\n",
    "|     a is b⭐                 |     a와 b가 같은 파이썬   객체를 참조할 경우 True                                                                          |   |\n",
    "|     a is not b⭐             |     a와 b가 다른 파이썬   객체를 참조할 경우 True                                                                          |   |"
   ]
  },
  {
   "cell_type": "markdown",
   "metadata": {
    "id": "aDOt6pmN3p4s"
   },
   "source": [
    "# 파이썬 자료형"
   ]
  },
  {
   "cell_type": "markdown",
   "metadata": {
    "id": "S6pOBgz13fD_"
   },
   "source": [
    "|     자료형    |     설명                                                                 |     예                                                         |\n",
    "|---------------|--------------------------------------------------------------------------|----------------------------------------------------------------|\n",
    "|     수치형    |     정수, 실수, 복소수   등을 표현                                       |     123,      1.43,      5+4j                                  |\n",
    "|     문자열    |     문자들의 모임       (내용   변경이 안 된다.)                    |     'spams',      \"ham\",      '''egg''',      \"\"\"hot dog\"\"\"    |\n",
    "|     리스트    |     순서를 가지는 파이썬 임의 객체의 집합                           |     ['ham',   'spam', 5]                                       |\n",
    "|     튜플      |     순서를 가지는 파이썬 임의 객체의 집합. 내용   변경이 안 됨    |     ('ham',   'spam', 5)                                       |\n",
    "|     사전      |     순서를 가지지 않는 객체의 집합. 키(Key)로 값을 꺼냄               |     {'ham':4,   'spam':5}                                      |"
   ]
  },
  {
   "cell_type": "markdown",
   "metadata": {
    "id": "Q0FmSriFy1JA"
   },
   "source": [
    "# 불리언 자료형\n",
    "- 불리언 자료형: True, False\n",
    "- 불리언 논리 연산자들: not, and, or\n",
    "- 비트와이즈 불리언 연산자들: &, |, ^\n",
    "- 비교: ==, !=, <, <=, >, >=, is, is not, in, not in\n"
   ]
  },
  {
   "cell_type": "code",
   "execution_count": 15,
   "metadata": {},
   "outputs": [
    {
     "data": {
      "text/plain": [
       "False"
      ]
     },
     "execution_count": 15,
     "metadata": {},
     "output_type": "execute_result"
    }
   ],
   "source": [
    "# 비교연산자\n",
    "bc = 10; bd = 20\n",
    "bc == bd"
   ]
  },
  {
   "cell_type": "markdown",
   "metadata": {},
   "source": [
    "# int"
   ]
  },
  {
   "cell_type": "code",
   "execution_count": 2,
   "metadata": {
    "id": "3fjvfAjozA7j"
   },
   "outputs": [
    {
     "data": {
      "text/plain": [
       "5"
      ]
     },
     "execution_count": 2,
     "metadata": {},
     "output_type": "execute_result"
    }
   ],
   "source": [
    "# 2진수\n",
    "a= 0b0101 # 2^2 + 2^0 = 4 + 1\n",
    "a"
   ]
  },
  {
   "cell_type": "code",
   "execution_count": 4,
   "metadata": {
    "id": "KvSD4Mw1zD27"
   },
   "outputs": [
    {
     "data": {
      "text/plain": [
       "365"
      ]
     },
     "execution_count": 4,
     "metadata": {},
     "output_type": "execute_result"
    }
   ],
   "source": [
    "# 8진수\n",
    "a = 0o555 # 5*8^2+5*8^1+5*8^0\n",
    "a"
   ]
  },
  {
   "cell_type": "code",
   "execution_count": 6,
   "metadata": {},
   "outputs": [
    {
     "data": {
      "text/plain": [
       "365"
      ]
     },
     "execution_count": 6,
     "metadata": {},
     "output_type": "execute_result"
    }
   ],
   "source": [
    "# 16진수\n",
    "a = 0x16d  #1*16^2 + 6*16^1 + d(13)*16^0\n",
    "a"
   ]
  },
  {
   "cell_type": "markdown",
   "metadata": {},
   "source": [
    "# float"
   ]
  },
  {
   "cell_type": "code",
   "execution_count": 13,
   "metadata": {},
   "outputs": [
    {
     "data": {
      "text/plain": [
       "3141500000.0"
      ]
     },
     "execution_count": 13,
     "metadata": {},
     "output_type": "execute_result"
    }
   ],
   "source": [
    "fa = 3.1415e9\n",
    "fa"
   ]
  },
  {
   "cell_type": "markdown",
   "metadata": {},
   "source": [
    "# 변수 여러개 활용"
   ]
  },
  {
   "cell_type": "code",
   "execution_count": 18,
   "metadata": {},
   "outputs": [],
   "source": [
    "a, b, c = 20, 30, 40"
   ]
  },
  {
   "cell_type": "code",
   "execution_count": 20,
   "metadata": {},
   "outputs": [],
   "source": [
    "a=10; b=20; c=30"
   ]
  },
  {
   "cell_type": "code",
   "execution_count": 22,
   "metadata": {},
   "outputs": [
    {
     "ename": "TypeError",
     "evalue": "cannot unpack non-iterable int object",
     "output_type": "error",
     "traceback": [
      "\u001b[1;31m---------------------------------------------------------------------------\u001b[0m",
      "\u001b[1;31mTypeError\u001b[0m                                 Traceback (most recent call last)",
      "Cell \u001b[1;32mIn[22], line 1\u001b[0m\n\u001b[1;32m----> 1\u001b[0m a, b, c \u001b[38;5;241m=\u001b[39m \u001b[38;5;241m30\u001b[39m\n",
      "\u001b[1;31mTypeError\u001b[0m: cannot unpack non-iterable int object"
     ]
    }
   ],
   "source": [
    "a, b, c = 30"
   ]
  },
  {
   "cell_type": "code",
   "execution_count": 24,
   "metadata": {},
   "outputs": [
    {
     "data": {
      "text/plain": [
       "False"
      ]
     },
     "execution_count": 24,
     "metadata": {},
     "output_type": "execute_result"
    }
   ],
   "source": [
    "c = 100 == 50\n",
    "c"
   ]
  },
  {
   "cell_type": "code",
   "execution_count": null,
   "metadata": {},
   "outputs": [],
   "source": []
  }
 ],
 "metadata": {
  "colab": {
   "include_colab_link": true,
   "provenance": [],
   "toc_visible": true
  },
  "kernelspec": {
   "display_name": "Python 3 (ipykernel)",
   "language": "python",
   "name": "python3"
  },
  "language_info": {
   "codemirror_mode": {
    "name": "ipython",
    "version": 3
   },
   "file_extension": ".py",
   "mimetype": "text/x-python",
   "name": "python",
   "nbconvert_exporter": "python",
   "pygments_lexer": "ipython3",
   "version": "3.12.4"
  },
  "toc": {
   "base_numbering": 1,
   "nav_menu": {},
   "number_sections": false,
   "sideBar": true,
   "skip_h1_title": false,
   "title_cell": "Table of Contents",
   "title_sidebar": "Contents",
   "toc_cell": false,
   "toc_position": {},
   "toc_section_display": true,
   "toc_window_display": false
  }
 },
 "nbformat": 4,
 "nbformat_minor": 4
}
