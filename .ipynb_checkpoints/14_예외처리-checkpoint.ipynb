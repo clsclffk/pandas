{
 "cells": [
  {
   "cell_type": "markdown",
   "metadata": {},
   "source": [
    "# 예외 처리"
   ]
  },
  {
   "cell_type": "markdown",
   "metadata": {},
   "source": [
    "### 1. 예외의 종류"
   ]
  },
  {
   "cell_type": "markdown",
   "metadata": {},
   "source": [
    "- 정상종료\n",
    "- 문법 오류\n",
    "- 논리 오류\n",
    "- 예외"
   ]
  },
  {
   "cell_type": "markdown",
   "metadata": {},
   "source": [
    "# 오류 vs 예외\n",
    "- **구문 오류(SyntaxError)**를 제외한 나머지 오류는 예외 처리가 가능"
   ]
  },
  {
   "cell_type": "code",
   "execution_count": 1,
   "metadata": {},
   "outputs": [
    {
     "ename": "SyntaxError",
     "evalue": "expected ':' (3687587894.py, line 2)",
     "output_type": "error",
     "traceback": [
      "\u001b[1;36m  Cell \u001b[1;32mIn[1], line 2\u001b[1;36m\u001b[0m\n\u001b[1;33m    while True\u001b[0m\n\u001b[1;37m              ^\u001b[0m\n\u001b[1;31mSyntaxError\u001b[0m\u001b[1;31m:\u001b[0m expected ':'\n"
     ]
    }
   ],
   "source": [
    "# SyntaxError\n",
    "while True\n",
    "    print('hello')"
   ]
  },
  {
   "cell_type": "code",
   "execution_count": 9,
   "metadata": {},
   "outputs": [
    {
     "ename": "NameError",
     "evalue": "name 'prin' is not defined",
     "output_type": "error",
     "traceback": [
      "\u001b[1;31m---------------------------------------------------------------------------\u001b[0m",
      "\u001b[1;31mNameError\u001b[0m                                 Traceback (most recent call last)",
      "Cell \u001b[1;32mIn[9], line 2\u001b[0m\n\u001b[0;32m      1\u001b[0m \u001b[38;5;66;03m# NameError\u001b[39;00m\n\u001b[1;32m----> 2\u001b[0m prin(num)\n",
      "\u001b[1;31mNameError\u001b[0m: name 'prin' is not defined"
     ]
    }
   ],
   "source": [
    "# NameError\n",
    "prin(num)"
   ]
  },
  {
   "cell_type": "code",
   "execution_count": 7,
   "metadata": {},
   "outputs": [
    {
     "ename": "ZeroDivisionError",
     "evalue": "division by zero",
     "output_type": "error",
     "traceback": [
      "\u001b[1;31m---------------------------------------------------------------------------\u001b[0m",
      "\u001b[1;31mZeroDivisionError\u001b[0m                         Traceback (most recent call last)",
      "Cell \u001b[1;32mIn[7], line 5\u001b[0m\n\u001b[0;32m      3\u001b[0m \u001b[38;5;28;01mdef\u001b[39;00m \u001b[38;5;21mdivide\u001b[39m(m, n):\n\u001b[0;32m      4\u001b[0m     \u001b[38;5;28;01mreturn\u001b[39;00m m \u001b[38;5;241m/\u001b[39m n\n\u001b[1;32m----> 5\u001b[0m divide(\u001b[38;5;241m10\u001b[39m,\u001b[38;5;241m0\u001b[39m)\n",
      "Cell \u001b[1;32mIn[7], line 4\u001b[0m, in \u001b[0;36mdivide\u001b[1;34m(m, n)\u001b[0m\n\u001b[0;32m      3\u001b[0m \u001b[38;5;28;01mdef\u001b[39;00m \u001b[38;5;21mdivide\u001b[39m(m, n):\n\u001b[1;32m----> 4\u001b[0m     \u001b[38;5;28;01mreturn\u001b[39;00m m \u001b[38;5;241m/\u001b[39m n\n",
      "\u001b[1;31mZeroDivisionError\u001b[0m: division by zero"
     ]
    }
   ],
   "source": [
    "# ZeroDivisionError\n",
    "\n",
    "def divide(m, n):\n",
    "    return m / n\n",
    "divide(10,0)"
   ]
  },
  {
   "cell_type": "code",
   "execution_count": 11,
   "metadata": {},
   "outputs": [
    {
     "ename": "TypeError",
     "evalue": "unsupported operand type(s) for /: 'NoneType' and 'int'",
     "output_type": "error",
     "traceback": [
      "\u001b[1;31m---------------------------------------------------------------------------\u001b[0m",
      "\u001b[1;31mTypeError\u001b[0m                                 Traceback (most recent call last)",
      "Cell \u001b[1;32mIn[11], line 2\u001b[0m\n\u001b[0;32m      1\u001b[0m \u001b[38;5;66;03m# TypeError\u001b[39;00m\n\u001b[1;32m----> 2\u001b[0m divide(\u001b[38;5;28;01mNone\u001b[39;00m,\u001b[38;5;241m10\u001b[39m)\n",
      "Cell \u001b[1;32mIn[7], line 4\u001b[0m, in \u001b[0;36mdivide\u001b[1;34m(m, n)\u001b[0m\n\u001b[0;32m      3\u001b[0m \u001b[38;5;28;01mdef\u001b[39;00m \u001b[38;5;21mdivide\u001b[39m(m, n):\n\u001b[1;32m----> 4\u001b[0m     \u001b[38;5;28;01mreturn\u001b[39;00m m \u001b[38;5;241m/\u001b[39m n\n",
      "\u001b[1;31mTypeError\u001b[0m: unsupported operand type(s) for /: 'NoneType' and 'int'"
     ]
    }
   ],
   "source": [
    "# TypeError\n",
    "divide(None,10)"
   ]
  },
  {
   "cell_type": "code",
   "execution_count": 19,
   "metadata": {},
   "outputs": [
    {
     "name": "stdout",
     "output_type": "stream",
     "text": [
      "0으로 나눌 수 없습니다.\n"
     ]
    },
    {
     "ename": "UnboundLocalError",
     "evalue": "cannot access local variable 'result' where it is not associated with a value",
     "output_type": "error",
     "traceback": [
      "\u001b[1;31m---------------------------------------------------------------------------\u001b[0m",
      "\u001b[1;31mUnboundLocalError\u001b[0m                         Traceback (most recent call last)",
      "Cell \u001b[1;32mIn[19], line 7\u001b[0m\n\u001b[0;32m      5\u001b[0m         \u001b[38;5;28mprint\u001b[39m(\u001b[38;5;124m'\u001b[39m\u001b[38;5;124m0으로 나눌 수 없습니다.\u001b[39m\u001b[38;5;124m'\u001b[39m)\n\u001b[0;32m      6\u001b[0m     \u001b[38;5;28mprint\u001b[39m(result)\n\u001b[1;32m----> 7\u001b[0m divide(\u001b[38;5;241m10\u001b[39m, \u001b[38;5;241m0\u001b[39m)\n",
      "Cell \u001b[1;32mIn[19], line 6\u001b[0m, in \u001b[0;36mdivide\u001b[1;34m(m, n)\u001b[0m\n\u001b[0;32m      4\u001b[0m \u001b[38;5;28;01mexcept\u001b[39;00m \u001b[38;5;167;01mZeroDivisionError\u001b[39;00m:\n\u001b[0;32m      5\u001b[0m     \u001b[38;5;28mprint\u001b[39m(\u001b[38;5;124m'\u001b[39m\u001b[38;5;124m0으로 나눌 수 없습니다.\u001b[39m\u001b[38;5;124m'\u001b[39m)\n\u001b[1;32m----> 6\u001b[0m \u001b[38;5;28mprint\u001b[39m(result)\n",
      "\u001b[1;31mUnboundLocalError\u001b[0m: cannot access local variable 'result' where it is not associated with a value"
     ]
    }
   ],
   "source": [
    "def divide(m,n):\n",
    "    try:\n",
    "        result = m / n\n",
    "    except ZeroDivisionError:\n",
    "        print('0으로 나눌 수 없습니다.')\n",
    "    print(result)\n",
    "divide(10, 0)"
   ]
  },
  {
   "cell_type": "code",
   "execution_count": 31,
   "metadata": {},
   "outputs": [
    {
     "name": "stdout",
     "output_type": "stream",
     "text": [
      "0으로 나눌 수 없습니다.\n"
     ]
    }
   ],
   "source": [
    "def divide(m,n):\n",
    "    try:\n",
    "        result = m / n\n",
    "        print(result)\n",
    "    except ZeroDivisionError:\n",
    "        print('0으로 나눌 수 없습니다.')\n",
    "divide(10,0)"
   ]
  },
  {
   "cell_type": "code",
   "execution_count": 33,
   "metadata": {},
   "outputs": [
    {
     "name": "stdout",
     "output_type": "stream",
     "text": [
      "나누는 값이 0이 아닌 값이 입력되어야 합니다.\n"
     ]
    }
   ],
   "source": [
    "def divide(m,n):\n",
    "    try:\n",
    "        result = m / n\n",
    "        print(result)\n",
    "    except ZeroDivisionError:\n",
    "        print('0으로 나눌 수 없습니다.')\n",
    "    except TypeError:\n",
    "        print('나누는 값이 0이 아닌 값이 입력되어야 합니다.')\n",
    "divide(None,0)"
   ]
  },
  {
   "cell_type": "markdown",
   "metadata": {},
   "source": [
    "### 2. 예외 발생시키기"
   ]
  },
  {
   "cell_type": "code",
   "execution_count": 13,
   "metadata": {},
   "outputs": [
    {
     "ename": "TypeError",
     "evalue": "",
     "output_type": "error",
     "traceback": [
      "\u001b[1;31m---------------------------------------------------------------------------\u001b[0m",
      "\u001b[1;31mTypeError\u001b[0m                                 Traceback (most recent call last)",
      "Cell \u001b[1;32mIn[13], line 1\u001b[0m\n\u001b[1;32m----> 1\u001b[0m \u001b[38;5;28;01mraise\u001b[39;00m \u001b[38;5;167;01mTypeError\u001b[39;00m\n",
      "\u001b[1;31mTypeError\u001b[0m: "
     ]
    }
   ],
   "source": [
    "raise TypeError"
   ]
  },
  {
   "cell_type": "code",
   "execution_count": 36,
   "metadata": {},
   "outputs": [
    {
     "ename": "TypeError",
     "evalue": "값을 맞게 넣어야지",
     "output_type": "error",
     "traceback": [
      "\u001b[1;31m---------------------------------------------------------------------------\u001b[0m",
      "\u001b[1;31mTypeError\u001b[0m                                 Traceback (most recent call last)",
      "Cell \u001b[1;32mIn[36], line 1\u001b[0m\n\u001b[1;32m----> 1\u001b[0m \u001b[38;5;28;01mraise\u001b[39;00m \u001b[38;5;167;01mTypeError\u001b[39;00m(\u001b[38;5;124m'\u001b[39m\u001b[38;5;124m값을 맞게 넣어야지\u001b[39m\u001b[38;5;124m'\u001b[39m)\n",
      "\u001b[1;31mTypeError\u001b[0m: 값을 맞게 넣어야지"
     ]
    }
   ],
   "source": [
    "raise TypeError('값을 맞게 넣어야지')"
   ]
  },
  {
   "cell_type": "code",
   "execution_count": 71,
   "metadata": {},
   "outputs": [
    {
     "ename": "Exception",
     "evalue": "예외 메시지",
     "output_type": "error",
     "traceback": [
      "\u001b[1;31m---------------------------------------------------------------------------\u001b[0m",
      "\u001b[1;31mException\u001b[0m                                 Traceback (most recent call last)",
      "Cell \u001b[1;32mIn[71], line 1\u001b[0m\n\u001b[1;32m----> 1\u001b[0m \u001b[38;5;28;01mraise\u001b[39;00m \u001b[38;5;167;01mException\u001b[39;00m(\u001b[38;5;124m\"\u001b[39m\u001b[38;5;124m예외 메시지\u001b[39m\u001b[38;5;124m\"\u001b[39m)\n",
      "\u001b[1;31mException\u001b[0m: 예외 메시지"
     ]
    }
   ],
   "source": [
    "raise Exception(\"예외 메시지\")"
   ]
  },
  {
   "cell_type": "code",
   "execution_count": 42,
   "metadata": {},
   "outputs": [
    {
     "name": "stdout",
     "output_type": "stream",
     "text": [
      "('타입 체크', None)\n"
     ]
    }
   ],
   "source": [
    "# 예외 발생하는 경우 처리\n",
    "try:\n",
    "    result = None\n",
    "    raise TypeError('타입 체크', result)\n",
    "except TypeError as e:\n",
    "    print(e.args)"
   ]
  },
  {
   "cell_type": "code",
   "execution_count": 54,
   "metadata": {},
   "outputs": [
    {
     "name": "stdout",
     "output_type": "stream",
     "text": [
      "ValueError 발생: invalid literal for int() with base 10: 'abc'\n"
     ]
    }
   ],
   "source": [
    "# try 구문에서는 가장 처음 발생한 예외만 처리!!\n",
    "try:\n",
    "    number = int(\"abc\")  # ValueError 발생\n",
    "    result = 10 / 0      # ZeroDivisionError 발생\n",
    "except ValueError as e:\n",
    "    print(\"ValueError 발생:\", e)\n",
    "# 예외가 처리되고 나면 프로그램은 계속되지 않으므로 ZeroDivisionError는 발생하지 않음\n",
    "except ZeroDivisionError as e:\n",
    "    print(\"ZeroDivisionError 발생:\", e) "
   ]
  },
  {
   "cell_type": "code",
   "execution_count": 69,
   "metadata": {},
   "outputs": [
    {
     "name": "stdout",
     "output_type": "stream",
     "text": [
      "list index out of range\n"
     ]
    }
   ],
   "source": [
    "try:\n",
    "    a = [1,2]\n",
    "    print(a[3])\n",
    "    4/0\n",
    "except (ZeroDivisionError, IndexError) as e:\n",
    "    print(e)"
   ]
  },
  {
   "cell_type": "markdown",
   "metadata": {},
   "source": [
    "### 3. 사용자 정의 예외"
   ]
  },
  {
   "cell_type": "code",
   "execution_count": 64,
   "metadata": {},
   "outputs": [],
   "source": [
    "# 예외 클래스 구현\n",
    "class AgeException(Exception):\n",
    "    def __init__(self, msg):\n",
    "        self._message = msg\n",
    "    def __str__(self):\n",
    "        return self._message\n",
    "        \n",
    "\n",
    "def input_age():\n",
    "    age = int(input('나이를 입력하세요...'))\n",
    "    if age < 0:\n",
    "        raise AgeException('나이는 음수가 될 수 없습니다.')\n",
    "    elif age > 150:\n",
    "        raise AgeException('150세 이상 살 수 있나요?')\n",
    "    else:\n",
    "        return age"
   ]
  },
  {
   "cell_type": "code",
   "execution_count": 56,
   "metadata": {},
   "outputs": [
    {
     "name": "stdin",
     "output_type": "stream",
     "text": [
      "나이를 입력하세요... -1\n"
     ]
    },
    {
     "ename": "AgeException",
     "evalue": "나이는 음수가 될 수 없습니다.",
     "output_type": "error",
     "traceback": [
      "\u001b[1;31m---------------------------------------------------------------------------\u001b[0m",
      "\u001b[1;31mAgeException\u001b[0m                              Traceback (most recent call last)",
      "Cell \u001b[1;32mIn[56], line 1\u001b[0m\n\u001b[1;32m----> 1\u001b[0m input_age()\n",
      "Cell \u001b[1;32mIn[46], line 12\u001b[0m, in \u001b[0;36minput_age\u001b[1;34m()\u001b[0m\n\u001b[0;32m     10\u001b[0m age \u001b[38;5;241m=\u001b[39m \u001b[38;5;28mint\u001b[39m(\u001b[38;5;28minput\u001b[39m(\u001b[38;5;124m'\u001b[39m\u001b[38;5;124m나이를 입력하세요...\u001b[39m\u001b[38;5;124m'\u001b[39m))\n\u001b[0;32m     11\u001b[0m \u001b[38;5;28;01mif\u001b[39;00m age \u001b[38;5;241m<\u001b[39m \u001b[38;5;241m0\u001b[39m:\n\u001b[1;32m---> 12\u001b[0m     \u001b[38;5;28;01mraise\u001b[39;00m AgeException(\u001b[38;5;124m'\u001b[39m\u001b[38;5;124m나이는 음수가 될 수 없습니다.\u001b[39m\u001b[38;5;124m'\u001b[39m)\n",
      "\u001b[1;31mAgeException\u001b[0m: 나이는 음수가 될 수 없습니다."
     ]
    }
   ],
   "source": [
    "input_age()"
   ]
  },
  {
   "cell_type": "markdown",
   "metadata": {},
   "source": [
    "---"
   ]
  },
  {
   "cell_type": "code",
   "execution_count": 66,
   "metadata": {},
   "outputs": [
    {
     "name": "stdin",
     "output_type": "stream",
     "text": [
      "나이를 입력하세요... 160\n"
     ]
    },
    {
     "name": "stdout",
     "output_type": "stream",
     "text": [
      "150세 이상 살 수 있나요?\n"
     ]
    }
   ],
   "source": [
    "try:\n",
    "    age = input_age()\n",
    "    print(age)\n",
    "except AgeException as e:\n",
    "    print(e)"
   ]
  },
  {
   "cell_type": "markdown",
   "metadata": {},
   "source": [
    "# try-fianlly 구문"
   ]
  },
  {
   "cell_type": "code",
   "execution_count": null,
   "metadata": {},
   "outputs": [],
   "source": [
    "def read_file(file_path):\n",
    "    file = None\n",
    "    try:\n",
    "        file = open(file_path, 'r')\n",
    "        data = file.read()\n",
    "        print(data)\n",
    "    finally:\n",
    "        if file is not None:\n",
    "            file.close()\n",
    "            print(\"파일이 성공적으로 닫혔습니다.\")\n",
    "\n",
    "# 파일을 읽는 함수 호출\n",
    "read_file('example.txt')"
   ]
  },
  {
   "cell_type": "code",
   "execution_count": null,
   "metadata": {},
   "outputs": [],
   "source": [
    "# 달별 날수를 리스트로 저장\n",
    "year_month_days = [0,31,28,31,30,31,30,31,31,30,31,30,31]\n",
    "\n",
    "year = int(input('해를 입력하시오. : '))\n",
    "month = int(input('달을 입력하시오. : '))\n",
    "day = int(input('일을 입력하시오. : '))\n",
    "\n",
    "total_days = 0\n",
    "\n",
    "for i in range(1, year):\n",
    "    if (i % 4 == 0 and i % 100 != 0) or (i % 400 == 0):\n",
    "        total_days += 366\n",
    "    else:\n",
    "        total_days += 365\n",
    "\n",
    "for m in range(1,month):\n",
    "    total_days += year_month_days[m]\n",
    "    \n",
    "# 현재 해가 윤년인지 아닌지 판단하기\n",
    "# 현재 해가 2월전인지 후인지 판단하기\n",
    "if month > 2:\n",
    "    if (year % 4 == 0 and year % 100 != 0) or (year % 400 == 0):\n",
    "        total_days+=1\n",
    "else:\n",
    "    total_days+=0\n",
    "\n",
    "total_days += day\n",
    "\n",
    "answer = total_days % 7\n",
    "answer\n"
   ]
  },
  {
   "cell_type": "code",
   "execution_count": null,
   "metadata": {},
   "outputs": [],
   "source": [
    "def leap_year(year):  # return False를 명시적으로 할 필요가 없음\n",
    "    return (year % 4 == 0 and year % 100 != 0) or (year % 400 == 0)\n",
    "\n",
    "year_month_days = [0,31,28,31,30,31,30,31,31,30,31,30,31]\n",
    "\n",
    "year = int(input('해를 입력하시오. : '))\n",
    "month = int(input('달을 입력하시오. : '))\n",
    "day = int(input('일을 입력하시오. : '))\n",
    "\n",
    "total_days = 0\n",
    "\n",
    "for i in range(1, year):\n",
    "    if leap_year(i):\n",
    "        total_days += 366\n",
    "    else:\n",
    "        total_days += 365\n",
    "\n",
    "for m in range(1, month):\n",
    "    total_days += year_month_days[m]\n",
    "\n",
    "# 현재 해가 윤년인지 확인하고 2월 이후인지 판단\n",
    "if month > 2 and leap_year(year):\n",
    "    total_days += 1\n",
    "\n",
    "# 입력한 일수를 총일수에 추가\n",
    "total_days += day\n",
    "\n",
    "# 요일 계산\n",
    "answer = total_days % 7\n",
    "print(f'요일: {answer}')"
   ]
  },
  {
   "cell_type": "code",
   "execution_count": 77,
   "metadata": {},
   "outputs": [
    {
     "name": "stdin",
     "output_type": "stream",
     "text": [
      "해를 입력하시오. :  2024\n",
      "달을 입력하시오. :  10\n",
      "일을 입력하시오. :  17\n"
     ]
    },
    {
     "data": {
      "text/plain": [
       "4"
      ]
     },
     "execution_count": 77,
     "metadata": {},
     "output_type": "execute_result"
    }
   ],
   "source": [
    "# 현재 날짜가 무슨 요일인지 \n",
    "# 0은 일요일\n",
    "# 윤년에는 2월이 29일\n",
    "# 평년에는 2월이 28일\n",
    "\n",
    "\n",
    "def is_leap_year(year):\n",
    "    return (year % 4 == 0 and year % 100 != 0) or (year % 400 == 0)\n",
    "    \n",
    "def calculate_weekday():\n",
    "    \n",
    "    year_month_days = [0,31,28,31,30,31,30,31,31,30,31,30,31]\n",
    "\n",
    "    year = int(input('해를 입력하시오. : '))\n",
    "    month = int(input('달을 입력하시오. : '))\n",
    "    day = int(input('일을 입력하시오. : '))\n",
    "\n",
    "    total_days = 0\n",
    "    for i in range(1,year):\n",
    "        if is_leap_year(i):\n",
    "            total_days += 366\n",
    "        else:\n",
    "            total_days += 365\n",
    "\n",
    "    for i in range(1,month):\n",
    "        total_days += year_month_days[i]\n",
    "\n",
    "    # 윤년인 경우 2월 이후에는 1일 추가\n",
    "    if is_leap_year(year) and month > 2:\n",
    "        total_days += 1\n",
    "\n",
    "    total_days += day\n",
    "\n",
    "    weekday = total_days % 7\n",
    "\n",
    "    return weekday\n",
    "\n",
    "calculate_weekday()"
   ]
  },
  {
   "cell_type": "code",
   "execution_count": 82,
   "metadata": {},
   "outputs": [
    {
     "name": "stdin",
     "output_type": "stream",
     "text": [
      "해를 입력하시오. :  2024\n",
      "달을 입력하시오. :  10\n",
      "일을 입력하시오. :  17\n"
     ]
    },
    {
     "name": "stdout",
     "output_type": "stream",
     "text": [
      "목요일\n"
     ]
    }
   ],
   "source": [
    "# more pythonic\n",
    "\n",
    "def is_leap_year(year):\n",
    "    return (year % 4 == 0 and year % 100 != 0) or (year % 400 == 0)\n",
    "\n",
    "def calculate_weekday():\n",
    "    \n",
    "    days_in_month = [0,31,28,31,30,31,30,31,31,30,31,30,31]\n",
    "\n",
    "    year = int(input('해를 입력하시오. : '))\n",
    "    month = int(input('달을 입력하시오. : '))\n",
    "    day = int(input('일을 입력하시오. : '))\n",
    "\n",
    "    # 리스트 컴프리헨션, 제너레이터 표현식# more pythonic\n",
    "\n",
    "def is_leap_year(year):\n",
    "    return (year % 4 == 0 and year % 100 != 0) or (year % 400 == 0)\n",
    "\n",
    "def calculate_weekday():\n",
    "    \n",
    "    days_in_month = [0,31,28,31,30,31,30,31,31,30,31,30,31]\n",
    "\n",
    "    year = int(input('해를 입력하시오. : '))\n",
    "    month = int(input('달을 입력하시오. : '))\n",
    "    day = int(input('일을 입력하시오. : '))\n",
    "\n",
    "    # 리스트 컴프리헨션, 제너레이터 표현식\n",
    "    total_days = sum(366 if is_leap_year(i) else 365 for i in range(1, year))\n",
    "    total_days += sum(days_in_month[:month]) + day\n",
    "\n",
    "    # 2월 이후의 윤년 추가 일수\n",
    "    if is_leap_year(year) and month > 2:\n",
    "        total_days += 1\n",
    "\n",
    "    weekday = total_days % 7\n",
    "\n",
    "    # 가독성을 위한 요일 이름!\n",
    "    weekday_names = ['일요일', '월요일', '화요일', '수요일', '목요일', '금요일', '토요일']\n",
    "    return weekday_names[weekday]\n",
    "\n",
    "# 요일 계산 및 출력\n",
    "print(calculate_weekday())"
   ]
  },
  {
   "cell_type": "code",
   "execution_count": 110,
   "metadata": {},
   "outputs": [
    {
     "name": "stdin",
     "output_type": "stream",
     "text": [
      "해를 입력하시오. :  2024\n",
      "달을 입력하시오. :  10\n",
      "일을 입력하시오. :  17\n"
     ]
    },
    {
     "data": {
      "text/plain": [
       "'목요일'"
      ]
     },
     "execution_count": 110,
     "metadata": {},
     "output_type": "execute_result"
    }
   ],
   "source": [
    "# 클래스로 만들기\n",
    "\n",
    "class DateCalculator:\n",
    "    def __init__(self,year,month,day):\n",
    "        self.year = year\n",
    "        self.month = month\n",
    "        self.day = day\n",
    "        self.days_in_month = [0,31,28,31,30,31,30,31,31,30,31,30,31]\n",
    "        \n",
    "    def is_leap_year(self,year):\n",
    "        return (year % 4 == 0 and year % 100 != 0) or (year % 400 == 0)\n",
    "        \n",
    "    def calculate_weekday(self):\n",
    "        total_days = sum(366 if self.is_leap_year(i) else 365 for i in range(1, self.year))\n",
    "        total_days += sum(self.days_in_month[:self.month]) + self.day\n",
    "    \n",
    "        # 윤년인 경우 2월 이후에는 1일 추가\n",
    "        if self.is_leap_year(self.year) and self.month > 2:\n",
    "            total_days += 1\n",
    "    \n",
    "        weekday = total_days % 7\n",
    "        weekday_names = ['일요일', '월요일', '화요일', '수요일', '목요일', '금요일', '토요일']\n",
    "        return weekday_names[weekday]\n",
    "\n",
    "year = int(input('해를 입력하시오. : '))\n",
    "month = int(input('달을 입력하시오. : '))\n",
    "day = int(input('일을 입력하시오. : '))\n",
    "\n",
    "a = DateCalculator(year,month,day)\n",
    "a.calculate_weekday()"
   ]
  },
  {
   "cell_type": "code",
   "execution_count": 124,
   "metadata": {},
   "outputs": [
    {
     "name": "stdin",
     "output_type": "stream",
     "text": [
      "해를 입력하시오. :  -1\n",
      "달을 입력하시오. :  5\n",
      "일을 입력하시오. :  5\n"
     ]
    },
    {
     "name": "stdout",
     "output_type": "stream",
     "text": [
      "입력 오류: 연도는 1에서 2024 사이의 숫자여야 합니다.\n"
     ]
    }
   ],
   "source": [
    "# 예외 처리 추가\n",
    "# year, month, day 범위가 적절한지\n",
    "\n",
    "def is_leap_year(year):\n",
    "    return (year % 4 == 0 and year % 100 != 0) or (year % 400 == 0)\n",
    "    \n",
    "def calculate_weekday():\n",
    "    \n",
    "    year_month_days = [0,31,28,31,30,31,30,31,31,30,31,30,31]\n",
    "\n",
    "    try:\n",
    "        year = int(input('해를 입력하시오. : '))\n",
    "        month = int(input('달을 입력하시오. : '))\n",
    "        day = int(input('일을 입력하시오. : '))\n",
    "\n",
    "        # 유효성 검사\n",
    "        if year < 1 or year > 2024:\n",
    "            raise ValueError('연도는 1에서 2024 사이의 숫자여야 합니다.')\n",
    "        if month < 1 or month > 12:\n",
    "            raise ValueError('월은 1에서 12 사이의 숫자입니다.')\n",
    "        if day < 1 or day > (year_month_days[month] + (1 if is_leap_year(year) and month == 2 else 0)):\n",
    "            raise ValueError(f'{year}년 {month}월에 해당하는 숫자가 아닙니다.')\n",
    "\n",
    "        total_days = 0\n",
    "        for i in range(1,year):\n",
    "            if is_leap_year(i):\n",
    "                total_days += 366\n",
    "            else:\n",
    "                total_days += 365\n",
    "    \n",
    "        for i in range(1,month):\n",
    "            total_days += year_month_days[i]\n",
    "    \n",
    "        # 윤년인 경우 2월 이후에는 1일 추가\n",
    "        if is_leap_year(year) and month > 2:\n",
    "            total_days += 1\n",
    "    \n",
    "        total_days += day\n",
    "    \n",
    "        weekday = total_days % 7\n",
    "        weekday_names = ['일요일', '월요일', '화요일', '수요일', '목요일', '금요일', '토요일']\n",
    "        return weekday_names[weekday]\n",
    "        \n",
    "    except ValueError as e:\n",
    "        print(f\"입력 오류: {e}\")\n",
    "        return  # 잘못된 입력일 경우 함수 종료\n",
    "\n",
    "a = calculate_weekday()\n",
    "if a is not None:\n",
    "    print(a)"
   ]
  }
 ],
 "metadata": {
  "kernelspec": {
   "display_name": "Python 3 (ipykernel)",
   "language": "python",
   "name": "python3"
  },
  "language_info": {
   "codemirror_mode": {
    "name": "ipython",
    "version": 3
   },
   "file_extension": ".py",
   "mimetype": "text/x-python",
   "name": "python",
   "nbconvert_exporter": "python",
   "pygments_lexer": "ipython3",
   "version": "3.12.4"
  },
  "vp": {
   "base_numbering": 1,
   "nav_menu": {},
   "number_sections": true,
   "sideBar": true,
   "title_cell": "VisualPython",
   "title_sidebar": "VisualPython",
   "vpPosition": {
    "height": "calc(100% - 180px)",
    "right": "10px",
    "top": "110px",
    "width": "50%"
   },
   "vp_cell": false,
   "vp_section_display": true,
   "vp_window_display": false
  }
 },
 "nbformat": 4,
 "nbformat_minor": 4
}
