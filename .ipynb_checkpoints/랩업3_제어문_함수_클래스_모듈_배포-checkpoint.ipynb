{
 "cells": [
  {
   "cell_type": "markdown",
   "metadata": {
    "colab_type": "text",
    "id": "view-in-github"
   },
   "source": [
    "<a href=\"https://colab.research.google.com/github/zzhining/python_basic/blob/master/answer/python_exercise_2_updated.ipynb\" target=\"_parent\"><img src=\"https://colab.research.google.com/assets/colab-badge.svg\" alt=\"Open In Colab\"/></a>"
   ]
  },
  {
   "cell_type": "markdown",
   "metadata": {
    "id": "N6jhKKBL_QoN"
   },
   "source": [
    "# 제어문\n"
   ]
  },
  {
   "cell_type": "markdown",
   "metadata": {
    "id": "3ryjv2Ld_WDO"
   },
   "source": [
    "## IF문\n",
    "Q1. 다음 코드의 결과값은 무엇일까?\n",
    "```\n",
    "a = \"Life is too short, you need python\"\n",
    "\n",
    "if \"wife\" in a:\n",
    "    print(\"wife\")\n",
    "\n",
    "elif \"python\" in a and \"you\" not in a:\n",
    "    print(\"python\")\n",
    "\n",
    "elif \"shirt\" not in a:\n",
    "    print(\"shirt\")\n",
    "\n",
    "elif \"need\" in a:\n",
    "    print(\"need\")\n",
    "\n",
    "else: print(\"none\")\n",
    "```"
   ]
  },
  {
   "cell_type": "code",
   "execution_count": 1,
   "metadata": {},
   "outputs": [
    {
     "name": "stdout",
     "output_type": "stream",
     "text": [
      "shirt\n"
     ]
    }
   ],
   "source": [
    "a = \"Life is too short, you need python\"\n",
    "\n",
    "if \"wife\" in a:\n",
    "    print(\"wife\")\n",
    "\n",
    "elif \"python\" in a and \"you\" not in a:\n",
    "    print(\"python\")\n",
    "\n",
    "elif \"shirt\" not in a:\n",
    "    print(\"shirt\")\n",
    "\n",
    "elif \"need\" in a:\n",
    "    print(\"need\")\n",
    "\n",
    "else: print(\"none\")"
   ]
  },
  {
   "cell_type": "markdown",
   "metadata": {},
   "source": [
    "결과는 shirt"
   ]
  },
  {
   "cell_type": "markdown",
   "metadata": {},
   "source": [
    "Q2. 휴대폰 번호 앞자리에 따라 통신사는 아래와 같이 구분된다.   \n",
    "사용자로부터 휴대전화 번호를 입력 받고, 통신사를 출력하는 프로그램을 작성하라.\n",
    "\n",
    "번호\t통신사  \n",
    "011\tSKT  \n",
    "016\tKT  \n",
    "019\tLGU  \n",
    "010\t알수없음\n",
    "\n",
    "```\n",
    ">> 휴대전화 번호 입력: 011-345-1922\n",
    "당신은 SKT 사용자입니다.\n",
    "```\n"
   ]
  },
  {
   "cell_type": "code",
   "execution_count": 13,
   "metadata": {},
   "outputs": [
    {
     "name": "stdin",
     "output_type": "stream",
     "text": [
      "휴대전화 번호 입력:  016-777-7777\n"
     ]
    },
    {
     "data": {
      "text/plain": [
       "'당신은 KT 사용자입니다.'"
      ]
     },
     "execution_count": 13,
     "metadata": {},
     "output_type": "execute_result"
    }
   ],
   "source": [
    "def telecom(number):\n",
    "    result = ''\n",
    "    if number[:3] == '011':\n",
    "        result =  'SKT'\n",
    "    elif number[:3] == '016':\n",
    "        result = 'KT'\n",
    "    elif number[:3] == '019':\n",
    "        result = 'LG'\n",
    "    elif number[:3] == '010':\n",
    "        result = '알 수 없는'\n",
    "    return f'당신은 {result} 사용자입니다.'\n",
    "\n",
    "\n",
    "phone_number = input('휴대전화 번호 입력: ')\n",
    "telecom(phone_number)"
   ]
  },
  {
   "cell_type": "code",
   "execution_count": 15,
   "metadata": {},
   "outputs": [
    {
     "name": "stdin",
     "output_type": "stream",
     "text": [
      "휴대전화 번호 입력:  010-7\n"
     ]
    },
    {
     "name": "stdout",
     "output_type": "stream",
     "text": [
      "당신은 알수없음 사용자입니다.\n"
     ]
    }
   ],
   "source": [
    "# pythonic\n",
    "\n",
    "def get_carrier(phone_number):\n",
    "    # 통신사 정보를 딕셔너리로 매핑\n",
    "    carrier_dict = {\n",
    "        '011': 'SKT',\n",
    "        '016': 'KT',\n",
    "        '019': 'LGU',\n",
    "        '010': '알수없음'\n",
    "    }\n",
    "    \n",
    "    # 번호의 앞자리를 추출\n",
    "    prefix = phone_number.split('-')[0]\n",
    "    \n",
    "    # 통신사 정보 가져오기\n",
    "    # get(조회하고자 하는 딕셔너리 키)  \n",
    "    # carrier = carrier_dict[prefix]\n",
    "    carrier = carrier_dict.get(prefix, '알수없음')\n",
    "    \n",
    "    \n",
    "    return f\"당신은 {carrier} 사용자입니다.\"\n",
    "\n",
    "phone_number = input(\"휴대전화 번호 입력: \")\n",
    "print(get_carrier(phone_number))"
   ]
  },
  {
   "cell_type": "markdown",
   "metadata": {},
   "source": [
    "Q3. 주민등록번호는 13자리로 구성되는데 마지막 자리수는 주민등록번호의 유효성을 체크하는데 사용된다.  \n",
    "먼저 앞에서부터 12자리의 숫자에 2, 3, 4, 5, 6, 7, 8, 9, 2, 3, 4, 5를 차례로 곱한 뒤 그 값을 전부 더한다.    \n",
    "연산 결과 값을 11로 나누면 나머지가 나오는데 11에서 나머지를 뺀 값이 주민등록번호의 마지막 번호가 된다.  \n",
    "\n",
    "```\n",
    "  8 2 1 0 1 0 - 1 6 3 5 2 1 0\n",
    "x 2 3 4 5 6 7   8 9 2 3 4 5 \n",
    "-----------------------------\n",
    "1차 계산: (8*2 + 2*3 + 1*4 + 0*5 + 1*6 + 0*7 + 1*8 + 6*9 + 3*2 + 5*3 + 2*4 + 1*5) = (128 % 11) = 7\n",
    "2차 계산: 11 -7 = 4\n",
    "\n",
    ">> 주민등록번호: 821010-1635210\n",
    "유효하지 않은 주민등록번호입니다. \n",
    "\n",
    "\n",
    "```\n",
    "\n"
   ]
  },
  {
   "cell_type": "code",
   "execution_count": 38,
   "metadata": {},
   "outputs": [
    {
     "name": "stdin",
     "output_type": "stream",
     "text": [
      "주민등록번호:  821010-1635210\n"
     ]
    },
    {
     "name": "stdout",
     "output_type": "stream",
     "text": [
      "유효하지 않은 주민등록번호입니다.\n"
     ]
    }
   ],
   "source": [
    "def id_number(n):\n",
    "    \n",
    "     # -기호 제거\n",
    "    n = n.replace('-', '')\n",
    "    \n",
    "    multiply_list = [2, 3, 4, 5, 6, 7, 8, 9, 2, 3, 4, 5]\n",
    "    result = 0\n",
    "    last_num = int(n[-1])\n",
    "    n = n[:-1]\n",
    "\n",
    "    # 인덱스 활용하기\n",
    "    for i in range(len(n)):\n",
    "        result += int(n[i]) * multiply_list[i]  \n",
    "\n",
    "    remainder = 11 - result % 11\n",
    "\n",
    "    if remainder == last_num:\n",
    "        return '유효한 주민등록번호입니다.'\n",
    "    else:\n",
    "        return '유효하지 않은 주민등록번호입니다.'\n",
    "\n",
    "my_id = input('주민등록번호: ')\n",
    "print(id_number(my_id))"
   ]
  },
  {
   "cell_type": "markdown",
   "metadata": {},
   "source": [
    "# request 라이브러리\n",
    "- Python에서 HTTP 요청을 쉽게 보내고 응답을 처리할 수 있도록 도와주는 라이브러리\n",
    "\n",
    "```python\n",
    "import requests\n",
    "\n",
    "# Get 요청 : 서버에서 데이터 가져오기\n",
    "response = requests.get('https://api.example.com/data')\n",
    "data = response.json()  # JSON 형식으로 응답을 파싱\n",
    "\n",
    "# Post 요청 : 서버에 데이터 전송\n",
    "data = {'key': 'value'}\n",
    "response = requests.post('https://api.example.com/data', json=data)\n",
    "\n",
    "# Put 요청 : 서버의 데이터 업데이트\n",
    "data = {'key': 'new_value'}\n",
    "response = requests.put('https://api.example.com/data/1', json=data)\n",
    "\n",
    "# Delete 요청 : 서버의 데이터 삭제\n",
    "response = requests.delete('https://api.example.com/data/1')\n",
    "\n",
    "# 응답 처리\n",
    "if response.status_code == 200:\n",
    "    print(\"Success!\")\n",
    "```\n"
   ]
  },
  {
   "cell_type": "markdown",
   "metadata": {},
   "source": [
    "Q4. 아래 코드는 비트코인의 가격 정보를 딕셔너리로 가져오는 코드이다.\n",
    "```\n",
    "import requests\n",
    "btc = requests.get(\"https://api.bithumb.com/public/ticker/\").json()['data']\n",
    "```\n",
    "btc 딕셔너리 안에는 시가, 종가, 최고가, 최저가 등이 저장되어 있다.   \n",
    "최고가와 최저가의 차이를 변동폭으로 정의할 때 (시가 + 변동폭)이 최고가 보다 높을 경우 \"상승장\", 그렇지 않은 경우 \"하락장\" 문자열을 출력하라.\n",
    "```\n",
    "Key Name\tDescription\n",
    "opening_price\t최근 24시간 내 시작 거래금액\n",
    "closing_price\t최근 24시간 내 마지막 거래금액\n",
    "min_price\t최근 24시간 내 최저 거래금액\n",
    "max_price\t최근 24시간 내 최고 거래금액\n",
    "```"
   ]
  },
  {
   "cell_type": "code",
   "execution_count": 40,
   "metadata": {},
   "outputs": [
    {
     "name": "stdout",
     "output_type": "stream",
     "text": [
      "상승장\n"
     ]
    }
   ],
   "source": [
    "import requests\n",
    "\n",
    "btc = requests.get(\"https://api.bithumb.com/public/ticker/\").json()['data']\n",
    "\n",
    "# 필요한 데이터 추출\n",
    "opening_price = float(btc['opening_price'])\n",
    "max_price = float(btc['max_price'])\n",
    "min_price = float(btc['min_price'])\n",
    "\n",
    "# 변동폭 계산\n",
    "volatility = max_price - min_price\n",
    "\n",
    "# 상승장 또는 하락장 판단\n",
    "if (opening_price + volatility) > max_price:\n",
    "    print(\"상승장\")\n",
    "else:\n",
    "    print(\"하락장\")"
   ]
  },
  {
   "cell_type": "markdown",
   "metadata": {
    "id": "bsElD7Y2AJvC"
   },
   "source": [
    "## While문\n",
    "<mark>Q1. while문을 이용하여 아래와 같이 별(*)을 표시하는 프로그램을 작성해보자</mark>\n",
    "\n",
    "```\n",
    "결과값\n",
    "*\n",
    "**\n",
    "***\n",
    "****\n",
    "*****\n",
    "```\n"
   ]
  },
  {
   "cell_type": "code",
   "execution_count": 42,
   "metadata": {
    "colab": {
     "base_uri": "https://localhost:8080/"
    },
    "id": "FB4lbVsG_e6X",
    "outputId": "103de300-c8bf-46a0-d92e-c4038a60f5fa"
   },
   "outputs": [
    {
     "name": "stdout",
     "output_type": "stream",
     "text": [
      "*\n",
      "**\n",
      "***\n",
      "****\n",
      "*****\n"
     ]
    }
   ],
   "source": [
    "cnt = 0\n",
    "while cnt < 5:\n",
    "    cnt += 1\n",
    "    print('*' * cnt)"
   ]
  },
  {
   "cell_type": "markdown",
   "metadata": {
    "id": "ZN-myqjRAkrG"
   },
   "source": [
    "## For 문\n",
    "\n",
    "<mark>Q1. A학급에 총 10명의 학생이 있다. 이 학생들의 중간고사 점수는 다음과 같다</mark>\n",
    "\n",
    "[70, 60, 55, 75, 95, 90, 80, 80, 85, 100]\n",
    "\n",
    "for문을 이용하여 A학급의 평균 점수를 구해 보자"
   ]
  },
  {
   "cell_type": "code",
   "execution_count": 45,
   "metadata": {
    "colab": {
     "base_uri": "https://localhost:8080/"
    },
    "id": "kwqG7nhdA0s8",
    "outputId": "1cc0ccef-c1df-49df-9636-de2f70867df0"
   },
   "outputs": [
    {
     "data": {
      "text/plain": [
       "79.0"
      ]
     },
     "execution_count": 45,
     "metadata": {},
     "output_type": "execute_result"
    }
   ],
   "source": [
    "lst = [70, 60, 55, 75, 95, 90, 80, 80, 85, 100]\n",
    "avg = sum(i for i in lst) / len(lst)\n",
    "avg"
   ]
  },
  {
   "cell_type": "markdown",
   "metadata": {},
   "source": [
    "<mark>Q2. 리스트에는 3일 간의 ohlc 데이터가 저장돼 있다. 시가에 매수해서 종가에 매도 했을 경우 총 수익금을 계산하라.</mark>\n",
    "\n",
    "```\n",
    "ohlc = [[\"open\", \"high\", \"low\", \"close\"],\n",
    "        [100, 110, 70, 100],\n",
    "        [200, 210, 180, 190],\n",
    "        [300, 310, 300, 310]]\n",
    "   ```\n",
    "\n",
    "1일차 수익 0원 (100 - 100), 2일차 수익 -10원 (190 - 200), 3일차 수익 10원 (310 - 300) 이다.\n",
    "\n",
    "`\n",
    "0\n",
    "`\n",
    "        "
   ]
  },
  {
   "cell_type": "code",
   "execution_count": 49,
   "metadata": {},
   "outputs": [
    {
     "name": "stdout",
     "output_type": "stream",
     "text": [
      "0\n"
     ]
    }
   ],
   "source": [
    "ohlc = [[\"open\", \"high\", \"low\", \"close\"],\n",
    "        [100, 110, 70, 100],\n",
    "        [200, 210, 180, 190],\n",
    "        [300, 310, 300, 310]]\n",
    "\n",
    "profit = 0\n",
    "for i in ohlc[1:]:\n",
    "    profit += i[3] - i[0]\n",
    "print(profit)"
   ]
  },
  {
   "cell_type": "markdown",
   "metadata": {
    "id": "nhSVzV71BKip"
   },
   "source": [
    "# 함수"
   ]
  },
  {
   "cell_type": "markdown",
   "metadata": {
    "id": "mUzBtRxkXn2v"
   },
   "source": [
    "## 피보나치 수열"
   ]
  },
  {
   "cell_type": "markdown",
   "metadata": {
    "id": "w6-sFvPeXm24"
   },
   "source": [
    "\n",
    "Q1. 첫번째 항의 값이 0이고 두 번째 항의 값이 1일때, 이후에 이어지는 항들은 이전의 두 항을 더한 값으로 이루어지는 수열을 피보나치 수열이라고 한다.\n",
    "\n",
    "0, 1, 1, 2, 3, 5, 8, 13, ...\n",
    "\n",
    "입력을 정수n으로 받았을 때, n 개의 피보나치 수열을 출력하는 함수를 작성해보자"
   ]
  },
  {
   "cell_type": "code",
   "execution_count": 74,
   "metadata": {
    "colab": {
     "base_uri": "https://localhost:8080/"
    },
    "id": "EtTo5Yi9Pn9L",
    "outputId": "28a9bcb3-98e7-4292-a10c-6c94bd2cb49b"
   },
   "outputs": [
    {
     "name": "stdout",
     "output_type": "stream",
     "text": [
      "0, 1, 1, 2, 3\n"
     ]
    }
   ],
   "source": [
    "def fibo(n):\n",
    "    if n <= 0:\n",
    "        return []\n",
    "    elif n == 1:\n",
    "        return [0]\n",
    "    elif n == 2:\n",
    "        return [0,1]\n",
    "\n",
    "    fibo_list = [0, 1]\n",
    "    for i in range(2, n):\n",
    "        next_value = fibo_list[-1] + fibo_list[-2]\n",
    "        fibo_list.append(next_value)\n",
    "    print(*fibo_list, sep = ', ')  # 언패킹\n",
    "        \n",
    "fibo(5)"
   ]
  },
  {
   "cell_type": "markdown",
   "metadata": {
    "id": "_P4Zg35NL6Vm"
   },
   "source": [
    "## 문자열 압축하기\n",
    "Q2. 문자열을 입력 받아 같은 문자가 연속적으로 반복되는 경우에 그 반복 횟수를 표시해 문자열을 압축하여 표시해 보자\n",
    "\n",
    "> 입력예시: aaabbcccccca\n",
    "\n",
    "> 출력예시: a3b2c6a1"
   ]
  },
  {
   "cell_type": "code",
   "execution_count": 76,
   "metadata": {
    "id": "GsoG5EhNMJs4"
   },
   "outputs": [
    {
     "data": {
      "text/plain": [
       "'a3b2c6a1'"
      ]
     },
     "execution_count": 76,
     "metadata": {},
     "output_type": "execute_result"
    }
   ],
   "source": [
    "#'코드를 작성하시오'\n",
    "def compress_string(s):\n",
    "    if not s:\n",
    "        return ''\n",
    "\n",
    "    compressed = []\n",
    "    count = 1  # 첫 번째 문자 카운트\n",
    "\n",
    "    # 문자열의 두 번째 문자부터 비교\n",
    "    for i in range(1, len(s)):\n",
    "        if s[i] == s[i-1]:\n",
    "            count += 1\n",
    "        else:\n",
    "            compressed.append(s[i-1] + str(count))\n",
    "            count = 1  # 카운트 초기화\n",
    "    compressed.append(s[-1] + str(count))\n",
    "\n",
    "    return ''.join(compressed)\n",
    "        \n",
    "compress_string('aaabbcccccca')"
   ]
  },
  {
   "cell_type": "code",
   "execution_count": null,
   "metadata": {
    "id": "sbRgcIycaSaQ"
   },
   "outputs": [],
   "source": [
    "# 작성 예시\n",
    "# \"aaabbcccccca\"\n",
    "def compress_string(s):\n",
    "  result = s[0]  # 첫번째 값을 결과에 넣는다\n",
    "  count  = 0   #\n",
    "\n",
    "  for st in s:\n",
    "    if st == result[-1]:  #\n",
    "        count += 1\n",
    "    else:\n",
    "        result += str(count) + st\n",
    "        count = 1\n",
    "  result += str(count)\n",
    "\n",
    "  return result"
   ]
  },
  {
   "cell_type": "code",
   "execution_count": null,
   "metadata": {
    "colab": {
     "base_uri": "https://localhost:8080/"
    },
    "id": "H1E5BkuKPL69",
    "outputId": "4d0d9577-df66-45fd-857b-42a3f12b4e11"
   },
   "outputs": [],
   "source": [
    "print(compress_string(\"aaabbcccccca\"))"
   ]
  },
  {
   "cell_type": "markdown",
   "metadata": {
    "id": "fpfVW4qwMMO_"
   },
   "source": [
    "## Duplicate Numbers\n",
    "Q3. 0 ~ 9 까지의 문자로 된 숫자를 입력받았을 때, 이 입력값이 0 ~ 9까지의 모든 숫자가 각각 한 번씩만 사용된 것인지 확인하는 함수를 작성해 보자.\n",
    "\n",
    ">입력예시 : 0123456789 01234 01234567890 6789012345 012322456789\n",
    "\n",
    ">출력예시 : true false false true false"
   ]
  },
  {
   "cell_type": "code",
   "execution_count": 82,
   "metadata": {
    "id": "LuXD0E0yM0nS"
   },
   "outputs": [
    {
     "name": "stdout",
     "output_type": "stream",
     "text": [
      "[True]\n",
      "[False]\n",
      "[False]\n",
      "[True]\n",
      "[False]\n"
     ]
    }
   ],
   "source": [
    "#'코드를 작성하시오'\n",
    "def chkDupNum(s):\n",
    "    numbers = s.split(' ')\n",
    "    results = []\n",
    "    \n",
    "    for i in numbers:\n",
    "        if len(i) == 10 and set(i) == set('0123456789'):\n",
    "            results.append(True)\n",
    "        else:\n",
    "            results.append(False)\n",
    "    return results\n",
    "\n",
    "print(chkDupNum(\"0123456789\"))\n",
    "print(chkDupNum(\"01234\"))\n",
    "print(chkDupNum(\"01234567890\"))\n",
    "print(chkDupNum(\"6789012345\"))\n",
    "print(chkDupNum(\"012322456789\"))"
   ]
  },
  {
   "cell_type": "code",
   "execution_count": null,
   "metadata": {
    "id": "7t7nbTnyZ86r"
   },
   "outputs": [],
   "source": [
    "## 작성 예시\n",
    "\n",
    "def chkDupNum(s):\n",
    "  result=[]\n",
    "  for num in s:\n",
    "        if num not in result:\n",
    "            result.append(num)\n",
    "        else:\n",
    "            return False\n",
    "  return len(result)==10"
   ]
  },
  {
   "cell_type": "code",
   "execution_count": null,
   "metadata": {
    "colab": {
     "base_uri": "https://localhost:8080/"
    },
    "id": "Mw7jJPwDPDLP",
    "outputId": "391d2fe5-bf71-4dd6-9962-e67705416ad8"
   },
   "outputs": [],
   "source": [
    "print(chkDupNum(\"0123456789\"))\n",
    "print(chkDupNum(\"01234\"))\n",
    "print(chkDupNum(\"01234567890\"))\n",
    "print(chkDupNum(\"6789012345\"))\n",
    "print(chkDupNum(\"012322456789\"))"
   ]
  },
  {
   "cell_type": "markdown",
   "metadata": {},
   "source": [
    "Q4. 콤마가 포함된 문자열 숫자를 입력받아 정수로 변환하는 convert_int 함수를 정의하라.\n",
    "\n",
    "```\n",
    "convert_int(\"1,234,567\")\n",
    "1234567\n",
    "```"
   ]
  },
  {
   "cell_type": "markdown",
   "metadata": {
    "id": "ah4ZzlwWLVWE"
   },
   "source": [
    "# 프로그램 구조"
   ]
  },
  {
   "cell_type": "markdown",
   "metadata": {
    "id": "9jjNEFxuKPRt"
   },
   "source": [
    "## 클래스\n",
    "Q1. 다음과 같이 동작하는 클래스 Calculator를 작성해 보자.\n",
    "\n",
    ">cal1 = Calculator([1,2,3,4,5])\n",
    "\n",
    ">cal1.sum() # 15\n",
    "\n",
    ">cal1.avg() # 3.0\n",
    "\n",
    ">cal2 = Calculator([6,7,8,9,10])\n",
    "\n",
    ">cal2.sum() # 40\n",
    "\n",
    "> cal2.avg() #8.0"
   ]
  },
  {
   "cell_type": "code",
   "execution_count": null,
   "metadata": {
    "id": "X7-hWEfVKqgG"
   },
   "outputs": [],
   "source": [
    "class Calculator:\n",
    "  def __init(self, numberList):\n",
    "    self.numberList = numberList\n",
    "\n",
    "  def sum(self):\n",
    "    '코드를 작성하시오'\n",
    "\n",
    "  def avg(self):\n",
    "    '코드를 작성하시오'\n",
    "\n"
   ]
  },
  {
   "cell_type": "code",
   "execution_count": null,
   "metadata": {
    "id": "EeG_yG2rZyDm"
   },
   "outputs": [],
   "source": [
    "## 작성 예시\n",
    "class Calculator:\n",
    "    def __init__(self, numberList):\n",
    "        self.numberList = numberList\n",
    "\n",
    "    def sum(self):\n",
    "        result = 0\n",
    "        for num in self.numberList:\n",
    "            result += num\n",
    "        return result\n",
    "\n",
    "    def avg(self):\n",
    "        total = self.sum()\n",
    "        return total / len(self.numberList)"
   ]
  },
  {
   "cell_type": "code",
   "execution_count": null,
   "metadata": {
    "colab": {
     "base_uri": "https://localhost:8080/"
    },
    "id": "tParL02iLNGM",
    "outputId": "a91f99ef-28fe-45d1-986f-b475d9347fbd"
   },
   "outputs": [],
   "source": [
    "cal1 = Calculator([1,2,3,4,5])\n",
    "print(cal1.sum()) # 15\n",
    "print(cal1.avg()) # 3.0"
   ]
  },
  {
   "cell_type": "code",
   "execution_count": null,
   "metadata": {
    "colab": {
     "base_uri": "https://localhost:8080/"
    },
    "id": "IJmIXs2kLOu9",
    "outputId": "c6ea81b1-1968-41e0-a915-0af4a7058109"
   },
   "outputs": [],
   "source": [
    "cal2 = Calculator([6,7,8,9,10])\n",
    "print(cal2.sum()) # 40\n",
    "print(cal2.avg()) #8.0"
   ]
  },
  {
   "cell_type": "code",
   "execution_count": null,
   "metadata": {},
   "outputs": [],
   "source": []
  },
  {
   "cell_type": "markdown",
   "metadata": {},
   "source": [
    "Q2. Account 클래스\n",
    "은행에 가서 계좌를 개설하면 은행이름, 예금주, 계좌번호, 잔액이 설정됩니다.  \n",
    "Account 클래스를 생성한 후 생성자를 구현해보세요. \n",
    "생성자에서는 예금주와 초기 잔액만 입력 받습니다.  \n",
    "은행이름은 SC은행으로 계좌번호는 3자리-2자리-6자리 형태로 랜덤하게 생성됩니다.  \n",
    "```\n",
    "은행이름: SC은행\n",
    "계좌번호: 111-11-111111\n",
    "```"
   ]
  },
  {
   "cell_type": "code",
   "execution_count": null,
   "metadata": {},
   "outputs": [],
   "source": []
  },
  {
   "cell_type": "markdown",
   "metadata": {},
   "source": [
    "Q2-1. 클래스 변수를 사용해서 Account 클래스로부터 생성된 계좌 객체의 개수를 저장하세요.\n",
    "\n",
    "그리고 Account 클래스로부터 생성된 계좌의 개수를 출력하는 get_account_num() 메서드를 추가하세요."
   ]
  },
  {
   "cell_type": "code",
   "execution_count": null,
   "metadata": {},
   "outputs": [],
   "source": []
  },
  {
   "cell_type": "markdown",
   "metadata": {},
   "source": [
    "Q2-2.  Account 클래스에 입금을 위한 deposit 메서드를 추가하세요. 입금은 최소 1원 이상만 가능합니다.\n",
    "\n",
    "Account 클래스에 출금을 위한 withdraw 메서드를 추가하세요. 출금은 계좌의 잔고 이상으로 출금할 수는 없습니다."
   ]
  },
  {
   "cell_type": "code",
   "execution_count": null,
   "metadata": {},
   "outputs": [],
   "source": []
  },
  {
   "cell_type": "markdown",
   "metadata": {},
   "source": [
    "Q2-3. Account 인스턴스에 저장된 정보를 출력하는 display_info() 메서드를 추가하세요. 잔고는 세자리마다 쉼표를 출력하세요.\n",
    "```\n",
    "은행이름: SC은행\n",
    "예금주: 파이썬\n",
    "계좌번호: 111-11-111111\n",
    "잔고: 10,000원\n",
    "```"
   ]
  },
  {
   "cell_type": "code",
   "execution_count": null,
   "metadata": {},
   "outputs": [],
   "source": []
  },
  {
   "cell_type": "markdown",
   "metadata": {},
   "source": [
    "Q2-4. \n",
    "\n",
    "1. 입금 횟수가 5회가 될 때 잔고를 기준으로 1%의 이자가 잔고에 추가되도록 코드를 변경해보세요.\n",
    "2. Account 클래스로부터 3개 이상 인스턴스를 생성하고 생성된 인스턴스를 리스트에 저장해보세요.\n",
    "3. 반복문을 통해 리스트에 있는 객체를 순회하면서 잔고가 100만원 이상인 고객의 정보만 출력하세요.\n",
    "4. 입금과 출금 내역이 기록되도록 코드를 업데이트 하세요. 입금 내역과 출금 내역을 출력하는 deposit_history와 withdraw_history 메서드를 추가하세요.\n",
    "\n"
   ]
  },
  {
   "cell_type": "code",
   "execution_count": null,
   "metadata": {},
   "outputs": [],
   "source": []
  },
  {
   "cell_type": "code",
   "execution_count": null,
   "metadata": {},
   "outputs": [],
   "source": []
  },
  {
   "cell_type": "code",
   "execution_count": null,
   "metadata": {},
   "outputs": [],
   "source": []
  },
  {
   "cell_type": "markdown",
   "metadata": {
    "id": "dxlQTTR3LSTJ"
   },
   "source": [
    "## 모듈\n",
    "Q1. 이전 문제에서 작성한 Calculator 클래스를 calculator.py 라는 파일로 저장하자, 그리고 이 파일을 모듈로 사용하려고 한다. 다음처럼 동작하도록 만들어 보자\n"
   ]
  },
  {
   "cell_type": "code",
   "execution_count": null,
   "metadata": {
    "id": "pspQg_42LoSP"
   },
   "outputs": [],
   "source": [
    "from calculator import Calculator\n",
    "\n",
    "cal1 = Calculator([1,2,3,4,5])\n",
    "cal1.sum()"
   ]
  },
  {
   "cell_type": "code",
   "execution_count": null,
   "metadata": {},
   "outputs": [],
   "source": []
  },
  {
   "cell_type": "code",
   "execution_count": null,
   "metadata": {},
   "outputs": [],
   "source": []
  },
  {
   "cell_type": "markdown",
   "metadata": {},
   "source": [
    "## 파일 입출력\n",
    "\n",
    "Q1. 바탕화면에 '매수종목1.txt' 파일을 생성한 후 다음과 같이 종목코드를 파일에 써보세요.\n",
    "```\n",
    "005930\n",
    "005380\n",
    "035420\n",
    "```"
   ]
  },
  {
   "cell_type": "code",
   "execution_count": null,
   "metadata": {},
   "outputs": [],
   "source": []
  },
  {
   "cell_type": "markdown",
   "metadata": {},
   "source": [
    "Q2.  바탕화면에 '매수종목2.txt' 파일을 생성한 후 다음과 같이 종목코드와 종목명을 파일에 써보세요.\n",
    "\n",
    "```\n",
    "005930 삼성전자\n",
    "005380 현대차\n",
    "035420 NAVER\n",
    "```"
   ]
  },
  {
   "cell_type": "code",
   "execution_count": null,
   "metadata": {},
   "outputs": [],
   "source": []
  },
  {
   "attachments": {
    "1f6a076c-2a4d-45f5-aa9c-d82f0e9a43a2.png": {
     "image/png": "[encoded data removed]"
    }
   },
   "cell_type": "markdown",
   "metadata": {},
   "source": [
    "Q3. 바탕화면에 '매수종목.csv' 파일을 생성한 후 다음과 같이 종목코드와 종목명을 파일에 써보세요. \n",
    "인코딩은 'cp949'를 사용해야합니다.\n",
    "\n",
    "![image.png](attachment:1f6a076c-2a4d-45f5-aa9c-d82f0e9a43a2.png)"
   ]
  },
  {
   "cell_type": "code",
   "execution_count": null,
   "metadata": {},
   "outputs": [],
   "source": []
  },
  {
   "cell_type": "markdown",
   "metadata": {},
   "source": [
    "Q4. 파일 읽기\n",
    "\n",
    "1. 바탕화면에 생성한 '매수종목1.txt' 파일을 읽은 후 종목코드를 리스트에 저장해보세요\n",
    "2. 바탕화면에 생성한 '매수종목2.txt' 파일을 읽은 후 종목코드와 종목명을 딕셔너리로 저장해보세요. 종목명을 key로 종목명을 value로 저장합니다.\n"
   ]
  },
  {
   "cell_type": "code",
   "execution_count": null,
   "metadata": {},
   "outputs": [],
   "source": []
  },
  {
   "cell_type": "code",
   "execution_count": null,
   "metadata": {},
   "outputs": [],
   "source": []
  },
  {
   "cell_type": "markdown",
   "metadata": {},
   "source": [
    "## 예외처리\n",
    "\n",
    "문자열 PER (Price to Earning Ratio) 값을 실수로 변환할 때 에러가 발생합니다. 예외처리를 통해 에러가 발생하는 PER은 0으로 출력하세요.\n",
    "```\n",
    "per = [\"10.31\", \"\", \"8.00\"]\n",
    "for i in per:\n",
    "    print(float(i))\n",
    "```"
   ]
  },
  {
   "cell_type": "code",
   "execution_count": null,
   "metadata": {},
   "outputs": [],
   "source": []
  },
  {
   "cell_type": "code",
   "execution_count": null,
   "metadata": {},
   "outputs": [],
   "source": []
  },
  {
   "cell_type": "code",
   "execution_count": null,
   "metadata": {},
   "outputs": [],
   "source": []
  },
  {
   "cell_type": "code",
   "execution_count": null,
   "metadata": {},
   "outputs": [],
   "source": []
  }
 ],
 "metadata": {
  "colab": {
   "include_colab_link": true,
   "provenance": [],
   "toc_visible": true
  },
  "kernelspec": {
   "display_name": "Python 3 (ipykernel)",
   "language": "python",
   "name": "python3"
  },
  "language_info": {
   "codemirror_mode": {
    "name": "ipython",
    "version": 3
   },
   "file_extension": ".py",
   "mimetype": "text/x-python",
   "name": "python",
   "nbconvert_exporter": "python",
   "pygments_lexer": "ipython3",
   "version": "3.12.4"
  }
 },
 "nbformat": 4,
 "nbformat_minor": 4
}
