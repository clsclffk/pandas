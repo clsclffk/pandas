{
 "cells": [
  {
   "cell_type": "markdown",
   "metadata": {
    "colab_type": "text",
    "id": "view-in-github"
   },
   "source": [
    "<a href=\"https://colab.research.google.com/github/zzhining/python_basic/blob/master/11_function_lambda.ipynb\" target=\"_parent\"><img src=\"https://colab.research.google.com/assets/colab-badge.svg\" alt=\"Open In Colab\"/></a>"
   ]
  },
  {
   "cell_type": "markdown",
   "metadata": {
    "id": "q79nAeAe3Zsy"
   },
   "source": [
    "# 함수\n",
    "- 함수 (function)는 특정 기능을 수행하는 코드의 묶음\n",
    "- 함수를 이용하면 같은 기능을 수행하는 코드를  반복해서 작성할 필요가 없음\n",
    "- 코드가 깔끔해지고 한번 만든 코드를 재사용할 수 있어서 코드를 작성하기가 편해짐\n",
    "- 내장 함수의 예: print(), type()\n"
   ]
  },
  {
   "cell_type": "markdown",
   "metadata": {
    "id": "j7dLpGOq3gMw"
   },
   "source": [
    "# 함수의 기본 구조\n",
    "- **인자**: 입력값\n",
    "    - 인자를 통해 함수에 값을 전달\n",
    "- **반환 값**: 결과값\n",
    "---\n",
    "- **함수 정의**: 함수 만들기\n",
    "- **함수 호출**: 정의된 함수 부르기\n"
   ]
  },
  {
   "cell_type": "markdown",
   "metadata": {
    "id": "KKmktB7B3vP5"
   },
   "source": [
    "#함수의 구조\n",
    "```\n",
    "def 함수명([인자1, 인자2, ··· , 인자n]):\n",
    "  <코드 블록>\n",
    "  [return <반환 값>]\n",
    "```\n",
    "---\n",
    "# 함수의 형태\n",
    "- 인자도 반환 값도 없는  함수\n",
    "- 인자는 있으나 반환 값이 없는  함수\n",
    "- 인자도 있고 반환 값도 있는  함수\n"
   ]
  },
  {
   "cell_type": "code",
   "execution_count": 3,
   "metadata": {},
   "outputs": [
    {
     "name": "stdout",
     "output_type": "stream",
     "text": [
      "안내말씀을 드립니다. 파이썬이 좀 재밌어졌나요?\n"
     ]
    }
   ],
   "source": [
    "# 입력 X, 반환 X\n",
    "def say_hello():\n",
    "    print('안내말씀을 드립니다. 파이썬이 좀 재밌어졌나요?')\n",
    "say_hello()"
   ]
  },
  {
   "cell_type": "code",
   "execution_count": 5,
   "metadata": {},
   "outputs": [
    {
     "name": "stdout",
     "output_type": "stream",
     "text": [
      "안내말씀을 드립니다. 등산이 좀 재밌어졌나요?\n"
     ]
    }
   ],
   "source": [
    "# 입력 1, 반환X\n",
    "def say_hello(name):\n",
    "    print(f'안내말씀을 드립니다. {name}이 좀 재밌어졌나요?')\n",
    "say_hello('등산')"
   ]
  },
  {
   "cell_type": "code",
   "execution_count": 9,
   "metadata": {},
   "outputs": [
    {
     "name": "stdout",
     "output_type": "stream",
     "text": [
      "안내말씀을 드립니다. 파이썬이 좀 재밌어졌나요?\n"
     ]
    },
    {
     "data": {
      "text/plain": [
       "'안내방송 끝'"
      ]
     },
     "execution_count": 9,
     "metadata": {},
     "output_type": "execute_result"
    }
   ],
   "source": [
    "# 입력 X, 반환 1\n",
    "def say_hello():\n",
    "    print('안내말씀을 드립니다. 파이썬이 좀 재밌어졌나요?')\n",
    "    return '안내방송 끝'\n",
    "result = say_hello()\n",
    "result"
   ]
  },
  {
   "cell_type": "code",
   "execution_count": 11,
   "metadata": {},
   "outputs": [
    {
     "data": {
      "text/plain": [
       "3"
      ]
     },
     "execution_count": 11,
     "metadata": {},
     "output_type": "execute_result"
    }
   ],
   "source": [
    "# 입력이 여러개, 반환 1\n",
    "def get_plus(n1, n2):\n",
    "    result = n1 + n2\n",
    "    return result\n",
    "get_plus(1,2)"
   ]
  },
  {
   "cell_type": "code",
   "execution_count": 17,
   "metadata": {},
   "outputs": [
    {
     "data": {
      "text/plain": [
       "(3, -1)"
      ]
     },
     "execution_count": 17,
     "metadata": {},
     "output_type": "execute_result"
    }
   ],
   "source": [
    "# 입력이 여러개, 반환 2\n",
    "def get_plus_minus(n1, n2):\n",
    "    result1 = n1 + n2\n",
    "    result2 = n1 - n2\n",
    "    return result1, result2\n",
    "get_plus_minus(1,2)"
   ]
  },
  {
   "cell_type": "code",
   "execution_count": 35,
   "metadata": {},
   "outputs": [
    {
     "name": "stdout",
     "output_type": "stream",
     "text": [
      "시장에 가면 사과, 샀습니다.\n",
      "시장에 가면 사과, 꽃, 고기, 당근, 오이, 샀습니다.\n"
     ]
    }
   ],
   "source": [
    "# 인수의 개수를 지정할 수 없을 때 : *args\n",
    "# 시장에 가면 함수\n",
    "def if_go_market(*args):\n",
    "    print(f'시장에 가면',end=' ')\n",
    "    for i in args:\n",
    "        print(f'{i},',end=' ')\n",
    "    print(f'샀습니다.')\n",
    "    \n",
    "\n",
    "if_go_market('사과')\n",
    "if_go_market('사과','꽃','고기','당근','오이')"
   ]
  },
  {
   "cell_type": "code",
   "execution_count": 37,
   "metadata": {},
   "outputs": [
    {
     "name": "stdout",
     "output_type": "stream",
     "text": [
      "0 0 7 빵\n"
     ]
    }
   ],
   "source": [
    "# 위치인자, 키워드인자\n",
    "def input_print(x,y,z,k):\n",
    "    print(x,y,z,k)\n",
    "input_print(0,0,7,'빵')"
   ]
  },
  {
   "cell_type": "code",
   "execution_count": 39,
   "metadata": {},
   "outputs": [
    {
     "name": "stdout",
     "output_type": "stream",
     "text": [
      "0 0 7 빵\n"
     ]
    }
   ],
   "source": [
    "input_print(0,0,k='빵',z=7)"
   ]
  },
  {
   "cell_type": "code",
   "execution_count": 41,
   "metadata": {},
   "outputs": [
    {
     "name": "stdout",
     "output_type": "stream",
     "text": [
      "ironman님, 지구를 지켜줘 ! !\n"
     ]
    }
   ],
   "source": [
    "# default 매개변수\n",
    "def say_hello(name, msg='지구를 지켜줘'):\n",
    "    print(f'{name}님, {msg} ! !')\n",
    "say_hello('ironman')"
   ]
  },
  {
   "cell_type": "code",
   "execution_count": 43,
   "metadata": {},
   "outputs": [
    {
     "name": "stdout",
     "output_type": "stream",
     "text": [
      "블랙팬서님, 와칸다포에버 ! !\n"
     ]
    }
   ],
   "source": [
    "say_hello('블랙팬서','와칸다포에버')"
   ]
  },
  {
   "cell_type": "markdown",
   "metadata": {},
   "source": [
    "# 초대장 생성 프로그램\n",
    "\n",
    "ooo님 안녕하세요?\n",
    "화창한 2024년 가을, 저희 컴퓨터 동아리 축제에 ooo님을 초대합니다.\n",
    "쿠폰 No. #\n",
    "ooo님 축제에서 만나길 고대하겠습니다."
   ]
  },
  {
   "cell_type": "code",
   "execution_count": 55,
   "metadata": {},
   "outputs": [
    {
     "name": "stdout",
     "output_type": "stream",
     "text": [
      "조인성님 안녕하세요?\n",
      "화창한 2024년 가을, 저희 컴퓨터 동아리 축제에 조인성님을 초대합니다.\n",
      "쿠폰 No. 1\n",
      "조인성님 축제에서 만나길 고대하겠습니다.\n",
      "김우빈님 안녕하세요?\n",
      "화창한 2024년 가을, 저희 컴퓨터 동아리 축제에 김우빈님을 초대합니다.\n",
      "쿠폰 No. 2\n",
      "김우빈님 축제에서 만나길 고대하겠습니다.\n",
      "정우성님 안녕하세요?\n",
      "화창한 2024년 가을, 저희 컴퓨터 동아리 축제에 정우성님을 초대합니다.\n",
      "쿠폰 No. 3\n",
      "정우성님 축제에서 만나길 고대하겠습니다.\n",
      "유해진님 안녕하세요?\n",
      "화창한 2024년 가을, 저희 컴퓨터 동아리 축제에 유해진님을 초대합니다.\n",
      "쿠폰 No. 4\n",
      "유해진님 축제에서 만나길 고대하겠습니다.\n"
     ]
    }
   ],
   "source": [
    "vip_list = ['조인성', '김우빈', '정우성', '유해진']\n",
    "\n",
    "num = 1\n",
    "for i in vip_list:\n",
    "    msg = f'{i}님 안녕하세요?\\n'\n",
    "    content = f'화창한 2024년 가을, 저희 컴퓨터 동아리 축제에 {i}님을 초대합니다.\\n'\n",
    "    coupon = f'쿠폰 No. {num}\\n'\n",
    "    num += 1\n",
    "    lst = f'{i}님 축제에서 만나길 고대하겠습니다.'\n",
    "    result = msg + content + coupon + lst\n",
    "    print(result)"
   ]
  },
  {
   "cell_type": "code",
   "execution_count": 65,
   "metadata": {},
   "outputs": [
    {
     "name": "stdout",
     "output_type": "stream",
     "text": [
      "조인성님 안녕하세요?\n",
      "\n",
      "화창한 2024년 가을, 저희 컴퓨터 동아리 축제에 조인성님을 초대합니다.\n",
      "\n",
      "쿠폰 No. 1\n",
      "\n",
      "조인성님 축제에서 만나길 고대하겠습니다.\n",
      "김우빈님 안녕하세요?\n",
      "\n",
      "화창한 2024년 가을, 저희 컴퓨터 동아리 축제에 김우빈님을 초대합니다.\n",
      "\n",
      "쿠폰 No. 2\n",
      "\n",
      "김우빈님 축제에서 만나길 고대하겠습니다.\n",
      "정우성님 안녕하세요?\n",
      "\n",
      "화창한 2024년 가을, 저희 컴퓨터 동아리 축제에 정우성님을 초대합니다.\n",
      "\n",
      "쿠폰 No. 3\n",
      "\n",
      "정우성님 축제에서 만나길 고대하겠습니다.\n",
      "유해진님 안녕하세요?\n",
      "\n",
      "화창한 2024년 가을, 저희 컴퓨터 동아리 축제에 유해진님을 초대합니다.\n",
      "\n",
      "쿠폰 No. 4\n",
      "\n",
      "유해진님 축제에서 만나길 고대하겠습니다.\n"
     ]
    }
   ],
   "source": [
    "def get_greet(name):\n",
    "    greet = f'{name}님 안녕하세요?\\n'\n",
    "    return greet\n",
    "\n",
    "def get_content(name):\n",
    "    content = f'화창한 2024년 가을, 저희 컴퓨터 동아리 축제에 {name}님을 초대합니다.\\n'\n",
    "    return content\n",
    "\n",
    "def get_last(name):\n",
    "    lst = f'{name}님 축제에서 만나길 고대하겠습니다.'\n",
    "    return lst\n",
    "\n",
    "# main program\n",
    "vip_list = ['조인성', '김우빈', '정우성', '유해진']\n",
    "\n",
    "num = 1\n",
    "for i in vip_list:\n",
    "    print(get_greet(i))\n",
    "    print(get_content(i))\n",
    "    print(f'쿠폰 No. {num}\\n')\n",
    "    print(get_last(i))\n",
    "    num += 1"
   ]
  },
  {
   "cell_type": "markdown",
   "metadata": {},
   "source": [
    "# 양수 음수 분류기\n",
    "- 다양한 개수의 정수를 입력받아, 각 수가 양수인지 음수인지 구분하여 각각의 개수를 출력하는 코드를 작성하시오.\n",
    "\n",
    "- 입력으로부터 정수리스트로 변환하는 것은 한 줄 코드로 작성\n",
    "- 입력 받은 값 중 0은 무시\n",
    "\n",
    "- 출력예시\n",
    "\n",
    "정수들을 입력: 입력한 숫자가 없습니다 양수: 0개, 음수: 0개, 합계: 0  \n",
    "정수들을 입력: 12 -56 25 98 -54 0 77 0 양수: 4개, 음수: 2개, 합계: 102"
   ]
  },
  {
   "cell_type": "code",
   "execution_count": 61,
   "metadata": {},
   "outputs": [
    {
     "name": "stdin",
     "output_type": "stream",
     "text": [
      "정수들을 입력하세요(공백으로 구분) \n"
     ]
    },
    {
     "data": {
      "text/plain": [
       "'입력한 숫자가 없습니다.'"
      ]
     },
     "execution_count": 61,
     "metadata": {},
     "output_type": "execute_result"
    }
   ],
   "source": [
    "def classifier():\n",
    "    args = [int(x) for x in input('정수들을 입력하세요(공백으로 구분)').split() if int(x) != 0]\n",
    "    if len(args) == 0:\n",
    "        return '입력한 숫자가 없습니다.'\n",
    "    else:\n",
    "        my_list = []\n",
    "        plus_list = []\n",
    "        minus_list = []\n",
    "        total_sum = 0\n",
    "        for i in args:\n",
    "            my_list.append(i)\n",
    "        for i in my_list:\n",
    "            if i > 0:\n",
    "                plus_list.append(i)\n",
    "                total_sum += i\n",
    "            else:\n",
    "                minus_list.append(i)\n",
    "                total_sum += i\n",
    "        plus_count = len(plus_list)\n",
    "        minus_count = len(minus_list)\n",
    "        return f'양수: {plus_count}개, 음수: {minus_count}개, 합계: {total_sum}'\n",
    "\n",
    "classifier()"
   ]
  },
  {
   "cell_type": "code",
   "execution_count": 71,
   "metadata": {},
   "outputs": [
    {
     "name": "stdin",
     "output_type": "stream",
     "text": [
      "정수들을 입력하세요(공백으로 구분) \n"
     ]
    },
    {
     "data": {
      "text/plain": [
       "'입력한 숫자가 없습니다.'"
      ]
     },
     "execution_count": 71,
     "metadata": {},
     "output_type": "execute_result"
    }
   ],
   "source": [
    "def classifier():\n",
    "    args = [int(x) for x in input('정수들을 입력하세요(공백으로 구분)').split() if int(x) != 0] ######\n",
    "    if not args: ########\n",
    "        return '입력한 숫자가 없습니다.'\n",
    "    \n",
    "    plus_count = sum(1 for i in args if i > 0)\n",
    "    minus_count = sum(1 for i in args if i < 0)\n",
    "    total_sum = sum(args)\n",
    "\n",
    "    return f'양수: {plus_count}개, 음수: {minus_count}개, 합계: {total_sum}'\n",
    "\n",
    "classifier()"
   ]
  },
  {
   "cell_type": "code",
   "execution_count": 69,
   "metadata": {},
   "outputs": [
    {
     "name": "stdin",
     "output_type": "stream",
     "text": [
      "정수들을 입력하세요(공백으로 구분):\n",
      "  5 4\n"
     ]
    },
    {
     "name": "stdout",
     "output_type": "stream",
     "text": [
      "양수: 2개, 음수: 0개, 합계: 9\n"
     ]
    }
   ],
   "source": [
    "def count_number():\n",
    "    # 숫자 목록 구현\n",
    "    user_input = input('정수들을 입력하세요(공백으로 구분):\\n ')\n",
    "    \n",
    "    # 입력이 없는 경우\n",
    "    if not user_input.strip():\n",
    "        print('입력한 숫자가 없습니다. 양수: 0개, 음수: 0개, 합계: 0')\n",
    "        return  # 함수 종료\n",
    "\n",
    "    numbers = [int(x) for x in user_input.split() if int(x) != 0]\n",
    "    \n",
    "    # 입력이 없는 경우\n",
    "    if not numbers:\n",
    "        print('입력한 숫자가 없습니다. 양수: 0개, 음수: 0개, 합계: 0')\n",
    "        return  # 함수 종료\n",
    "    \n",
    "    # 양수/음수 숫자 분류\n",
    "    plus_list = list(filter(lambda x: x > 0, numbers))\n",
    "    minus_list = list(filter(lambda x: x < 0, numbers))\n",
    "    \n",
    "    # 개수 세기 및 합계 계산\n",
    "    pos_cnt = len(plus_list)\n",
    "    neg_cnt = len(minus_list)\n",
    "    total_sum = sum(numbers)\n",
    "    \n",
    "    print(f'양수: {pos_cnt}개, 음수: {neg_cnt}개, 합계: {total_sum}')\n",
    "\n",
    "count_number()"
   ]
  },
  {
   "cell_type": "markdown",
   "metadata": {},
   "source": [
    "<div class=\"alert alert-success\">\n",
    "[문제]\n",
    "    \n",
    "1학년 2반의 시험 성적은 다음과 같습니다.\n",
    "    \n",
    "[80, 90, 70, 65, 85, 95, 90, 80, 75, 80]\n",
    "    \n",
    "시험 문제 중, 한 문제가 잘못 출제되어 모두 5점씩 추가 점수를 받도록 조치를 취했습니다.\n",
    "변경 후 점수를 반환하는 함수를 만들어 보세요.\n",
    "\n",
    "</div>"
   ]
  },
  {
   "cell_type": "code",
   "execution_count": 8,
   "metadata": {},
   "outputs": [
    {
     "data": {
      "text/plain": [
       "[85, 95, 75, 70, 90, 100, 95, 85, 80, 85]"
      ]
     },
     "execution_count": 8,
     "metadata": {},
     "output_type": "execute_result"
    }
   ],
   "source": [
    "def final_score(score):\n",
    "    for i in range(0,len(score)):\n",
    "        score[i] += 5\n",
    "    return score\n",
    "    \n",
    "final_score([80, 90, 70, 65, 85, 95, 90, 80, 75, 80])"
   ]
  },
  {
   "cell_type": "code",
   "execution_count": null,
   "metadata": {},
   "outputs": [],
   "source": [
    "def update_scores(scores) :\n",
    "    new_scores = []\n",
    "\n",
    "    for s in scores:\n",
    "        new = s + 5\n",
    "        new_scores.append(new)\n",
    "    return new_scores"
   ]
  },
  {
   "cell_type": "markdown",
   "metadata": {},
   "source": [
    "<div class=\"alert alert-success\">\n",
    "[문제]\n",
    "    \n",
    "동요 ‘산토끼’에서 ‘토’는 몇 번이나 나올까요? 함수로 작성해보세요.   \n",
    "산토끼 토끼야. 어디를 가느냐. 깡충깡충 뛰면서. 어디를 가느냐.   \n",
    "산고개 고개를. 나혼자 넘어서. 토실토실 알밤을. 주워 올 테야   \n",
    "\n",
    "</div>"
   ]
  },
  {
   "cell_type": "code",
   "execution_count": 19,
   "metadata": {},
   "outputs": [
    {
     "name": "stdout",
     "output_type": "stream",
     "text": [
      "3\n"
     ]
    }
   ],
   "source": [
    "def find_word(lyric, word):\n",
    "    count = 0\n",
    "    words = lyric.split()\n",
    "    for i in words:\n",
    "        if word in i:  \n",
    "            count += 1\n",
    "    return count\n",
    "\n",
    "rabbit = '산토끼 토끼야. 어디를 가느냐. 깡충깡충 뛰면서. 어디를 가느냐. 산고개 고개를. 나혼자 넘어서. 토실토실 알밤을. 주워 올 테야'\n",
    "print(find_word(rabbit, '토'))"
   ]
  },
  {
   "cell_type": "markdown",
   "metadata": {},
   "source": [
    "<div class=\"alert alert-success\">\n",
    "[문제]\n",
    "    \n",
    "영어 단어 또는 문장을 인자로 받아서 대문자와 소문자로 출력하는 함수를 만들어보세요.  \n",
    "\n",
    "</div>"
   ]
  },
  {
   "cell_type": "code",
   "execution_count": 22,
   "metadata": {},
   "outputs": [
    {
     "data": {
      "text/plain": [
       "('HELLO', 'hello')"
      ]
     },
     "execution_count": 22,
     "metadata": {},
     "output_type": "execute_result"
    }
   ],
   "source": [
    "def change(word):\n",
    "    upperCase = word.upper()\n",
    "    lowerCase = word.lower()\n",
    "    return upperCase, lowerCase\n",
    "\n",
    "change('hello')"
   ]
  },
  {
   "cell_type": "markdown",
   "metadata": {},
   "source": [
    "<div class=\"alert alert-success\">\n",
    "[문제]\n",
    "    \n",
    "두 수와 연산자를 입력 받아 사칙연산 결과를 출력하는 계산기를 만들어보세요.  \n",
    "\n",
    "</div>"
   ]
  },
  {
   "cell_type": "code",
   "execution_count": 33,
   "metadata": {},
   "outputs": [
    {
     "name": "stdout",
     "output_type": "stream",
     "text": [
      "연산자를 바르게 입력하시오.\n"
     ]
    }
   ],
   "source": [
    "def cal(num1, num2, operator):\n",
    "    if operator == '+':\n",
    "        return num1 + num2\n",
    "    elif operator == '-':\n",
    "        return num1-num2\n",
    "    elif operator == '*':\n",
    "        return num1 * num2\n",
    "    elif operator == '/':\n",
    "        return num1 / num2\n",
    "    else:\n",
    "        print('연산자를 바르게 입력하시오.')\n",
    "cal(1,3,'**')"
   ]
  },
  {
   "cell_type": "markdown",
   "metadata": {},
   "source": [
    "<div class=\"alert alert-success\">\n",
    "[문제]\n",
    "    \n",
    "사용자로부터 키와 성별을 입력 받아서 권장 체중을 화면에 출력하는 함수를 작성하세요.  \n",
    "권장 체중은 다음과 같이 계산합니다.  \n",
    "-\t남성 권장 체중 = (키 – 100)   \n",
    "-\t여성 권장 체중 = (키 – 100) * 0.9  \n",
    "\n",
    "\n",
    "</div>"
   ]
  },
  {
   "cell_type": "code",
   "execution_count": 41,
   "metadata": {},
   "outputs": [
    {
     "data": {
      "text/plain": [
       "45.0"
      ]
     },
     "execution_count": 41,
     "metadata": {},
     "output_type": "execute_result"
    }
   ],
   "source": [
    "def weight(height, sex):\n",
    "    if sex == 'male':\n",
    "        weight = height - 100\n",
    "    elif sex == 'female':\n",
    "        weight = (height-100) * 0.9\n",
    "    else:\n",
    "        print('성별을 올바르게 입력하세요.')\n",
    "    return weight\n",
    "weight(150,'female')"
   ]
  },
  {
   "cell_type": "markdown",
   "metadata": {},
   "source": [
    "<div class=\"alert alert-success\">\n",
    "[문제]\n",
    "    \n",
    "    \n",
    "입력 받은 인자를 모두 더하는 함수를 작성하세요\n",
    "</div>"
   ]
  },
  {
   "cell_type": "code",
   "execution_count": 39,
   "metadata": {},
   "outputs": [
    {
     "data": {
      "text/plain": [
       "15"
      ]
     },
     "execution_count": 39,
     "metadata": {},
     "output_type": "execute_result"
    }
   ],
   "source": [
    "def add(*args):\n",
    "    sum = 0\n",
    "    for i in args:\n",
    "        sum += i\n",
    "    return sum\n",
    "add(1,2,3,4,5)"
   ]
  },
  {
   "cell_type": "markdown",
   "metadata": {
    "id": "6wD8G3Eu4Fyy"
   },
   "source": [
    "\n",
    "## 인자도 반환 값도 없는 함수\n"
   ]
  },
  {
   "cell_type": "markdown",
   "metadata": {
    "id": "cdAcUZQO34Y3"
   },
   "source": [
    "함수 정의"
   ]
  },
  {
   "cell_type": "code",
   "execution_count": 43,
   "metadata": {
    "id": "cCDWNZ0E37X9"
   },
   "outputs": [],
   "source": [
    "def my_func():\n",
    "    print('my first function')\n",
    "    print('good job')"
   ]
  },
  {
   "cell_type": "markdown",
   "metadata": {
    "id": "hL9-DDC735f1"
   },
   "source": [
    "함수 호출\n"
   ]
  },
  {
   "cell_type": "code",
   "execution_count": 45,
   "metadata": {
    "id": "q65SBezc4BI3"
   },
   "outputs": [
    {
     "name": "stdout",
     "output_type": "stream",
     "text": [
      "my first function\n",
      "good job\n"
     ]
    }
   ],
   "source": [
    "my_func()"
   ]
  },
  {
   "cell_type": "code",
   "execution_count": 47,
   "metadata": {},
   "outputs": [
    {
     "name": "stdout",
     "output_type": "stream",
     "text": [
      "my first function\n",
      "good job\n",
      "None\n"
     ]
    }
   ],
   "source": [
    "c = my_func()\n",
    "print(c)"
   ]
  },
  {
   "cell_type": "markdown",
   "metadata": {
    "id": "tHgjq6k73_mO"
   },
   "source": [
    "## 인자는 있으나 반환 값이 없는 함수"
   ]
  },
  {
   "cell_type": "markdown",
   "metadata": {
    "id": "RHsKrMDO4I7m"
   },
   "source": [
    "함수 정의"
   ]
  },
  {
   "cell_type": "code",
   "execution_count": 49,
   "metadata": {
    "id": "_4D7eIde4JIm"
   },
   "outputs": [],
   "source": [
    "def my_friend(friendName):\n",
    "    print(f'{friendName}님이 입장하였습니다.')"
   ]
  },
  {
   "cell_type": "markdown",
   "metadata": {
    "id": "YuP1B50y4Hge"
   },
   "source": [
    "함수 호출"
   ]
  },
  {
   "cell_type": "code",
   "execution_count": 51,
   "metadata": {
    "id": "WXDAJ0dNxhoj"
   },
   "outputs": [
    {
     "name": "stdout",
     "output_type": "stream",
     "text": [
      "jisu님이 입장하였습니다.\n"
     ]
    }
   ],
   "source": [
    "my_friend('jisu')"
   ]
  },
  {
   "cell_type": "code",
   "execution_count": 53,
   "metadata": {},
   "outputs": [
    {
     "name": "stdout",
     "output_type": "stream",
     "text": [
      "jisu님이 입장하였습니다.\n"
     ]
    }
   ],
   "source": [
    "c = my_friend('jisu')\n",
    "c"
   ]
  },
  {
   "cell_type": "markdown",
   "metadata": {
    "id": "LEjKYjDb4sCg"
   },
   "source": [
    "## 인자도 있고 반환 값도 있는 함수\n"
   ]
  },
  {
   "cell_type": "markdown",
   "metadata": {
    "id": "nEqlcPlu4t5s"
   },
   "source": [
    "함수 정의"
   ]
  },
  {
   "cell_type": "code",
   "execution_count": 57,
   "metadata": {
    "id": "BmeUflXe4w9L"
   },
   "outputs": [],
   "source": [
    "def my_calc(x,y):\n",
    "    z = x * y\n",
    "    return z"
   ]
  },
  {
   "cell_type": "markdown",
   "metadata": {
    "id": "bQc5LzHt4ww5"
   },
   "source": [
    "함수 호출"
   ]
  },
  {
   "cell_type": "code",
   "execution_count": 59,
   "metadata": {
    "id": "UVqa5Irk41BM"
   },
   "outputs": [
    {
     "data": {
      "text/plain": [
       "2"
      ]
     },
     "execution_count": 59,
     "metadata": {},
     "output_type": "execute_result"
    }
   ],
   "source": [
    "my_calc(1,2)"
   ]
  },
  {
   "cell_type": "code",
   "execution_count": 61,
   "metadata": {},
   "outputs": [
    {
     "data": {
      "text/plain": [
       "2"
      ]
     },
     "execution_count": 61,
     "metadata": {},
     "output_type": "execute_result"
    }
   ],
   "source": [
    "c = my_calc(1,2)\n",
    "c"
   ]
  },
  {
   "cell_type": "code",
   "execution_count": 67,
   "metadata": {},
   "outputs": [],
   "source": [
    "# 여러 값 return 가능\n",
    "def my_calc(a, b):\n",
    "    add_result = a + b\n",
    "    mul_result = a * b\n",
    "    return add_result, mul_result"
   ]
  },
  {
   "cell_type": "code",
   "execution_count": 69,
   "metadata": {},
   "outputs": [
    {
     "data": {
      "text/plain": [
       "(30, 200)"
      ]
     },
     "execution_count": 69,
     "metadata": {},
     "output_type": "execute_result"
    }
   ],
   "source": [
    "my_calc(10,20)"
   ]
  },
  {
   "cell_type": "code",
   "execution_count": 71,
   "metadata": {},
   "outputs": [
    {
     "data": {
      "text/plain": [
       "(30, 200)"
      ]
     },
     "execution_count": 71,
     "metadata": {},
     "output_type": "execute_result"
    }
   ],
   "source": [
    "add = my_calc(10,20)\n",
    "add"
   ]
  },
  {
   "cell_type": "code",
   "execution_count": 73,
   "metadata": {},
   "outputs": [
    {
     "data": {
      "text/plain": [
       "(30, 200)"
      ]
     },
     "execution_count": 73,
     "metadata": {},
     "output_type": "execute_result"
    }
   ],
   "source": [
    "add, mul = my_calc(10,20)\n",
    "add, mul"
   ]
  },
  {
   "cell_type": "code",
   "execution_count": 75,
   "metadata": {},
   "outputs": [
    {
     "data": {
      "text/plain": [
       "int"
      ]
     },
     "execution_count": 75,
     "metadata": {},
     "output_type": "execute_result"
    }
   ],
   "source": [
    "type(add)\n",
    "type(mul)"
   ]
  },
  {
   "cell_type": "code",
   "execution_count": 77,
   "metadata": {},
   "outputs": [
    {
     "name": "stdout",
     "output_type": "stream",
     "text": [
      "before.. 10, [1, 2, 'hhhh']\n",
      "after.. 10, [1, 2, 'hhhh', 11]\n"
     ]
    }
   ],
   "source": [
    "# 리스트, 숫자 인자 비교\n",
    "# 불변 객체는 함수 내부에서 수정하더라도 외부에 영향을 미치지 않지만,\n",
    "# 가변 객체는 함수 내부에서 수정 시 외부 변수에도 영향을 미친다.\n",
    "def my_calc(a, lst1):\n",
    "    a += 1\n",
    "    lst1.append(a)\n",
    "    \n",
    "num = 10\n",
    "lst = [1,2,'hhhh']\n",
    "print(f'before.. {num}, {lst}')\n",
    "my_calc(num, lst)\n",
    "print(f'after.. {num}, {lst}')"
   ]
  },
  {
   "cell_type": "code",
   "execution_count": 79,
   "metadata": {},
   "outputs": [],
   "source": [
    "# 순서인자, 키워드인자\n",
    "my_calc(lst1=lst, a=num)"
   ]
  },
  {
   "cell_type": "markdown",
   "metadata": {
    "id": "X3gOEVjR6R0e"
   },
   "source": [
    "----"
   ]
  },
  {
   "cell_type": "markdown",
   "metadata": {
    "id": "aXxbx9GN4u7d"
   },
   "source": [
    "# 변수의 유효 범위\n",
    "- 함수 안에서 정의한 (혹은 생성한) 변수는 함수 안에서만 사용할 수 있음\n",
    "- 함수 안에서 생성한 변수는 함수를 호출해 실행되는 동안만 사용할 수 있고 함수 실행이 끝나면 더는 사용할 수 없음\n",
    "- 지역 변수 (local variable) vs 전역 변수 (global variable)"
   ]
  },
  {
   "cell_type": "markdown",
   "metadata": {
    "id": "HAgOisNL5YB2"
   },
   "source": [
    "같은 이름의 변수를 지역 변수와 전역 변수로 모두 사용한 예"
   ]
  },
  {
   "cell_type": "code",
   "execution_count": 81,
   "metadata": {
    "id": "vQkF94Vj5a9g"
   },
   "outputs": [
    {
     "name": "stdout",
     "output_type": "stream",
     "text": [
      "5\n"
     ]
    }
   ],
   "source": [
    "a = 5 # 전역 변수\n",
    "\n",
    "def func1():\n",
    "    print(a)\n",
    "\n",
    "func1()"
   ]
  },
  {
   "cell_type": "code",
   "execution_count": 84,
   "metadata": {
    "id": "bHG8HVWo5kbb"
   },
   "outputs": [
    {
     "name": "stdout",
     "output_type": "stream",
     "text": [
      "3\n"
     ]
    }
   ],
   "source": [
    "a = 5\n",
    "\n",
    "def func2():\n",
    "    a = 3 # 지역 변수 \n",
    "    print(a)\n",
    "func2()"
   ]
  },
  {
   "cell_type": "code",
   "execution_count": 90,
   "metadata": {
    "id": "mdTwEc3-5qP-"
   },
   "outputs": [
    {
     "name": "stdout",
     "output_type": "stream",
     "text": [
      "local 3\n",
      "global 3\n"
     ]
    }
   ],
   "source": [
    "a = 5\n",
    "\n",
    "def func1():\n",
    "    global a # 지역 변수 우선\n",
    "    a = 3\n",
    "    print('local', a)\n",
    "\n",
    "func1()\n",
    "print('global', a)"
   ]
  },
  {
   "cell_type": "code",
   "execution_count": 88,
   "metadata": {},
   "outputs": [
    {
     "name": "stdout",
     "output_type": "stream",
     "text": [
      "local 5\n",
      "global 3\n"
     ]
    }
   ],
   "source": [
    "a = 5\n",
    "\n",
    "def func1():\n",
    "    global a # 지역 변수 우선\n",
    "    print('local', a)\n",
    "    a = 3\n",
    "\n",
    "func1()\n",
    "print('global', a)"
   ]
  },
  {
   "cell_type": "markdown",
   "metadata": {
    "id": "Lr6AQM8y6PxO"
   },
   "source": [
    "----"
   ]
  },
  {
   "cell_type": "markdown",
   "metadata": {
    "id": "dm0TxSEs9sh7"
   },
   "source": [
    "# 개수가 정해지지 않은 인자"
   ]
  },
  {
   "cell_type": "markdown",
   "metadata": {
    "id": "7ZeaN4Gq_gV5"
   },
   "source": [
    "`*args`\n",
    "- 여러 개의 인자를 함수로 받고자 할 때\n",
    "- *args는 일반 변수보다 뒤에 위치해 있어야함(어디까지 *변수에 담아야하는지 알 수 없기 때문)"
   ]
  },
  {
   "cell_type": "code",
   "execution_count": 92,
   "metadata": {
    "id": "ev8Q-PDc9wtf"
   },
   "outputs": [
    {
     "name": "stdout",
     "output_type": "stream",
     "text": [
      "func3 :  (3,)\n",
      "<class 'tuple'>\n"
     ]
    }
   ],
   "source": [
    "def func3(a, b, *c):\n",
    "    print('func3 : ', c)\n",
    "    print(type(c))\n",
    "\n",
    "func3(1, 2, 3)"
   ]
  },
  {
   "cell_type": "markdown",
   "metadata": {
    "id": "HjdNQlG1EeX6"
   },
   "source": [
    "`**kwargs`\n",
    "- 딕셔너리 형태로 값을 전달"
   ]
  },
  {
   "cell_type": "code",
   "execution_count": 17,
   "metadata": {
    "id": "4xTXahAW9_40"
   },
   "outputs": [
    {
     "name": "stdout",
     "output_type": "stream",
     "text": [
      "학생 정보:\n",
      "name: 홍길동\n",
      "age: 20\n",
      "major: 컴퓨터공학\n"
     ]
    }
   ],
   "source": [
    "def print_student_info(**kwargs):\n",
    "    print(\"학생 정보:\")\n",
    "    for key, value in kwargs.items():\n",
    "        print(f\"{key}: {value}\")\n",
    "\n",
    "# 함수 호출\n",
    "print_student_info(name=\"홍길동\", age=20, major=\"컴퓨터공학\")"
   ]
  },
  {
   "cell_type": "code",
   "execution_count": 23,
   "metadata": {
    "id": "TjYM_Bk8-VPf"
   },
   "outputs": [
    {
     "name": "stdout",
     "output_type": "stream",
     "text": [
      "내가 좋아하는 것들\n",
      "fruit: mango\n",
      "animal: cat\n",
      "food: greek yogurt\n"
     ]
    }
   ],
   "source": [
    "def favorite_things(**kwargs):\n",
    "    print('내가 좋아하는 것들')\n",
    "    for i, v in kwargs.items():\n",
    "        print(f'{i}: {v}')\n",
    "\n",
    "favorite_things(fruit='mango',animal='cat',food='greek yogurt')"
   ]
  },
  {
   "cell_type": "markdown",
   "metadata": {},
   "source": [
    "# 요일 구하기, 성적 처리 시스템에 함수 적용해보기"
   ]
  },
  {
   "cell_type": "code",
   "execution_count": null,
   "metadata": {},
   "outputs": [],
   "source": [
    "# 총일수 계산 % 7 = 요일\n",
    "# 총일수 = 1년(365) .... 2024\n",
    "# 윤년은 366일, 평년은 365일\n",
    "# 윤년은 4년에 한 번씩 돌아오는 해로, 2월이 29일로 늘어나는 해\n",
    "# 일요일이 0\n",
    "\n",
    "# 달별 날수를 리스트로 저장\n",
    "year_month_days = [0,31,28,31,30,31,30,31,31,30,31,30,31]\n",
    "\n",
    "year = int(input('해를 입력하시오. : '))\n",
    "month = int(input('달을 입력하시오. : '))\n",
    "day = int(input('일을 입력하시오. : '))\n",
    "\n",
    "total_days = 0\n",
    "\n",
    "for i in range(1, year):\n",
    "    if (i % 4 == 0 and i % 100 != 0) or (i % 400 == 0):\n",
    "        total_days += 366\n",
    "    else:\n",
    "        total_days += 365\n",
    "\n",
    "for m in range(1,month):\n",
    "    total_days += year_month_days[m]\n",
    "    \n",
    "# 현재 해가 윤년인지 아닌지 판단하기\n",
    "# 현재 해가 2월전인지 후인지 판단하기\n",
    "if month > 2:\n",
    "    if (year % 4 == 0 and year % 100 != 0) or (year % 400 == 0):\n",
    "        total_days+=1\n",
    "else:\n",
    "    total_days+=0\n",
    "\n",
    "total_days += day\n",
    "\n",
    "answer = total_days % 7\n",
    "answer"
   ]
  },
  {
   "cell_type": "code",
   "execution_count": 99,
   "metadata": {},
   "outputs": [
    {
     "name": "stdin",
     "output_type": "stream",
     "text": [
      "해를 입력하시오. :  2024\n",
      "달을 입력하시오. :  10\n",
      "일을 입력하시오. :  11\n"
     ]
    },
    {
     "name": "stdout",
     "output_type": "stream",
     "text": [
      "요일: 5\n"
     ]
    }
   ],
   "source": [
    "def leap_year(year):\n",
    "    return (year % 4 == 0 and year % 100 != 0) or (year % 400 == 0)\n",
    "\n",
    "year_month_days = [0,31,28,31,30,31,30,31,31,30,31,30,31]\n",
    "\n",
    "year = int(input('해를 입력하시오. : '))\n",
    "month = int(input('달을 입력하시오. : '))\n",
    "day = int(input('일을 입력하시오. : '))\n",
    "\n",
    "total_days = 0\n",
    "\n",
    "for i in range(1, year):\n",
    "    if leap_year(i):\n",
    "        total_days += 366\n",
    "    else:\n",
    "        total_days += 365\n",
    "\n",
    "for m in range(1, month):\n",
    "    total_days += year_month_days[m]\n",
    "\n",
    "# 현재 해가 윤년인지 확인하고 2월 이후인지 판단\n",
    "if month > 2 and leap_year(year):\n",
    "    total_days += 1\n",
    "\n",
    "# 입력한 일수를 총일수에 추가\n",
    "total_days += day\n",
    "\n",
    "# 요일 계산\n",
    "answer = total_days % 7\n",
    "print(f'요일: {answer}')"
   ]
  },
  {
   "cell_type": "code",
   "execution_count": 1,
   "metadata": {},
   "outputs": [
    {
     "name": "stdin",
     "output_type": "stream",
     "text": [
      "해를 입력하시오. :  2024\n",
      "달을 입력하시오. :  10\n",
      "일을 입력하시오. :  11\n"
     ]
    },
    {
     "data": {
      "text/plain": [
       "5"
      ]
     },
     "execution_count": 1,
     "metadata": {},
     "output_type": "execute_result"
    }
   ],
   "source": [
    "# 현재 날짜가 무슨 요일인지 \n",
    "# 0은 일요일\n",
    "# 윤년에는 2월이 29일\n",
    "# 평년에는 2월이 28일\n",
    "\n",
    "\n",
    "def is_leap_year(year):\n",
    "    return (year % 4 == 0 and year % 100 != 0) or (year % 400 == 0)\n",
    "    \n",
    "def calculate_weekday():\n",
    "    \n",
    "    year_month_days = [0,31,28,31,30,31,30,31,31,30,31,30,31]\n",
    "\n",
    "    year = int(input('해를 입력하시오. : '))\n",
    "    month = int(input('달을 입력하시오. : '))\n",
    "    day = int(input('일을 입력하시오. : '))\n",
    "\n",
    "    total_days = 0\n",
    "    for i in range(1,year):\n",
    "        if is_leap_year(i):\n",
    "            total_days += 366\n",
    "        else:\n",
    "            total_days += 365\n",
    "\n",
    "    for i in range(1,month):\n",
    "        total_days += year_month_days[i]\n",
    "\n",
    "    # 윤년인 경우 2월 이후에는 1일 추가\n",
    "    if is_leap_year(year) and month > 2:\n",
    "        total_days += 1\n",
    "\n",
    "    total_days += day\n",
    "\n",
    "    weekday = total_days % 7\n",
    "\n",
    "    return weekday\n",
    "\n",
    "calculate_weekday()"
   ]
  },
  {
   "cell_type": "code",
   "execution_count": null,
   "metadata": {},
   "outputs": [],
   "source": [
    "# 학생 데이터 초기화 : 최소 10명 이상으로 설정\n",
    "# 학생들의 성적 총점과 평균 및 반 총점과 과목별 총점 구하기\n",
    "# 학생별 성적 처리 결과를 출력\n",
    "# 반 총점, 평균 및 각 과목별 총점과 평균을 계산\n",
    "# 반 평균 및 각 과목별 평균 출력\n",
    "# order는 석차\n",
    "\n",
    "students = [\n",
    "    {'num': 1, 'name': '김철수', 'kor': 90, 'eng': 80, 'math': 83, 'total': 0, 'avg': 0.0, 'order': 0},\n",
    "    {'num': 2, 'name': '이철수', 'kor': 95, 'eng': 90, 'math': 88, 'total': 0, 'avg': 0.0, 'order': 0},\n",
    "    {'num': 3, 'name': '박철수', 'kor': 80, 'eng': 85, 'math': 76, 'total': 0, 'avg': 0.0, 'order': 0},\n",
    "    {'num': 4, 'name': '최철수', 'kor': 87, 'eng': 82, 'math': 56, 'total': 0, 'avg': 0.0, 'order': 0},\n",
    "    {'num': 5, 'name': '안제이', 'kor': 95, 'eng': 95, 'math': 66, 'total': 0, 'avg': 0.0, 'order': 0},\n",
    "    {'num': 6, 'name': '홍길동', 'kor': 77, 'eng': 65, 'math': 81, 'total': 0, 'avg': 0.0, 'order': 0},\n",
    "    {'num': 7, 'name': '강철수', 'kor': 87, 'eng': 42, 'math': 82, 'total': 0, 'avg': 0.0, 'order': 0},\n",
    "    {'num': 8, 'name': '윤제이', 'kor': 81, 'eng': 87, 'math': 97, 'total': 0, 'avg': 0.0, 'order': 0},\n",
    "    {'num': 9, 'name': '김길동', 'kor': 93, 'eng': 99, 'math': 81, 'total': 0, 'avg': 0.0, 'order': 0},\n",
    "    {'num': 10, 'name': '박길동', 'kor': 81, 'eng': 81, 'math': 88, 'total': 0, 'avg': 0.0, 'order': 0}\n",
    "]\n",
    "\n",
    "\n",
    "for i in students:\n",
    "    i['total'] = i['kor'] + i['eng'] + i['math']\n",
    "    i['avg'] = i['total'] / 3\n",
    "\n",
    "class_total = 0\n",
    "for j in students:\n",
    "    class_total += j['total']\n",
    "\n",
    "class_avg = class_total / 10\n",
    "\n",
    "kor_total = 0\n",
    "for k in students:\n",
    "    kor_total += k['kor']\n",
    "\n",
    "kor_avg = kor_total / 10\n",
    "\n",
    "eng_total = 0\n",
    "for k in students:\n",
    "    eng_total += k['eng']\n",
    "\n",
    "eng_avg = eng_total / 10\n",
    "\n",
    "math_total = 0\n",
    "for k in students:\n",
    "    math_total += k['math']\n",
    "\n",
    "math_avg = math_total / 10\n",
    "\n",
    "# 석차 구하기!!!\n",
    "students = sorted(students, key=lambda x: x['total'], reverse=True)\n",
    "for i, j in enumerate(students):\n",
    "    j['order'] = i + 1\n",
    "\n",
    "students"
   ]
  },
  {
   "cell_type": "code",
   "execution_count": 101,
   "metadata": {},
   "outputs": [
    {
     "data": {
      "text/plain": [
       "[{'num': 2,\n",
       "  'name': '이철수',\n",
       "  'kor': 95,\n",
       "  'eng': 90,\n",
       "  'math': 88,\n",
       "  'total': 273,\n",
       "  'avg': 0.0,\n",
       "  'order': 1},\n",
       " {'num': 9,\n",
       "  'name': '김길동',\n",
       "  'kor': 93,\n",
       "  'eng': 99,\n",
       "  'math': 81,\n",
       "  'total': 273,\n",
       "  'avg': 0.0,\n",
       "  'order': 2},\n",
       " {'num': 8,\n",
       "  'name': '윤제이',\n",
       "  'kor': 81,\n",
       "  'eng': 87,\n",
       "  'math': 97,\n",
       "  'total': 265,\n",
       "  'avg': 0.0,\n",
       "  'order': 3},\n",
       " {'num': 5,\n",
       "  'name': '안제이',\n",
       "  'kor': 95,\n",
       "  'eng': 95,\n",
       "  'math': 66,\n",
       "  'total': 256,\n",
       "  'avg': 0.0,\n",
       "  'order': 4},\n",
       " {'num': 1,\n",
       "  'name': '김철수',\n",
       "  'kor': 90,\n",
       "  'eng': 80,\n",
       "  'math': 83,\n",
       "  'total': 253,\n",
       "  'avg': 0.0,\n",
       "  'order': 5},\n",
       " {'num': 10,\n",
       "  'name': '박길동',\n",
       "  'kor': 81,\n",
       "  'eng': 81,\n",
       "  'math': 88,\n",
       "  'total': 250,\n",
       "  'avg': 83.33333333333333,\n",
       "  'order': 6},\n",
       " {'num': 3,\n",
       "  'name': '박철수',\n",
       "  'kor': 80,\n",
       "  'eng': 85,\n",
       "  'math': 76,\n",
       "  'total': 241,\n",
       "  'avg': 0.0,\n",
       "  'order': 7},\n",
       " {'num': 4,\n",
       "  'name': '최철수',\n",
       "  'kor': 87,\n",
       "  'eng': 82,\n",
       "  'math': 56,\n",
       "  'total': 225,\n",
       "  'avg': 0.0,\n",
       "  'order': 8},\n",
       " {'num': 6,\n",
       "  'name': '홍길동',\n",
       "  'kor': 77,\n",
       "  'eng': 65,\n",
       "  'math': 81,\n",
       "  'total': 223,\n",
       "  'avg': 0.0,\n",
       "  'order': 9},\n",
       " {'num': 7,\n",
       "  'name': '강철수',\n",
       "  'kor': 87,\n",
       "  'eng': 42,\n",
       "  'math': 82,\n",
       "  'total': 211,\n",
       "  'avg': 0.0,\n",
       "  'order': 10}]"
      ]
     },
     "execution_count": 101,
     "metadata": {},
     "output_type": "execute_result"
    }
   ],
   "source": [
    "def get_sum(*args):\n",
    "    sum = 0\n",
    "    for i in args:\n",
    "        sum += i\n",
    "    return sum\n",
    "\n",
    "def get_average(sum, n):\n",
    "    return sum / n\n",
    "\n",
    "students = [\n",
    "    {'num': 1, 'name': '김철수', 'kor': 90, 'eng': 80, 'math': 83, 'total': 0, 'avg': 0.0, 'order': 0},\n",
    "    {'num': 2, 'name': '이철수', 'kor': 95, 'eng': 90, 'math': 88, 'total': 0, 'avg': 0.0, 'order': 0},\n",
    "    {'num': 3, 'name': '박철수', 'kor': 80, 'eng': 85, 'math': 76, 'total': 0, 'avg': 0.0, 'order': 0},\n",
    "    {'num': 4, 'name': '최철수', 'kor': 87, 'eng': 82, 'math': 56, 'total': 0, 'avg': 0.0, 'order': 0},\n",
    "    {'num': 5, 'name': '안제이', 'kor': 95, 'eng': 95, 'math': 66, 'total': 0, 'avg': 0.0, 'order': 0},\n",
    "    {'num': 6, 'name': '홍길동', 'kor': 77, 'eng': 65, 'math': 81, 'total': 0, 'avg': 0.0, 'order': 0},\n",
    "    {'num': 7, 'name': '강철수', 'kor': 87, 'eng': 42, 'math': 82, 'total': 0, 'avg': 0.0, 'order': 0},\n",
    "    {'num': 8, 'name': '윤제이', 'kor': 81, 'eng': 87, 'math': 97, 'total': 0, 'avg': 0.0, 'order': 0},\n",
    "    {'num': 9, 'name': '김길동', 'kor': 93, 'eng': 99, 'math': 81, 'total': 0, 'avg': 0.0, 'order': 0},\n",
    "    {'num': 10, 'name': '박길동', 'kor': 81, 'eng': 81, 'math': 88, 'total': 0, 'avg': 0.0, 'order': 0}\n",
    "]\n",
    "\n",
    "class_total = 0\n",
    "kor_total = 0\n",
    "eng_total = 0\n",
    "math_total = 0\n",
    "\n",
    "\n",
    "for i in students:\n",
    "    i['total'] = get_sum(i['kor'], i['eng'], i['math'])\n",
    "    class_total = get_sum(i['total'])\n",
    "    kor_total = get_sum(i['kor'])\n",
    "    eng_total = get_sum(i['eng'])\n",
    "    math_total = get_sum(i['math'])\n",
    "\n",
    "i['avg'] = get_average(i['total'], 3)\n",
    "class_avg = get_average(class_total, 10)\n",
    "kor_avg = get_average(kor_total, 10)\n",
    "eng_avg = get_average(eng_total, 10)\n",
    "math_avg = get_average(math_total, 10)\n",
    "\n",
    "students = sorted(students, key=lambda x: x['total'], reverse=True)\n",
    "for i, j in enumerate(students):\n",
    "    j['order'] = i + 1\n",
    "\n",
    "students"
   ]
  },
  {
   "cell_type": "markdown",
   "metadata": {
    "id": "UD9xeNkH5g8y"
   },
   "source": [
    "# 람다(lambda)\n",
    "- 한 줄로 함수를 표현\n",
    "```\n",
    "lambda <인자> : <인자 활용 수행 코드>\n",
    "(lambda <인자> : <인자 활용 수행 코드>) (<인자>)\n",
    "```"
   ]
  },
  {
   "cell_type": "markdown",
   "metadata": {
    "id": "V-ekQ4Bn5wFC"
   },
   "source": [
    "## 람다 함수의 사용\n",
    "```\n",
    "lambda_function = lambda <인자> : <인자 활용 수행 코드>\n",
    "lambda_function(<인자>)\n",
    "```\n"
   ]
  },
  {
   "cell_type": "markdown",
   "metadata": {
    "id": "aGcaVrl750jV"
   },
   "source": [
    "람다 함수 호출\n"
   ]
  },
  {
   "cell_type": "code",
   "execution_count": 73,
   "metadata": {
    "id": "lvNeBWSM55Yw"
   },
   "outputs": [
    {
     "data": {
      "text/plain": [
       "105"
      ]
     },
     "execution_count": 73,
     "metadata": {},
     "output_type": "execute_result"
    }
   ],
   "source": [
    "(lambda x : x + 5)(100) # 일회성"
   ]
  },
  {
   "cell_type": "markdown",
   "metadata": {
    "id": "B2Q2KpCS54IH"
   },
   "source": [
    "람다 함수를 변수에 할당한 후에 인자를 입력해서 호출"
   ]
  },
  {
   "cell_type": "code",
   "execution_count": 69,
   "metadata": {
    "id": "bNNQmrFo59UV"
   },
   "outputs": [
    {
     "data": {
      "text/plain": [
       "105"
      ]
     },
     "execution_count": 69,
     "metadata": {},
     "output_type": "execute_result"
    }
   ],
   "source": [
    "sum5 = lambda x : x + 5\n",
    "sum5(100)"
   ]
  },
  {
   "cell_type": "markdown",
   "metadata": {
    "id": "yBw9cnwp578W"
   },
   "source": [
    "여러 개의 인자를 입력받아 연산 결과를 반환하는 람다 함수 변수 할당 후 호출\n"
   ]
  },
  {
   "cell_type": "code",
   "execution_count": 71,
   "metadata": {
    "id": "6GhBEbP_6Cgu"
   },
   "outputs": [
    {
     "data": {
      "text/plain": [
       "20"
      ]
     },
     "execution_count": 71,
     "metadata": {},
     "output_type": "execute_result"
    }
   ],
   "source": [
    "(lambda x, y : x * y)(4, 5)"
   ]
  },
  {
   "cell_type": "markdown",
   "metadata": {},
   "source": [
    "# 주로 람다를 쓰는 법\n",
    "1. 함수의 매개변수로 람다 사용\n",
    "2. map() : list -> 처리 -> list\n",
    "3. filter() : 조건에 맞는 값만 추출해서 리스트\n",
    "4. sort() : 조건에 따라 정렬"
   ]
  },
  {
   "cell_type": "code",
   "execution_count": 76,
   "metadata": {},
   "outputs": [
    {
     "data": {
      "text/plain": [
       "5"
      ]
     },
     "execution_count": 76,
     "metadata": {},
     "output_type": "execute_result"
    }
   ],
   "source": [
    "def myfunc(a,b,func):\n",
    "    result = func(a,b)\n",
    "    return result\n",
    "myfunc(2,3,lambda a, b : a + b)"
   ]
  },
  {
   "cell_type": "markdown",
   "metadata": {},
   "source": [
    "### sorted(iterable, /, *, key=None, reverse=False)\n"
   ]
  },
  {
   "cell_type": "code",
   "execution_count": 127,
   "metadata": {},
   "outputs": [
    {
     "data": {
      "text/plain": [
       "[1, 3, 4, 5, 6, 7, 8, 9]"
      ]
     },
     "execution_count": 127,
     "metadata": {},
     "output_type": "execute_result"
    }
   ],
   "source": [
    "numbers = [3,1,5,8,7,6,9,4]\n",
    "numbers.sort()\n",
    "numbers"
   ]
  },
  {
   "cell_type": "code",
   "execution_count": 130,
   "metadata": {},
   "outputs": [
    {
     "data": {
      "text/plain": [
       "[1, 3, 4, 5, 6, 7, 8, 9]"
      ]
     },
     "execution_count": 130,
     "metadata": {},
     "output_type": "execute_result"
    }
   ],
   "source": [
    "numbers = [3,1,5,8,7,6,9,4]\n",
    "sorted(numbers)"
   ]
  },
  {
   "cell_type": "code",
   "execution_count": 132,
   "metadata": {},
   "outputs": [
    {
     "data": {
      "text/plain": [
       "[3, 1, 5, 8, 7, 6, 9, 4]"
      ]
     },
     "execution_count": 132,
     "metadata": {},
     "output_type": "execute_result"
    }
   ],
   "source": [
    "numbers"
   ]
  },
  {
   "cell_type": "code",
   "execution_count": 138,
   "metadata": {},
   "outputs": [
    {
     "name": "stdout",
     "output_type": "stream",
     "text": [
      "['apple', 'avocado', 'banana', 'blueberry', 'cherry']\n",
      "['cherry', 'blueberry', 'banana', 'avocado', 'apple']\n",
      "['apple', 'banana', 'cherry', 'avocado', 'blueberry']\n",
      "['apple', 'banana', 'cherry', 'blueberry', 'avocado']\n"
     ]
    }
   ],
   "source": [
    "words = ['apple','banana','cherry','blueberry','avocado']\n",
    "print(sorted(words))\n",
    "print(sorted(words, reverse=True))\n",
    "print(sorted(words, key=len))\n",
    "print(words)"
   ]
  },
  {
   "cell_type": "code",
   "execution_count": 140,
   "metadata": {},
   "outputs": [
    {
     "data": {
      "text/plain": [
       "['banana', 'apple', 'avocado', 'cherry', 'blueberry']"
      ]
     },
     "execution_count": 140,
     "metadata": {},
     "output_type": "execute_result"
    }
   ],
   "source": [
    "sorted(words, key=lambda word : word[-1])"
   ]
  },
  {
   "cell_type": "markdown",
   "metadata": {},
   "source": [
    "### filter(function, iterable)"
   ]
  },
  {
   "cell_type": "code",
   "execution_count": 115,
   "metadata": {},
   "outputs": [
    {
     "data": {
      "text/plain": [
       "[2, 4, 6, 8]"
      ]
     },
     "execution_count": 115,
     "metadata": {},
     "output_type": "execute_result"
    }
   ],
   "source": [
    "numbers = list(range(1,10))\n",
    "list(filter(lambda x : x % 2 ==0, numbers))"
   ]
  },
  {
   "cell_type": "code",
   "execution_count": 118,
   "metadata": {},
   "outputs": [
    {
     "data": {
      "text/plain": [
       "['apple']"
      ]
     },
     "execution_count": 118,
     "metadata": {},
     "output_type": "execute_result"
    }
   ],
   "source": [
    "words = ['apple','banana','cherry']\n",
    "\n",
    "# 'a'로 시작하는 단어 찾기\n",
    "list(filter(lambda x : x.startswith('a'),words))"
   ]
  },
  {
   "cell_type": "code",
   "execution_count": 122,
   "metadata": {},
   "outputs": [
    {
     "data": {
      "text/plain": [
       "['apple', 'banana']"
      ]
     },
     "execution_count": 122,
     "metadata": {},
     "output_type": "execute_result"
    }
   ],
   "source": [
    "# 'a'가 들어있는 단어 찾기\n",
    "list(filter(lambda x : 'a' in x, words))"
   ]
  },
  {
   "cell_type": "markdown",
   "metadata": {},
   "source": [
    "### map(function, iterable, *iterables)\n",
    "- lazy 객체\n",
    "- 일회용"
   ]
  },
  {
   "cell_type": "code",
   "execution_count": 82,
   "metadata": {},
   "outputs": [
    {
     "data": {
      "text/plain": [
       "<map at 0x1b870a8ff40>"
      ]
     },
     "execution_count": 82,
     "metadata": {},
     "output_type": "execute_result"
    }
   ],
   "source": [
    "words = ['apple','banana','cherry']\n",
    "map(str.upper,words)"
   ]
  },
  {
   "cell_type": "code",
   "execution_count": 84,
   "metadata": {},
   "outputs": [
    {
     "data": {
      "text/plain": [
       "['APPLE', 'BANANA', 'CHERRY']"
      ]
     },
     "execution_count": 84,
     "metadata": {},
     "output_type": "execute_result"
    }
   ],
   "source": [
    "list(map(str.upper,words))"
   ]
  },
  {
   "cell_type": "code",
   "execution_count": 89,
   "metadata": {},
   "outputs": [
    {
     "data": {
      "text/plain": [
       "['1', '2', '3', '4', '5']"
      ]
     },
     "execution_count": 89,
     "metadata": {},
     "output_type": "execute_result"
    }
   ],
   "source": [
    "str_numbers = ['1','2','3','4','5']\n",
    "str_numbers"
   ]
  },
  {
   "cell_type": "code",
   "execution_count": 91,
   "metadata": {},
   "outputs": [
    {
     "data": {
      "text/plain": [
       "[1, 2, 3, 4, 5]"
      ]
     },
     "execution_count": 91,
     "metadata": {},
     "output_type": "execute_result"
    }
   ],
   "source": [
    "[int(x) for x in str_numbers]"
   ]
  },
  {
   "cell_type": "code",
   "execution_count": 93,
   "metadata": {},
   "outputs": [
    {
     "data": {
      "text/plain": [
       "[1, 2, 3, 4, 5]"
      ]
     },
     "execution_count": 93,
     "metadata": {},
     "output_type": "execute_result"
    }
   ],
   "source": [
    "list(map(int, str_numbers))"
   ]
  },
  {
   "cell_type": "code",
   "execution_count": 95,
   "metadata": {},
   "outputs": [
    {
     "data": {
      "text/plain": [
       "[1, 9, 25, 49, 81]"
      ]
     },
     "execution_count": 95,
     "metadata": {},
     "output_type": "execute_result"
    }
   ],
   "source": [
    "numbers = list(range(1,10,2))\n",
    "list(map(lambda x : x ** 2,numbers))"
   ]
  },
  {
   "cell_type": "code",
   "execution_count": 97,
   "metadata": {},
   "outputs": [
    {
     "data": {
      "text/plain": [
       "[1, 9, 25, 49, 81]"
      ]
     },
     "execution_count": 97,
     "metadata": {},
     "output_type": "execute_result"
    }
   ],
   "source": [
    "[x ** 2 for x in numbers]"
   ]
  },
  {
   "cell_type": "code",
   "execution_count": 99,
   "metadata": {},
   "outputs": [
    {
     "data": {
      "text/plain": [
       "['H', 'E', 'L', 'L', 'O']"
      ]
     },
     "execution_count": 99,
     "metadata": {},
     "output_type": "execute_result"
    }
   ],
   "source": [
    "str_list = list('hello')\n",
    "list(map(lambda x : x.upper(),str_list))"
   ]
  },
  {
   "cell_type": "code",
   "execution_count": 105,
   "metadata": {},
   "outputs": [
    {
     "data": {
      "text/plain": [
       "[5, 7, 9]"
      ]
     },
     "execution_count": 105,
     "metadata": {},
     "output_type": "execute_result"
    }
   ],
   "source": [
    "list1 = [1,2,3]\n",
    "list2 = [4,5,6]\n",
    "list(map(lambda x, y : x+y, list1, list2))"
   ]
  },
  {
   "cell_type": "code",
   "execution_count": 111,
   "metadata": {},
   "outputs": [
    {
     "data": {
      "text/plain": [
       "[5, 7, 9]"
      ]
     },
     "execution_count": 111,
     "metadata": {},
     "output_type": "execute_result"
    }
   ],
   "source": [
    "# 리스트의 길이가 다르면? -> 오류 나지 않음!!\n",
    "list1 = [1,2,3,4]\n",
    "list2 = [4,5,6]\n",
    "list(map(lambda x, y : x+y, list1, list2))"
   ]
  },
  {
   "cell_type": "markdown",
   "metadata": {},
   "source": [
    "# 함수의 분류\n",
    "1. 사용자 정의 함수\n",
    "- 람다함수\n",
    "2. 내장함수(built-in)\n",
    "3. 외장함수\n",
    "- 설치\n",
    "  "
   ]
  },
  {
   "cell_type": "markdown",
   "metadata": {
    "id": "hH-Ju-046nMa"
   },
   "source": [
    "# 유용한 내장 함수"
   ]
  },
  {
   "cell_type": "markdown",
   "metadata": {
    "id": "N9W2vC-77REQ"
   },
   "source": [
    "## 형 변환 함수"
   ]
  },
  {
   "cell_type": "markdown",
   "metadata": {
    "id": "ad720dkQLiI9"
   },
   "source": [
    "\n",
    "### 정수형으로 변환: int()"
   ]
  },
  {
   "cell_type": "code",
   "execution_count": 143,
   "metadata": {
    "id": "swtW1qSd7YVP"
   },
   "outputs": [
    {
     "data": {
      "text/plain": [
       "0"
      ]
     },
     "execution_count": 143,
     "metadata": {},
     "output_type": "execute_result"
    }
   ],
   "source": [
    "int(0.22)"
   ]
  },
  {
   "cell_type": "markdown",
   "metadata": {
    "id": "FWCPrah37VlT"
   },
   "source": [
    "### 실수형으로 변환: float()\n"
   ]
  },
  {
   "cell_type": "code",
   "execution_count": 145,
   "metadata": {
    "id": "w1BuzOZ97jpx"
   },
   "outputs": [
    {
     "data": {
      "text/plain": [
       "234.0"
      ]
     },
     "execution_count": 145,
     "metadata": {},
     "output_type": "execute_result"
    }
   ],
   "source": [
    "float(234)"
   ]
  },
  {
   "cell_type": "markdown",
   "metadata": {
    "id": "HXQlE2Cx7hfW"
   },
   "source": [
    "### 문자형으로 변환\n"
   ]
  },
  {
   "cell_type": "code",
   "execution_count": 147,
   "metadata": {
    "id": "ycBmobe27yZY"
   },
   "outputs": [
    {
     "data": {
      "text/plain": [
       "'124'"
      ]
     },
     "execution_count": 147,
     "metadata": {},
     "output_type": "execute_result"
    }
   ],
   "source": [
    "str(124)"
   ]
  },
  {
   "cell_type": "markdown",
   "metadata": {
    "id": "-KjyA3xe7vYj"
   },
   "source": [
    "### 리스트, 튜플, 세트형으로  변환\n",
    "- list()\t튜플/세트  데이터를  리스트로 변환\n",
    "- tuple()\t리스트/세트  데이터를  튜플로 변환\n",
    "- set()\t리스트/튜플  데이터를  세트로 변환"
   ]
  },
  {
   "cell_type": "code",
   "execution_count": 25,
   "metadata": {
    "id": "fL6SqqebIx_q"
   },
   "outputs": [],
   "source": [
    "list_data = ['abc', 1, 2, 'def']\n",
    "tuple_data = ('abc', 1, 2, 'def')\n",
    "set_data = {'abc', 1, 2, 'def'}"
   ]
  },
  {
   "cell_type": "code",
   "execution_count": 27,
   "metadata": {
    "id": "JgGA_WhGI4Uy"
   },
   "outputs": [
    {
     "name": "stdout",
     "output_type": "stream",
     "text": [
      "['abc', 1, 2, 'def']\n",
      "('abc', 1, 2, 'def')\n",
      "{1, 2, 'abc', 'def'}\n"
     ]
    }
   ],
   "source": [
    "print(list(tuple_data))\n",
    "print(tuple(list_data))\n",
    "print(set(list_data))"
   ]
  },
  {
   "cell_type": "markdown",
   "metadata": {
    "id": "AD6TxwDJJGIY"
   },
   "source": [
    "### bool 함수\n",
    "- True 혹은 False의 결과를  반환\n",
    "- 숫자를 인자로 bool 함수 호출\n",
    "    - 숫자 0이면 False, 0 이외의 숫자이면 True를 반환\n",
    "- 문자열을 인자로 bool 함수 호출\n",
    "    - 문자열이 있으면 True를 반환, 없으면 False를 반환"
   ]
  },
  {
   "cell_type": "code",
   "execution_count": 149,
   "metadata": {
    "id": "wd5yfBkkJFbx"
   },
   "outputs": [
    {
     "data": {
      "text/plain": [
       "True"
      ]
     },
     "execution_count": 149,
     "metadata": {},
     "output_type": "execute_result"
    }
   ],
   "source": [
    "bool(1)"
   ]
  },
  {
   "cell_type": "code",
   "execution_count": 151,
   "metadata": {
    "id": "M5SWAUlQJVvd"
   },
   "outputs": [
    {
     "data": {
      "text/plain": [
       "True"
      ]
     },
     "execution_count": 151,
     "metadata": {},
     "output_type": "execute_result"
    }
   ],
   "source": [
    "bool(10)"
   ]
  },
  {
   "cell_type": "code",
   "execution_count": 153,
   "metadata": {},
   "outputs": [
    {
     "data": {
      "text/plain": [
       "True"
      ]
     },
     "execution_count": 153,
     "metadata": {},
     "output_type": "execute_result"
    }
   ],
   "source": [
    "bool('abc')"
   ]
  },
  {
   "cell_type": "markdown",
   "metadata": {
    "id": "qoUcyzCVJcYV"
   },
   "source": [
    "리스트는 항목이 있으면 True, 없으면 False를 반환"
   ]
  },
  {
   "cell_type": "code",
   "execution_count": 155,
   "metadata": {
    "id": "tJgKB2FtJy83"
   },
   "outputs": [
    {
     "data": {
      "text/plain": [
       "True"
      ]
     },
     "execution_count": 155,
     "metadata": {},
     "output_type": "execute_result"
    }
   ],
   "source": [
    "bool([1,2])"
   ]
  },
  {
   "cell_type": "code",
   "execution_count": 157,
   "metadata": {
    "id": "iZsKnTy1J4Tr"
   },
   "outputs": [
    {
     "data": {
      "text/plain": [
       "False"
      ]
     },
     "execution_count": 157,
     "metadata": {},
     "output_type": "execute_result"
    }
   ],
   "source": [
    "bool([])"
   ]
  },
  {
   "cell_type": "code",
   "execution_count": 159,
   "metadata": {
    "id": "ZgTRA0KeJ714"
   },
   "outputs": [
    {
     "data": {
      "text/plain": [
       "True"
      ]
     },
     "execution_count": 159,
     "metadata": {},
     "output_type": "execute_result"
    }
   ],
   "source": [
    "# 항목이 없는 튜플과 있는 튜플을 인자로 bool() 함수를 호출\n",
    "bool((1,2))"
   ]
  },
  {
   "cell_type": "code",
   "execution_count": 161,
   "metadata": {
    "id": "Y0nqjEKNJ-8A"
   },
   "outputs": [
    {
     "data": {
      "text/plain": [
       "False"
      ]
     },
     "execution_count": 161,
     "metadata": {},
     "output_type": "execute_result"
    }
   ],
   "source": [
    "bool(())"
   ]
  },
  {
   "cell_type": "code",
   "execution_count": 163,
   "metadata": {
    "id": "SAlWC_41KETO"
   },
   "outputs": [
    {
     "data": {
      "text/plain": [
       "True"
      ]
     },
     "execution_count": 163,
     "metadata": {},
     "output_type": "execute_result"
    }
   ],
   "source": [
    "# 항목 유무에 따라 세트, 다음과 같이 각각 False와 True를 반환\n",
    "bool({1,2})"
   ]
  },
  {
   "cell_type": "code",
   "execution_count": 165,
   "metadata": {
    "id": "lVSSvf63KGYu"
   },
   "outputs": [
    {
     "data": {
      "text/plain": [
       "False"
      ]
     },
     "execution_count": 165,
     "metadata": {},
     "output_type": "execute_result"
    }
   ],
   "source": [
    "bool({})"
   ]
  },
  {
   "cell_type": "markdown",
   "metadata": {
    "id": "LG4lUzk1Iom-"
   },
   "source": [
    "⭐ **bool 함수의 활용 **⭐ <br>\n",
    "name 인자에 문자열이 있으면 이름을 출력하고, 없으면 입력된 문자열이 없다고 출력하는 예\n"
   ]
  },
  {
   "cell_type": "code",
   "execution_count": 167,
   "metadata": {
    "id": "l41bpy9eKQUq"
   },
   "outputs": [],
   "source": [
    "def print_name(name):\n",
    "    if bool(name):\n",
    "        print(name)\n",
    "    else:\n",
    "        print('blank')"
   ]
  },
  {
   "cell_type": "code",
   "execution_count": 169,
   "metadata": {
    "id": "YROlPjV1KXrs"
   },
   "outputs": [
    {
     "name": "stdout",
     "output_type": "stream",
     "text": [
      "홍길동\n"
     ]
    }
   ],
   "source": [
    "# print_name() 함수 호출\n",
    "print_name('홍길동')"
   ]
  },
  {
   "cell_type": "markdown",
   "metadata": {
    "id": "ppor3hSsKOKp"
   },
   "source": [
    "## 최솟값과  최댓값을  구하는 함수\n",
    "- 내장 함수 min()과 max()를 이용\n"
   ]
  },
  {
   "cell_type": "code",
   "execution_count": 31,
   "metadata": {
    "id": "GqMOWrDsKix6"
   },
   "outputs": [
    {
     "data": {
      "text/plain": [
       "(0, 99.5)"
      ]
     },
     "execution_count": 31,
     "metadata": {},
     "output_type": "execute_result"
    }
   ],
   "source": [
    "myNum = [10, 5, 12, 0, 3.5, 99.5, 42]\n",
    "min(myNum), max(myNum)"
   ]
  },
  {
   "cell_type": "code",
   "execution_count": 33,
   "metadata": {
    "id": "KZ1ckGqNKl88"
   },
   "outputs": [
    {
     "data": {
      "text/plain": [
       "('e', 'o')"
      ]
     },
     "execution_count": 33,
     "metadata": {},
     "output_type": "execute_result"
    }
   ],
   "source": [
    "# 문자열에 대해서도 최솟값과 최댓값을 구하는 예\n",
    "my_str = 'hello'\n",
    "min(my_str), max(my_str)"
   ]
  },
  {
   "cell_type": "code",
   "execution_count": 35,
   "metadata": {
    "id": "ZuC3yghgKqLa"
   },
   "outputs": [
    {
     "data": {
      "text/plain": [
       "(1, 6)"
      ]
     },
     "execution_count": 35,
     "metadata": {},
     "output_type": "execute_result"
    }
   ],
   "source": [
    "# 각각 튜플과 세트에서 최솟값과 최댓값을 구하는 예\n",
    "my_tuple = (1,3,5)\n",
    "my_set = {2,4,6}\n",
    "min(my_tuple), max(my_set)"
   ]
  },
  {
   "cell_type": "markdown",
   "metadata": {
    "id": "LPI9Gn7sKggZ"
   },
   "source": [
    "## 절댓값과 전체 합을 구하는 함수\n",
    "절댓값: 내장 함수 abs()를 이용\n"
   ]
  },
  {
   "cell_type": "code",
   "execution_count": 37,
   "metadata": {
    "id": "ZFkQedl7K0Ky"
   },
   "outputs": [
    {
     "data": {
      "text/plain": [
       "1"
      ]
     },
     "execution_count": 37,
     "metadata": {},
     "output_type": "execute_result"
    }
   ],
   "source": [
    "abs(-1)"
   ]
  },
  {
   "cell_type": "markdown",
   "metadata": {
    "id": "PcUNPcflKyV8"
   },
   "source": [
    "## 합계\n",
    "내장 함수 sum()을 이용"
   ]
  },
  {
   "cell_type": "code",
   "execution_count": 39,
   "metadata": {
    "id": "D6_BuhZ3LBzT"
   },
   "outputs": [
    {
     "data": {
      "text/plain": [
       "55"
      ]
     },
     "execution_count": 39,
     "metadata": {},
     "output_type": "execute_result"
    }
   ],
   "source": [
    "sumList = [1, 2, 3, 4, 5, 6, 7, 8, 9, 10]\n",
    "sum(sumList)"
   ]
  },
  {
   "cell_type": "markdown",
   "metadata": {
    "id": "SwXi4ocnK8Yp"
   },
   "source": [
    "## 항목의 개수를 구하는 함수\n",
    "내장 함수 len()을 이용"
   ]
  },
  {
   "cell_type": "code",
   "execution_count": 41,
   "metadata": {
    "id": "4uShc0jeLIGg"
   },
   "outputs": [
    {
     "data": {
      "text/plain": [
       "4"
      ]
     },
     "execution_count": 41,
     "metadata": {},
     "output_type": "execute_result"
    }
   ],
   "source": [
    "len([1,2,3,4])"
   ]
  },
  {
   "cell_type": "markdown",
   "metadata": {
    "id": "hmaVL_6HLEW-"
   },
   "source": [
    "시험 점수가 입력된 리스트를 대상으로 sum()과 len()을 이용해 데이터  항목의 총합과 길이, 평균값 계산\n"
   ]
  },
  {
   "cell_type": "code",
   "execution_count": 43,
   "metadata": {
    "id": "AAujKA_CJaCk"
   },
   "outputs": [
    {
     "data": {
      "text/plain": [
       "(350, 4, 87.5)"
      ]
     },
     "execution_count": 43,
     "metadata": {},
     "output_type": "execute_result"
    }
   ],
   "source": [
    "scores = [90, 80, 95, 85] # 과목별 시험 점수\n",
    "total = sum(scores)\n",
    "length = len(scores)\n",
    "avg = total/length\n",
    "total, length, avg"
   ]
  },
  {
   "cell_type": "markdown",
   "metadata": {
    "id": "74XsJJIGLVwY"
   },
   "source": [
    "\n",
    "\n",
    "\n",
    "\n",
    "시험 점수 중 최고점과 최하점 계산\n",
    "\n",
    "\n"
   ]
  },
  {
   "cell_type": "code",
   "execution_count": 45,
   "metadata": {
    "id": "3i9SmR6PLTkr"
   },
   "outputs": [
    {
     "data": {
      "text/plain": [
       "(80, 95)"
      ]
     },
     "execution_count": 45,
     "metadata": {},
     "output_type": "execute_result"
    }
   ],
   "source": [
    "min(scores), max(scores)"
   ]
  },
  {
   "cell_type": "markdown",
   "metadata": {
    "id": "4RIQI3qBLYYl"
   },
   "source": [
    "### 1.12 예제: 숫자 맞추기 게임\n",
    "\n",
    "- 1부터 10까지 난수 생성하고 사용자가 그 숫자를 맞추는 게임\n",
    "- 사용자에게 숫자를 입력받고, 정답인지 확인하여 더 높은 숫자 또는 더 낮은 숫자를 선택하도록 안내\n",
    "- 사용자는 'quit'를 입력하여 게임 종료 가능\n",
    "\n",
    "```\n",
    "print('종료하려면 quit를 입력하세요')\n",
    "input('1 ~ 100 사이의 숫자를 선택하시오: ')\n",
    "print('프로그램을 종료합니다.')\n",
    "\n",
    "print(f'{num}는 1 ~ 100 사이의 숫자가 아닙니다')\n",
    "print(f'정답은 {num}보다 작은수 입니다.')\n",
    "print(f'정답은 {num}보다 큰수 입니다.')\n",
    "print('축하합니다.')\n",
    "```\n",
    "\n",
    "- 종료조건 q, quit, exit\n",
    "- 입력값 유효성 체크\n",
    "- 숫자인지 범위인지"
   ]
  },
  {
   "cell_type": "code",
   "execution_count": 5,
   "metadata": {},
   "outputs": [
    {
     "name": "stdin",
     "output_type": "stream",
     "text": [
      "1~10시의 숫자를 선택하세요 5\n"
     ]
    },
    {
     "name": "stdout",
     "output_type": "stream",
     "text": [
      "down\n"
     ]
    },
    {
     "name": "stdin",
     "output_type": "stream",
     "text": [
      "1~10시의 숫자를 선택하세요 3\n"
     ]
    },
    {
     "name": "stdout",
     "output_type": "stream",
     "text": [
      "down\n"
     ]
    },
    {
     "name": "stdin",
     "output_type": "stream",
     "text": [
      "1~10시의 숫자를 선택하세요 2\n"
     ]
    },
    {
     "name": "stdout",
     "output_type": "stream",
     "text": [
      "down\n"
     ]
    },
    {
     "name": "stdin",
     "output_type": "stream",
     "text": [
      "1~10시의 숫자를 선택하세요 1\n"
     ]
    },
    {
     "name": "stdout",
     "output_type": "stream",
     "text": [
      "end\n"
     ]
    }
   ],
   "source": [
    "import random\n",
    "\n",
    "number = random.randint(1,10)\n",
    "\n",
    "while True:\n",
    "    ans = int(input('1~10시의 숫자를 선택하세요'))\n",
    "    if number == ans:\n",
    "        print('end')\n",
    "        break\n",
    "    if ans > number:\n",
    "        print('down')\n",
    "        continue\n",
    "    if ans < number:\n",
    "        print('up')\n",
    "        continue"
   ]
  },
  {
   "cell_type": "code",
   "execution_count": 3,
   "metadata": {},
   "outputs": [
    {
     "name": "stdout",
     "output_type": "stream",
     "text": [
      "종료하려면 quit를 입력하세요\n"
     ]
    },
    {
     "name": "stdin",
     "output_type": "stream",
     "text": [
      "1~10 사이의 숫자를 선택하세요:  6\n"
     ]
    },
    {
     "name": "stdout",
     "output_type": "stream",
     "text": [
      "더 높은 숫자를 선택하세요.\n",
      "종료하려면 quit를 입력하세요\n"
     ]
    },
    {
     "name": "stdin",
     "output_type": "stream",
     "text": [
      "1~10 사이의 숫자를 선택하세요:  8\n"
     ]
    },
    {
     "name": "stdout",
     "output_type": "stream",
     "text": [
      "정답입니다! 게임이 종료되었습니다.\n"
     ]
    }
   ],
   "source": [
    "import random \n",
    "\n",
    "def generate_number(n1=1, n2=10):  # num\n",
    "    return random.randint(n1, n2)\n",
    "\n",
    "def get_user_input():  # ans\n",
    "    print('종료하려면 quit를 입력하세요')\n",
    "    while True: # 계속해서 사용자 입력을 받기 위한 경우, 특정 조건을 기다리기 위한 경우!\n",
    "        ans = input('1~10 사이의 숫자를 선택하세요: ')\n",
    "        if ans.lower() == 'quit':\n",
    "            return 'quit'\n",
    "        if ans.isdigit() and 1<= int(ans) <=10: # elif는 앞의 조건이 거짓인 경우에만 실행!\n",
    "            return int(ans)\n",
    "        print('유효한 숫자를 입력하세요. 다시 시도해 주세요. (1~10 사이의 숫자)')\n",
    "\n",
    "def answer_check(num, ans):\n",
    "    if num == ans:\n",
    "        print('정답입니다! 게임이 종료되었습니다.')\n",
    "        return True  \n",
    "    elif num > ans:\n",
    "        print('더 높은 숫자를 선택하세요.')\n",
    "    else:\n",
    "        print('더 낮은 숫자를 선택하세요.')\n",
    "    return False\n",
    "\n",
    "def exe():\n",
    "    num = generate_number()\n",
    "    \n",
    "    while True:  # 계속해서 사용자 입력을 받기 위한 경우, 특정 조건을 기다리기 위한 경우!\n",
    "        ans = get_user_input() \n",
    "\n",
    "        if ans == 'quit':\n",
    "            print('게임을 종료합니다.')\n",
    "            break\n",
    "        if answer_check(num, ans):  # 정답 확인\n",
    "            break\n",
    "\n",
    "# 게임 실행\n",
    "exe()"
   ]
  },
  {
   "cell_type": "markdown",
   "metadata": {},
   "source": [
    "# 외장함수"
   ]
  },
  {
   "cell_type": "code",
   "execution_count": 2,
   "metadata": {},
   "outputs": [
    {
     "data": {
      "text/plain": [
       "1.2246467991473532e-16"
      ]
     },
     "execution_count": 2,
     "metadata": {},
     "output_type": "execute_result"
    }
   ],
   "source": [
    "import math\n",
    "math.sin(math.pi)"
   ]
  },
  {
   "cell_type": "code",
   "execution_count": 13,
   "metadata": {},
   "outputs": [
    {
     "data": {
      "text/plain": [
       "'nt'"
      ]
     },
     "execution_count": 13,
     "metadata": {},
     "output_type": "execute_result"
    }
   ],
   "source": [
    "import os\n",
    "os.name # 현재 운영체제 종류"
   ]
  },
  {
   "cell_type": "code",
   "execution_count": 15,
   "metadata": {},
   "outputs": [
    {
     "data": {
      "text/plain": [
       "'C:\\\\Users\\\\jisu\\\\anaconda3;C:\\\\Users\\\\jisu\\\\anaconda3\\\\Library\\\\mingw-w64\\\\bin;C:\\\\Users\\\\jisu\\\\anaconda3\\\\Library\\\\usr\\\\bin;C:\\\\Users\\\\jisu\\\\anaconda3\\\\Library\\\\bin;C:\\\\Users\\\\jisu\\\\anaconda3\\\\Scripts;C:\\\\Windows\\\\system32;C:\\\\Windows;C:\\\\Windows\\\\System32\\\\Wbem;C:\\\\Windows\\\\System32\\\\WindowsPowerShell\\\\v1.0\\\\;C:\\\\Windows\\\\System32\\\\OpenSSH\\\\;C:\\\\Users\\\\jisu\\\\AppData\\\\Local\\\\Microsoft\\\\WindowsApps;'"
      ]
     },
     "execution_count": 15,
     "metadata": {},
     "output_type": "execute_result"
    }
   ],
   "source": [
    "# PATH 환경 변수는 운영 체제가 실행 가능한 프로그램을 찾기 위해 사용하는 디렉터리 경로 목록\n",
    "os.environ['PATH'] # 현재 환경의 시스템 경로(Path) 환경 변수"
   ]
  },
  {
   "cell_type": "code",
   "execution_count": 60,
   "metadata": {},
   "outputs": [
    {
     "data": {
      "text/plain": [
       "1728895486.7611258"
      ]
     },
     "execution_count": 60,
     "metadata": {},
     "output_type": "execute_result"
    }
   ],
   "source": [
    "import time\n",
    "time.time() # 현재 시간을 초 단위로 반환"
   ]
  },
  {
   "cell_type": "code",
   "execution_count": 62,
   "metadata": {},
   "outputs": [],
   "source": [
    "time.sleep(1) # 1초 대기"
   ]
  },
  {
   "cell_type": "code",
   "execution_count": 64,
   "metadata": {},
   "outputs": [
    {
     "name": "stdin",
     "output_type": "stream",
     "text": [
      "Enter a number 1\n",
      "Enter a number 3\n"
     ]
    },
    {
     "name": "stdout",
     "output_type": "stream",
     "text": [
      "처리시간은 3.530301809310913입니다.\n"
     ]
    }
   ],
   "source": [
    "input('Enter a number')\n",
    "t1 = time.time()\n",
    "time.sleep(3)\n",
    "\n",
    "input('Enter a number')\n",
    "t2 = time.time()\n",
    "\n",
    "gap = t2 - t1\n",
    "print(f'처리시간은 {gap}입니다.') # 첫 번째 입력 대기 시간 + 3초 sleep + 두 번째 입력 대기 시간"
   ]
  },
  {
   "cell_type": "code",
   "execution_count": 9,
   "metadata": {},
   "outputs": [
    {
     "data": {
      "text/plain": [
       "datetime.date(2024, 10, 14)"
      ]
     },
     "execution_count": 9,
     "metadata": {},
     "output_type": "execute_result"
    }
   ],
   "source": [
    "import datetime\n",
    "\n",
    "datetime.date.today()"
   ]
  }
 ],
 "metadata": {
  "colab": {
   "authorship_tag": "ABX9TyOEsVENI3erc5hPCTcSYfNI",
   "include_colab_link": true,
   "private_outputs": true,
   "provenance": [],
   "toc_visible": true
  },
  "kernelspec": {
   "display_name": "Python 3 (ipykernel)",
   "language": "python",
   "name": "python3"
  },
  "language_info": {
   "codemirror_mode": {
    "name": "ipython",
    "version": 3
   },
   "file_extension": ".py",
   "mimetype": "text/x-python",
   "name": "python",
   "nbconvert_exporter": "python",
   "pygments_lexer": "ipython3",
   "version": "3.12.4"
  }
 },
 "nbformat": 4,
 "nbformat_minor": 4
}
