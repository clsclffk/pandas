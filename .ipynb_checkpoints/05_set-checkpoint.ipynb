{
 "cells": [
  {
   "cell_type": "markdown",
   "metadata": {
    "colab_type": "text",
    "id": "view-in-github"
   },
   "source": [
    "<a href=\"https://colab.research.google.com/github/zzhining/python_basic/blob/master/05_set.ipynb\" target=\"_parent\"><img src=\"https://colab.research.google.com/assets/colab-badge.svg\" alt=\"Open In Colab\"/></a>"
   ]
  },
  {
   "cell_type": "markdown",
   "metadata": {
    "id": "3QTXjb06b0Ny"
   },
   "source": [
    "# 세트(set)\n",
    "- 수학의 집합개념을 구현한 데이터타입\n",
    "- 데이터에 순서가 없고, 중복해서 사용이 불가\n",
    "- 교집합, 합집합, 차집합을 구하는 메서드"
   ]
  },
  {
   "cell_type": "markdown",
   "metadata": {
    "id": "d6PWBI8Bb4pa"
   },
   "source": [
    "# 세트 생성\n",
    "    \n",
    "- 중괄호 {}를 사용해서 만듦"
   ]
  },
  {
   "cell_type": "code",
   "execution_count": 1,
   "metadata": {
    "id": "qirGCeyyb0N0",
    "outputId": "8d9ede4a-ed26-49cd-d420-ea473774843c"
   },
   "outputs": [
    {
     "data": {
      "text/plain": [
       "{1, 2, 3}"
      ]
     },
     "execution_count": 1,
     "metadata": {},
     "output_type": "execute_result"
    }
   ],
   "source": [
    "set1 = {1,2,3}\n",
    "set1"
   ]
  },
  {
   "cell_type": "code",
   "execution_count": 5,
   "metadata": {
    "id": "praPL5F0b0N2",
    "outputId": "fd87df69-e744-482b-f59e-b2fb6d389a9a"
   },
   "outputs": [
    {
     "data": {
      "text/plain": [
       "{1, 2, 3, 'a'}"
      ]
     },
     "execution_count": 5,
     "metadata": {},
     "output_type": "execute_result"
    }
   ],
   "source": [
    "set2 = set([1,2,3,'a'])\n",
    "set2"
   ]
  },
  {
   "cell_type": "code",
   "execution_count": 9,
   "metadata": {},
   "outputs": [
    {
     "data": {
      "text/plain": [
       "{1, 2, 3, 4, 5}"
      ]
     },
     "execution_count": 9,
     "metadata": {},
     "output_type": "execute_result"
    }
   ],
   "source": [
    "# set을 이용한 중복 제거(많이 사용)\n",
    "my_list = [1,2,3,3,3,3,4,5]\n",
    "my_set = set(my_list)\n",
    "my_set"
   ]
  },
  {
   "cell_type": "code",
   "execution_count": 11,
   "metadata": {},
   "outputs": [
    {
     "ename": "TypeError",
     "evalue": "unhashable type: 'list'",
     "output_type": "error",
     "traceback": [
      "\u001b[1;31m---------------------------------------------------------------------------\u001b[0m",
      "\u001b[1;31mTypeError\u001b[0m                                 Traceback (most recent call last)",
      "Cell \u001b[1;32mIn[11], line 2\u001b[0m\n\u001b[0;32m      1\u001b[0m list1 \u001b[38;5;241m=\u001b[39m [\u001b[38;5;241m1\u001b[39m,\u001b[38;5;241m2\u001b[39m,\u001b[38;5;241m3\u001b[39m,\u001b[38;5;241m3\u001b[39m,\u001b[38;5;241m3\u001b[39m,\u001b[38;5;241m3\u001b[39m,\u001b[38;5;241m4\u001b[39m,\u001b[38;5;241m5\u001b[39m,[\u001b[38;5;241m4\u001b[39m,\u001b[38;5;241m5\u001b[39m,\u001b[38;5;241m6\u001b[39m]]\n\u001b[1;32m----> 2\u001b[0m my_set1 \u001b[38;5;241m=\u001b[39m \u001b[38;5;28mset\u001b[39m(list1)\n\u001b[0;32m      3\u001b[0m my_set1\n",
      "\u001b[1;31mTypeError\u001b[0m: unhashable type: 'list'"
     ]
    }
   ],
   "source": [
    "# set은 중첩리스트를 처리하지 못함\n",
    "list1 = [1,2,3,3,3,3,4,5,[4,5,6]]\n",
    "my_set1 = set(list1)\n",
    "my_set1"
   ]
  },
  {
   "cell_type": "markdown",
   "metadata": {
    "id": "wF_GIiIab9iU"
   },
   "source": [
    "# 집합 연산\n",
    "    * 교집합\n",
    "        - set1.intersection(set2)\n",
    "        - &\n",
    "    * 합집합\n",
    "        - set1.union(set2)\n",
    "        - |\n",
    "    * 차집합\n",
    "        - set1.difference(set2)\n",
    "        - -\n",
    "        "
   ]
  },
  {
   "cell_type": "code",
   "execution_count": 13,
   "metadata": {
    "id": "zr2zeEznb0N3",
    "outputId": "a2f7576d-60b3-4388-fa50-06336a0bb423"
   },
   "outputs": [
    {
     "data": {
      "text/plain": [
       "{2, 3, 4, 5, 6, 7, 8}"
      ]
     },
     "execution_count": 13,
     "metadata": {},
     "output_type": "execute_result"
    }
   ],
   "source": [
    "s = set([1,2,3,4])\n",
    "x = {2,3,4,5,6,}\n",
    "y = {3,4,5,6,7,8}\n",
    "\n",
    "# 합집합\n",
    "x | y\n",
    "x.union(y)"
   ]
  },
  {
   "cell_type": "code",
   "execution_count": 15,
   "metadata": {
    "id": "xmwDyUa1b0N4",
    "outputId": "568ab673-d4f0-48b1-b2d3-33547df9c8d3"
   },
   "outputs": [
    {
     "data": {
      "text/plain": [
       "{3, 4, 5, 6}"
      ]
     },
     "execution_count": 15,
     "metadata": {},
     "output_type": "execute_result"
    }
   ],
   "source": [
    "# 교집합\n",
    "x & y\n",
    "x.intersection(y)"
   ]
  },
  {
   "cell_type": "code",
   "execution_count": 17,
   "metadata": {
    "id": "sZ66924nb0N4",
    "outputId": "32cf437f-010e-4526-8b2a-2040314d098c"
   },
   "outputs": [
    {
     "data": {
      "text/plain": [
       "{2}"
      ]
     },
     "execution_count": 17,
     "metadata": {},
     "output_type": "execute_result"
    }
   ],
   "source": [
    "# 차집합\n",
    "x - y\n",
    "x.difference(y)"
   ]
  },
  {
   "cell_type": "code",
   "execution_count": 19,
   "metadata": {},
   "outputs": [
    {
     "data": {
      "text/plain": [
       "{2, 7, 8}"
      ]
     },
     "execution_count": 19,
     "metadata": {},
     "output_type": "execute_result"
    }
   ],
   "source": [
    "# 대칭차집합\n",
    "x ^ y"
   ]
  },
  {
   "cell_type": "markdown",
   "metadata": {
    "id": "yrjsKteHcUfK"
   },
   "source": [
    "# 리스트, 튜플, 세트 간 타입 변환\n",
    "- list(), tuple(), set()을 이용해 서로 변환\n"
   ]
  },
  {
   "cell_type": "code",
   "execution_count": 21,
   "metadata": {
    "id": "RxDRfYMUb0N5"
   },
   "outputs": [
    {
     "data": {
      "text/plain": [
       "list"
      ]
     },
     "execution_count": 21,
     "metadata": {},
     "output_type": "execute_result"
    }
   ],
   "source": [
    "a = [1,2,3,4,5]\n",
    "type(a)"
   ]
  },
  {
   "cell_type": "code",
   "execution_count": 23,
   "metadata": {
    "id": "IgaVUoWecfBF"
   },
   "outputs": [
    {
     "data": {
      "text/plain": [
       "tuple"
      ]
     },
     "execution_count": 23,
     "metadata": {},
     "output_type": "execute_result"
    }
   ],
   "source": [
    "b = tuple(a)\n",
    "type(b)"
   ]
  },
  {
   "cell_type": "code",
   "execution_count": 25,
   "metadata": {},
   "outputs": [
    {
     "data": {
      "text/plain": [
       "set"
      ]
     },
     "execution_count": 25,
     "metadata": {},
     "output_type": "execute_result"
    }
   ],
   "source": [
    "c = set(a)\n",
    "type(c)"
   ]
  }
 ],
 "metadata": {
  "colab": {
   "include_colab_link": true,
   "provenance": []
  },
  "kernelspec": {
   "display_name": "Python 3 (ipykernel)",
   "language": "python",
   "name": "python3"
  },
  "language_info": {
   "codemirror_mode": {
    "name": "ipython",
    "version": 3
   },
   "file_extension": ".py",
   "mimetype": "text/x-python",
   "name": "python",
   "nbconvert_exporter": "python",
   "pygments_lexer": "ipython3",
   "version": "3.12.4"
  },
  "toc": {
   "base_numbering": 1,
   "nav_menu": {},
   "number_sections": false,
   "sideBar": true,
   "skip_h1_title": false,
   "title_cell": "Table of Contents",
   "title_sidebar": "Contents",
   "toc_cell": false,
   "toc_position": {},
   "toc_section_display": true,
   "toc_window_display": false
  }
 },
 "nbformat": 4,
 "nbformat_minor": 4
}
