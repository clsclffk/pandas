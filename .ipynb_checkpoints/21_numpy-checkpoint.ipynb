{
 "cells": [
  {
   "cell_type": "markdown",
   "metadata": {
    "colab_type": "text",
    "id": "view-in-github"
   },
   "source": [
    "<a href=\"https://colab.research.google.com/github/yleessam/datascience/blob/main/8%EC%B0%A8%EC%8B%9C_%EB%84%98%ED%8C%8C%EC%9D%B4_%EB%B0%B0%ED%8F%AC.ipynb\" target=\"_parent\"><img src=\"https://colab.research.google.com/assets/colab-badge.svg\" alt=\"Open In Colab\"/></a>"
   ]
  },
  {
   "cell_type": "markdown",
   "metadata": {},
   "source": [
    "# Data 분석을 위한 패키지\n"
   ]
  },
  {
   "cell_type": "markdown",
   "metadata": {},
   "source": [
    "1. NumPy\n",
    "    - Numerical Python\n",
    "    - 과학계산용 패키지\n",
    "    - 특징\n",
    "        - 빠르고 효율적인 다차원 배열 객체 ndarray (n-dimensional array)\n",
    "            - `[[1, 2], [1, 2], [[1, 2], [3, 4]]]`\n",
    "        - 데이터 분석 시 데이터 컨테이너 역할(데이터를 담는 그릇)\n",
    "    - 설치\n",
    "        - `pip install numpy`\n",
    "1. pandas\n",
    "    - 금융회사에 다니고 있던 Wes McKinney가 처음에 금융 데이터 분석을 위해 설계(2008년)\n",
    "    - pandas: 계량 경제학 용어인 Panel Data와 Analysis의 합성어\n",
    "    - Panel Data<sup>1</sup>\n",
    "        - multi-dimensional data involving measurements over time (Wikipedia)\n",
    "    - 구조화된 데이터를 빠르고 쉬우면서 다양한 형식으로 가공할 수 있는 풍부한 자료 구조와 함수를 제공한다.\n",
    "    - pandas의 기본 구조는 NumPy로 되어있다.\n",
    "    - 설치\n",
    "        - `pip install pandas`\n",
    "1. matplotlib/seaborn/bokeh\n",
    "    - 시각화 도구\n",
    "    - 설치\n",
    "        - `pip install matplotlib`\n",
    "        - `pip install seaborn`\n",
    "        - `pip install bokeh`\n",
    "        \n",
    "1. SciPy\n",
    "    - 과학 계산용 패키지\n",
    "    - 최적화, 선형대수, 적분 등 과학 계산에 쓰이는 대부분이 있음\n",
    "    - Numpy extension of Python\n",
    "\n",
    "1. scikit-learn\n",
    "    - SciPy에 기반한 머신러닝 프레임워크"
   ]
  },
  {
   "attachments": {
    "image.png": {
     "image/png": "[encoded data removed]"
    }
   },
   "cell_type": "markdown",
   "metadata": {},
   "source": [
    "![image.png](attachment:image.png)"
   ]
  },
  {
   "cell_type": "markdown",
   "metadata": {},
   "source": [
    "# NumPy: 배열과 벡터 계산 라이브러리"
   ]
  },
  {
   "cell_type": "markdown",
   "metadata": {},
   "source": [
    "### NumPy Documentation\n",
    "\n",
    "[Tutorials](https://docs.scipy.org/doc/numpy/user/quickstart.html)"
   ]
  },
  {
   "cell_type": "markdown",
   "metadata": {},
   "source": [
    "#### Numerical Python의 줄임말\n",
    "\n",
    "1. 빠르고 효율적인 메모리 사용, 벡터 연산, 브로드캐스팅(확대) 기능을 제공하는 다차원 배열인 ndarray (n dimentional array)를 제공\n",
    "1. for 문 등 반복문을 작성할 필요없이 전체 배열에 대해 빠른 연산을 제공\n",
    "1. 배열 데이터를 디스크에 쓰거나 읽을 수 있는 도구\n",
    "1. 선형대수, 난수 발생기, 푸리에(Fourier) 변환 기능\n",
    "1. C, C++, 포트란 등 다른 언어로 쓰여진 코드를 통합하는 도구"
   ]
  },
  {
   "cell_type": "markdown",
   "metadata": {},
   "source": [
    "#### 데이터 분석에서 빠른 연산을 위해 자주 사용하는 기능\n",
    "\n",
    "1. 배열에서 데이터 변경, 정제, 부분 집합, 필터링의 빠른 수행\n",
    "2. 정렬, 유일 원소 찾기, 집합 연산\n",
    "3. 통계 표현과 데이터의 수집/요약\n",
    "4. 여러 데이터의 병합, 데이터 정렬과 데이터 조작"
   ]
  },
  {
   "cell_type": "markdown",
   "metadata": {
    "id": "4lHVZnRIiZe-"
   },
   "source": [
    "### NumPy ndarray: 다차원 배열 객체\n",
    "\n",
    "1. 넘파이 배열(ndarray) : 넘파이에서 텐서 데이터를 다루는 객체\n",
    "2. 텐서(tensor) : 선형대수의 데이터 배열\n",
    "3. 랭크(rank)에 따라 이름이 다름"
   ]
  },
  {
   "cell_type": "markdown",
   "metadata": {},
   "source": [
    "| 랭크 | 이름  | 예  |\n",
    "|------|-------|-----|\n",
    "| r0   | 스칼라 (scalar) | 7   |\n",
    "| r1   | 벡터 (vector)  | [1, 2, 3] |\n",
    "| r2   | 행렬 (matrix)  | [[1, 2], [3, 4]] |\n",
    "| r3   | 3차원 텐서 (3-order tensor) | [[[1, 2], [3, 4]], [[5, 6], [7, 8]]] |\n",
    "| n | n차원 텐서( n-order tensor) | |"
   ]
  },
  {
   "cell_type": "markdown",
   "metadata": {
    "id": "FAZx-8n1in44"
   },
   "source": [
    "### Numpy library 가져오기"
   ]
  },
  {
   "cell_type": "code",
   "execution_count": 1,
   "metadata": {
    "id": "X869YepshrSp"
   },
   "outputs": [],
   "source": [
    "# 표준 NumPy의 컨벤션을 import numpy as np로 사용\n",
    "import numpy as np"
   ]
  },
  {
   "cell_type": "markdown",
   "metadata": {
    "id": "-5ZcD3Fvh6_n"
   },
   "source": [
    "# 1. 넘파이 배열의 특징\n",
    "\n",
    "- 넘파이 배열은 텐서 구조에 따라 모든 구성요소에 값이 있어야 한다.\n",
    "- 동적 타이핑이 아닌 하나의 데이터 타입만 사용한다\n",
    "- 메모리에 데이터를 연속적으로 나열한다 : 각 값의 메모리 크기는 동일 --> 검색, 연산 속도가 리스트보다 빠르다"
   ]
  },
  {
   "cell_type": "code",
   "execution_count": 3,
   "metadata": {
    "colab": {
     "base_uri": "https://localhost:8080/"
    },
    "id": "XgLw_k4PiGNT",
    "outputId": "a60269f2-031e-48a3-b6a6-3c0b4b7e1ef6"
   },
   "outputs": [
    {
     "data": {
      "text/plain": [
       "array([1, 2, 3, 4, 5])"
      ]
     },
     "execution_count": 3,
     "metadata": {},
     "output_type": "execute_result"
    }
   ],
   "source": [
    "arr1 = np.array([1,2,3,4,5])\n",
    "arr1"
   ]
  },
  {
   "cell_type": "code",
   "execution_count": 5,
   "metadata": {
    "colab": {
     "base_uri": "https://localhost:8080/"
    },
    "id": "PIxg31OBjGtr",
    "outputId": "76f63bc0-886c-486d-829f-895d00f4375f"
   },
   "outputs": [
    {
     "data": {
      "text/plain": [
       "array([1, 2, 3, 5])"
      ]
     },
     "execution_count": 5,
     "metadata": {},
     "output_type": "execute_result"
    }
   ],
   "source": [
    "lst1 = [1,2,3,5]\n",
    "arr2 = np.array(lst1)\n",
    "arr2"
   ]
  },
  {
   "cell_type": "code",
   "execution_count": 7,
   "metadata": {},
   "outputs": [
    {
     "data": {
      "text/plain": [
       "(2656737477424, 2656741317136)"
      ]
     },
     "execution_count": 7,
     "metadata": {},
     "output_type": "execute_result"
    }
   ],
   "source": [
    "id(arr1), id(arr2)"
   ]
  },
  {
   "cell_type": "code",
   "execution_count": 9,
   "metadata": {},
   "outputs": [
    {
     "data": {
      "text/plain": [
       "(numpy.ndarray, numpy.ndarray)"
      ]
     },
     "execution_count": 9,
     "metadata": {},
     "output_type": "execute_result"
    }
   ],
   "source": [
    "type(arr1), type(arr2)"
   ]
  },
  {
   "cell_type": "markdown",
   "metadata": {},
   "source": [
    "## 데이터 타입 혼합 처리"
   ]
  },
  {
   "cell_type": "code",
   "execution_count": 11,
   "metadata": {},
   "outputs": [
    {
     "data": {
      "text/plain": [
       "array(['1', '4', '5', '10'], dtype='<U11')"
      ]
     },
     "execution_count": 11,
     "metadata": {},
     "output_type": "execute_result"
    }
   ],
   "source": [
    "# 데이터 타입이 다른 경우 자동으로 모든 요소가 동일한 데이터 타입으로 통일\n",
    "lst2 = [1,4,'5',10]\n",
    "np.array(lst2)"
   ]
  },
  {
   "cell_type": "markdown",
   "metadata": {
    "id": "vD7NxggFkzW3"
   },
   "source": [
    "## 데이터 타입 dtype\n",
    "\n"
   ]
  },
  {
   "cell_type": "code",
   "execution_count": 17,
   "metadata": {},
   "outputs": [
    {
     "data": {
      "text/plain": [
       "dtype('float64')"
      ]
     },
     "execution_count": 17,
     "metadata": {},
     "output_type": "execute_result"
    }
   ],
   "source": [
    "arr3 = np.array(lst2, float)\n",
    "arr3.dtype"
   ]
  },
  {
   "cell_type": "markdown",
   "metadata": {
    "id": "lwG0IWaHh13e"
   },
   "source": [
    "## 배열의 구조 shape"
   ]
  },
  {
   "cell_type": "code",
   "execution_count": 19,
   "metadata": {},
   "outputs": [
    {
     "data": {
      "text/plain": [
       "(5,)"
      ]
     },
     "execution_count": 19,
     "metadata": {},
     "output_type": "execute_result"
    }
   ],
   "source": [
    "arr1.shape"
   ]
  },
  {
   "cell_type": "code",
   "execution_count": 21,
   "metadata": {},
   "outputs": [
    {
     "data": {
      "text/plain": [
       "(4,)"
      ]
     },
     "execution_count": 21,
     "metadata": {},
     "output_type": "execute_result"
    }
   ],
   "source": [
    "arr2.shape"
   ]
  },
  {
   "cell_type": "code",
   "execution_count": 25,
   "metadata": {},
   "outputs": [
    {
     "data": {
      "text/plain": [
       "array([[1, 2, 3, 4],\n",
       "       [1, 2, 3, 4],\n",
       "       [1, 2, 3, 4]])"
      ]
     },
     "execution_count": 25,
     "metadata": {},
     "output_type": "execute_result"
    }
   ],
   "source": [
    "# 2차원 행렬\n",
    "matrix1 = [[1,2,3,4],[1,2,3,4],[1,2,3,4]]\n",
    "arr4 = np.array(matrix1, int)\n",
    "arr4"
   ]
  },
  {
   "cell_type": "code",
   "execution_count": 27,
   "metadata": {},
   "outputs": [
    {
     "data": {
      "text/plain": [
       "(3, 4)"
      ]
     },
     "execution_count": 27,
     "metadata": {},
     "output_type": "execute_result"
    }
   ],
   "source": [
    "arr4.shape"
   ]
  },
  {
   "cell_type": "code",
   "execution_count": 29,
   "metadata": {},
   "outputs": [],
   "source": [
    "# 3차원 텐서\n",
    "lst2 = [\n",
    "    [[1,2,3,5],[1,2,3,5],[1,2,3,5]],\n",
    "    [[1,2,3,5],[1,2,3,5],[1,2,3,5]],\n",
    "    [[1,2,3,5],[1,2,3,5],[1,2,3,5]]\n",
    "]"
   ]
  },
  {
   "cell_type": "code",
   "execution_count": 31,
   "metadata": {},
   "outputs": [
    {
     "data": {
      "text/plain": [
       "(3, 3, 4)"
      ]
     },
     "execution_count": 31,
     "metadata": {},
     "output_type": "execute_result"
    }
   ],
   "source": [
    "np.array(lst2).shape"
   ]
  },
  {
   "cell_type": "code",
   "execution_count": 33,
   "metadata": {},
   "outputs": [
    {
     "data": {
      "text/plain": [
       "((3, 3, 4), 3)"
      ]
     },
     "execution_count": 33,
     "metadata": {},
     "output_type": "execute_result"
    }
   ],
   "source": [
    "arr5 = np.array(lst2)\n",
    "arr5.shape, arr5.ndim"
   ]
  },
  {
   "cell_type": "code",
   "execution_count": 35,
   "metadata": {},
   "outputs": [
    {
     "data": {
      "text/plain": [
       "36"
      ]
     },
     "execution_count": 35,
     "metadata": {},
     "output_type": "execute_result"
    }
   ],
   "source": [
    "arr5.size"
   ]
  },
  {
   "cell_type": "code",
   "execution_count": 45,
   "metadata": {},
   "outputs": [
    {
     "data": {
      "text/plain": [
       "((2, 3, 4), 24, 3)"
      ]
     },
     "execution_count": 45,
     "metadata": {},
     "output_type": "execute_result"
    }
   ],
   "source": [
    "# (2,3,4) tensor array 생성하기\n",
    "# (배치, 행, 열)\n",
    "lst3 = [\n",
    "    [[1,2,3,4],[1,2,3,4],[1,2,3,4]],\n",
    "    [[1,2,3,4],[1,2,3,4],[1,2,3,4]]\n",
    "]\n",
    "\n",
    "arr6 = np.array(lst3)\n",
    "arr6.shape, arr6.size, arr6.ndim"
   ]
  },
  {
   "cell_type": "code",
   "execution_count": 47,
   "metadata": {},
   "outputs": [
    {
     "data": {
      "text/plain": [
       "array([[[1., 2., 3., 4.],\n",
       "        [1., 2., 3., 4.],\n",
       "        [1., 2., 3., 4.]],\n",
       "\n",
       "       [[1., 2., 3., 4.],\n",
       "        [1., 2., 3., 4.],\n",
       "        [1., 2., 3., 4.]]])"
      ]
     },
     "execution_count": 47,
     "metadata": {},
     "output_type": "execute_result"
    }
   ],
   "source": [
    "arr7 = np.array(lst3, dtype=float)\n",
    "arr7"
   ]
  },
  {
   "cell_type": "markdown",
   "metadata": {},
   "source": [
    "## 데이터 타입 dtype 변경 `astype()`"
   ]
  },
  {
   "cell_type": "code",
   "execution_count": 49,
   "metadata": {},
   "outputs": [
    {
     "data": {
      "text/plain": [
       "dtype('float64')"
      ]
     },
     "execution_count": 49,
     "metadata": {},
     "output_type": "execute_result"
    }
   ],
   "source": [
    "arr7.dtype"
   ]
  },
  {
   "cell_type": "code",
   "execution_count": 53,
   "metadata": {},
   "outputs": [
    {
     "data": {
      "text/plain": [
       "dtype('int32')"
      ]
     },
     "execution_count": 53,
     "metadata": {},
     "output_type": "execute_result"
    }
   ],
   "source": [
    "arr7_1 = arr7.astype(np.int32)\n",
    "arr7_1.dtype"
   ]
  },
  {
   "cell_type": "markdown",
   "metadata": {},
   "source": [
    "#### <참고> dtype 축약코드\n",
    "\n",
    "종류 | Type Code | 설명\n",
    ":---|:---|:---\n",
    "int8,  uint8  | i1, u1   | 부호가 있는 8비트(1바이트) 정수형과 부호가 없는 8비트 정수형\n",
    "int16, uint16 | i2, u2   | 부호가 있는 16비트 정수형과 부호가 없는 16비트 정수형\n",
    "int32, uint32 | i4, u4   | 부호가 있는 32비트 정수형과 부호가 없는 32비트 정수형\n",
    "int64, uint64 | i8, u8   | 부호가 있는 64비트 정수형과 부호가 없는 64비트 정수형\n",
    "float16       | f2       | 반정밀도 부동소수점\n",
    "float32       | f4 or f  | 단정밀도 부동소수점 C 언어의 float 형과 호환\n",
    "float64       | f8 or d  | 배정밀도 부동소수점 C 언어의 double 형과 파이썬의 float 객체와 호환\n",
    "float128      | f16 or g | 확장 정밀도 부동소수점\n",
    "bool          | ?        | True, False 값을 저장하는 불리언형\n",
    "object        | O        | 파이썬 객체형\n",
    "string_       | S        | 고정 길이 문자열형, 길이가 10인 문자열의 dtype은 S10\n",
    "unicode_      | U        | 고정 길이 유니코드형(예: U10)\n"
   ]
  },
  {
   "cell_type": "markdown",
   "metadata": {
    "id": "7CAI0prmledY"
   },
   "source": [
    "## 배열의 구조 변경 reshape, newaxis"
   ]
  },
  {
   "cell_type": "markdown",
   "metadata": {
    "id": "BdMLdORjvtKA"
   },
   "source": [
    "reshape\n",
    "\n",
    "주의)초기 배열의 크기가 재형성된 배열의 크기와 일치해야 한다\n",
    "\n",
    "1차원 배열을 2차원 행,열 매트릭스로 변환\n",
    "\n",
    "1) reshape(-1,1)\n",
    "2) newaxis 키워드"
   ]
  },
  {
   "cell_type": "code",
   "execution_count": 55,
   "metadata": {
    "colab": {
     "base_uri": "https://localhost:8080/"
    },
    "id": "5KB770XWvWw4",
    "outputId": "9ee78119-6156-4c23-fced-fdce2fee801e"
   },
   "outputs": [
    {
     "data": {
      "text/plain": [
       "array([[1, 2, 3],\n",
       "       [4, 5, 6],\n",
       "       [7, 8, 9]])"
      ]
     },
     "execution_count": 55,
     "metadata": {},
     "output_type": "execute_result"
    }
   ],
   "source": [
    "np.arange(1, 10).reshape((3,3))"
   ]
  },
  {
   "cell_type": "code",
   "execution_count": 59,
   "metadata": {},
   "outputs": [
    {
     "data": {
      "text/plain": [
       "array([[1],\n",
       "       [2],\n",
       "       [3],\n",
       "       [4],\n",
       "       [5],\n",
       "       [6],\n",
       "       [7],\n",
       "       [8],\n",
       "       [9]])"
      ]
     },
     "execution_count": 59,
     "metadata": {},
     "output_type": "execute_result"
    }
   ],
   "source": [
    "np.arange(1,10).reshape((9,1))"
   ]
  },
  {
   "cell_type": "markdown",
   "metadata": {},
   "source": [
    "1. reshape으로 변경하기"
   ]
  },
  {
   "cell_type": "code",
   "execution_count": 63,
   "metadata": {
    "colab": {
     "base_uri": "https://localhost:8080/"
    },
    "id": "-lzzgvpQvWqL",
    "outputId": "7a60b4ce-b91f-4a4c-c74c-b94f9f3379f9"
   },
   "outputs": [
    {
     "data": {
      "text/plain": [
       "array([[1, 2, 3]])"
      ]
     },
     "execution_count": 63,
     "metadata": {},
     "output_type": "execute_result"
    }
   ],
   "source": [
    "x = np.array([1,2,3])\n",
    "x.reshape((1,3))"
   ]
  },
  {
   "cell_type": "code",
   "execution_count": 67,
   "metadata": {},
   "outputs": [
    {
     "data": {
      "text/plain": [
       "(3,)"
      ]
     },
     "execution_count": 67,
     "metadata": {},
     "output_type": "execute_result"
    }
   ],
   "source": [
    "x.shape"
   ]
  },
  {
   "cell_type": "code",
   "execution_count": 65,
   "metadata": {
    "colab": {
     "base_uri": "https://localhost:8080/"
    },
    "id": "4BgkwhwIXHJ2",
    "outputId": "63702e8b-ab38-4984-aee3-1c2fa59b5223"
   },
   "outputs": [
    {
     "data": {
      "text/plain": [
       "array([[1],\n",
       "       [2],\n",
       "       [3]])"
      ]
     },
     "execution_count": 65,
     "metadata": {},
     "output_type": "execute_result"
    }
   ],
   "source": [
    "x.reshape((3,1))"
   ]
  },
  {
   "cell_type": "markdown",
   "metadata": {
    "id": "7RrG1atkX-n1"
   },
   "source": [
    "2. `newaxis` 키워드를 이용한 변환"
   ]
  },
  {
   "cell_type": "code",
   "execution_count": 70,
   "metadata": {
    "colab": {
     "base_uri": "https://localhost:8080/"
    },
    "id": "_KHNYPmov7uw",
    "outputId": "134f06de-9e4f-42ec-d386-39f965706628"
   },
   "outputs": [
    {
     "data": {
      "text/plain": [
       "array([[1, 2, 3]])"
      ]
     },
     "execution_count": 70,
     "metadata": {},
     "output_type": "execute_result"
    }
   ],
   "source": [
    "x = np.array([1,2,3])\n",
    "x[np.newaxis, :]"
   ]
  },
  {
   "cell_type": "code",
   "execution_count": 72,
   "metadata": {
    "colab": {
     "base_uri": "https://localhost:8080/"
    },
    "id": "HoGabiaOv7oJ",
    "outputId": "5bc47cab-9a92-4ee0-90df-3b766eeb8609"
   },
   "outputs": [
    {
     "data": {
      "text/plain": [
       "array([[1],\n",
       "       [2],\n",
       "       [3]])"
      ]
     },
     "execution_count": 72,
     "metadata": {},
     "output_type": "execute_result"
    }
   ],
   "source": [
    "x[:, np.newaxis]"
   ]
  },
  {
   "cell_type": "markdown",
   "metadata": {
    "id": "XJoM_qDtnt8R"
   },
   "source": [
    "# 2. 배열 생성\n"
   ]
  },
  {
   "cell_type": "markdown",
   "metadata": {},
   "source": [
    "함수| 설명\n",
    ":---| :---\n",
    "array | 입력 데이터(리스트, 튜플, 배열 또는 다른 순차형 데이터)를 ndarray로 변환하며 dtype이 명시되지 않은 경우에는 자료형을 추론하여 저장한다. 기본적으로 입력 데이터는 복사된다.\n",
    "asarray | 입력 데이터를 ndarray로 변환하지만 입력 데이터가 이미 ndarray일 경우, 복사가 되지 않는다.\n",
    "arange | 내장 range 함수와 유사하지만 리스트 대신 ndarray를 반환한다.\n",
    "ones, ones_like | 주어진 dtype과 주어진 모양을 가지는 배열을 생성하고 내용을 모두 1로 초기화한다. ones_like는 주어진 배열과 동일한 모양과 dtype을 가지는 배열을 새로 생성하여 내용을 모두 1로 초기화한다.\n",
    "zeros, zeros_like | ones, ones_like와 같지만 내용을 0으로 채운다.\n",
    "empty, empty_like | 메모리를 할당하여 새로운 배열을 생성하지만 ones나 zeros처럼 값을 초기화하지는 않는다.\n",
    "eye, identity | N x N 크기의 단위 행렬을 생성한다(좌상단에서 우하단을 잇는 대각선은 1로 채워지고 나머지는 0으로 채워진다)."
   ]
  },
  {
   "cell_type": "markdown",
   "metadata": {
    "id": "io-DRNHTkpkm"
   },
   "source": [
    "## arange()"
   ]
  },
  {
   "cell_type": "code",
   "execution_count": 74,
   "metadata": {
    "colab": {
     "base_uri": "https://localhost:8080/"
    },
    "id": "hPJOCwEsnx7Z",
    "outputId": "d614ebac-723d-46df-d1a7-6686a9c9c200"
   },
   "outputs": [
    {
     "data": {
      "text/plain": [
       "array([0, 1, 2, 3, 4, 5, 6, 7, 8, 9])"
      ]
     },
     "execution_count": 74,
     "metadata": {},
     "output_type": "execute_result"
    }
   ],
   "source": [
    "np.arange(10)"
   ]
  },
  {
   "cell_type": "code",
   "execution_count": 76,
   "metadata": {
    "colab": {
     "base_uri": "https://localhost:8080/"
    },
    "id": "RGq3AnLIn24v",
    "outputId": "7b05e4f6-651b-46ec-f4c4-ebfaa807c5fb"
   },
   "outputs": [
    {
     "data": {
      "text/plain": [
       "array([-5, -4, -3, -2, -1,  0,  1,  2,  3,  4])"
      ]
     },
     "execution_count": 76,
     "metadata": {},
     "output_type": "execute_result"
    }
   ],
   "source": [
    "np.arange(-5, 5)"
   ]
  },
  {
   "cell_type": "code",
   "execution_count": 78,
   "metadata": {
    "colab": {
     "base_uri": "https://localhost:8080/"
    },
    "id": "oUlpDcDkqrxo",
    "outputId": "6a006644-7634-419a-bfc8-f2b7082cc621"
   },
   "outputs": [
    {
     "data": {
      "text/plain": [
       "array([0. , 0.5, 1. , 1.5, 2. , 2.5, 3. , 3.5, 4. , 4.5])"
      ]
     },
     "execution_count": 78,
     "metadata": {},
     "output_type": "execute_result"
    }
   ],
   "source": [
    "np.arange(0, 5, 0.5)"
   ]
  },
  {
   "cell_type": "markdown",
   "metadata": {
    "id": "CF_iaFhInt4-"
   },
   "source": [
    "## ones, zeros, empty"
   ]
  },
  {
   "cell_type": "code",
   "execution_count": 80,
   "metadata": {
    "colab": {
     "base_uri": "https://localhost:8080/"
    },
    "id": "Sp5FzvSmoIM5",
    "outputId": "b13c1763-659f-48e3-de31-f29be4ead039"
   },
   "outputs": [
    {
     "data": {
      "text/plain": [
       "array([[1, 1],\n",
       "       [1, 1],\n",
       "       [1, 1],\n",
       "       [1, 1],\n",
       "       [1, 1]])"
      ]
     },
     "execution_count": 80,
     "metadata": {},
     "output_type": "execute_result"
    }
   ],
   "source": [
    "np.ones(shape=(5,2), dtype=np.int32)"
   ]
  },
  {
   "cell_type": "code",
   "execution_count": 82,
   "metadata": {
    "colab": {
     "base_uri": "https://localhost:8080/"
    },
    "id": "Bwps4F2joI_D",
    "outputId": "5f7b1e70-d938-48ee-9b18-e86f16bebe97"
   },
   "outputs": [
    {
     "data": {
      "text/plain": [
       "array([[0, 0],\n",
       "       [0, 0],\n",
       "       [0, 0],\n",
       "       [0, 0],\n",
       "       [0, 0]])"
      ]
     },
     "execution_count": 82,
     "metadata": {},
     "output_type": "execute_result"
    }
   ],
   "source": [
    "np.zeros(shape=(5,2), dtype=np.int32)"
   ]
  },
  {
   "cell_type": "code",
   "execution_count": 84,
   "metadata": {
    "colab": {
     "base_uri": "https://localhost:8080/"
    },
    "id": "dg-0qPD5oI7p",
    "outputId": "dd995760-7e3c-4ff6-c9e5-6d9531f6a895"
   },
   "outputs": [
    {
     "data": {
      "text/plain": [
       "array([[    0,     1],\n",
       "       [    0,   618],\n",
       "       [ 1596,     0],\n",
       "       [  768, 32763],\n",
       "       [    0,     0]])"
      ]
     },
     "execution_count": 84,
     "metadata": {},
     "output_type": "execute_result"
    }
   ],
   "source": [
    "np.empty(shape=(5,2), dtype=np.int32)"
   ]
  },
  {
   "cell_type": "markdown",
   "metadata": {
    "id": "BrZpJdR8peTV"
   },
   "source": [
    "## 실행할 때마다 기존에 있던 값으로 채워짐\n",
    "\n",
    "- np.full()\n",
    "- np.linspace()\n",
    "- np.random.random()\n",
    "- np.random.normal()"
   ]
  },
  {
   "cell_type": "code",
   "execution_count": 86,
   "metadata": {
    "colab": {
     "base_uri": "https://localhost:8080/"
    },
    "id": "LdbO7bJ1qgWH",
    "outputId": "38ab1b08-51c9-4e3b-81eb-ed9868217cae"
   },
   "outputs": [
    {
     "data": {
      "text/plain": [
       "array([2, 2, 2], dtype=int64)"
      ]
     },
     "execution_count": 86,
     "metadata": {},
     "output_type": "execute_result"
    }
   ],
   "source": [
    "np.full((3), 2, dtype=np.int64)"
   ]
  },
  {
   "cell_type": "code",
   "execution_count": 88,
   "metadata": {
    "colab": {
     "base_uri": "https://localhost:8080/"
    },
    "id": "EF7Yn--hqgS1",
    "outputId": "3f88c0cd-dfe2-426d-b5b1-c7e817ba0509"
   },
   "outputs": [
    {
     "data": {
      "text/plain": [
       "array([0.  , 0.25, 0.5 , 0.75, 1.  ])"
      ]
     },
     "execution_count": 88,
     "metadata": {},
     "output_type": "execute_result"
    }
   ],
   "source": [
    "np.linspace(0,1,5)"
   ]
  },
  {
   "cell_type": "code",
   "execution_count": 90,
   "metadata": {
    "colab": {
     "base_uri": "https://localhost:8080/"
    },
    "id": "LJVhu5o1qgPj",
    "outputId": "f76b76e1-b385-468a-d248-f6f1ef6e0f0f"
   },
   "outputs": [
    {
     "data": {
      "text/plain": [
       "array([[0.49970753, 0.88895745, 0.98032305],\n",
       "       [0.35385158, 0.9175002 , 0.01654121],\n",
       "       [0.28298416, 0.02827051, 0.97448407]])"
      ]
     },
     "execution_count": 90,
     "metadata": {},
     "output_type": "execute_result"
    }
   ],
   "source": [
    "np.random.random((3,3))"
   ]
  },
  {
   "cell_type": "code",
   "execution_count": 92,
   "metadata": {
    "colab": {
     "base_uri": "https://localhost:8080/"
    },
    "id": "STiCChJ8qgMK",
    "outputId": "df12b8ec-f4a1-4321-d10e-71002e7122c8"
   },
   "outputs": [
    {
     "data": {
      "text/plain": [
       "array([[55.93127782, 53.28957689, 56.59513372],\n",
       "       [61.30326737, 62.41276889, 46.28915849],\n",
       "       [55.67549182, 55.1585856 , 43.56593828]])"
      ]
     },
     "execution_count": 92,
     "metadata": {},
     "output_type": "execute_result"
    }
   ],
   "source": [
    "np.random.normal(50, 7, (3,3))"
   ]
  },
  {
   "cell_type": "markdown",
   "metadata": {
    "id": "4GXmdfcNptyE"
   },
   "source": [
    "## ones_like, zeros_like, empty_like"
   ]
  },
  {
   "cell_type": "code",
   "execution_count": 96,
   "metadata": {
    "colab": {
     "base_uri": "https://localhost:8080/"
    },
    "id": "LbBmIBuxoI0-",
    "outputId": "fb19bc26-b0a5-43e8-f3b8-2956dd78cc16"
   },
   "outputs": [
    {
     "data": {
      "text/plain": [
       "array([[ 0,  1,  2,  3],\n",
       "       [ 4,  5,  6,  7],\n",
       "       [ 8,  9, 10, 11]])"
      ]
     },
     "execution_count": 96,
     "metadata": {},
     "output_type": "execute_result"
    }
   ],
   "source": [
    "x = np.arange(12).reshape(3,4)\n",
    "x"
   ]
  },
  {
   "cell_type": "code",
   "execution_count": 98,
   "metadata": {
    "colab": {
     "base_uri": "https://localhost:8080/"
    },
    "id": "Nw-IZRKKoIxz",
    "outputId": "27a003b6-c43a-4211-c6f3-f5ed2baafa01"
   },
   "outputs": [
    {
     "data": {
      "text/plain": [
       "array([[0, 0, 0, 0],\n",
       "       [0, 0, 0, 0],\n",
       "       [0, 0, 0, 0]])"
      ]
     },
     "execution_count": 98,
     "metadata": {},
     "output_type": "execute_result"
    }
   ],
   "source": [
    "np.zeros_like(x)"
   ]
  },
  {
   "cell_type": "code",
   "execution_count": 100,
   "metadata": {
    "colab": {
     "base_uri": "https://localhost:8080/"
    },
    "id": "FdlDcoI2oIu-",
    "outputId": "bca62616-b966-4781-be79-c7e4a55fe452"
   },
   "outputs": [
    {
     "data": {
      "text/plain": [
       "array([[1, 1, 1, 1],\n",
       "       [1, 1, 1, 1],\n",
       "       [1, 1, 1, 1]])"
      ]
     },
     "execution_count": 100,
     "metadata": {},
     "output_type": "execute_result"
    }
   ],
   "source": [
    "np.ones_like(x)"
   ]
  },
  {
   "cell_type": "code",
   "execution_count": 102,
   "metadata": {
    "colab": {
     "base_uri": "https://localhost:8080/"
    },
    "id": "daXxgYm3p_T6",
    "outputId": "7dccc7be-d393-4259-b3a9-0446fbda37ac"
   },
   "outputs": [
    {
     "data": {
      "text/plain": [
       "array([[     97,     114,     114,      52],\n",
       "       [     46,     115,     104,      97],\n",
       "       [    112,     101,     114, 3342437]])"
      ]
     },
     "execution_count": 102,
     "metadata": {},
     "output_type": "execute_result"
    }
   ],
   "source": [
    "np.empty_like(x)"
   ]
  },
  {
   "cell_type": "markdown",
   "metadata": {
    "id": "79DKkavJqNKy"
   },
   "source": [
    "## 단위행렬 identity, eye, diag\n",
    "\n",
    "단위행렬(Identity matrix)은 주 대각선 상에 1이 있고, 나머지 요소는 모두 0인 정사각형 행렬.\n",
    "\n",
    "단위행렬은 선형대수에서 중요한 역할을 하며, 행렬 곱셈에 있어서 곱해지는 행렬의 값을 변화시키지 않는 '항등 요소'로 작용."
   ]
  },
  {
   "cell_type": "code",
   "execution_count": 285,
   "metadata": {
    "colab": {
     "base_uri": "https://localhost:8080/"
    },
    "id": "ryXqrlY4qZxo",
    "outputId": "4faa0795-f530-49e4-c3dd-a5284fd017b2"
   },
   "outputs": [
    {
     "data": {
      "text/plain": [
       "array([[1., 0., 0.],\n",
       "       [0., 1., 0.],\n",
       "       [0., 0., 1.]])"
      ]
     },
     "execution_count": 285,
     "metadata": {},
     "output_type": "execute_result"
    }
   ],
   "source": [
    "matrix = np.identity(3)\n",
    "matrix"
   ]
  },
  {
   "cell_type": "code",
   "execution_count": 287,
   "metadata": {
    "colab": {
     "base_uri": "https://localhost:8080/"
    },
    "id": "1uqSH38XqaXm",
    "outputId": "6e2d943e-28aa-4ad9-a746-c288f0c5672c"
   },
   "outputs": [
    {
     "data": {
      "text/plain": [
       "array([[1., 0., 0., 0.],\n",
       "       [0., 1., 0., 0.],\n",
       "       [0., 0., 1., 0.]])"
      ]
     },
     "execution_count": 287,
     "metadata": {},
     "output_type": "execute_result"
    }
   ],
   "source": [
    "matrix = np.eye(3,4)\n",
    "matrix"
   ]
  },
  {
   "cell_type": "code",
   "execution_count": 289,
   "metadata": {
    "colab": {
     "base_uri": "https://localhost:8080/"
    },
    "id": "gguvs-g3mY2l",
    "outputId": "394f75b6-8c39-4b2e-f756-2f06d43083a9"
   },
   "outputs": [
    {
     "data": {
      "text/plain": [
       "array([[0., 1., 0., 0.],\n",
       "       [0., 0., 1., 0.],\n",
       "       [0., 0., 0., 1.]])"
      ]
     },
     "execution_count": 289,
     "metadata": {},
     "output_type": "execute_result"
    }
   ],
   "source": [
    "matrix = np.eye(3,4, k=1)\n",
    "matrix"
   ]
  },
  {
   "cell_type": "code",
   "execution_count": 291,
   "metadata": {},
   "outputs": [
    {
     "data": {
      "text/plain": [
       "array([0., 0., 0.])"
      ]
     },
     "execution_count": 291,
     "metadata": {},
     "output_type": "execute_result"
    }
   ],
   "source": [
    "np.diag(matrix)"
   ]
  },
  {
   "cell_type": "code",
   "execution_count": 293,
   "metadata": {},
   "outputs": [
    {
     "data": {
      "text/plain": [
       "array([[1, 0, 0],\n",
       "       [0, 2, 0],\n",
       "       [0, 0, 3]])"
      ]
     },
     "execution_count": 293,
     "metadata": {},
     "output_type": "execute_result"
    }
   ],
   "source": [
    "arr = np.array([1,2,3])\n",
    "np.diag(arr)"
   ]
  },
  {
   "cell_type": "markdown",
   "metadata": {
    "id": "Z8sxNf8mo2lH"
   },
   "source": [
    "# 3. 배열 연산\n",
    "- elementwise"
   ]
  },
  {
   "cell_type": "code",
   "execution_count": 190,
   "metadata": {},
   "outputs": [
    {
     "data": {
      "text/plain": [
       "[1, 2, 3, 4, 5, 6]"
      ]
     },
     "execution_count": 190,
     "metadata": {},
     "output_type": "execute_result"
    }
   ],
   "source": [
    "a = [1,2,3]\n",
    "b = [4,5,6]\n",
    "a + b"
   ]
  },
  {
   "cell_type": "code",
   "execution_count": 192,
   "metadata": {},
   "outputs": [
    {
     "data": {
      "text/plain": [
       "array([5, 7, 9])"
      ]
     },
     "execution_count": 192,
     "metadata": {},
     "output_type": "execute_result"
    }
   ],
   "source": [
    "np.array(a) + np.array(b)"
   ]
  },
  {
   "cell_type": "markdown",
   "metadata": {
    "id": "fqJEY0Y8rPsC"
   },
   "source": [
    "## 넘파이의 데이터 타입"
   ]
  },
  {
   "cell_type": "markdown",
   "metadata": {
    "id": "BelQaa2orRjk"
   },
   "source": [
    "![image.png](data:image/png;base64,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)"
   ]
  },
  {
   "cell_type": "markdown",
   "metadata": {
    "id": "Az8LZK7so6KO"
   },
   "source": [
    "## 사칙연산\n",
    "\n",
    "넘파이 배열에 +, -, *, / 등을 사용하면 요소별 연산이 가능\n",
    "\n",
    "행렬의 사칙연산은 기본적으로 2개의 행렬 크기가 같은 경우에 가능\n"
   ]
  },
  {
   "cell_type": "code",
   "execution_count": 198,
   "metadata": {},
   "outputs": [
    {
     "data": {
      "text/plain": [
       "[1, -2, -3, 4, 5, 6, 1, -2, -3, 4, 5, 6, 1, -2, -3, 4, 5, 6]"
      ]
     },
     "execution_count": 198,
     "metadata": {},
     "output_type": "execute_result"
    }
   ],
   "source": [
    "lst_data = [1,-2,-3,4,5,6]\n",
    "lst_data * 3"
   ]
  },
  {
   "cell_type": "code",
   "execution_count": 200,
   "metadata": {},
   "outputs": [
    {
     "data": {
      "text/plain": [
       "[1, -2, -3, 4, 5, 6, 1, -2, -3, 4, 5, 6]"
      ]
     },
     "execution_count": 200,
     "metadata": {},
     "output_type": "execute_result"
    }
   ],
   "source": [
    "lst_data + lst_data"
   ]
  },
  {
   "cell_type": "code",
   "execution_count": 202,
   "metadata": {},
   "outputs": [
    {
     "data": {
      "text/plain": [
       "(array([0, 1, 2]), array([0, 1, 2]))"
      ]
     },
     "execution_count": 202,
     "metadata": {},
     "output_type": "execute_result"
    }
   ],
   "source": [
    "a = np.array([0,1,2])\n",
    "b = np.array([0,1,2])\n",
    "a, b"
   ]
  },
  {
   "cell_type": "code",
   "execution_count": 204,
   "metadata": {},
   "outputs": [
    {
     "data": {
      "text/plain": [
       "array([0, 2, 4])"
      ]
     },
     "execution_count": 204,
     "metadata": {},
     "output_type": "execute_result"
    }
   ],
   "source": [
    "a + b"
   ]
  },
  {
   "cell_type": "code",
   "execution_count": 206,
   "metadata": {},
   "outputs": [
    {
     "data": {
      "text/plain": [
       "array([0, 3, 6])"
      ]
     },
     "execution_count": 206,
     "metadata": {},
     "output_type": "execute_result"
    }
   ],
   "source": [
    "a * 3"
   ]
  },
  {
   "cell_type": "code",
   "execution_count": 210,
   "metadata": {},
   "outputs": [
    {
     "data": {
      "text/plain": [
       "array([-1,  0,  1])"
      ]
     },
     "execution_count": 210,
     "metadata": {},
     "output_type": "execute_result"
    }
   ],
   "source": [
    "a - 1"
   ]
  },
  {
   "cell_type": "code",
   "execution_count": 212,
   "metadata": {},
   "outputs": [
    {
     "data": {
      "text/plain": [
       "array([0.        , 0.33333333, 0.66666667])"
      ]
     },
     "execution_count": 212,
     "metadata": {},
     "output_type": "execute_result"
    }
   ],
   "source": [
    "a / 3"
   ]
  },
  {
   "cell_type": "markdown",
   "metadata": {
    "id": "JaxeY5c1o-Ht"
   },
   "source": [
    "## 브로드캐스팅\n",
    "\n",
    "- 브로드캐스팅을 사용하면 크기가 다른 배열에서도 이러한 유형의 이진 연산을 수행할 수 있습니다.\n",
    "- 차원이 작은 쪽이 큰 쪽에 맞추어 행 단위로, 반복적으로 크기를 확장해 주는 기능\n",
    "- 사칙연산에 적용됨\n",
    "- 파이썬의 리스트는 브로드캐스팅 불가.\n"
   ]
  },
  {
   "cell_type": "markdown",
   "metadata": {},
   "source": [
    "- NumPy는 배열의 차원이 맞지 않더라도, 특정 조건을 만족하면 자동으로 차원을 맞춰 연산을 수행\n",
    "- 브로드캐스팅 : 작은 배열이 큰 배열의 shape에 맞게 확장"
   ]
  },
  {
   "cell_type": "code",
   "execution_count": 196,
   "metadata": {},
   "outputs": [
    {
     "data": {
      "text/plain": [
       "[1, 2, 3, 1, 2, 3, 1, 2, 3, 1, 2, 3, 1, 2, 3]"
      ]
     },
     "execution_count": 196,
     "metadata": {},
     "output_type": "execute_result"
    }
   ],
   "source": [
    "[1,2,3] * 5"
   ]
  },
  {
   "cell_type": "code",
   "execution_count": 194,
   "metadata": {},
   "outputs": [
    {
     "data": {
      "text/plain": [
       "array([100, 200, 300])"
      ]
     },
     "execution_count": 194,
     "metadata": {},
     "output_type": "execute_result"
    }
   ],
   "source": [
    "np.array([10,20,30]) * 10"
   ]
  },
  {
   "cell_type": "markdown",
   "metadata": {
    "id": "wzEMR_gW--Ne"
   },
   "source": [
    "앞서 한 값을 다른 값의 모양에 맞추기 위해 늘리거나 방송한 것처럼, 여기서는 공통 모양에 맞추기 위해 a와 b를 모두 늘렸고 그 결과 2차원 배열이 만들어졌습니다! 이 예제의 기하학적 구조는 다음 그림에 시각화되어 있습니다(이 플롯을 생성하는 코드는 부록에서 찾을 수 있으며, astroML 문서에 게시된 소스를 각색한 것입니다. 허가를 받아 사용됨)."
   ]
  },
  {
   "cell_type": "markdown",
   "metadata": {
    "id": "utd0Aac4_ESb"
   },
   "source": [
    "![image.png](data:image/png;base64,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)"
   ]
  },
  {
   "cell_type": "markdown",
   "metadata": {
    "id": "Vi7Qryo-_DaL"
   },
   "source": [
    "라이트 박스는 브로드캐스트된 값을 나타냅니다.\n",
    "\n",
    "이 추가 메모리는 실제로 작업 과정에서 할당되지는 않지만, 개념적으로는 할당되었다고 상상하는 것이 유용할 수 있습니다."
   ]
  },
  {
   "cell_type": "code",
   "execution_count": 214,
   "metadata": {},
   "outputs": [
    {
     "data": {
      "text/plain": [
       "array([[6, 7],\n",
       "       [8, 9]])"
      ]
     },
     "execution_count": 214,
     "metadata": {},
     "output_type": "execute_result"
    }
   ],
   "source": [
    "a = np.array([[1,2],[3,4]])\n",
    "b = 5\n",
    "a + b"
   ]
  },
  {
   "cell_type": "code",
   "execution_count": 218,
   "metadata": {},
   "outputs": [
    {
     "data": {
      "text/plain": [
       "(array([0, 1, 2]),\n",
       " array([[0],\n",
       "        [1],\n",
       "        [2]]))"
      ]
     },
     "execution_count": 218,
     "metadata": {},
     "output_type": "execute_result"
    }
   ],
   "source": [
    "a = np.arange(3)\n",
    "b = np.arange(3)[:,np.newaxis] # 새로운 차원 생성\n",
    "a, b"
   ]
  },
  {
   "cell_type": "code",
   "execution_count": 220,
   "metadata": {},
   "outputs": [
    {
     "data": {
      "text/plain": [
       "array([[0, 1, 2],\n",
       "       [1, 2, 3],\n",
       "       [2, 3, 4]])"
      ]
     },
     "execution_count": 220,
     "metadata": {},
     "output_type": "execute_result"
    }
   ],
   "source": [
    "a + b"
   ]
  },
  {
   "cell_type": "markdown",
   "metadata": {},
   "source": [
    "##  브로드캐스팅 규칙\n",
    "1. 두 배열의 차원의 크기가 동일\n",
    "2. 어느 한쪽 차원의 크기가 1"
   ]
  },
  {
   "cell_type": "code",
   "execution_count": 223,
   "metadata": {},
   "outputs": [
    {
     "ename": "ValueError",
     "evalue": "operands could not be broadcast together with shapes (3,2) (3,) ",
     "output_type": "error",
     "traceback": [
      "\u001b[1;31m---------------------------------------------------------------------------\u001b[0m",
      "\u001b[1;31mValueError\u001b[0m                                Traceback (most recent call last)",
      "Cell \u001b[1;32mIn[223], line 3\u001b[0m\n\u001b[0;32m      1\u001b[0m m \u001b[38;5;241m=\u001b[39m np\u001b[38;5;241m.\u001b[39mones((\u001b[38;5;241m3\u001b[39m,\u001b[38;5;241m2\u001b[39m))\n\u001b[0;32m      2\u001b[0m a \u001b[38;5;241m=\u001b[39m np\u001b[38;5;241m.\u001b[39marange(\u001b[38;5;241m3\u001b[39m)\n\u001b[1;32m----> 3\u001b[0m m \u001b[38;5;241m+\u001b[39m a\n",
      "\u001b[1;31mValueError\u001b[0m: operands could not be broadcast together with shapes (3,2) (3,) "
     ]
    }
   ],
   "source": [
    "m = np.ones((3,2))\n",
    "a = np.arange(3)\n",
    "m + a"
   ]
  },
  {
   "cell_type": "markdown",
   "metadata": {
    "id": "x2eysmj1B7pi"
   },
   "source": [
    "## 비교 연산자\n"
   ]
  },
  {
   "cell_type": "markdown",
   "metadata": {
    "id": "uDgobLLoCfC8"
   },
   "source": [
    "![image.png](data:image/png;base64,iVBORw0KGgoAAAANSUhEUgAAAaEAAACDCAYAAAAku6RLAAAAAXNSR0IArs4c6QAAAARnQU1BAACxjwv8YQUAAAAJcEhZcwAADsMAAA7DAcdvqGQAABn/SURBVHhe7Z1faBzXvcd/vi+FvvkiG9f/aI2T4ka1WYGJXfq0SMhykDCtm6dgKdQJCDXUYZWAROIHJ0iQenFKuhhcFa+EudDc9CIsakms2adQ32DwIlWJaGqcYluqscX1W6FPub/fnHNmzox2VzOrWc2u9vuBY82cM3/P+f3O788ZyTu+ZQgAAABIgP/QPwEAAIAtB0YIAABAYsAIAQAASAwYIQAAAIkBIwQAACAxYIQAAAAkBowQAACAxIARAgAAkBgwQgAAABIDRqgpuEe5Q4fo0K9u0jNdUwvPZgbpEF8nV9IVjcCTmzQo78ZlcGYzbwdAFYycfXJPV9RCPHoYO6Wcoz8Np9sh2bQRuveJenm3JDxAaqIdpJtPdMWW8Yxu/irQF1xiFYof7qddejNp4ulnVuqfXKD50x/TFw8e0NXeRnm7zdNoemEm4cY29HqS95V4dbn7+wf0VvIoGcnxW28CGdefZ4ne/owesA4NpXR9E7EJI6QE5uyVDH3GLy8d8ODBF/QxXaCXN9uxm+DRP+b1VlLY/RGXUHTQkFzvrQ69nzzJ93Oj0ph6Qf98RE0zYtopUX13lfr26PrNsKePrvL1GsfReUaP/6Y3W5yajdC9T85Slrrp478M8RRp2EV9733MtVk6q8NeNwX0iRcyBq2/OWad5+OG0DdVlOF6k36PSXl3KhI5e0Xa5+nCT6zjrZSPKvb99bX42JtxeCaVCDzD4K/s1JiJorx7+1Nn3jM+c/vEfkrTH+p8f39Wex9/P9rXVF7aII+bdS2nP6v0cxCdJvC87+B7iAwxt2SCVu9q7uvKQOAalZ/Lw/f+m0q/RCesXniynfONgS9yDspMmX70y6x/PM3xTn+It8zM//plbjP9Gxh/u98Zdyxm1BjEGtXXgpV2kucadHRGP3M1WZNdS2/WyRhjZEadX74fy1JpjKqOr1z/ZbpwS7ZZJpzjysnpBvOCvLNkEqThylmu53da9N5TEbyG6Rd+LqdeFf872u/v76d6UKMR0lb8dA+dDHope05Sz2n+eeWO23FC9m8HlHfzF62MWjikU1/+9Txl/qQ9xtMysQUmzisX9IAJ0ql36KT2lD57WxTrIncUK/rv1D4H3TwJcPvv+miXCIMMlA5XHzz4jGMV7/4uPBFecCbWesCDaqWd5Bnab9Xol5br39IdfiN+69++Sh0smBfpknpX09dlBVwEjSdM80x/yjiC7BfGeVr6vrrWF7/tdvro01KFfnaOj4DjmcpYMPoZwkeN5Z5LtcgE48kTl58+rrsSeUTXC7qyRAekDx3ZZz35uVb6gNzKe4oB8RkCn8xW0gs2gb1X1fgy3b/9gtslugiMfyXdE0fj18qAJYr0h5V2evCXHn5/3RaRjp9KX8zT7F0j68/ozrzoY4be6KWK/biOMGPE46OupWQ9+weZdySzocbbzZzUkuVIDWkdZ5xn4HHd7bRszC2Wu/fMuMs7fqrG3TGetlxcIrpbbv6IjxqN0CN6FFEAMr/UExVPPm/IBHaLr2EGn1/4VWcC2kUnu6VLs3THHkgzUM5kJ5Og52Ue+L4cP0+P/qn2gzy7O8utfIWfmjM66NXAxKXQE+oD24OtBe3Z2F6EMRLdJ/VkrZ+hJtb30b3PnatTz3G+Ogumm3LYs5/a5effHnNPB9DP5I5L6qSjJPPzd6xj9TWZXfudK9HS43VXSoBKz3WP7sik7MoTk+qLJ50Tiuh6QW+/oZ+P5fqXanIUWVZyyzL5CyWNu4738B6P+uf2hGDLbDS9WC+T5v5Z+n3A81eGawvXG1g3JTJWOqSM4jo9NvNILQRl/ckdmpVxe/tkpH4MNUbONYUDdECMjjPvNQCuo7SL9v9Qfi7RY56r3H4284L0R6/pjfqw6Q8TKnKaO11virIc+J7edJGX1kprCZ14setwB1Iw4WWV4y3U2kW5+wco573WhL0WoPLZzx4vOS3t+9WwbpZdvW84SqSEXU+8ZjLzpSx0uqsM5pmyP9/42KbhyWOWKqaBPuBYh08vWDLLLJSLQVVyq9OdMj4m7WLjk9loehFeJj2Dv2W4XrjnFIbW41AYR3SW7rgTrzEm4fsx1Bg1GfH2czhqNEIddNKJZtQg+jBehW8imLc8CbMg1077jQL5hE6VSl7Xs5mLTmrOpFucdEwVlCfTeKjBrhXd/5La0ROv8hDvUU5SFm5/6nRXFdy0lSm1pNYajXKR35YQVS9YM/7h+cXrDYOJdKxSIW0TVS9MBNm8bG5hX0UtKiXn6KI26FH7McoYNQ/2fF1/ao6EOt6SCS6YQ9ZrHxINBAbCDVFLn6r1HSe6KZcaY0/kk8B6TUVMLtcjGD4bYbvw3+Yp79Gn4t3YKZs644bpTj6YeXKTfu9bf/KHxOXeK4jKa2fp9x+KF5ehk+XeRadcyuFGU+aZBI6iwi4+b5juEb53wHlvd6Kt8jyG4HVVqjEkbqrXkqfSzS1cE4quF94akZZLPZYdv5Bcvy23MkHmQr5LGfkJjoVOSXnjz3r3B+lrWRdpPDfErOO4/WHmEUNUWdNrdPPzFx1d9NKSNtX1cHNjFNT5ckSfF9al4I3zExL1TgG5mPHerx5sIh1nFtfsNZCzlHUWyMqsqzhfb/AxxlPXyiiLprL456WFLhL9orI37k6ezvEX6dEPpcs8fO3y8YEsgMvinbm/WXSrm8dv94f+6kSeQRaGTdrxJ7PU/rb/ub3JS85b/17rMHntW/PqgwSn0jPqzn0+lymlEjx+0i9WKvTQ5ydD5/3X9bOq9sPvfUmex/R91edR7Oq9pBfo1TPd2fAMPx1vqcVkV54+37+Fa0JCRL1w5UXSoeJV62OMzLhye4gu0qsV32UjvXANtHM9WauU52SZc8dfvtaSVHK5Z9xibJnk4jhGqSEVlbjzCMuSvI8hsqzptVXWH3EOjOHdsB9tIo5RENeIic6X/XhI5DnivCDyZ881Hz6iducDiJDIO/nmBZ6Pj9dXInZ8y+jtumB//bZlC5tNAPqlxbG/rGr69E0yyJeQZ6+I4Y7pd4lAItTvwwQAAABgA2CEAAAAJEbd03EAAABAJRAJAQAASAwYIQAAAIkBIwQAACAxYIQAAAAkBowQAACAxKj6dVyxWNRbAAAAQO2k02m95QefaAMAAEgMpOMAAAAkBowQAACAxIARAgAAkBgwQgAAABIDRggAAEBiwAgBAABIDBghAAAAiVHT7wk9f/5cb9WPnTt36q3mYCv6pFlotrGLk3rLAfQCRKEZ5AVGKCa2Stl27vxPvdUYPH/+f3rLA0aofkAvGgfoYjwgHQcAACAxYIQAAAAkBowQCEX+FaIdO1Tpm9KVIBJrcxlKXVvQewDUxvALni4Ol3RlEwMjBEIx8GciWT3MHNYVAGwr1mj23RRNLOrdBuby35Uu9ur9ZgdGCAAAQGLACNWVBZpITdCspGFSKadk5tZ0G7deE89LjlFtKT42bLLmy3e8kFxKXtc7cIh+yGpz23W9e2xgP3jNQ7wPQD1wZH9uljJG9t+d5VhEIWnLzNyCE5kovcjQ7FPdWI2nfD2+zixf2+ibL7JZnHDr7TYnTZrqotECUa7ftIe8J2Onqne8wHqk64WgTu3gY916vS0E933X5LKdU+CxGiERLHuQnaKFq1rb9iZHo8VOKpRKVJofIxqZ9hmaXP8U7ZvnNm7PD+ZoyjJSFWGBbP9KheROmSR63QiwGJYOop/d02388we6aSNe+o11TS7tly2DBepDYGJUJfwE2MzkRm5TpyP7BRqjUZq2DEZxZIBWXlN6URgnGp0O6Z4VRvlKeee80uQQ5W7oOUb6uZ/lWeq1Li73q35uO5VVz9BFNDSp20tZ6tntXLEqYjwu/cjTmaUzRL3aeZO29mmuM23Dqj4MJv3tFNbhpQ/4erptuxGrETr2phlAq3zUQ20btG1v0jQ2rN9z9146Qsu0ak0w6fERV9iPnRii4sMVtVOF/B/5n1uWp8TKRV8rIf3yv4i+OU10OSVHRoSNm+19zXDV0jZY+GwU2vYeofTBfXpPc/T8er0IOQE2O57st9Hew0TLq5YDNpin80fVZltHJ6Xvr4Z0WIco/+YxtblnH6ULKyQatba6zPc7Q7qFdfE4dXYVaeWJ3q+R62xkvmFnzeiMOG7fsINo2nrfZ+dO7UbCF0GxU/nNfaK7um27gUioSenl6Mf1lKT8vTZht+ljY2Zfd7ssfDYMbHCypwJuVwtHQtuFjMk6mMJRzKZgx6+XjZl73QjZjGYEkVDDsEazN3I0dML11Ri9XhQw1sc5/J+R1ILet3npx/wPR0mmrU+8KL1tMNHN8KtWG9ct8Y8X5XxGPDGJhEB8OI5Y0PFq4UgoLAvToxw2HbfmCvUlW5Q1VIlCi3YqfHGaRgtDdFxHW2WjsRC0v0iUZT0qlyqTthnJWgiSQmfD4kNnL4zRcfmr0st2nc3Iv7deh7cT+DAhYYojXdr77aLb6YKbgqiGrN1cP030ugnXubgfEZzzt9Gw5UWxUF/ktiwbJmn7+n0r2gm0yZqT/Tm2+d2E7H1lAGUbvy8E6sbVAa0XKRpgl2pdBBkVNvaF8WUa0NdM9S/T2Px5Lz3HHDsja7ZGH8NFo7J2k+Gf7awPohO2Xkhbr0mbs85krDUh0eFe1iXnPNa5i5O6QWAdFt0zOixrTnZWok/Xi5No9LWZf18IfzsuJmrpE/GMpw4WIilY5L9XxcIpHypc5FEe0FVxgr8d5wd/O85PLf0hX6t1PTxHJbO206BE1UXnQwX5oGiz6boK4G/HAQAAABGBEQIAgAqU/aBKl0EsmsYC0nExsRV90iwgHVc/oBcgCs0gLzUZIQAAACAOkI4DAACQGDBCAAAAEgNGCAAAQGLACAEAAEgMGCEAAACJUfXruH/96196CwAAAKid7373u3rLDyIhAAAAiQEjBAAAIDFghAAAACQGjBAAAIDEgBECAACQGDBCAAAAEgNGCAAAQGLU9HtC//73v/XW5vjOd76jt5qfuPqkWdhOYxcn9ZaDZuv3VtOLZmKrZanS7wnBCMUEjBAQYIT8tKoRivzf8NeZcv/1d6MYIaTjAAAAJAaMEAAAgMSAEWpGns5Sxvxf9+/O0pquBqC1WaPZd7VepDI0+1RXtxD5V4h27FClb0pXNjgwQs3I7h7KlkpUmhzSFQAAojbq+Yj1opSnVtWMgT8TySp/5rCuaALqaIQWaKJFvREAKgO9AMCmPkbISRcNEE1mqWe3rmtJZMKZoNm5jE4RpCgz5yXPFq6laGJRjjEphAk+IwbsdB2XiUVdLyxOuPVS7OcJnpe6FsvTAAP0wsWR/bnyaeU11pfM3EL8qbVqelFV9u00n5TwevrlO156TEpe1wvBth2v6IYS0SH72MC+nXKT0ixpt0rEb4Rkkuu+TZ3zJTp/VNe1NDkaLXZSQdJn82NEI9M+Ac71T9E+7qsSt+cHczRlG4WaYKPWvULn5H5OYdHtN0rDynRjmcb0/aRkT7U5LcLC9CgdmfTaSm8e0y1g01TSi4BToEprREq5EdUfpVKBxmiUpi2jUBwZoJXXlBwWxolGpzfrEFXTiw1kf3GaRg/nvbbSeQqlGWwc2r9S6TGnTBK9rg2NGKD2aaIl3bY0rOrDYFJuTrnH537A19NtzUisRki8m1Q/W+oSPD2PNI0N95Az1e/eS0domVatCSY9PuL21bETQ1R8uKJ2amXxLpu9HA24E9oA75l7ttHew0Ua7Q5EQJp9B9NsFPkcRECxUlUvjp63JjdTWkN/PNkXuSRaXrVkcjDvGuu2jk5K31/d3Ac4VfViA9nfs4/SVwf4nGiZivwf+Z9bVtTCMkBfK4NxnQ1Q7/tEL8mBEfFFUB1E39wnuqvbmpFYjdCxN1mB2NoPIOedLKzAlSY1Z4y4boTGlTJaStd2KquOP3FXteHLu1ioqhctHAltOVX0oqrsmw+BSsfpbsTx6eVxd6MWKX+vzfC4lPial4kyHAGZSOgHuqlZiT8dJ57dfCfdZm/bl3MFGyCpshwNnbADfb1eFMUYaK9to753lG5+rLyH6XjneRoqrNAm4zJgqKQXLRwJhUVSZZQ+rrIJDmaNJkJkElIvqsv+MTrP45MfLNLKE11VheM/IpqRCFjv27S/yG0SKQmStmPDEmSJDY4w/CpHO2qT6K9quz2ldvPvWW1NSn0+THA8B8m5wqPbiOJIl/Z+u+h2uhBuHc14z/05osIoddmGSvp+ckilFpzrWm3GqJkiaxQmVegqtimygB4y9w3CAb0Ij5P+UrI4wNO4vXZZGSPfkmpTaWc3aqmqF9VlXz6U8NrU84TR05d+Q3T9NNHrJnXG5dA7qk3WdXpNqo4NVcZeE2IDc5HPy3ao9q/f52N1E51Tn1+ba15iQ+e2McMvqPrsfWUAZbvRP1zA346LiVr6RNYKpg4WQipYY4G/HVce/O04P7X0h0z6XQ/PNfWHMVH/dpzzoYJ8xMDGqR7gb8cBAAAAZYARAgCAGnC+erTSdHYZnNEHgQ1BOi4m6p2GaTSQjisP0nF+Wk0vmolGScfVZIQAAACAKGBNCAAAQMMBIwQAACAxYIQAAAAkBowQAACAxIARAgAAkBhVv44DAAAA6gkiIQAAAIkBIwQAACAxYIQAAAAkBowQAACAxIARAgAAkBgwQgAAABIDRggAAEBi1PR7Qs+fP9dbm2Pnzp16q/mJq09anWaXiXrLQbP1D/Si9YgqozBCMQFliwcYoerACLU2Uf/b8HpT7r8NjyqjSMcBAABIDBghAAAAiQEjBAAAoDIlokM7iHZIeYHoS10dFzBCICRrNPtuiiYW9S4AwGFtLkOpawt6bxuSInrwLdG3k3o/ZmI2Qgs0kcrQ7FO9CwBgoBcAVCJmI3SMzs930u1ueMwKmXwmaFY8pVTKKZm5Nd3Grdekn+QY1ZbiY8P6U3KuuaYqZpKTiIW3F2cpY9reneVazVOrnos9To5HZ7WZZ1X1XTRaIMr1m3b/pOp7Hvt+ixOOl2i3t55sQC+COLI/V15GRd4ycwtO5K1kJoIBF3kz19RFyfEGeuHoavAcTUBn3PN0fddIkejqQNlz/Tpl6becy9dZqDA3VMVOj3Hpm9L1mj6rTcowHy/kX+Hz3lHbgm8/cM16pN0qEX86bncPZUt5Ip6sQnfqtiZHo8VOKpRKVJofIxqZ9hmaXP8U7ZvnNm7PD+ZoKkSfiWAP3B9T1ywVaKyLaGgySz279QFUpNEbfCvTTqM07Ux+rGjdK3TOqZci4+QpRtuprK5XbUf0s6p6cx/T7t1PnmfqYEHXl6iQvk3j9nuwgt49oc+bHKLcDVv5W4RKelFm0ow06TYxuZHb1OnIvi2jiuLIAK28puVpnGh0OoR7JhN7/zKNaX0qjKeJBvOUPdWmD6ikF2KgPD2Uts7iuDcGztiZNtbTw/o8XW/uY9rd+/HYdj0859aXJokG7LRdYZSmaES1lZkbKtHXQXRR0mO6UD8bFNXkGCDi+5i2XlW9MSblpsv1F/lxAsatXtRpTYg9P2cguwLeRiuSprHhHnLEcvdeOkLLtGpNMOnxEXcyP3ZiiIoPV9RORJZX/b089Jq+J//b81GJzh/lzcW7bBJzNOBOdgO8Zz2Pb0IMtFVkje4Wizxp8Fjrc8Uz9L1H1xidkfsLR89T6SPzbK1GGb2Q/jCTlFtsh2L74sl+G+09HJBhntQdmWXaOjopfX+1tnkkcF5ZvXh6l24X2EBxpKpkWKL+Iq08cQ5k/FHSwNX1+laOhf/N+SKkVD/v+55niM4Zg+UYtPMsIRvAhmGGf7xuRS2yvyTRjrRxP46fkwOjY0dQr9/ia/5VN9SZOhkhGbQuup1m77hlJ5z64Sgle1FdjnCzwhy2vb0NsDw2/4THY8ZK4kU6eVaRsLChdb1IXd7cUJ1akDJ60cKRUOzsPk6dXZ4x6Ro5Qvmw8w87Siqz4BVjBBeusUNm6U1+UNWHwdMnXeKYD097EYsplzmS2QySmpuxrnudt7eK+I2Qkycd4JDQCktBCNZo9gYbgRP25K09sEA0uTA9Skds4Q474e/ZR2n2zMquSzxd5bgnTfv2qN21uSmOhGzKeKsOUs+Kf7nVI94NqKQXLRwJhUXkndLHrclbfam5bg11cdpxyLx+DBFZCJKhYKfOl0J2WaPV+3z7g/vULo/jFEdCNm17j6yLuIR9B9OUs9LdsfBjoh9wlBJcB3KQNn7W63oNaPgFFSXZfPOV3uDzJdoxLH3N5/5I7/D5l6y2ehOzEeJJs1vleY0XAarjpbGUhxym346dGaNl9wMBXcJ8Iiohv6zJ2OcaA8dt5wYtL/Jhp7MGZCP3Jfd5PW/92Jsqv64iM1WwAG8DvYiMlcYaoJCR/tEzNHbfSn85JYwRkA9HbNm2z2ujnteGPD3tXqFOWQOykfta8m/W/GQtVdZ5vfR3DOvksnYzycal30uduR8RcNvMMFG2Q9X/zxn/mtDAh8qAOed8wMaKjzVcfp8N1GXdxuf/zGoTg+XU8z2JjVy7fc8YwN+Oi4la+kS+EJIF/agR47rzxMt2Jrnm96Dxt+Oq0wp/O04+dHEW9KOmdCW1eWMfFdyUl0RMyrnbLlmZqH87TtZ5Xry3+XRdJfC341oSlR7w8WSFinSE9iKFA1qYtdVlvWVYoZUC0ZG928MAbVdghJqONuoZDqQOnM9SQ+a/AdimtJ0aCaSFB2h5PFyKu2Fw1g7N8wfLBHFQs+1AOi4m6p2GaRWQjqtOK6TjQHMTVUZrMkIAAABAHCAdBwAAIDFghAAAACQGjBAAAIDEgBECAACQGDBCAAAAEgNGCAAAQGLACAEAAEgMGCEAAACJASMEAAAgMWCEAAAAJAaMEAAAgMSAEQIAAJAYMEIAAAASguj/ARSEaSSFixqKAAAAAElFTkSuQmCC)"
   ]
  },
  {
   "cell_type": "code",
   "execution_count": 229,
   "metadata": {},
   "outputs": [
    {
     "data": {
      "text/plain": [
       "array([ True,  True, False, False, False])"
      ]
     },
     "execution_count": 229,
     "metadata": {},
     "output_type": "execute_result"
    }
   ],
   "source": [
    "x = np.array([1,2,3,4,5])\n",
    "x < 3"
   ]
  },
  {
   "cell_type": "code",
   "execution_count": 231,
   "metadata": {},
   "outputs": [
    {
     "data": {
      "text/plain": [
       "array([ True,  True, False, False, False])"
      ]
     },
     "execution_count": 231,
     "metadata": {},
     "output_type": "execute_result"
    }
   ],
   "source": [
    "np.less(x, 3)"
   ]
  },
  {
   "cell_type": "code",
   "execution_count": 233,
   "metadata": {},
   "outputs": [
    {
     "data": {
      "text/plain": [
       "array([[False, False, False],\n",
       "       [False, False, False]])"
      ]
     },
     "execution_count": 233,
     "metadata": {},
     "output_type": "execute_result"
    }
   ],
   "source": [
    "x1 = np.array([[1,2,3],[4,5,6]])\n",
    "x1 > 6"
   ]
  },
  {
   "cell_type": "markdown",
   "metadata": {
    "id": "A7iLBB_5C-KP"
   },
   "source": [
    "### 부울 배열의 활용"
   ]
  },
  {
   "cell_type": "code",
   "execution_count": 235,
   "metadata": {},
   "outputs": [
    {
     "data": {
      "text/plain": [
       "array([6])"
      ]
     },
     "execution_count": 235,
     "metadata": {},
     "output_type": "execute_result"
    }
   ],
   "source": [
    "x1[x1 > 5]"
   ]
  },
  {
   "cell_type": "markdown",
   "metadata": {},
   "source": [
    "## 비트연산자"
   ]
  },
  {
   "cell_type": "markdown",
   "metadata": {
    "id": "jvbx1wJ0g1J2"
   },
   "source": [
    "![image.png](data:image/png;base64,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)"
   ]
  },
  {
   "cell_type": "code",
   "execution_count": 299,
   "metadata": {
    "id": "y7sJWnA9FIRK"
   },
   "outputs": [
    {
     "name": "stdout",
     "output_type": "stream",
     "text": [
      "[3 3 7]\n"
     ]
    }
   ],
   "source": [
    "a = np.array([1, 2, 3])  # 이진수로 [01, 10, 11]\n",
    "b = np.array([2, 3, 4])  # 이진수로 [10, 11, 100]\n",
    "\n",
    "result = a | b\n",
    "print(result) "
   ]
  },
  {
   "cell_type": "code",
   "execution_count": 301,
   "metadata": {
    "id": "VCPssNtZFINL"
   },
   "outputs": [
    {
     "name": "stdout",
     "output_type": "stream",
     "text": [
      "[ True False  True]\n"
     ]
    }
   ],
   "source": [
    "a = np.array([True, False, True])\n",
    "b = np.array([False, False, True])\n",
    "\n",
    "# 논리 OR 연산\n",
    "result = np.logical_or(a, b)\n",
    "print(result) "
   ]
  },
  {
   "cell_type": "markdown",
   "metadata": {},
   "source": [
    "# 논리 연산 함수\n",
    "1. `np.logical_and`\n",
    "2. `np.logical_or`\n",
    "3. `np.logical_not`\n",
    "4. `np.logical_xor`"
   ]
  },
  {
   "cell_type": "markdown",
   "metadata": {
    "id": "dr-9cH6TziCm"
   },
   "source": [
    "## 벡터화된 연산"
   ]
  },
  {
   "cell_type": "markdown",
   "metadata": {
    "id": "bj3mucC6yWGP"
   },
   "source": [
    "![image.png](data:image/png;base64,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)"
   ]
  },
  {
   "cell_type": "code",
   "execution_count": 306,
   "metadata": {},
   "outputs": [
    {
     "name": "stdout",
     "output_type": "stream",
     "text": [
      "[11 22 33 44 55]\n"
     ]
    }
   ],
   "source": [
    "arr1 = np.array([1, 2, 3, 4, 5])\n",
    "arr2 = np.array([10, 20, 30, 40, 50])\n",
    "\n",
    "result = arr1 + arr2\n",
    "print(result)"
   ]
  },
  {
   "cell_type": "markdown",
   "metadata": {
    "id": "nLyUEaas0Uz0"
   },
   "source": [
    "### 넘파이의 범용함수 UFuncs\n",
    "\n",
    "\n",
    "넘파이의 범용함수(UFuncs, Universal Functions)는 배열의 각 요소에 대해 반복적으로 연산을 수행하는 함수입니다.   \n",
    "이러한 함수는 벡터화된 연산을 제공하여, 루프를 사용하지 않고도 배열의 요소별 연산을 효율적으로 수행할 수 있게 해줍니다.   \n",
    "넘파이의 범용함수는 성능이 뛰어나고, 코드가 간결해지는 장점이 있습니다."
   ]
  },
  {
   "cell_type": "markdown",
   "metadata": {
    "id": "rTGt2ZOJ2Piq"
   },
   "source": [
    "![image.png](data:image/png;base64,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)"
   ]
  },
  {
   "cell_type": "code",
   "execution_count": 308,
   "metadata": {},
   "outputs": [
    {
     "name": "stdout",
     "output_type": "stream",
     "text": [
      "Addition result: [5 7 9]\n"
     ]
    }
   ],
   "source": [
    "arr1 = np.array([1, 2, 3])\n",
    "arr2 = np.array([4, 5, 6])\n",
    "\n",
    "result_add = np.add(arr1, arr2) \n",
    "print(\"Addition result:\", result_add)"
   ]
  },
  {
   "cell_type": "code",
   "execution_count": 310,
   "metadata": {},
   "outputs": [
    {
     "name": "stdout",
     "output_type": "stream",
     "text": [
      "Multiplication result: [ 4 10 18]\n"
     ]
    }
   ],
   "source": [
    "result_multiply = np.multiply(arr1, arr2)  # arr1 * arr2\n",
    "print(\"Multiplication result:\", result_multiply)"
   ]
  },
  {
   "cell_type": "code",
   "execution_count": 312,
   "metadata": {
    "id": "FttmstIEkovK"
   },
   "outputs": [
    {
     "name": "stdout",
     "output_type": "stream",
     "text": [
      "Scalar Multiplication result: [10 20 30]\n"
     ]
    }
   ],
   "source": [
    "scalar_multiply = np.multiply(arr1, 10)  # arr1 * 10\n",
    "print(\"Scalar Multiplication result:\", scalar_multiply)"
   ]
  },
  {
   "cell_type": "code",
   "execution_count": 314,
   "metadata": {},
   "outputs": [
    {
     "name": "stdout",
     "output_type": "stream",
     "text": [
      "Division result: [4.  2.5 2. ]\n"
     ]
    }
   ],
   "source": [
    "result_divide = np.divide(arr2, arr1)  # arr2 / arr1\n",
    "print(\"Division result:\", result_divide)"
   ]
  },
  {
   "cell_type": "markdown",
   "metadata": {
    "id": "HY00kEfF23NY"
   },
   "source": [
    "### 삼각함수\n",
    "\n",
    "NumPy삼각함수의 배열 정의"
   ]
  },
  {
   "cell_type": "code",
   "execution_count": null,
   "metadata": {
    "colab": {
     "base_uri": "https://localhost:8080/"
    },
    "id": "mCNUdsf42eBD",
    "outputId": "ce4f5a62-8d78-40dc-8f8a-d2de3569ccef"
   },
   "outputs": [],
   "source": [
    "#linspace() 시작점 0, 종료점 np.pi, 요소의 갯수 3개로 채우는 함수\n",
    "theta = np.linspace(0, np.pi, 3)\n",
    "theta"
   ]
  },
  {
   "cell_type": "code",
   "execution_count": null,
   "metadata": {
    "colab": {
     "base_uri": "https://localhost:8080/"
    },
    "id": "tyjYPoC_2d9m",
    "outputId": "6a41b40e-36ab-4faa-b665-ba7a9d0a0167"
   },
   "outputs": [],
   "source": [
    "print(\"theta      = \", theta)\n",
    "print(\"sin(theta) = \", np.sin(theta))\n",
    "print(\"cos(theta) = \", np.cos(theta))\n",
    "print(\"tan(theta) = \", np.tan(theta))"
   ]
  },
  {
   "cell_type": "markdown",
   "metadata": {
    "id": "abSIu_M33NOz"
   },
   "source": [
    "역삼각 함수"
   ]
  },
  {
   "cell_type": "code",
   "execution_count": null,
   "metadata": {
    "colab": {
     "base_uri": "https://localhost:8080/"
    },
    "id": "0LbPsh362d6F",
    "outputId": "1b5e5db8-1a5c-48dd-acb8-b09b10e7d3f0"
   },
   "outputs": [],
   "source": [
    "x = [-1, 0, 1]\n",
    "print(\"x         = \", x)\n",
    "print(\"arcsin(x) = \", np.arcsin(x))\n",
    "print(\"arccos(x) = \", np.arccos(x))\n",
    "print(\"arctan(x) = \", np.arctan(x))"
   ]
  },
  {
   "cell_type": "markdown",
   "metadata": {
    "id": "8ANWhS0_3WZc"
   },
   "source": [
    "### 지수와 로그"
   ]
  },
  {
   "cell_type": "code",
   "execution_count": null,
   "metadata": {
    "colab": {
     "base_uri": "https://localhost:8080/"
    },
    "id": "cnS_1BND2d2-",
    "outputId": "6dc0a4f3-13b5-438d-8538-91cce1b908cb"
   },
   "outputs": [],
   "source": [
    "x = [1, 2, 3]\n",
    "print(\"x     =\", x)\n",
    "print(\"e^x   =\", np.exp(x))\n",
    "print(\"2^x   =\", np.exp2(x))\n",
    "print(\"3^x   =\", np.power(3, x))"
   ]
  },
  {
   "cell_type": "markdown",
   "metadata": {
    "id": "OfvR4Qus3h-p"
   },
   "source": [
    "기본 np.log는 자연 로그를 제공\n",
    "\n",
    "기본 2 로그 또는 기본 10 로그 계산"
   ]
  },
  {
   "cell_type": "code",
   "execution_count": null,
   "metadata": {
    "colab": {
     "base_uri": "https://localhost:8080/"
    },
    "id": "McrM7OYC2dzd",
    "outputId": "f4337631-1eb8-4483-a2eb-b59c2b392496"
   },
   "outputs": [],
   "source": [
    "x = [1, 2, 4, 10]\n",
    "print(\"x        =\", x)\n",
    "print(\"ln(x)    =\", np.log(x))\n",
    "print(\"log2(x)  =\", np.log2(x))\n",
    "print(\"log10(x) =\", np.log10(x))"
   ]
  },
  {
   "cell_type": "markdown",
   "metadata": {
    "id": "s2Zmf5_z3qjV"
   },
   "source": [
    "np.log1p 또는 np.expm1"
   ]
  },
  {
   "cell_type": "code",
   "execution_count": null,
   "metadata": {
    "colab": {
     "base_uri": "https://localhost:8080/"
    },
    "id": "HnP0R4Kc3mAP",
    "outputId": "3b3b30b3-f796-41cc-e82d-edafad2f61e1"
   },
   "outputs": [],
   "source": [
    "x = [0, 0.001, 0.01, 0.1]\n",
    "print(\"exp(x) - 1 =\", np.expm1(x))\n",
    "print(\"log(1 + x) =\", np.log1p(x))"
   ]
  },
  {
   "cell_type": "markdown",
   "metadata": {
    "id": "bNm7gWhS33dq"
   },
   "source": [
    "### 특수 ufunc\n",
    "\n",
    "쌍곡선 삼항 함수, 비트 단위 산술, 비교 연산자, 라디안에서 도 단위로의 변환, 반올림 및 나머지 등.\n",
    "\n",
    "scipy.special 모듈의 활용\n"
   ]
  },
  {
   "cell_type": "code",
   "execution_count": null,
   "metadata": {
    "id": "XHIpp1mC3lzs"
   },
   "outputs": [],
   "source": [
    "from scipy import special"
   ]
  },
  {
   "cell_type": "code",
   "execution_count": null,
   "metadata": {
    "colab": {
     "base_uri": "https://localhost:8080/"
    },
    "id": "ku7PdO_J3lwL",
    "outputId": "a460b036-77c8-4204-8ba2-522d9e40cd6f"
   },
   "outputs": [],
   "source": [
    "# Gamma functions (generalized factorials) and related functions\n",
    "x = [1, 5, 10]\n",
    "print(\"gamma(x)     =\", special.gamma(x))\n",
    "print(\"ln|gamma(x)| =\", special.gammaln(x))\n",
    "print(\"beta(x, 2)   =\", special.beta(x, 2))"
   ]
  },
  {
   "cell_type": "code",
   "execution_count": null,
   "metadata": {
    "colab": {
     "base_uri": "https://localhost:8080/"
    },
    "id": "I6en9TpB3-X6",
    "outputId": "764b1b9d-595d-4b65-89d2-9cfed7e16dae"
   },
   "outputs": [],
   "source": [
    "# Error function (integral of Gaussian)\n",
    "# its complement, and its inverse\n",
    "x = np.array([0, 0.3, 0.7, 1.0])\n",
    "print(\"erf(x)  =\", special.erf(x))\n",
    "print(\"erfc(x) =\", special.erfc(x))\n",
    "print(\"erfinv(x) =\", special.erfinv(x))"
   ]
  },
  {
   "cell_type": "markdown",
   "metadata": {
    "id": "2r76BMrguddz"
   },
   "source": [
    "# 4. 배열의 결합, 연결\n",
    "\n",
    "np.concatenate, np.vstack 및 np.hstack()\n"
   ]
  },
  {
   "cell_type": "markdown",
   "metadata": {
    "id": "rINKzQbVdFYw"
   },
   "source": [
    "### vstack & hstack"
   ]
  },
  {
   "cell_type": "code",
   "execution_count": 237,
   "metadata": {
    "id": "hwP8s_eIcMst"
   },
   "outputs": [
    {
     "data": {
      "text/plain": [
       "array([[1, 2, 3],\n",
       "       [4, 5, 6]])"
      ]
     },
     "execution_count": 237,
     "metadata": {},
     "output_type": "execute_result"
    }
   ],
   "source": [
    "v1 = np.array([1,2,3])\n",
    "v2 = np.array([4,5,6])\n",
    "np.vstack((v1,v2))"
   ]
  },
  {
   "cell_type": "code",
   "execution_count": 241,
   "metadata": {
    "colab": {
     "base_uri": "https://localhost:8080/"
    },
    "id": "AorfDf0ytdF5",
    "outputId": "bec89177-d114-4033-fce0-6d71849df3f7"
   },
   "outputs": [
    {
     "data": {
      "text/plain": [
       "array([1, 2, 3, 4, 5, 6])"
      ]
     },
     "execution_count": 241,
     "metadata": {},
     "output_type": "execute_result"
    }
   ],
   "source": [
    "np.hstack((v1, v2))"
   ]
  },
  {
   "cell_type": "markdown",
   "metadata": {
    "id": "CKGS28WPdAr6"
   },
   "source": [
    "### concatenate"
   ]
  },
  {
   "cell_type": "code",
   "execution_count": 245,
   "metadata": {
    "colab": {
     "base_uri": "https://localhost:8080/"
    },
    "id": "TINdJjZRwgBC",
    "outputId": "0658dd34-4a7f-47dd-ce94-d980a539e8e5"
   },
   "outputs": [
    {
     "data": {
      "text/plain": [
       "array([1, 2, 3, 4, 5, 6])"
      ]
     },
     "execution_count": 245,
     "metadata": {},
     "output_type": "execute_result"
    }
   ],
   "source": [
    "np.concatenate([v1, v2])"
   ]
  },
  {
   "cell_type": "code",
   "execution_count": 247,
   "metadata": {
    "colab": {
     "base_uri": "https://localhost:8080/"
    },
    "id": "BAv33Ir3tc4E",
    "outputId": "ae714b85-222b-4d23-b8c0-5353a938565c"
   },
   "outputs": [
    {
     "data": {
      "text/plain": [
       "array([1, 2, 3, 4, 5, 6, 1, 2, 3])"
      ]
     },
     "execution_count": 247,
     "metadata": {},
     "output_type": "execute_result"
    }
   ],
   "source": [
    "np.concatenate([v1, v2, v1])"
   ]
  },
  {
   "cell_type": "code",
   "execution_count": 251,
   "metadata": {
    "colab": {
     "base_uri": "https://localhost:8080/"
    },
    "id": "716I0-lvtc0y",
    "outputId": "6ad3e589-478f-416a-abeb-c11d9c471fcc"
   },
   "outputs": [
    {
     "data": {
      "text/plain": [
       "array([1, 2, 3, 4, 5, 6])"
      ]
     },
     "execution_count": 251,
     "metadata": {},
     "output_type": "execute_result"
    }
   ],
   "source": [
    "np.concatenate([v1, v2], axis=0)"
   ]
  },
  {
   "cell_type": "code",
   "execution_count": 253,
   "metadata": {
    "colab": {
     "base_uri": "https://localhost:8080/"
    },
    "id": "kcuEW-Kgtcxw",
    "outputId": "4a1c8f9d-b635-43a8-bb1e-5bb359eb88b1"
   },
   "outputs": [
    {
     "data": {
      "text/plain": [
       "array([[1, 2, 3],\n",
       "       [4, 5, 6],\n",
       "       [1, 2, 3],\n",
       "       [4, 5, 6]])"
      ]
     },
     "execution_count": 253,
     "metadata": {},
     "output_type": "execute_result"
    }
   ],
   "source": [
    "grid = np.array([[1,2,3],[4,5,6]])\n",
    "np.concatenate([grid, grid], axis=0)"
   ]
  },
  {
   "cell_type": "code",
   "execution_count": 255,
   "metadata": {
    "colab": {
     "base_uri": "https://localhost:8080/"
    },
    "id": "GQiL_ve5tcuk",
    "outputId": "18a4ff12-7262-45b4-f270-b2ebb2d06f6a"
   },
   "outputs": [
    {
     "data": {
      "text/plain": [
       "array([[1, 2, 3, 1, 2, 3],\n",
       "       [4, 5, 6, 4, 5, 6]])"
      ]
     },
     "execution_count": 255,
     "metadata": {},
     "output_type": "execute_result"
    }
   ],
   "source": [
    "np.concatenate([grid, grid], axis=1)"
   ]
  },
  {
   "cell_type": "markdown",
   "metadata": {
    "id": "rQ4JCQcMy6JY"
   },
   "source": [
    "### Splitting of arrays\n",
    "연결의 반대 개념은 분할이며, 이는 np.split, np.hsplit, np.vsplit()"
   ]
  },
  {
   "cell_type": "code",
   "execution_count": 318,
   "metadata": {
    "colab": {
     "base_uri": "https://localhost:8080/"
    },
    "id": "NX-0zqGGtcoP",
    "outputId": "60b3e392-ae0c-4622-be04-382ccb18b4c2"
   },
   "outputs": [
    {
     "name": "stdout",
     "output_type": "stream",
     "text": [
      "[array([1, 2]), array([3, 4]), array([5, 6])]\n"
     ]
    }
   ],
   "source": [
    "a = np.array([1, 2, 3, 4, 5, 6])\n",
    "result = np.split(a, 3)\n",
    "print(result)"
   ]
  },
  {
   "cell_type": "code",
   "execution_count": 320,
   "metadata": {
    "colab": {
     "base_uri": "https://localhost:8080/"
    },
    "id": "DngeRMrTzB9L",
    "outputId": "86d8b68b-c7ca-4cf0-f018-065057afbe78"
   },
   "outputs": [
    {
     "name": "stdout",
     "output_type": "stream",
     "text": [
      "[array([[1],\n",
      "       [4]]), array([[2],\n",
      "       [5]]), array([[3],\n",
      "       [6]])]\n"
     ]
    }
   ],
   "source": [
    "a = np.array([[1, 2, 3], [4, 5, 6]])\n",
    "result = np.hsplit(a, 3)\n",
    "print(result)"
   ]
  },
  {
   "cell_type": "code",
   "execution_count": 322,
   "metadata": {
    "colab": {
     "base_uri": "https://localhost:8080/"
    },
    "id": "Ui2hQjsMzB6A",
    "outputId": "b6e8d1b2-d135-494c-d3e8-28a2d9d84a33"
   },
   "outputs": [
    {
     "name": "stdout",
     "output_type": "stream",
     "text": [
      "[array([[1, 2, 3]]), array([[4, 5, 6]]), array([[7, 8, 9]])]\n"
     ]
    }
   ],
   "source": [
    "a = np.array([[1, 2, 3], [4, 5, 6], [7, 8, 9]])\n",
    "result = np.vsplit(a, 3)\n",
    "print(result)"
   ]
  },
  {
   "cell_type": "markdown",
   "metadata": {
    "id": "AX5BonLq4ZIz"
   },
   "source": [
    "### 배열 형태 변환\n",
    "\n",
    "reshape(), transpose(), flatten(), ravel()\n",
    "- ravel() :  배열을 1차원으로 평탄화"
   ]
  },
  {
   "cell_type": "code",
   "execution_count": 257,
   "metadata": {
    "colab": {
     "base_uri": "https://localhost:8080/"
    },
    "id": "59m4hILK4bu-",
    "outputId": "2b6150b7-c1e8-4885-a8ff-ae078179c5da"
   },
   "outputs": [
    {
     "data": {
      "text/plain": [
       "array([[ 0,  1,  2,  3],\n",
       "       [ 4,  5,  6,  7],\n",
       "       [ 8,  9, 10, 11]])"
      ]
     },
     "execution_count": 257,
     "metadata": {},
     "output_type": "execute_result"
    }
   ],
   "source": [
    "arr = np.arange(12).reshape(3,4)\n",
    "arr"
   ]
  },
  {
   "cell_type": "code",
   "execution_count": 259,
   "metadata": {
    "colab": {
     "base_uri": "https://localhost:8080/"
    },
    "id": "hcs7kPeF4hXb",
    "outputId": "dff760f9-60e8-4a13-a1df-b1087d6e6d68"
   },
   "outputs": [
    {
     "data": {
      "text/plain": [
       "array([[ 0,  4,  8],\n",
       "       [ 1,  5,  9],\n",
       "       [ 2,  6, 10],\n",
       "       [ 3,  7, 11]])"
      ]
     },
     "execution_count": 259,
     "metadata": {},
     "output_type": "execute_result"
    }
   ],
   "source": [
    "arr.transpose()"
   ]
  },
  {
   "cell_type": "code",
   "execution_count": 261,
   "metadata": {
    "id": "iEK2UFrn4ptt"
   },
   "outputs": [
    {
     "data": {
      "text/plain": [
       "array([ 0,  1,  2,  3,  4,  5,  6,  7,  8,  9, 10, 11])"
      ]
     },
     "execution_count": 261,
     "metadata": {},
     "output_type": "execute_result"
    }
   ],
   "source": [
    "arr.flatten()"
   ]
  },
  {
   "cell_type": "code",
   "execution_count": 265,
   "metadata": {
    "colab": {
     "base_uri": "https://localhost:8080/"
    },
    "id": "xrNP-5pu4ukE",
    "outputId": "c051e263-58a6-416a-823d-9382008f2134"
   },
   "outputs": [
    {
     "data": {
      "text/plain": [
       "array([ 0,  1,  2,  3,  4,  5,  6,  7,  8,  9, 10, 11])"
      ]
     },
     "execution_count": 265,
     "metadata": {},
     "output_type": "execute_result"
    }
   ],
   "source": [
    "arr.ravel()"
   ]
  },
  {
   "cell_type": "markdown",
   "metadata": {
    "id": "gqh3-mWK51e4"
   },
   "source": [
    "### 배열의 정렬"
   ]
  },
  {
   "cell_type": "code",
   "execution_count": 268,
   "metadata": {
    "colab": {
     "base_uri": "https://localhost:8080/"
    },
    "id": "Qd0rAaNV50Xw",
    "outputId": "9f1a36f5-945a-46dd-a05f-1b92bfd4af8e"
   },
   "outputs": [
    {
     "data": {
      "text/plain": [
       "array([[0, 1, 2],\n",
       "       [3, 4, 5]])"
      ]
     },
     "execution_count": 268,
     "metadata": {},
     "output_type": "execute_result"
    }
   ],
   "source": [
    "a = np.arange(6).reshape(2, 3)\n",
    "a"
   ]
  },
  {
   "cell_type": "code",
   "execution_count": 270,
   "metadata": {
    "colab": {
     "base_uri": "https://localhost:8080/"
    },
    "id": "sQnxaoks6TNU",
    "outputId": "89a687c1-4c57-4521-9e54-b7a03d1c462f"
   },
   "outputs": [
    {
     "data": {
      "text/plain": [
       "array([[0, 1, 2],\n",
       "       [3, 4, 5]])"
      ]
     },
     "execution_count": 270,
     "metadata": {},
     "output_type": "execute_result"
    }
   ],
   "source": [
    "np.sort(a)"
   ]
  },
  {
   "cell_type": "code",
   "execution_count": 272,
   "metadata": {
    "id": "6a0poPfA6hJR"
   },
   "outputs": [
    {
     "data": {
      "text/plain": [
       "array([[3, 4, 5],\n",
       "       [0, 1, 2]])"
      ]
     },
     "execution_count": 272,
     "metadata": {},
     "output_type": "execute_result"
    }
   ],
   "source": [
    "np.sort(a)[::-1]"
   ]
  },
  {
   "cell_type": "code",
   "execution_count": 274,
   "metadata": {
    "colab": {
     "base_uri": "https://localhost:8080/"
    },
    "id": "jZVzNhv76jVU",
    "outputId": "3d86d725-c1ee-48f3-aebe-f436fcbc6357"
   },
   "outputs": [
    {
     "data": {
      "text/plain": [
       "array([[4, 9, 7],\n",
       "       [3, 2, 7]])"
      ]
     },
     "execution_count": 274,
     "metadata": {},
     "output_type": "execute_result"
    }
   ],
   "source": [
    "arr = np.array([[4,9,7],[3,2,7]])\n",
    "arr"
   ]
  },
  {
   "cell_type": "code",
   "execution_count": 276,
   "metadata": {},
   "outputs": [
    {
     "data": {
      "text/plain": [
       "array([[4, 7, 9],\n",
       "       [2, 3, 7]])"
      ]
     },
     "execution_count": 276,
     "metadata": {},
     "output_type": "execute_result"
    }
   ],
   "source": [
    "np.sort(arr)"
   ]
  },
  {
   "cell_type": "code",
   "execution_count": 278,
   "metadata": {},
   "outputs": [
    {
     "data": {
      "text/plain": [
       "array([[4, 7, 9],\n",
       "       [2, 3, 7]])"
      ]
     },
     "execution_count": 278,
     "metadata": {},
     "output_type": "execute_result"
    }
   ],
   "source": [
    "np.sort(arr, axis=1)"
   ]
  },
  {
   "cell_type": "code",
   "execution_count": 280,
   "metadata": {},
   "outputs": [
    {
     "data": {
      "text/plain": [
       "array([[3, 2, 7],\n",
       "       [4, 9, 7]])"
      ]
     },
     "execution_count": 280,
     "metadata": {},
     "output_type": "execute_result"
    }
   ],
   "source": [
    "np.sort(arr, axis=0)"
   ]
  },
  {
   "cell_type": "markdown",
   "metadata": {
    "id": "Vhzo_3nG7nQH"
   },
   "source": [
    "### 요소의 추가"
   ]
  },
  {
   "cell_type": "code",
   "execution_count": 326,
   "metadata": {},
   "outputs": [
    {
     "name": "stdout",
     "output_type": "stream",
     "text": [
      "After append: [1 2 3 4 5]\n"
     ]
    }
   ],
   "source": [
    "import numpy as np\n",
    "\n",
    "# 초기 배열\n",
    "arr = np.array([1, 2, 3])\n",
    "\n",
    "# 요소 추가\n",
    "new_arr = np.append(arr, [4, 5])\n",
    "print(\"After append:\", new_arr)  # 출력: [1 2 3 4 5]"
   ]
  },
  {
   "cell_type": "markdown",
   "metadata": {
    "id": "KzH_gI-EDEPA"
   },
   "source": [
    "### 저장\n",
    "\n",
    "- ndarray를 바이너리 형식으로 디스크에 저장할 수 있음\n",
    "- 대용량 데이터의 경우 읽고 쓰는데 시간을 줄일 수 있음"
   ]
  },
  {
   "cell_type": "code",
   "execution_count": 328,
   "metadata": {},
   "outputs": [
    {
     "name": "stdout",
     "output_type": "stream",
     "text": [
      "Loaded array: [1 2 3]\n"
     ]
    }
   ],
   "source": [
    "# 배열 저장\n",
    "np.save('my_array.npy', arr)\n",
    "\n",
    "# 저장된 배열 불러오기\n",
    "loaded_arr = np.load('my_array.npy')\n",
    "print(\"Loaded array:\", loaded_arr)  # 출력: [1 2 3 4 5]"
   ]
  },
  {
   "cell_type": "markdown",
   "metadata": {
    "id": "tL5Bn5NDmnI3"
   },
   "source": [
    "# 5. 인덱싱과 슬라이싱"
   ]
  },
  {
   "cell_type": "markdown",
   "metadata": {},
   "source": [
    "### 인덱싱"
   ]
  },
  {
   "cell_type": "code",
   "execution_count": 104,
   "metadata": {
    "id": "qeqKcACYreeN"
   },
   "outputs": [],
   "source": [
    "import numpy as np\n",
    "np.random.seed(0)  # seed for reproducibility\n",
    "\n",
    "x1 = np.random.randint(10, size=6)  # One-dimensional array\n",
    "x2 = np.random.randint(10, size=(3, 4))  # Two-dimensional array\n",
    "x3 = np.random.randint(10, size=(3, 4, 5))  # Three-dimensional array"
   ]
  },
  {
   "cell_type": "code",
   "execution_count": 106,
   "metadata": {
    "colab": {
     "base_uri": "https://localhost:8080/"
    },
    "id": "QZRP4HXqrm08",
    "outputId": "332bab72-f283-4fbf-e2da-d98a75eebbd1"
   },
   "outputs": [
    {
     "name": "stdout",
     "output_type": "stream",
     "text": [
      "x3 ndim:  3\n",
      "x3 shape: (3, 4, 5)\n",
      "x3 size:  60\n",
      "dtype: int32\n",
      "itemsize: 4 bytes\n",
      "nbytes: 240 bytes\n"
     ]
    }
   ],
   "source": [
    "print(\"x3 ndim: \", x3.ndim)\n",
    "print(\"x3 shape:\", x3.shape)\n",
    "print(\"x3 size: \", x3.size)\n",
    "print(\"dtype:\", x3.dtype)\n",
    "print(\"itemsize:\", x3.itemsize, \"bytes\")\n",
    "print(\"nbytes:\", x3.nbytes, \"bytes\")"
   ]
  },
  {
   "cell_type": "code",
   "execution_count": 108,
   "metadata": {},
   "outputs": [
    {
     "data": {
      "text/plain": [
       "0"
      ]
     },
     "execution_count": 108,
     "metadata": {},
     "output_type": "execute_result"
    }
   ],
   "source": [
    "x1[1]"
   ]
  },
  {
   "cell_type": "code",
   "execution_count": 110,
   "metadata": {},
   "outputs": [
    {
     "data": {
      "text/plain": [
       "7"
      ]
     },
     "execution_count": 110,
     "metadata": {},
     "output_type": "execute_result"
    }
   ],
   "source": [
    "x1[4]"
   ]
  },
  {
   "cell_type": "code",
   "execution_count": 112,
   "metadata": {},
   "outputs": [
    {
     "data": {
      "text/plain": [
       "7"
      ]
     },
     "execution_count": 112,
     "metadata": {},
     "output_type": "execute_result"
    }
   ],
   "source": [
    "x1[-2]"
   ]
  },
  {
   "cell_type": "code",
   "execution_count": 114,
   "metadata": {},
   "outputs": [
    {
     "data": {
      "text/plain": [
       "array([[3, 5, 2, 4],\n",
       "       [7, 6, 8, 8],\n",
       "       [1, 6, 7, 7]])"
      ]
     },
     "execution_count": 114,
     "metadata": {},
     "output_type": "execute_result"
    }
   ],
   "source": [
    "x2"
   ]
  },
  {
   "cell_type": "code",
   "execution_count": 116,
   "metadata": {},
   "outputs": [
    {
     "data": {
      "text/plain": [
       "(3, 3)"
      ]
     },
     "execution_count": 116,
     "metadata": {},
     "output_type": "execute_result"
    }
   ],
   "source": [
    "x2[0,0], x2[0][0]"
   ]
  },
  {
   "cell_type": "code",
   "execution_count": 118,
   "metadata": {},
   "outputs": [
    {
     "data": {
      "text/plain": [
       "7"
      ]
     },
     "execution_count": 118,
     "metadata": {},
     "output_type": "execute_result"
    }
   ],
   "source": [
    "x2[2, 3]"
   ]
  },
  {
   "cell_type": "code",
   "execution_count": 120,
   "metadata": {},
   "outputs": [
    {
     "data": {
      "text/plain": [
       "7"
      ]
     },
     "execution_count": 120,
     "metadata": {},
     "output_type": "execute_result"
    }
   ],
   "source": [
    "x2[2,-1]"
   ]
  },
  {
   "cell_type": "code",
   "execution_count": 122,
   "metadata": {},
   "outputs": [
    {
     "data": {
      "text/plain": [
       "array([[12,  5,  2,  4],\n",
       "       [ 7,  6,  8,  8],\n",
       "       [ 1,  6,  7,  7]])"
      ]
     },
     "execution_count": 122,
     "metadata": {},
     "output_type": "execute_result"
    }
   ],
   "source": [
    "x2[0,0] = 12\n",
    "x2"
   ]
  },
  {
   "cell_type": "code",
   "execution_count": 124,
   "metadata": {},
   "outputs": [
    {
     "data": {
      "text/plain": [
       "dtype('int32')"
      ]
     },
     "execution_count": 124,
     "metadata": {},
     "output_type": "execute_result"
    }
   ],
   "source": [
    "x2.dtype"
   ]
  },
  {
   "cell_type": "code",
   "execution_count": 126,
   "metadata": {},
   "outputs": [
    {
     "data": {
      "text/plain": [
       "(5, dtype('int32'))"
      ]
     },
     "execution_count": 126,
     "metadata": {},
     "output_type": "execute_result"
    }
   ],
   "source": [
    "x1[0], x1[0].dtype"
   ]
  },
  {
   "cell_type": "code",
   "execution_count": 128,
   "metadata": {},
   "outputs": [
    {
     "data": {
      "text/plain": [
       "(3, dtype('int32'))"
      ]
     },
     "execution_count": 128,
     "metadata": {},
     "output_type": "execute_result"
    }
   ],
   "source": [
    "x1[0] =  3.1415\n",
    "x1[0], x1[0].dtype  # truncated"
   ]
  },
  {
   "cell_type": "code",
   "execution_count": 130,
   "metadata": {},
   "outputs": [
    {
     "data": {
      "text/plain": [
       "array([3.14150000e+000, 6.36598737e-314, 1.90979621e-313])"
      ]
     },
     "execution_count": 130,
     "metadata": {},
     "output_type": "execute_result"
    }
   ],
   "source": [
    "x1.dtype ='float64'\n",
    "x1[0] = 3.1415\n",
    "x1"
   ]
  },
  {
   "cell_type": "markdown",
   "metadata": {
    "id": "ivVMCKintHU5"
   },
   "source": [
    "### 1차원 배열 슬라이싱"
   ]
  },
  {
   "cell_type": "markdown",
   "metadata": {
    "id": "91IQGTHmmDCC"
   },
   "source": [
    "![image.png](data:image/png;base64,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)"
   ]
  },
  {
   "cell_type": "markdown",
   "metadata": {},
   "source": [
    "#### Slicing : 사용 예\n",
    "\n",
    "- [:]: 배열 전체\n",
    "- [0:n]: 0번째부터 n-1번째까지, 즉 n번 항목은 포함하지 않는다.\n",
    "- [:5]: 0번째부터 4번째까지,5번은 포함하지 않는다.\n",
    "- [2:]: 2번째부터 끝까지\n",
    "- [-1]: 제일 끝에 있는 배열값 반환\n",
    "- [-2]: 제일 끝에서 두번째 값 반환"
   ]
  },
  {
   "cell_type": "markdown",
   "metadata": {},
   "source": [
    "추가) 리스트와 차이점\n",
    "- 리스트의 슬라이싱은 복사본을 리턴\n",
    "- 배열의 슬라이싱은 원본 배열의  뷰View를 리턴 \n",
    "- 즉 데이터를 복사하는 것이 아니라, 뷰에 대한 변경이 원본 배열에 그대로 반영\n",
    "- 복사본이 필요한 경우 `arr[5:8].copy()`"
   ]
  },
  {
   "cell_type": "code",
   "execution_count": 134,
   "metadata": {},
   "outputs": [
    {
     "data": {
      "text/plain": [
       "array([0, 1, 2, 3, 4, 5, 6, 7, 8, 9])"
      ]
     },
     "execution_count": 134,
     "metadata": {},
     "output_type": "execute_result"
    }
   ],
   "source": [
    "x = np.arange(10)\n",
    "x"
   ]
  },
  {
   "cell_type": "code",
   "execution_count": 136,
   "metadata": {},
   "outputs": [
    {
     "data": {
      "text/plain": [
       "array([0, 1, 2, 3, 4])"
      ]
     },
     "execution_count": 136,
     "metadata": {},
     "output_type": "execute_result"
    }
   ],
   "source": [
    "x[:5]"
   ]
  },
  {
   "cell_type": "code",
   "execution_count": 138,
   "metadata": {},
   "outputs": [
    {
     "data": {
      "text/plain": [
       "array([5, 6, 7, 8, 9])"
      ]
     },
     "execution_count": 138,
     "metadata": {},
     "output_type": "execute_result"
    }
   ],
   "source": [
    "x[5:]"
   ]
  },
  {
   "cell_type": "code",
   "execution_count": 140,
   "metadata": {},
   "outputs": [
    {
     "data": {
      "text/plain": [
       "9"
      ]
     },
     "execution_count": 140,
     "metadata": {},
     "output_type": "execute_result"
    }
   ],
   "source": [
    "x[-1]"
   ]
  },
  {
   "cell_type": "code",
   "execution_count": 142,
   "metadata": {},
   "outputs": [
    {
     "data": {
      "text/plain": [
       "array([4, 5, 6])"
      ]
     },
     "execution_count": 142,
     "metadata": {},
     "output_type": "execute_result"
    }
   ],
   "source": [
    "x[4:7]"
   ]
  },
  {
   "cell_type": "code",
   "execution_count": 146,
   "metadata": {},
   "outputs": [
    {
     "data": {
      "text/plain": [
       "(array([1000,    5,    6]),\n",
       " array([   0,    1,    2,    3, 1000,    5,    6,    7,    8,    9]))"
      ]
     },
     "execution_count": 146,
     "metadata": {},
     "output_type": "execute_result"
    }
   ],
   "source": [
    "# 원본 배열을 수정하지 않고 새 배열을 만들고 싶다면, .copy() 메서드를 사용\n",
    "new_x1 = x[4:7]\n",
    "new_x1[0] = 1000\n",
    "new_x1, x"
   ]
  },
  {
   "cell_type": "markdown",
   "metadata": {
    "id": "JhwVzYlAs_bI"
   },
   "source": [
    "## 다차원 배열\n",
    "\n",
    "### 기본 인덱스 (슬라이스 색인)"
   ]
  },
  {
   "cell_type": "markdown",
   "metadata": {
    "id": "c-p-TkADmdL9"
   },
   "source": [
    "![image-20230120093737890.png](data:image/png;base64,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)"
   ]
  },
  {
   "cell_type": "markdown",
   "metadata": {},
   "source": [
    "#### arr2d[:2, 1:]\n",
    "     행,  열\n",
    "\n",
    "- 같은 [ ] 안에서는 행과 열 구분\n",
    "- `array[start:stop:step, start:stop:step]`"
   ]
  },
  {
   "cell_type": "code",
   "execution_count": 154,
   "metadata": {
    "id": "3_BOoey8m0A0"
   },
   "outputs": [],
   "source": [
    "x1 = np.random.randint(10, size=6)  # One-dimensional array\n",
    "x2 = np.random.randint(10, size=(3, 4))  # Two-dimensional array\n",
    "x3 = np.random.randint(10, size=(3, 4, 5))  # Three-dimensional array"
   ]
  },
  {
   "cell_type": "code",
   "execution_count": 156,
   "metadata": {},
   "outputs": [
    {
     "data": {
      "text/plain": [
       "array([[3, 0, 5, 0],\n",
       "       [1, 2, 4, 2],\n",
       "       [0, 3, 2, 0]])"
      ]
     },
     "execution_count": 156,
     "metadata": {},
     "output_type": "execute_result"
    }
   ],
   "source": [
    "x2"
   ]
  },
  {
   "cell_type": "code",
   "execution_count": 160,
   "metadata": {},
   "outputs": [
    {
     "data": {
      "text/plain": [
       "array([[3, 0, 5],\n",
       "       [1, 2, 4]])"
      ]
     },
     "execution_count": 160,
     "metadata": {},
     "output_type": "execute_result"
    }
   ],
   "source": [
    "x2[:2, :3]"
   ]
  },
  {
   "cell_type": "code",
   "execution_count": 164,
   "metadata": {},
   "outputs": [
    {
     "data": {
      "text/plain": [
       "array([[1, 2, 4, 2]])"
      ]
     },
     "execution_count": 164,
     "metadata": {},
     "output_type": "execute_result"
    }
   ],
   "source": [
    "x2[:2][1:] # 슬라이싱 2번 수행 -> 첫번째 슬라이싱 결과에 대해 슬라이싱"
   ]
  },
  {
   "cell_type": "code",
   "execution_count": 166,
   "metadata": {},
   "outputs": [
    {
     "data": {
      "text/plain": [
       "array([[0, 5, 0],\n",
       "       [2, 4, 2]])"
      ]
     },
     "execution_count": 166,
     "metadata": {},
     "output_type": "execute_result"
    }
   ],
   "source": [
    "x2[:2,1:]"
   ]
  },
  {
   "cell_type": "code",
   "execution_count": 168,
   "metadata": {},
   "outputs": [
    {
     "data": {
      "text/plain": [
       "array([[0, 5, 0],\n",
       "       [2, 4, 2],\n",
       "       [3, 2, 0]])"
      ]
     },
     "execution_count": 168,
     "metadata": {},
     "output_type": "execute_result"
    }
   ],
   "source": [
    "# x2의 전체 행의 2열 이상\n",
    "x2[:,1:]"
   ]
  },
  {
   "cell_type": "code",
   "execution_count": 170,
   "metadata": {},
   "outputs": [
    {
     "data": {
      "text/plain": [
       "array([3, 1, 0])"
      ]
     },
     "execution_count": 170,
     "metadata": {},
     "output_type": "execute_result"
    }
   ],
   "source": [
    "# x2의 첫번째 컬럼\n",
    "x2[:,0]"
   ]
  },
  {
   "cell_type": "code",
   "execution_count": 172,
   "metadata": {},
   "outputs": [
    {
     "data": {
      "text/plain": [
       "array([2, 4])"
      ]
     },
     "execution_count": 172,
     "metadata": {},
     "output_type": "execute_result"
    }
   ],
   "source": [
    "# x2 1행의 1열,2열\n",
    "x2[1,1:3]"
   ]
  },
  {
   "cell_type": "markdown",
   "metadata": {},
   "source": [
    "### 불리언 인덱싱\n"
   ]
  },
  {
   "attachments": {
    "image.png": {
     "image/png": "[encoded data removed]"
    }
   },
   "cell_type": "markdown",
   "metadata": {},
   "source": [
    "![image.png](attachment:image.png)"
   ]
  },
  {
   "cell_type": "code",
   "execution_count": 174,
   "metadata": {},
   "outputs": [
    {
     "data": {
      "text/plain": [
       "array([[ 0,  1,  2,  3],\n",
       "       [ 4,  5,  6,  7],\n",
       "       [ 8,  9, 10, 11],\n",
       "       [12, 13, 14, 15],\n",
       "       [16, 17, 18, 19],\n",
       "       [20, 21, 22, 23],\n",
       "       [24, 25, 26, 27]])"
      ]
     },
     "execution_count": 174,
     "metadata": {},
     "output_type": "execute_result"
    }
   ],
   "source": [
    "data = np.arange(28).reshape(7,4)\n",
    "data"
   ]
  },
  {
   "cell_type": "code",
   "execution_count": 176,
   "metadata": {},
   "outputs": [
    {
     "data": {
      "text/plain": [
       "array(['Bob', 'Joe', 'Will', 'Bob', 'Will', 'Joe', 'Joe'], dtype='<U4')"
      ]
     },
     "execution_count": 176,
     "metadata": {},
     "output_type": "execute_result"
    }
   ],
   "source": [
    "names = np.array(['Bob','Joe','Will','Bob','Will','Joe','Joe'])\n",
    "names"
   ]
  },
  {
   "cell_type": "code",
   "execution_count": 178,
   "metadata": {},
   "outputs": [
    {
     "data": {
      "text/plain": [
       "array([ True, False, False,  True, False, False, False])"
      ]
     },
     "execution_count": 178,
     "metadata": {},
     "output_type": "execute_result"
    }
   ],
   "source": [
    "names == 'Bob'"
   ]
  },
  {
   "cell_type": "code",
   "execution_count": 180,
   "metadata": {},
   "outputs": [
    {
     "data": {
      "text/plain": [
       "array([[ 0,  1,  2,  3],\n",
       "       [12, 13, 14, 15]])"
      ]
     },
     "execution_count": 180,
     "metadata": {},
     "output_type": "execute_result"
    }
   ],
   "source": [
    "data[names == 'Bob']"
   ]
  },
  {
   "cell_type": "code",
   "execution_count": 186,
   "metadata": {},
   "outputs": [
    {
     "ename": "IndexError",
     "evalue": "boolean index did not match indexed array along dimension 0; dimension is 7 but corresponding boolean dimension is 3",
     "output_type": "error",
     "traceback": [
      "\u001b[1;31m---------------------------------------------------------------------------\u001b[0m",
      "\u001b[1;31mIndexError\u001b[0m                                Traceback (most recent call last)",
      "Cell \u001b[1;32mIn[186], line 2\u001b[0m\n\u001b[0;32m      1\u001b[0m names2 \u001b[38;5;241m=\u001b[39m np\u001b[38;5;241m.\u001b[39marray([\u001b[38;5;124m'\u001b[39m\u001b[38;5;124mBob\u001b[39m\u001b[38;5;124m'\u001b[39m,\u001b[38;5;124m'\u001b[39m\u001b[38;5;124mJoe\u001b[39m\u001b[38;5;124m'\u001b[39m,\u001b[38;5;124m'\u001b[39m\u001b[38;5;124mWill\u001b[39m\u001b[38;5;124m'\u001b[39m])\n\u001b[1;32m----> 2\u001b[0m data[names2 \u001b[38;5;241m==\u001b[39m \u001b[38;5;124m'\u001b[39m\u001b[38;5;124mBob\u001b[39m\u001b[38;5;124m'\u001b[39m]\n",
      "\u001b[1;31mIndexError\u001b[0m: boolean index did not match indexed array along dimension 0; dimension is 7 but corresponding boolean dimension is 3"
     ]
    }
   ],
   "source": [
    "# names2 배열의 길이와 data 배열의 첫 번째 차원의 길이가 일치하지 않기 때문\n",
    "names2 = np.array(['Bob','Joe','Will'])\n",
    "data[names2 == 'Bob']"
   ]
  },
  {
   "cell_type": "markdown",
   "metadata": {},
   "source": [
    "### (참고) 팬시 색인\n",
    "\n",
    "- fancy indexing\n",
    "- 정수 리스트를 인덱스로 사용하는 방식"
   ]
  },
  {
   "cell_type": "code",
   "execution_count": 182,
   "metadata": {},
   "outputs": [
    {
     "data": {
      "text/plain": [
       "array([[ 0,  1,  2,  3],\n",
       "       [12, 13, 14, 15]])"
      ]
     },
     "execution_count": 182,
     "metadata": {},
     "output_type": "execute_result"
    }
   ],
   "source": [
    "data[[0, 3]]"
   ]
  },
  {
   "cell_type": "markdown",
   "metadata": {},
   "source": [
    "정리) \n",
    "\n",
    "* 인덱싱- 하나, 배열의 인덱스는 0부터 시작, `행렬[인덱스]`, `행렬[행,열]` \n",
    "* 슬라이싱 - 여러 요소 선택 `행렬[start:stop:step]` , `행렬[행의 구간, 열의 구간]`\n",
    "* 팬시색인 - 리스트로 여러 개를 한번에 지정, 비연속적인 요소의 순서를 정해 꺼낸다. `행렬[[요소선택]]`\n",
    "* 불리언색인 -조건을 만족하는 요소들(True)만 꺼낸다.  조건식으로 배열 필터링"
   ]
  },
  {
   "cell_type": "code",
   "execution_count": 330,
   "metadata": {},
   "outputs": [
    {
     "name": "stdout",
     "output_type": "stream",
     "text": [
      "[10 30 50]\n"
     ]
    }
   ],
   "source": [
    "# 1차원 배열 생성\n",
    "arr = np.array([10, 20, 30, 40, 50])\n",
    "\n",
    "# 정수 배열을 사용하여 특정 요소 선택\n",
    "indices = [0, 2, 4]\n",
    "result = arr[indices]\n",
    "print(result)  # 출력: [10 30 50]"
   ]
  },
  {
   "cell_type": "code",
   "execution_count": 332,
   "metadata": {},
   "outputs": [
    {
     "name": "stdout",
     "output_type": "stream",
     "text": [
      "[2 9]\n"
     ]
    }
   ],
   "source": [
    "# 2차원 배열에서 Fancy Indexing!!!!!\n",
    "data = np.array([[1, 2, 3],\n",
    "                 [4, 5, 6],\n",
    "                 [7, 8, 9]])\n",
    "\n",
    "# 특정 행과 열을 선택\n",
    "row_indices = [0, 2]  # 첫 번째와 세 번째 행\n",
    "col_indices = [1, 2]  # 두 번째와 세 번째 열\n",
    "\n",
    "result = data[row_indices, col_indices]  # Fancy Indexing\n",
    "print(result)  # 출력: [2 9]"
   ]
  },
  {
   "cell_type": "code",
   "execution_count": 334,
   "metadata": {},
   "outputs": [
    {
     "name": "stdout",
     "output_type": "stream",
     "text": [
      "[30 40 50]\n"
     ]
    }
   ],
   "source": [
    "# 불리언 배열을 사용한 fancy indexing\n",
    "# 1차원 배열 생성\n",
    "arr = np.array([10, 20, 30, 40, 50])\n",
    "\n",
    "# 조건을 만족하는 요소 선택\n",
    "condition = arr > 25\n",
    "result = arr[condition]\n",
    "print(result)  # 출력: [30 40 50]"
   ]
  },
  {
   "cell_type": "markdown",
   "metadata": {
    "id": "XjCWiLVJs738"
   },
   "source": [
    "## 전치행렬\n",
    "\n",
    "행렬의 행과 열이 바뀌는 전치행렬을 만드는 연산자 T의 활용"
   ]
  },
  {
   "cell_type": "code",
   "execution_count": 336,
   "metadata": {},
   "outputs": [
    {
     "name": "stdout",
     "output_type": "stream",
     "text": [
      "원본 행렬:\n",
      "[[1 2 3]\n",
      " [4 5 6]\n",
      " [7 8 9]]\n",
      "\n",
      "전치 행렬:\n",
      "[[1 4 7]\n",
      " [2 5 8]\n",
      " [3 6 9]]\n"
     ]
    }
   ],
   "source": [
    "# 2차원 배열 생성\n",
    "original_matrix = np.array([[1, 2, 3],\n",
    "                             [4, 5, 6],\n",
    "                             [7, 8, 9]])\n",
    "\n",
    "# 전치 행렬 계산\n",
    "transposed_matrix = original_matrix.T\n",
    "\n",
    "# 결과 출력\n",
    "print(\"원본 행렬:\")\n",
    "print(original_matrix)\n",
    "\n",
    "print(\"\\n전치 행렬:\")\n",
    "print(transposed_matrix)"
   ]
  },
  {
   "cell_type": "markdown",
   "metadata": {
    "id": "GvLnqgIIuBcZ"
   },
   "source": [
    "## 슬라이싱한 서브행렬은 뷰\n",
    "\n",
    "원본 배열의 참조로, 이 뷰를 통해 원본 데이터 직접 수정\n"
   ]
  },
  {
   "cell_type": "code",
   "execution_count": 338,
   "metadata": {},
   "outputs": [
    {
     "name": "stdout",
     "output_type": "stream",
     "text": [
      "원본 행렬:\n",
      "[[  1   2   3]\n",
      " [  4 100   6]\n",
      " [  7   8   9]]\n",
      "\n",
      "서브행렬:\n",
      "[[100   6]\n",
      " [  8   9]]\n"
     ]
    }
   ],
   "source": [
    "# 2차원 배열 생성\n",
    "original_matrix = np.array([[1, 2, 3],\n",
    "                             [4, 5, 6],\n",
    "                             [7, 8, 9]])\n",
    "\n",
    "# 슬라이싱하여 서브행렬 생성 (뷰)\n",
    "sub_matrix = original_matrix[1:3, 1:3]  # 두 번째와 세 번째 행, 두 번째와 세 번째 열\n",
    "\n",
    "# 서브행렬 변경\n",
    "sub_matrix[0, 0] = 100  # 변경\n",
    "\n",
    "# 결과 출력\n",
    "print(\"원본 행렬:\")\n",
    "print(original_matrix)\n",
    "print(\"\\n서브행렬:\")\n",
    "print(sub_matrix)"
   ]
  },
  {
   "cell_type": "markdown",
   "metadata": {
    "id": "TY8n6P0rul4O"
   },
   "source": [
    "## 명시적으로 복사하기\n"
   ]
  },
  {
   "cell_type": "code",
   "execution_count": 340,
   "metadata": {},
   "outputs": [
    {
     "name": "stdout",
     "output_type": "stream",
     "text": [
      "원본 행렬:\n",
      "[[  1   2   3]\n",
      " [  4 100   6]\n",
      " [  7   8   9]]\n",
      "\n",
      "복사한 서브행렬:\n",
      "[[200   6]\n",
      " [  8   9]]\n"
     ]
    }
   ],
   "source": [
    "# 서브행렬을 명시적으로 복사\n",
    "sub_matrix_copy = original_matrix[1:3, 1:3].copy()  # 복사본 생성\n",
    "\n",
    "# 복사본 변경\n",
    "sub_matrix_copy[0, 0] = 200  # 변경\n",
    "\n",
    "# 결과 출력\n",
    "print(\"원본 행렬:\")\n",
    "print(original_matrix)\n",
    "print(\"\\n복사한 서브행렬:\")\n",
    "print(sub_matrix_copy)"
   ]
  },
  {
   "cell_type": "markdown",
   "metadata": {
    "id": "sO7Lel_MnUl5"
   },
   "source": [
    "## step 사용하기"
   ]
  },
  {
   "cell_type": "code",
   "execution_count": 342,
   "metadata": {},
   "outputs": [
    {
     "name": "stdout",
     "output_type": "stream",
     "text": [
      "스텝을 사용한 서브행렬:\n",
      "[[1 3]\n",
      " [7 9]]\n"
     ]
    }
   ],
   "source": [
    "# 스텝을 사용한 슬라이싱\n",
    "step_sub_matrix = original_matrix[::2, ::2]  # 모든 행과 열에서 2개 간격으로 선택\n",
    "\n",
    "# 결과 출력\n",
    "print(\"스텝을 사용한 서브행렬:\")\n",
    "print(step_sub_matrix)"
   ]
  },
  {
   "cell_type": "markdown",
   "metadata": {
    "id": "9Oe8SUsUr9Lo"
   },
   "source": [
    "# 6. numpy의 random module"
   ]
  },
  {
   "cell_type": "markdown",
   "metadata": {
    "id": "K4dMKrPWu-Yy"
   },
   "source": [
    "### 단일 난수생성"
   ]
  },
  {
   "cell_type": "markdown",
   "metadata": {
    "id": "-33zbS5kvAXc"
   },
   "source": [
    "### 특정 크기의 난수 배열 생성"
   ]
  },
  {
   "cell_type": "markdown",
   "metadata": {
    "id": "QFngBKv0vHZH"
   },
   "source": [
    "### 정수 난수 생성"
   ]
  },
  {
   "cell_type": "markdown",
   "metadata": {
    "id": "N1D2BQNcvKv0"
   },
   "source": [
    "### 데이터 섞기"
   ]
  },
  {
   "cell_type": "markdown",
   "metadata": {
    "id": "BZf5qnC0vQhq"
   },
   "source": [
    "### 확률 분포에 따른 난수 생성"
   ]
  },
  {
   "cell_type": "markdown",
   "metadata": {
    "id": "A_KdkcLxrkWD"
   },
   "source": [
    "### uniform 균등분포함수"
   ]
  },
  {
   "cell_type": "markdown",
   "metadata": {
    "id": "NPMfTOEWrz7s"
   },
   "source": [
    "### normal 정규분포함수"
   ]
  },
  {
   "cell_type": "code",
   "execution_count": 345,
   "metadata": {},
   "outputs": [
    {
     "name": "stdout",
     "output_type": "stream",
     "text": [
      "0과 1 사이의 난수: 0.6439901992296374\n",
      "1 이상 10 미만의 정수 난수: [1 5 7 6 8]\n",
      "정규 분포에서 생성된 난수: [ 1.14907613  0.83771977 -1.49011141 -1.070215   -0.20912862]\n",
      "무작위 샘플링 결과: [10 50 20]\n",
      "시드 설정 후 난수: [0.37454012 0.95071431 0.73199394 0.59865848 0.15601864]\n"
     ]
    }
   ],
   "source": [
    "import numpy as np\n",
    "\n",
    "# 0과 1 사이의 난수 생성\n",
    "random_number = np.random.rand()\n",
    "print(\"0과 1 사이의 난수:\", random_number)\n",
    "\n",
    "# 특정 범위 내의 정수 난수 생성\n",
    "random_integer = np.random.randint(1, 10, size=5)\n",
    "print(\"1 이상 10 미만의 정수 난수:\", random_integer)\n",
    "\n",
    "# 평균 0, 표준편차 1인 정규 분포에서 난수 생성\n",
    "normal_random_numbers = np.random.normal(loc=0.0, scale=1.0, size=5)\n",
    "print(\"정규 분포에서 생성된 난수:\", normal_random_numbers)\n",
    "\n",
    "# 주어진 배열에서 무작위로 샘플링\n",
    "data = np.array([10, 20, 30, 40, 50])\n",
    "sampled_data = np.random.choice(data, size=3, replace=False)\n",
    "print(\"무작위 샘플링 결과:\", sampled_data)\n",
    "\n",
    "# 난수 생성의 재현성을 위해 시드 설정\n",
    "np.random.seed(42)\n",
    "random_numbers_with_seed = np.random.rand(5)\n",
    "print(\"시드 설정 후 난수:\", random_numbers_with_seed)"
   ]
  },
  {
   "cell_type": "code",
   "execution_count": 347,
   "metadata": {},
   "outputs": [
    {
     "name": "stdout",
     "output_type": "stream",
     "text": [
      "np.random.rand 결과:\n",
      "[[0.15599452 0.05808361 0.86617615]\n",
      " [0.60111501 0.70807258 0.02058449]]\n"
     ]
    }
   ],
   "source": [
    "rand_array = np.random.rand(2, 3)\n",
    "print(\"np.random.rand 결과:\")\n",
    "print(rand_array)"
   ]
  },
  {
   "cell_type": "code",
   "execution_count": 349,
   "metadata": {},
   "outputs": [
    {
     "name": "stdout",
     "output_type": "stream",
     "text": [
      "Random Choices (with replacement): [2 8 6]\n"
     ]
    }
   ],
   "source": [
    "random_choices = np.random.choice(np.arange(1, 11), size=3)\n",
    "print(\"Random Choices (with replacement):\", random_choices)\n"
   ]
  },
  {
   "cell_type": "markdown",
   "metadata": {
    "id": "ACTjbrj4sENo"
   },
   "source": [
    "# 7. 넘파이 함수\n",
    "\n",
    "https://numpy.org/doc/stable/reference/routines.math.html\n",
    "\n",
    "https://numpy.org/doc/stable/reference/routines.sort.html"
   ]
  },
  {
   "cell_type": "markdown",
   "metadata": {
    "id": "Q1o4uxRxB1dm"
   },
   "source": [
    "### 주요 산술함수\n",
    "\n",
    "| 함수          | 설명                           | 예제 사용법                   |\n",
    "|---------------|--------------------------------|-------------------------------|\n",
    "| `np.add`      | 요소별 덧셈                    | `np.add(arr1, arr2)`          |\n",
    "| `np.subtract` | 요소별 뺄셈                    | `np.subtract(arr1, arr2)`     |\n",
    "| `np.multiply` | 요소별 곱셈                    | `np.multiply(arr1, arr2)`     |\n",
    "| `np.divide`   | 요소별 나눗셈                  | `np.divide(arr1, arr2)`       |\n",
    "| `np.power`    | 요소별 거듭제곱                | `np.power(arr1, 2)`           |\n",
    "| `np.mod`      | 요소별 나머지                  | `np.mod(arr1, arr2)`          |\n",
    "| `np.sqrt`     | 요소별 제곱근                  | `np.sqrt(arr1)`               |\n",
    "| `np.exp`      | 요소별 지수 함수               | `np.exp(arr1)`                |\n",
    "| `np.log`      | 요소별 자연 로그               | `np.log(arr1)`                |\n",
    "| `np.log10`    | 요소별 상용 로그               | `np.log10(arr1)`              |\n",
    "| `np.sin`      | 요소별 사인 함수               | `np.sin(arr1)`                |\n",
    "| `np.cos`      | 요소별 코사인 함수             | `np.cos(arr1)`                |\n",
    "| `np.tan`      | 요소별 탄젠트 함수             | `np.tan(arr1)`                |\n",
    "| `np.sum`      | 배열의 모든 요소의 합          | `np.sum(arr1)`                |\n",
    "| `np.mean`     | 배열의 모든 요소의 평균        | `np.mean(arr1)`               |\n",
    "| `np.min`      | 배열의 최소값                  | `np.min(arr1)`                |\n",
    "| `np.max`      | 배열의 최대값                  | `np.max(arr1)`                |\n",
    "| `np.cumsum`   | 배열의 누적 합                 | `np.cumsum(arr1)`             |\n",
    "| `np.cumprod`  | 배열의 누적 곱                 | `np.cumprod(arr1)`            |\n",
    "| `np.argmax`   | 배열에서 최대값의 인덱스 반환  | `np.argmax(arr1)`             |\n",
    "| `np.argmin`   | 배열에서 최소값의 인덱스 반환  | `np.argmin(arr1)`             |\n",
    "| `np.dot`      | 두 배열의 점곱(내적)           | `np.dot(arr1, arr2)`          |"
   ]
  }
 ],
 "metadata": {
  "colab": {
   "authorship_tag": "ABX9TyOKodGcinNuxF8Z82F6Emq3",
   "include_colab_link": true,
   "provenance": [],
   "toc_visible": true
  },
  "kernelspec": {
   "display_name": "Python 3 (ipykernel)",
   "language": "python",
   "name": "python3"
  },
  "language_info": {
   "codemirror_mode": {
    "name": "ipython",
    "version": 3
   },
   "file_extension": ".py",
   "mimetype": "text/x-python",
   "name": "python",
   "nbconvert_exporter": "python",
   "pygments_lexer": "ipython3",
   "version": "3.12.4"
  }
 },
 "nbformat": 4,
 "nbformat_minor": 4
}
