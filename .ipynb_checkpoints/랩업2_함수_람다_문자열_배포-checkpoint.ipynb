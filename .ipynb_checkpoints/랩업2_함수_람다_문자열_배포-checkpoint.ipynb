{
 "cells": [
  {
   "cell_type": "markdown",
   "metadata": {
    "colab_type": "text",
    "id": "view-in-github"
   },
   "source": [
    "<a href=\"https://colab.research.google.com/github/zzhining/python_basic/blob/master/exercise/%ED%95%A8%EC%88%98_%EB%9E%8C%EB%8B%A4_%EB%AC%B8%EC%9E%90%EC%97%B4.ipynb\" target=\"_parent\"><img src=\"https://colab.research.google.com/assets/colab-badge.svg\" alt=\"Open In Colab\"/></a>"
   ]
  },
  {
   "cell_type": "markdown",
   "metadata": {
    "id": "gbEnq1KDtnFO"
   },
   "source": [
    "1. 두 수를 입력 받아 그 곱을 반환하는 함수를 작성하세요."
   ]
  },
  {
   "cell_type": "code",
   "execution_count": 2,
   "metadata": {
    "id": "m9muCNmUtSZP"
   },
   "outputs": [],
   "source": [
    "#답을 작성하세요.\n",
    "def multiply_numbers(a, b):\n",
    "    return a * b\n"
   ]
  },
  {
   "cell_type": "code",
   "execution_count": 4,
   "metadata": {
    "id": "9AYm4gg_vJ6o"
   },
   "outputs": [
    {
     "name": "stdout",
     "output_type": "stream",
     "text": [
      "15\n"
     ]
    }
   ],
   "source": [
    "#테스트\n",
    "print(multiply_numbers(3, 5))  #15"
   ]
  },
  {
   "cell_type": "markdown",
   "metadata": {
    "id": "FoHkPi26vPFE"
   },
   "source": [
    "2. 숫자 리스트를 입력 받아 평균을 반환하는 함수를 작성하세요."
   ]
  },
  {
   "cell_type": "code",
   "execution_count": 20,
   "metadata": {
    "id": "4J86UASJvMT2"
   },
   "outputs": [],
   "source": [
    "#답을 작성하세요.\n",
    "def average(lst):\n",
    "    mean = sum(i for i in lst) / len(lst) # 제너레이터 표현식\n",
    "    mean = int(mean)\n",
    "    return mean"
   ]
  },
  {
   "cell_type": "code",
   "execution_count": null,
   "metadata": {},
   "outputs": [],
   "source": [
    "def average(lst):\n",
    "    mean = int(sum(lst) / len(lst)) if lst else 0 # 조건 표현식\n",
    "    return mean"
   ]
  },
  {
   "cell_type": "code",
   "execution_count": null,
   "metadata": {},
   "outputs": [],
   "source": [
    "# pythonic\n",
    "def average(lst):\n",
    "    if not lst:  # 리스트가 비어있는 경우\n",
    "        return 0  \n",
    "    return sum(lst) / len(lst)  # 평균을 계산하고 정수로 변환하지 않음"
   ]
  },
  {
   "cell_type": "code",
   "execution_count": 22,
   "metadata": {
    "id": "767sASqYvSnv"
   },
   "outputs": [
    {
     "name": "stdout",
     "output_type": "stream",
     "text": [
      "30\n"
     ]
    }
   ],
   "source": [
    "#테스트\n",
    "print(average([10, 20, 30, 40, 50])) #30"
   ]
  },
  {
   "cell_type": "markdown",
   "metadata": {
    "id": "L0FUMKO8voRt"
   },
   "source": [
    "3. 주어진 숫자가 짝수이면 True, 홀수이면 False를 반환하는 함수를 작성하세요."
   ]
  },
  {
   "cell_type": "code",
   "execution_count": 24,
   "metadata": {
    "id": "esi6bwKfvoBs"
   },
   "outputs": [],
   "source": [
    "#답을 작성하세요.\n",
    "def is_even(n):\n",
    "    if n % 2 == 0:\n",
    "        return True\n",
    "    else:\n",
    "        return False"
   ]
  },
  {
   "cell_type": "code",
   "execution_count": null,
   "metadata": {},
   "outputs": [],
   "source": [
    "# pythonic\n",
    "def is_even(n):\n",
    "    return n % 2 == 0"
   ]
  },
  {
   "cell_type": "code",
   "execution_count": 28,
   "metadata": {
    "id": "AblSJD5uwBbJ"
   },
   "outputs": [
    {
     "name": "stdout",
     "output_type": "stream",
     "text": [
      "True\n",
      "False\n"
     ]
    }
   ],
   "source": [
    "# 테스트\n",
    "print(is_even(14))  # True\n",
    "print(is_even(21))  # False"
   ]
  },
  {
   "cell_type": "markdown",
   "metadata": {
    "id": "ZqVepWtkz1Iz"
   },
   "source": [
    "4. 주어진 리스트의 모든 요소를 문자열로 변환하여 반환하는 람다 함수를 작성하세요."
   ]
  },
  {
   "cell_type": "code",
   "execution_count": 32,
   "metadata": {
    "id": "g2L27h9jz6A_"
   },
   "outputs": [],
   "source": [
    "#답을 작성하세요.\n",
    "change_int_to_str = lambda lst : list(map(str, lst))\n",
    "  "
   ]
  },
  {
   "cell_type": "code",
   "execution_count": 34,
   "metadata": {
    "id": "ZDTYekgTz9Ku"
   },
   "outputs": [
    {
     "name": "stdout",
     "output_type": "stream",
     "text": [
      "['1', '2', '3', '4', '5']\n"
     ]
    }
   ],
   "source": [
    "# 테스트\n",
    "print(change_int_to_str([1, 2, 3, 4, 5]))  # ['1', '2', '3', '4', '5']"
   ]
  },
  {
   "cell_type": "markdown",
   "metadata": {
    "id": "MFXA7Tap04cg"
   },
   "source": [
    "5. 두 문자열을 입력받아 합친 문자열을 반환하는 람다 함수를 작성하세요."
   ]
  },
  {
   "cell_type": "code",
   "execution_count": 36,
   "metadata": {
    "id": "ceS_yflW1Qqq"
   },
   "outputs": [],
   "source": [
    "#답을 작성하세요.\n",
    "combine_strings = lambda x, y : x + y"
   ]
  },
  {
   "cell_type": "code",
   "execution_count": 38,
   "metadata": {
    "id": "kMITrCoF06mT"
   },
   "outputs": [
    {
     "name": "stdout",
     "output_type": "stream",
     "text": [
      "Hello, World!\n"
     ]
    }
   ],
   "source": [
    "# 테스트\n",
    "print(combine_strings(\"Hello, \", \"World!\"))  # \"Hello, World!\""
   ]
  },
  {
   "cell_type": "markdown",
   "metadata": {
    "id": "FnlTdfBk2EHU"
   },
   "source": [
    "6. 주어진 문자열에서 모든 모음(a,e,i,o,u)을 제거한 문자열을 반환하는 함수를 작성하세요."
   ]
  },
  {
   "cell_type": "code",
   "execution_count": 48,
   "metadata": {
    "id": "tjgXB28u19lk"
   },
   "outputs": [],
   "source": [
    "#답을 작성하세요.\n",
    "def remove_vowels(s):\n",
    "    string = ''\n",
    "    for i in s:\n",
    "        if i not in ('a','e','i','o','u'):\n",
    "            string += i\n",
    "    return string"
   ]
  },
  {
   "cell_type": "code",
   "execution_count": null,
   "metadata": {},
   "outputs": [],
   "source": [
    "# pythonic\n",
    "def remove_vowels(s):\n",
    "    return ''.join([i for i in s if i not in ('a', 'e', 'i', 'o', 'u')])"
   ]
  },
  {
   "cell_type": "code",
   "execution_count": 50,
   "metadata": {
    "id": "f3Hl9mG62hN0"
   },
   "outputs": [
    {
     "name": "stdout",
     "output_type": "stream",
     "text": [
      "bcdfghjklmnpqrstvwxyz\n"
     ]
    }
   ],
   "source": [
    "# 테스트\n",
    "print(remove_vowels(\"abcdefghijklmnopqrstuvwxyz\"))  # \"bcdfghjklmnpqrstvwxyz\""
   ]
  },
  {
   "cell_type": "markdown",
   "metadata": {
    "id": "mznE_wth4t11"
   },
   "source": [
    "7. 문자열을 입력 받아, 해당 문자열에서 가장 긴 단어와 길이를 반환하는 함수를 작성하세요.\n"
   ]
  },
  {
   "cell_type": "code",
   "execution_count": null,
   "metadata": {},
   "outputs": [],
   "source": [
    "def count_words_length(s):\n",
    "    words = s.split() \n",
    "    longest_word = ''\n",
    "    \n",
    "    for word in words:\n",
    "        if len(word) > len(longest_word):  \n",
    "            longest_word = word \n",
    "\n",
    "    return longest_word, len(longest_word)"
   ]
  },
  {
   "cell_type": "code",
   "execution_count": null,
   "metadata": {
    "id": "TJjrzqzu5EGp"
   },
   "outputs": [],
   "source": [
    "#답을 작성하세요.\n",
    "# pythonic\n",
    "def count_words_length(s):\n",
    "    words = s.split()  \n",
    "    longest_word = max(words, key=len)  \n",
    "    return longest_word, len(longest_word)"
   ]
  },
  {
   "cell_type": "code",
   "execution_count": null,
   "metadata": {
    "id": "4g7-JncB5HHB"
   },
   "outputs": [],
   "source": [
    "# 테스트\n",
    "print(count_words_length(\"Life is for one generation a good name is forever.\"))  # \"generation\", 10"
   ]
  },
  {
   "cell_type": "markdown",
   "metadata": {
    "id": "ZoGzLeG93sVd"
   },
   "source": [
    "8. 주어진 문자열에서 숫자와 문자를 분리하는 함수를 작성하세요."
   ]
  },
  {
   "cell_type": "code",
   "execution_count": 58,
   "metadata": {
    "id": "wmtg3HI93sDF"
   },
   "outputs": [],
   "source": [
    "#답을 작성하세요.\n",
    "def divide_str_int(s):\n",
    "    str_list = []\n",
    "    int_list = []\n",
    "    for i in s:\n",
    "        if i.isdigit():\n",
    "            int_list.append(int(i))\n",
    "        else:\n",
    "            str_list.append(i)\n",
    "    return str_list, int_list"
   ]
  },
  {
   "cell_type": "code",
   "execution_count": null,
   "metadata": {},
   "outputs": [],
   "source": [
    "# pythonic\n",
    "def divide_str_int(s):\n",
    "    str_list = [i for i in s if not i.isdigit()]  \n",
    "    int_list = [int(i) for i in s if i.isdigit()]  \n",
    "    return str_list, int_list"
   ]
  },
  {
   "cell_type": "code",
   "execution_count": 60,
   "metadata": {
    "id": "oqB4LNRd30Jg"
   },
   "outputs": [
    {
     "name": "stdout",
     "output_type": "stream",
     "text": [
      "(['a', 'b', 'c', 'd'], [1, 2, 3, 4])\n"
     ]
    }
   ],
   "source": [
    "# 테스트\n",
    "print(divide_str_int(\"a1b2c3d4\")) # [\"a\", \"b\", \"c\", \"d\"], [1, 2, 3, 4]"
   ]
  },
  {
   "cell_type": "markdown",
   "metadata": {
    "id": "y7OEHrgG3GeB"
   },
   "source": [
    "9. 주어진 문자열(알파벳)을 입력 받아, 각 알파벳의 종류와 개수를 dict형으로 반환하는 함수를 만드세요."
   ]
  },
  {
   "cell_type": "code",
   "execution_count": 63,
   "metadata": {
    "id": "-gqBttTm3OpN"
   },
   "outputs": [
    {
     "data": {
      "text/plain": [
       "{'h': 1, 'e': 1, 'l': 2, 'o': 1}"
      ]
     },
     "execution_count": 63,
     "metadata": {},
     "output_type": "execute_result"
    }
   ],
   "source": [
    "#답을 작성하세요.\n",
    "def alphabet_count(s):\n",
    "    my_dict = {}\n",
    "    for i in s:\n",
    "        if i not in my_dict:\n",
    "            my_dict[i] = 1\n",
    "        else:\n",
    "            my_dict[i] += 1\n",
    "    return my_dict\n",
    "alphabet_count('hello')"
   ]
  },
  {
   "cell_type": "code",
   "execution_count": null,
   "metadata": {},
   "outputs": [],
   "source": [
    "# pythonic\n",
    "\n",
    "from collections import Counter # 빈도 계산\n",
    "\n",
    "def alphabet_count(s):\n",
    "    return dict(Counter(s))"
   ]
  },
  {
   "cell_type": "code",
   "execution_count": null,
   "metadata": {
    "id": "zUcFL0fR3Vln"
   },
   "outputs": [],
   "source": [
    "# 테스트\n",
    "print(alphabet_count(\"hello\"))  # {\"h\": 1, \"e\": 1, \"l\": 2, \"o\": \"1\"}"
   ]
  }
 ],
 "metadata": {
  "colab": {
   "include_colab_link": true,
   "provenance": []
  },
  "kernelspec": {
   "display_name": "Python 3 (ipykernel)",
   "language": "python",
   "name": "python3"
  },
  "language_info": {
   "codemirror_mode": {
    "name": "ipython",
    "version": 3
   },
   "file_extension": ".py",
   "mimetype": "text/x-python",
   "name": "python",
   "nbconvert_exporter": "python",
   "pygments_lexer": "ipython3",
   "version": "3.12.4"
  }
 },
 "nbformat": 4,
 "nbformat_minor": 4
}
