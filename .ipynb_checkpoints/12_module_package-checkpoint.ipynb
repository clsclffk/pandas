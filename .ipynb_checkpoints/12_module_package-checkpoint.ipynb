{
 "cells": [
  {
   "cell_type": "markdown",
   "metadata": {
    "colab_type": "text",
    "id": "view-in-github"
   },
   "source": [
    "<a href=\"https://colab.research.google.com/github/zzhining/python_basic/blob/master/14_module.ipynb\" target=\"_parent\"><img src=\"https://colab.research.google.com/assets/colab-badge.svg\" alt=\"Open In Colab\"/></a>"
   ]
  },
  {
   "cell_type": "markdown",
   "metadata": {
    "id": "YPvCzdgsy5eX"
   },
   "source": [
    "# 모듈 (Module)\n",
    "- 코드가 저장된 파일(.py)\n",
    "- 다른 코드에서도 이 파일의 변수, 함수, 클래스를 불러와 이용할 수 있음\n",
    "---\n",
    "**모듈을 사용하는 이유**\n",
    "- 모듈로  나누면  코드 작성과  관리가 쉬워진다\n",
    "- 이미 작성된 코드를 재사용할  수  있다\n",
    "- 공동 작업이 편리해진다\n",
    "\n",
    "**모듈 생성 및 호출**\n",
    "- 모듈 이름은 확장자 (.py)를 제외한 파일 이름\n",
    "- 모듈이 저장된 위치 (경로)에서 파이썬 (혹은 IPython) 콘솔 혹은 주피터 노트북을 실행해 코드를  작성하거나 파이썬 코드 파일을 실행\n",
    "\n"
   ]
  },
  {
   "cell_type": "markdown",
   "metadata": {},
   "source": [
    "# 캡슐화(Encapsulation)\n",
    "- 속성과 메소드를 하나의 객체로 묶어 외부에서 직접 접근하지 못하도록 보호하는 것"
   ]
  },
  {
   "cell_type": "markdown",
   "metadata": {},
   "source": [
    "# 패키지(Package)란?\n",
    "\n",
    "- 여러 모듈을 체계적으로 모아서 관리하기 위한 꾸러미\n",
    "- 모듈을 폴더로 묶어서 계층적으로 관리\n",
    "- 표준라이브러리: 파이썬에 설치된 모듈, 패키지, 내장함수들"
   ]
  },
  {
   "cell_type": "markdown",
   "metadata": {},
   "source": [
    "# 패키지의 구조\n",
    "- 폴더 구조. 각 폴더에는  `__init__.py`라는 특별한  파일이 존재\n",
    "```\n",
    "\\---image\n",
    "   |   __init__.py\n",
    "   |\n",
    "   +---effect\n",
    "   |       rotate.py\n",
    "   |       zoomInOut.py\n",
    "   |       __init__.py\n",
    "   |\n",
    "   +---filter\n",
    "   |       blur.py\n",
    "   |       sharpen.py\n",
    "   |       __init__.py\n",
    "   |\n",
    "   \\---io_file\n",
    "           imgread.py\n",
    "           imgwrite.py\n",
    "           __init__.py\n",
    "\n",
    "```\n"
   ]
  },
  {
   "cell_type": "markdown",
   "metadata": {
    "id": "A8UpqFvdz0VW"
   },
   "source": [
    "## 모듈 만들기\n",
    "- 코드를 '모듈이름.py'로 저장\n",
    "- IPython의 내장 마술 명령어인'%%writefile'을 이용\n",
    "- %%writefile filename을 셀의 첫 줄에 입력하면, 셀 아래에 있는 모든 내용이 해당 파일로 저장\n",
    "- 매직 명령어 : %(line magic), %%(cell magic)\n",
    "- %run : 외부 Python 파일을 실행"
   ]
  },
  {
   "cell_type": "code",
   "execution_count": 7,
   "metadata": {
    "colab": {
     "base_uri": "https://localhost:8080/"
    },
    "id": "7NEcerMYwv_r",
    "outputId": "9fb1841f-713f-4a85-8806-3af43d01ca94"
   },
   "outputs": [
    {
     "name": "stdout",
     "output_type": "stream",
     "text": [
      "Writing example.py\n"
     ]
    }
   ],
   "source": [
    "%%writefile example.py\n",
    "\n",
    "def my_function():\n",
    "    print('Hello')"
   ]
  },
  {
   "cell_type": "markdown",
   "metadata": {
    "id": "PgChd6Ar0IkV"
   },
   "source": [
    "## 모듈 불러오기\n",
    "```\n",
    "import 모듈명\n",
    "```\n"
   ]
  },
  {
   "cell_type": "code",
   "execution_count": 9,
   "metadata": {
    "id": "UrZME7aHwv_s"
   },
   "outputs": [
    {
     "name": "stdout",
     "output_type": "stream",
     "text": [
      "Hello\n"
     ]
    }
   ],
   "source": [
    "import example\n",
    "\n",
    "example.my_function()"
   ]
  },
  {
   "cell_type": "code",
   "execution_count": 11,
   "metadata": {
    "colab": {
     "base_uri": "https://localhost:8080/"
    },
    "id": "tVbr25CQwv_t",
    "outputId": "0ede6bcc-666b-4b9e-80dc-0f06dd39f07e"
   },
   "outputs": [
    {
     "name": "stdout",
     "output_type": "stream",
     "text": [
      "Hello\n"
     ]
    }
   ],
   "source": [
    "import example as ex\n",
    "\n",
    "ex.my_function()"
   ]
  },
  {
   "cell_type": "code",
   "execution_count": null,
   "metadata": {},
   "outputs": [],
   "source": [
    "import pandas as pd\n",
    "import numpy as np\n",
    "import matplotlib.pyplot as plt\n",
    "import seaborn as sns"
   ]
  },
  {
   "cell_type": "markdown",
   "metadata": {},
   "source": [
    "# 새로운 모듈 생성"
   ]
  },
  {
   "cell_type": "code",
   "execution_count": 14,
   "metadata": {},
   "outputs": [
    {
     "name": "stdout",
     "output_type": "stream",
     "text": [
      "Writing example2.py\n"
     ]
    }
   ],
   "source": [
    "%%writefile example2.py\n",
    "\n",
    "PI = 3.14\n",
    "\n",
    "def square_func(a):\n",
    "    return a ** 2\n",
    "def circle_func(r):\n",
    "    return PI * r ** 2"
   ]
  },
  {
   "cell_type": "markdown",
   "metadata": {
    "id": "fFg67K3M0gPg"
   },
   "source": [
    "## 모듈의 변수와 함수 호출\n",
    "- 모듈에서 사용 가능한 변수, 함수, 클래스 확인\n",
    "```\n",
    "dir(모듈명)\n",
    "```"
   ]
  },
  {
   "cell_type": "code",
   "execution_count": 18,
   "metadata": {
    "colab": {
     "base_uri": "https://localhost:8080/"
    },
    "id": "cXMCGv-gwv_t",
    "outputId": "27e0eee2-e209-4215-d5e7-bda133be7ae4"
   },
   "outputs": [
    {
     "data": {
      "text/plain": [
       "['PI',\n",
       " '__builtins__',\n",
       " '__cached__',\n",
       " '__doc__',\n",
       " '__file__',\n",
       " '__loader__',\n",
       " '__name__',\n",
       " '__package__',\n",
       " '__spec__',\n",
       " 'circle_func',\n",
       " 'square_func']"
      ]
     },
     "execution_count": 18,
     "metadata": {},
     "output_type": "execute_result"
    }
   ],
   "source": [
    "import example2\n",
    "\n",
    "dir(example2)"
   ]
  },
  {
   "cell_type": "code",
   "execution_count": 20,
   "metadata": {},
   "outputs": [
    {
     "data": {
      "text/plain": [
       "3.14"
      ]
     },
     "execution_count": 20,
     "metadata": {},
     "output_type": "execute_result"
    }
   ],
   "source": [
    "example2.PI"
   ]
  },
  {
   "cell_type": "code",
   "execution_count": 24,
   "metadata": {
    "colab": {
     "base_uri": "https://localhost:8080/"
    },
    "id": "7OO551Gawv_u",
    "outputId": "6a4a38c4-3358-49a8-e075-14ec7b7f4264"
   },
   "outputs": [
    {
     "data": {
      "text/plain": [
       "314.0"
      ]
     },
     "execution_count": 24,
     "metadata": {},
     "output_type": "execute_result"
    }
   ],
   "source": [
    "example2.circle_func(10)"
   ]
  },
  {
   "cell_type": "markdown",
   "metadata": {
    "id": "LedESzb30qQQ"
   },
   "source": [
    "## 모듈을  불러오는 다른 형식"
   ]
  },
  {
   "cell_type": "markdown",
   "metadata": {
    "id": "k_wzpz7J0tOL"
   },
   "source": [
    "### 모듈의 내용 바로 선언\n",
    "```\n",
    "from 모듈명 import 변수명\n",
    "from 모듈명 import 함수명\n",
    "from 모듈명 import 클래스명\n",
    "```\n",
    "\n",
    "### name space\n",
    "- 프로그래밍에서 이름을 관리하는 공간\n",
    "- 변수, 함수, 클래스 등의 이름이 충돌하지 않도록 서로 다른 이름의 범위를 생성"
   ]
  },
  {
   "cell_type": "code",
   "execution_count": 26,
   "metadata": {
    "colab": {
     "base_uri": "https://localhost:8080/"
    },
    "id": "nh1-iCxlwv_u",
    "outputId": "46a15244-49a1-4faa-fefa-dcc3f5907d23"
   },
   "outputs": [
    {
     "data": {
      "text/plain": [
       "3.14"
      ]
     },
     "execution_count": 26,
     "metadata": {},
     "output_type": "execute_result"
    }
   ],
   "source": [
    "from example2 import PI\n",
    "\n",
    "PI"
   ]
  },
  {
   "cell_type": "markdown",
   "metadata": {
    "id": "gImGzzAU1jJ0"
   },
   "source": [
    "### 모두 불러오기\n",
    "모듈의 모든 변수, 함수, 클래스를 바로 모듈명 없이 바로 이용할 경우\n",
    "\n",
    "```\n",
    "from 모듈명 import *\n",
    "```"
   ]
  },
  {
   "cell_type": "code",
   "execution_count": 29,
   "metadata": {
    "colab": {
     "base_uri": "https://localhost:8080/"
    },
    "id": "jlUSMmFa1qgK",
    "outputId": "bc8b09d1-a711-4ca7-a916-80da92d0b8f8"
   },
   "outputs": [
    {
     "data": {
      "text/plain": [
       "78.5"
      ]
     },
     "execution_count": 29,
     "metadata": {},
     "output_type": "execute_result"
    }
   ],
   "source": [
    "from example2 import *\n",
    "\n",
    "example2.circle_func(5)"
   ]
  },
  {
   "cell_type": "markdown",
   "metadata": {
    "id": "vwyBo2hq1unT"
   },
   "source": [
    "### 모듈명을 별명으로 선언\n",
    "```\n",
    "import 모듈명 as 별명\n",
    "\n",
    "```"
   ]
  },
  {
   "cell_type": "markdown",
   "metadata": {
    "id": "GiHhUmxR1xCl"
   },
   "source": [
    "```\n",
    "from 모듈명 import 변수명 as 별명\n",
    "from 모듈명 import 함수명 as 별명\n",
    "from 모듈명 import 클래스명 as 별명\n",
    "```\n"
   ]
  },
  {
   "cell_type": "code",
   "execution_count": 31,
   "metadata": {
    "colab": {
     "base_uri": "https://localhost:8080/"
    },
    "id": "ZD58IX_X12ae",
    "outputId": "8e941905-5758-4e8a-c03e-6eb642c3b2ea"
   },
   "outputs": [
    {
     "data": {
      "text/plain": [
       "3.14"
      ]
     },
     "execution_count": 31,
     "metadata": {},
     "output_type": "execute_result"
    }
   ],
   "source": [
    "import example2 as ex2\n",
    "\n",
    "ex2.PI"
   ]
  },
  {
   "cell_type": "markdown",
   "metadata": {
    "id": "-2t8LBOf2EYD"
   },
   "source": [
    "### 모듈을 직접 실행"
   ]
  },
  {
   "cell_type": "code",
   "execution_count": 33,
   "metadata": {
    "colab": {
     "base_uri": "https://localhost:8080/"
    },
    "id": "kOQ2ejBy2HpR",
    "outputId": "e004d984-ee05-437a-8058-da0332711365"
   },
   "outputs": [
    {
     "name": "stdout",
     "output_type": "stream",
     "text": [
      "Writing example3.py\n"
     ]
    }
   ],
   "source": [
    "%%writefile example3.py\n",
    "\n",
    "def func(a):\n",
    "    print(a, a)\n",
    "func(10)"
   ]
  },
  {
   "cell_type": "code",
   "execution_count": 35,
   "metadata": {
    "colab": {
     "base_uri": "https://localhost:8080/"
    },
    "id": "I2ZAHPIh2LpP",
    "outputId": "976445be-00d1-4916-c31e-bd34941831c9"
   },
   "outputs": [
    {
     "name": "stdout",
     "output_type": "stream",
     "text": [
      "10 10\n"
     ]
    }
   ],
   "source": [
    "%run example3.py"
   ]
  },
  {
   "cell_type": "code",
   "execution_count": 38,
   "metadata": {},
   "outputs": [
    {
     "name": "stdout",
     "output_type": "stream",
     "text": [
      "10 10\n"
     ]
    }
   ],
   "source": [
    "import example3"
   ]
  },
  {
   "cell_type": "markdown",
   "metadata": {},
   "source": [
    "# %run vs import 구분\n",
    "\n",
    "- 모듈이 직접 실행될 때, __name__의 값은 \"__main__\"\n",
    "- 모듈이 다른 모듈에 의해 임포트될 때, __name__의 값은 모듈의 이름(파일 이름)\n",
    "  \n",
    "```python\n",
    "if __name__ == \"__main__\":\n",
    "    <직접 수행할 때만 실행되는 코드>\n",
    "else:\n",
    "    <임포트됐을 때만 실행되는 코드>\n",
    "```"
   ]
  },
  {
   "cell_type": "code",
   "execution_count": 40,
   "metadata": {},
   "outputs": [
    {
     "name": "stdout",
     "output_type": "stream",
     "text": [
      "Writing example4.py\n"
     ]
    }
   ],
   "source": [
    "%%writefile example4.py\n",
    "\n",
    "def func(a):\n",
    "    print('func', a)\n",
    "if __name__ == \"__main__\":\n",
    "    func(10)\n",
    "else:\n",
    "    print('Hello')"
   ]
  },
  {
   "cell_type": "code",
   "execution_count": 46,
   "metadata": {},
   "outputs": [
    {
     "name": "stdout",
     "output_type": "stream",
     "text": [
      "func 10\n"
     ]
    }
   ],
   "source": [
    "%run example4.py"
   ]
  },
  {
   "cell_type": "code",
   "execution_count": 44,
   "metadata": {},
   "outputs": [
    {
     "name": "stdout",
     "output_type": "stream",
     "text": [
      "Hello\n"
     ]
    }
   ],
   "source": [
    "import example4"
   ]
  },
  {
   "cell_type": "markdown",
   "metadata": {
    "id": "5ntjVijr3BrT"
   },
   "source": [
    "# 내장 모듈\n",
    "- 파이썬에는 개발 환경을 설치할 때 내장 모듈과 다양한 공개 모듈이 함께 설치됨\n",
    "- 자신이 원하는 코드를 쉽고 간편하게  작성할 수  있음"
   ]
  },
  {
   "cell_type": "markdown",
   "metadata": {
    "id": "3MaArLoS4Ss4"
   },
   "source": [
    "## 난수 발생 모듈\n",
    "- 난수(random number): 임의의 숫자\n",
    "- random 모듈을 이용해  난수를  생성\n",
    "\n",
    "**random 모듈 사용법**\n",
    "```\n",
    "import random\n",
    "random.random모듈함수()\n",
    "```"
   ]
  },
  {
   "cell_type": "markdown",
   "metadata": {
    "id": "QL1UhyHf8uuG"
   },
   "source": [
    "|     함수                                  |     설명                                                                          |     사용   예                        |\n",
    "|-------------------------------------------|-----------------------------------------------------------------------------------|--------------------------------------|\n",
    "|     random()                              |     0.0 &lt;= 실수 &lt; 1.0 범위의   임의의 실수를 반환                           |     random.random()                  |\n",
    "|     randint(a,b)                          |     a &lt;= 정수 &lt;= b의   범위의 임의의 정수 반환                              |     random.randint(1,6)              |\n",
    "|     randrange([start,]   stop [,step])    |     range([start,] stop [,step])에서   임의의 정수를 반환                         |     random.randrange(0, 10, 2)       |\n",
    "|     choice(seq)                           |     공백이   아닌 시퀀스(seq)에서 임의의 항목을 반환                              |     random.choice([1,2,3])           |\n",
    "|      sample(population, k)                |     시퀀스로   이뤄진 모집단(population)에서   중복되지 않는 k개의 인자를 반환    |     random.sample([1,2,3,4,5], 2)    |"
   ]
  },
  {
   "cell_type": "code",
   "execution_count": null,
   "metadata": {
    "colab": {
     "base_uri": "https://localhost:8080/"
    },
    "id": "fsHurd3F3BSK",
    "outputId": "baa7050f-35f6-40d3-bc05-0f87e740bbef"
   },
   "outputs": [],
   "source": []
  },
  {
   "cell_type": "code",
   "execution_count": null,
   "metadata": {
    "colab": {
     "base_uri": "https://localhost:8080/"
    },
    "id": "azvNUaGD4_sn",
    "outputId": "b08531e9-70dd-4ad2-8085-000954b5faba"
   },
   "outputs": [],
   "source": [
    "import random\n",
    "\n"
   ]
  },
  {
   "cell_type": "code",
   "execution_count": null,
   "metadata": {
    "colab": {
     "base_uri": "https://localhost:8080/"
    },
    "id": "EAUyLqUn5Cod",
    "outputId": "893f4bff-1499-49be-f37e-43c4a0c80a0d"
   },
   "outputs": [],
   "source": []
  },
  {
   "cell_type": "code",
   "execution_count": null,
   "metadata": {
    "colab": {
     "base_uri": "https://localhost:8080/"
    },
    "id": "9KslpN3I5F_W",
    "outputId": "78406831-9433-483c-db92-d8396f2d6075"
   },
   "outputs": [],
   "source": []
  },
  {
   "cell_type": "code",
   "execution_count": null,
   "metadata": {
    "colab": {
     "base_uri": "https://localhost:8080/",
     "height": 35
    },
    "id": "l0onD--F5IgT",
    "outputId": "ef32e4dd-ba0f-49a7-a72b-f0abf3eca50b"
   },
   "outputs": [],
   "source": []
  },
  {
   "cell_type": "code",
   "execution_count": null,
   "metadata": {
    "colab": {
     "base_uri": "https://localhost:8080/"
    },
    "id": "Tq2o0j8x5LRL",
    "outputId": "a8e8b430-c702-49df-db82-70b2ecfc0d60"
   },
   "outputs": [],
   "source": []
  },
  {
   "cell_type": "markdown",
   "metadata": {
    "id": "3MfV9m-H5Ocv"
   },
   "source": [
    "## 날짜 및 시간 관련 처리 모듈\n",
    "- datetime 모듈\n",
    "    - date 클래스: 날짜를 표현\n",
    "    - time 클래스: 시간을 표현\n",
    "    - datetime 클래스: 날짜와 시간을  표현\n",
    "- datetime 모듈의 각 클래스의 객체를 생성해 이용"
   ]
  },
  {
   "cell_type": "markdown",
   "metadata": {
    "id": "xIBDJg_p5XvQ"
   },
   "source": [
    "```\n",
    "import datatime\n",
    "\n",
    "date_obj = datetime.date(year, month, day)\n",
    "time_obj = datetime.time(hour, minute, second)\n",
    "datetime_obj = datetime.datatime(year, month, day, hour, minute, second)\n",
    "```"
   ]
  },
  {
   "cell_type": "markdown",
   "metadata": {
    "id": "Sb7hpgKp84FK"
   },
   "source": [
    "|     함수                        |     설명                                                                                                                   |     사용   예                            |\n",
    "|---------------------------------|----------------------------------------------------------------------------------------------------------------------------|------------------------------------------|\n",
    "|     calendar(year [,m=3])       |     지정된   연도(year)의   전체 달력을 문자열로 반환(기본   형식은 3개의 열)                                              |     calendar.calendar(2017)              |\n",
    "|     month(year, month)          |     지정된   연도(year)와 월(month)의   달력을 문자열로 반환                                                               |     calendar.month(2019,1)               |\n",
    "|     monthrange(year, month)     |     지정된   연도(year)와 월(month)의   시작 요일과 일수 반환. 요일의   경우 0(월요일)   ~ 6(일요일) 사이의 숫자로 반환    |     calendar.monthrange(2020,1)          |\n",
    "|     firstweekday()              |     달력에   표시되는 주의 첫 번째 요일값을   반환. 기본값으로는 월요일(0)로 지정됨                                        |     calendar.firstweekday()              |\n",
    "|     setfirstweekday(weekday)    |     달력에   표시되는 주의 첫 번째 요일을 지정                                                                             |     calendar.setfirstweekday(6)          |\n",
    "|     weekday(year,month,day)     |     지정된   날짜[연도(year),   월(month), 일(day)]의   요일을 반환                                                        |     calendar. weekday(year,month,day)    |\n",
    "|     isleap(year)                |     지정된   연도(year)가   윤년인지를 판단해 윤년이면 True를, 아니면 False를   반환                                       |     calendar.isleap(2020)                |"
   ]
  },
  {
   "cell_type": "markdown",
   "metadata": {
    "id": "qN8fJts-9Bdv"
   },
   "source": [
    "⭐요일 지정 상수⭐\n",
    "\n",
    "|     요일    |     요일  지정 상수       |     숫자로 표시    |\n",
    "|:-----------:|---------------------------|--------------------|\n",
    "|      월     |     calendar.MONDAY       |     0              |\n",
    "|      화     |     calendar.TUESDAY      |     1              |\n",
    "|      수     |     calendar.WEDNESDAY    |     2              |\n",
    "|      목     |     calendar.THURSDAY     |     3              |\n",
    "|      금     |     calendar.FRIDAY       |     4              |\n",
    "|      토     |     calendar.SATURDAY     |     5              |\n",
    "|      일     |     calendar.SUNDAY       |     6              |"
   ]
  },
  {
   "cell_type": "markdown",
   "metadata": {
    "id": "BPW5mDu85Xsg"
   },
   "source": [
    "datetime 모듈 예제"
   ]
  },
  {
   "cell_type": "code",
   "execution_count": null,
   "metadata": {
    "id": "OUFqLaOiwv_z"
   },
   "outputs": [],
   "source": [
    "import datetime"
   ]
  },
  {
   "cell_type": "code",
   "execution_count": null,
   "metadata": {
    "colab": {
     "base_uri": "https://localhost:8080/"
    },
    "id": "AjHDs53pwv_0",
    "outputId": "701fd507-07d0-4976-afcc-6cf554d33791"
   },
   "outputs": [],
   "source": []
  },
  {
   "cell_type": "code",
   "execution_count": null,
   "metadata": {
    "colab": {
     "base_uri": "https://localhost:8080/"
    },
    "id": "AhIVxuDVwv_1",
    "outputId": "cf2dccf1-f5cc-4919-8c5a-f9d138038b58"
   },
   "outputs": [],
   "source": []
  },
  {
   "cell_type": "code",
   "execution_count": null,
   "metadata": {
    "colab": {
     "base_uri": "https://localhost:8080/"
    },
    "id": "y4k-dpbkwv_1",
    "outputId": "c838fd17-f986-457c-9798-2186b8f11237"
   },
   "outputs": [],
   "source": [
    " "
   ]
  },
  {
   "cell_type": "code",
   "execution_count": null,
   "metadata": {
    "colab": {
     "base_uri": "https://localhost:8080/"
    },
    "id": "TS7NWk8xwv_1",
    "outputId": "ed9e60aa-3be4-49c8-d9a3-740d2869c0be"
   },
   "outputs": [],
   "source": []
  },
  {
   "cell_type": "code",
   "execution_count": null,
   "metadata": {
    "colab": {
     "base_uri": "https://localhost:8080/"
    },
    "id": "c9FGApDSwv_2",
    "outputId": "17cbbd6f-5ba0-475f-d17c-0497070cb9f5"
   },
   "outputs": [],
   "source": []
  },
  {
   "cell_type": "code",
   "execution_count": null,
   "metadata": {
    "colab": {
     "base_uri": "https://localhost:8080/"
    },
    "id": "-iiYdTp25qN6",
    "outputId": "a2f8b605-a058-48d7-f566-a538795af3e1"
   },
   "outputs": [],
   "source": []
  },
  {
   "cell_type": "code",
   "execution_count": null,
   "metadata": {
    "colab": {
     "base_uri": "https://localhost:8080/"
    },
    "id": "DtGiUUDtwv_2",
    "outputId": "6fd9e267-a6de-4bd4-e692-3f5f66659406"
   },
   "outputs": [],
   "source": []
  },
  {
   "cell_type": "code",
   "execution_count": null,
   "metadata": {
    "colab": {
     "base_uri": "https://localhost:8080/"
    },
    "id": "5AemE4Se5xit",
    "outputId": "cfc7977a-4d7d-4e71-9d22-b23670eeef00"
   },
   "outputs": [],
   "source": []
  },
  {
   "cell_type": "code",
   "execution_count": null,
   "metadata": {
    "colab": {
     "base_uri": "https://localhost:8080/"
    },
    "id": "ndT_zSUewv_2",
    "outputId": "29920349-a7ca-42f4-bd44-21243b8a88e5"
   },
   "outputs": [],
   "source": []
  },
  {
   "cell_type": "code",
   "execution_count": null,
   "metadata": {
    "colab": {
     "base_uri": "https://localhost:8080/"
    },
    "id": "fjn9-nknwv_2",
    "outputId": "e508cd40-a260-4a7f-f0ba-31611b561840"
   },
   "outputs": [],
   "source": []
  },
  {
   "cell_type": "code",
   "execution_count": null,
   "metadata": {
    "colab": {
     "base_uri": "https://localhost:8080/"
    },
    "id": "Bj_cBBuD551V",
    "outputId": "fcf69fbe-53f7-40e2-cd4d-da4217aa9eee"
   },
   "outputs": [],
   "source": []
  },
  {
   "cell_type": "markdown",
   "metadata": {
    "id": "1Z4g2mqC6R83"
   },
   "source": [
    "## 달력 생성 및 처리 모듈\n",
    "calendar 모듈\n"
   ]
  },
  {
   "cell_type": "markdown",
   "metadata": {
    "id": "MZkwS9LW6aLr"
   },
   "source": [
    "calendar 모듈의 예"
   ]
  },
  {
   "cell_type": "code",
   "execution_count": null,
   "metadata": {
    "colab": {
     "base_uri": "https://localhost:8080/"
    },
    "id": "2OteCkxj6pRj",
    "outputId": "3623273b-70e6-4fb2-cfd0-de1f1b923f46"
   },
   "outputs": [],
   "source": []
  },
  {
   "cell_type": "code",
   "execution_count": null,
   "metadata": {
    "colab": {
     "base_uri": "https://localhost:8080/"
    },
    "id": "bvUlm8HC6qwt",
    "outputId": "ab195109-6972-46c6-95b8-c6a138a48dfc"
   },
   "outputs": [],
   "source": []
  },
  {
   "cell_type": "code",
   "execution_count": null,
   "metadata": {
    "colab": {
     "base_uri": "https://localhost:8080/"
    },
    "id": "CWnltEfR6sJL",
    "outputId": "72e3dd8e-141b-4ed0-c1aa-4bef5cad26d2"
   },
   "outputs": [],
   "source": []
  },
  {
   "cell_type": "markdown",
   "metadata": {
    "id": "jfVwGr7T6SQ6"
   },
   "source": [
    "## os 모듈\n",
    "\n",
    "파일 및 디렉토리의 이름 변경, 삭제 등 파일 오퍼레이션 수행"
   ]
  },
  {
   "cell_type": "code",
   "execution_count": null,
   "metadata": {
    "colab": {
     "base_uri": "https://localhost:8080/",
     "height": 35
    },
    "id": "86M9kQFo6WkQ",
    "outputId": "157d1893-13c1-44a8-c2e7-79ea9dc89edb"
   },
   "outputs": [],
   "source": []
  },
  {
   "cell_type": "code",
   "execution_count": null,
   "metadata": {
    "id": "I_lEz0OK6ajL"
   },
   "outputs": [],
   "source": []
  },
  {
   "cell_type": "code",
   "execution_count": null,
   "metadata": {
    "colab": {
     "base_uri": "https://localhost:8080/",
     "height": 35
    },
    "id": "CZHfkxix6jOh",
    "outputId": "74916479-4f96-495c-f4a2-e8561d23a9f7"
   },
   "outputs": [],
   "source": []
  },
  {
   "cell_type": "markdown",
   "metadata": {
    "id": "5DV6WCDf7PeW"
   },
   "source": [
    "## pickle\n",
    "구조화된 데이터를 저장"
   ]
  },
  {
   "cell_type": "code",
   "execution_count": null,
   "metadata": {
    "id": "q2x9hYmo8G-3"
   },
   "outputs": [],
   "source": []
  },
  {
   "cell_type": "code",
   "execution_count": null,
   "metadata": {},
   "outputs": [],
   "source": []
  },
  {
   "cell_type": "code",
   "execution_count": null,
   "metadata": {},
   "outputs": [],
   "source": []
  },
  {
   "cell_type": "code",
   "execution_count": null,
   "metadata": {},
   "outputs": [],
   "source": []
  },
  {
   "cell_type": "code",
   "execution_count": null,
   "metadata": {},
   "outputs": [],
   "source": []
  },
  {
   "cell_type": "code",
   "execution_count": null,
   "metadata": {},
   "outputs": [],
   "source": []
  },
  {
   "cell_type": "code",
   "execution_count": null,
   "metadata": {},
   "outputs": [],
   "source": []
  },
  {
   "cell_type": "code",
   "execution_count": null,
   "metadata": {},
   "outputs": [],
   "source": []
  }
 ],
 "metadata": {
  "colab": {
   "include_colab_link": true,
   "provenance": [],
   "toc_visible": true
  },
  "kernelspec": {
   "display_name": "Python 3 (ipykernel)",
   "language": "python",
   "name": "python3"
  },
  "language_info": {
   "codemirror_mode": {
    "name": "ipython",
    "version": 3
   },
   "file_extension": ".py",
   "mimetype": "text/x-python",
   "name": "python",
   "nbconvert_exporter": "python",
   "pygments_lexer": "ipython3",
   "version": "3.12.4"
  },
  "toc": {
   "base_numbering": 1,
   "nav_menu": {},
   "number_sections": false,
   "sideBar": true,
   "skip_h1_title": false,
   "title_cell": "Table of Contents",
   "title_sidebar": "Contents",
   "toc_cell": false,
   "toc_position": {},
   "toc_section_display": true,
   "toc_window_display": false
  }
 },
 "nbformat": 4,
 "nbformat_minor": 4
}
