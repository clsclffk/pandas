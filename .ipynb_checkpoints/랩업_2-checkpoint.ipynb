{
 "cells": [
  {
   "cell_type": "markdown",
   "metadata": {
    "colab_type": "text",
    "id": "view-in-github"
   },
   "source": [
    "<a href=\"https://colab.research.google.com/github/zzhining/python_basic/blob/master/exercise/python_exercise_3.ipynb\" target=\"_parent\"><img src=\"https://colab.research.google.com/assets/colab-badge.svg\" alt=\"Open In Colab\"/></a>"
   ]
  },
  {
   "cell_type": "markdown",
   "metadata": {
    "id": "SWm0FSfY99-X"
   },
   "source": [
    "#  1. 다음 리스트 L의 순서를 아래와 같이 변경하시오.\n",
    "\n",
    "before\n",
    "```\n",
    "[1, 3, 5, 7, 9]\n",
    "```\n",
    "after\n",
    "```\n",
    "[3, 5, 7, 9, 1]\n",
    "```"
   ]
  },
  {
   "cell_type": "code",
   "execution_count": 6,
   "metadata": {
    "id": "1ce9XyRf-Ycp"
   },
   "outputs": [
    {
     "data": {
      "text/plain": [
       "([3, 5, 7, 9, 1], [1, 3, 5, 7, 9])"
      ]
     },
     "execution_count": 6,
     "metadata": {},
     "output_type": "execute_result"
    }
   ],
   "source": [
    "L = [1, 3, 5, 7, 9]\n",
    "\n",
    "# 코드를 작성하세요\n",
    "\n",
    "L1 = L[1:] + L[:1]\n",
    "L1, L"
   ]
  },
  {
   "cell_type": "code",
   "execution_count": 7,
   "metadata": {},
   "outputs": [
    {
     "data": {
      "text/plain": [
       "[3, 5, 7, 9, 1]"
      ]
     },
     "execution_count": 7,
     "metadata": {},
     "output_type": "execute_result"
    }
   ],
   "source": [
    "L.append(L[0])\n",
    "L.pop(0)\n",
    "L"
   ]
  },
  {
   "cell_type": "code",
   "execution_count": 11,
   "metadata": {},
   "outputs": [
    {
     "data": {
      "text/plain": [
       "(3, 5, 7, 9, 1)"
      ]
     },
     "execution_count": 11,
     "metadata": {},
     "output_type": "execute_result"
    }
   ],
   "source": [
    "#패킹, 언패킹\n",
    "L = [1, 3, 5, 7, 9]\n",
    "first, *l = L\n",
    "*l, first"
   ]
  },
  {
   "cell_type": "code",
   "execution_count": 12,
   "metadata": {},
   "outputs": [],
   "source": [
    "L.append(first)\n"
   ]
  },
  {
   "cell_type": "code",
   "execution_count": 10,
   "metadata": {},
   "outputs": [
    {
     "data": {
      "text/plain": [
       "[3, 5, 7, 9, 1, 3]"
      ]
     },
     "execution_count": 10,
     "metadata": {},
     "output_type": "execute_result"
    }
   ],
   "source": [
    "L"
   ]
  },
  {
   "cell_type": "markdown",
   "metadata": {
    "id": "I4tmeLZz_Jws"
   },
   "source": [
    "---\n",
    "# 2. \n",
    "\n",
    "동전 던지기 시도 횟수를 입력 받고 각 시도에서 앞면이 나올 확률을 출력하는 프로그램을 작성하시오.\n",
    "- 1~10번째 시도까지: 매 시도마다 앞면이 나올 확률을 출력\n",
    "- 10번째 이후부터: 10의 배수(10, 20, 30,...)마다 앞면이 나올 확률을 출력\n",
    "<br>\n",
    "\n",
    "**출력 예시**\n",
    "\n",
    "\n",
    "```\n",
    "동전 던지기 시도 횟수를 입력(1 ~ 100) : 25\n",
    "  1 번째까지 던지기에서 앞면이 나올 확률 : 0%\n",
    "  2 번째까지 던지기에서 앞면이 나올 확률 : 0%\n",
    "  3 번째까지 던지기에서 앞면이 나올 확률 : 0%\n",
    "  4 번째까지 던지기에서 앞면이 나올 확률 : 25%\n",
    "  5 번째까지 던지기에서 앞면이 나올 확률 : 40%\n",
    "  6 번째까지 던지기에서 앞면이 나올 확률 : 50%\n",
    "  7 번째까지 던지기에서 앞면이 나올 확률 : 43%\n",
    "  8 번째까지 던지기에서 앞면이 나올 확률 : 50%\n",
    "  9 번째까지 던지기에서 앞면이 나올 확률 : 56%\n",
    " 10 번째까지 던지기에서 앞면이 나올 확률 : 60%\n",
    " 20 번째까지 던지기에서 앞면이 나올 확률 : 55%\n",
    "\n",
    "**********************************************\n",
    "총 25번 동전 던지기에서 앞면이 나올 확률: 52%\n",
    "```\n",
    "\n",
    "\n",
    "<br>"
   ]
  },
  {
   "cell_type": "code",
   "execution_count": 17,
   "metadata": {
    "id": "daeYs0Ap_gpu"
   },
   "outputs": [
    {
     "name": "stdin",
     "output_type": "stream",
     "text": [
      "동전 던지기 시도 횟수를 입력(1 ~ 100) : 3\n"
     ]
    },
    {
     "name": "stdout",
     "output_type": "stream",
     "text": [
      "1번 확률 : 0\n",
      "2번 확률 : 50\n",
      "3번 확률 : 67\n",
      "2\n",
      "\n",
      "**********************************************\n",
      "총 3번 동전 던지기에서 앞면이 나올 확률: 67%\n"
     ]
    }
   ],
   "source": [
    "import random\n",
    "\n",
    "# 코드를 작성하세요\n",
    "\n",
    "def calc_percent(limit) :\n",
    "    cnt = [0, 0]\n",
    "    for i in range (limit) :\n",
    "        cnt[0] += random.randint(0,1)\n",
    "        c_percent = cnt[0] / ( i+1) * 100\n",
    "        \n",
    "        if i<10 or i%10 == 9 :\n",
    "            print(f'{i+1}번 확률 : {c_percent:.0f}')\n",
    "\n",
    "    print(cnt[0])\n",
    "    return cnt[0] #확률\n",
    "\n",
    "\n",
    "#main처리\n",
    "num = int(input('동전 던지기 시도 횟수를 입력(1 ~ 100) :'))\n",
    "count = calc_percent(num)\n",
    "\n",
    "print('\\n**********************************************')\n",
    "print('총 {}번 동전 던지기에서 앞면이 나올 확률: {:.0f}%'.format(num, count/num*100))"
   ]
  },
  {
   "cell_type": "markdown",
   "metadata": {
    "id": "sUtJg6dXAizW"
   },
   "source": [
    "---\n",
    "#  3. \n",
    "\n",
    "수식을 입력받아 연산 결과를 출력하는 코드를 작성하시오.<br>\n",
    "(+, -, *, / 연산자만 허용하고, 그 외의 연산자가 입력되었을 경우, 연산자는 허용하지 않는다는 메시지를 출력)\n",
    "\n",
    "**출력 예시**\n",
    "```\n",
    "수식 입력(예: 20 * 40) :20 + 4\n",
    "20.000000 +  4.000000 = 24.000000\n",
    "```\n",
    "\n",
    "```\n",
    "수식 입력(예: 20 * 40) :0.3 * 0\n",
    " 0.300000 *  0.000000 =  0.000000\n",
    "```\n",
    "\n",
    "```\n",
    "수식 입력(예: 20 * 40) :30 / 0\n",
    "0.000000000 로 나누기를 수행할 수 없습니다.\n",
    "```\n",
    "\n",
    "```\n",
    "수식 입력(예: 20 * 40) :30 ? 7\n",
    "? 지원하지 않는 연산자입니다.\n",
    "```"
   ]
  },
  {
   "cell_type": "code",
   "execution_count": 18,
   "metadata": {
    "id": "Fw9eb35Ay88H"
   },
   "outputs": [
    {
     "name": "stdin",
     "output_type": "stream",
     "text": [
      "수식 입력(예: 20 * 40) : 20 + 4\n",
      "수식 입력(예: 20 * 40):  30 * 40\n"
     ]
    },
    {
     "name": "stdout",
     "output_type": "stream",
     "text": [
      "30.000000 * 40.000000 = 1200.000000\n"
     ]
    }
   ],
   "source": [
    "n = input(\"수식 입력(예: 20 * 40) :\")\n",
    "\n",
    "\n",
    "# 코드를 작성하세요\n",
    "def calculate(n1, operator, n2):\n",
    "    operations = {\n",
    "        '+': lambda x, y: x + y,\n",
    "        '-': lambda x, y: x - y,\n",
    "        '*': lambda x, y: x * y,\n",
    "        '/': lambda x, y: x / y if y != 0 else \"0으로 나눌 수 없습니다.\"\n",
    "    }\n",
    "    \n",
    "    if operator not in operations:\n",
    "        return f\"{operator}는 지원하지 않는 연산자입니다.\"\n",
    "    \n",
    "    result = operations[operator](n1, n2)\n",
    "    \n",
    "    if isinstance(result, str):\n",
    "        return result\n",
    "    \n",
    "    return f\"{n1:9.6f} {operator} {n2:9.6f} = {result:9.6f}\"2\n",
    "\n",
    "try:\n",
    "    expression = input(\"수식 입력(예: 20 * 40): \")\n",
    "    n1, operator, n2 = expression.split()\n",
    "    n1, n2 = float(n1), float(n2)\n",
    "    \n",
    "    print(calculate(n1, operator, n2))\n",
    "except ValueError:\n",
    "    print(\"올바른 형식으로 입력해주세요.\")"
   ]
  },
  {
   "cell_type": "markdown",
   "metadata": {
    "id": "kJxNzezfAmV-"
   },
   "source": [
    "---\n",
    "# 4. \n",
    "\n",
    "구하려는 소수의 개수를 입력받아, 입력받은 수만큼의 소수를 구하여 출력하시오."
   ]
  },
  {
   "cell_type": "markdown",
   "metadata": {
    "id": "OCpkC5n7CJUq"
   },
   "source": [
    "**출력 예시**\n",
    "\n",
    "```\n",
    "구하려는 소수의 개수를 입력:11\n",
    "2\n",
    "3\n",
    "5\n",
    "7\n",
    "11\n",
    "13\n",
    "17\n",
    "19\n",
    "23\n",
    "29\n",
    "31\n",
    "11 개의 소수를 찾았습니다\n",
    "```\n",
    "\n"
   ]
  },
  {
   "cell_type": "code",
   "execution_count": 8,
   "metadata": {
    "id": "PL7O0E1KzT2J"
   },
   "outputs": [
    {
     "name": "stdin",
     "output_type": "stream",
     "text": [
      "구하려는 소수의 개수를 입력: 10\n"
     ]
    },
    {
     "name": "stdout",
     "output_type": "stream",
     "text": [
      "2\n",
      "3\n",
      "5\n",
      "7\n",
      "11\n",
      "13\n",
      "17\n",
      "19\n",
      "23\n",
      "29\n",
      "10개의 소수를 찾았습니다.\n"
     ]
    }
   ],
   "source": [
    "num = input('구하려는 소수의 개수를 입력:')\n",
    "\n",
    "# 코드를 작성하세요\n",
    "import math\n",
    "\n",
    "def is_prime(n): #3\n",
    "    if n < 2:\n",
    "        return False\n",
    "        \n",
    "    for i in range(2, int(math.sqrt(n)) + 1): #2,3\n",
    "        if n % i == 0:\n",
    "            return False\n",
    "    print(n)\n",
    "    return True #소수\n",
    "\n",
    "\n",
    "prime_number_list = [] #찾은 소수의 목록\n",
    "in_num = int(num)  #요구하는 소수의 갯수\n",
    "num_cnt = 0 # 0부터 1씩 증가하면서 소수인지 판별하는 수\n",
    "\n",
    "while in_num > len(prime_number_list) :\n",
    "    if is_prime(num_cnt) :  #0,1,2,3,....\n",
    "        prime_number_list.append(num_cnt)\n",
    "    num_cnt += 1\n",
    "\n",
    "print(f'{in_num}개의 소수를 찾았습니다.')"
   ]
  },
  {
   "cell_type": "markdown",
   "metadata": {
    "id": "95cIxyAvApjo"
   },
   "source": [
    "---\n",
    "# 5. \n",
    "\n",
    "다양한 개수의 정수를 입력받아, 각 수가 양수인지 음수인지 구분하여 각각의 개수를 출력하는 코드를 작성하시오.\n",
    "\n",
    "- 입력으로부터 정수리스트로 변환하는 것은 한 줄 코드로 작성\n",
    "- 입력 받은 값 중 0은 무시\n",
    "\n",
    "**출력예시**\n",
    "```\n",
    "정수들을 입력:\n",
    "\n",
    "입력한 숫자가 없습니다\n",
    "양수: 0개, 음수: 0개, 합계: 0\n",
    "```\n",
    "\n",
    "\n",
    "```\n",
    "정수들을 입력:\n",
    "12 -56 25 98 -54 0 77 0\n",
    "양수: 4개, 음수: 2개, 합계: 102\n",
    "```"
   ]
  },
  {
   "cell_type": "code",
   "execution_count": 19,
   "metadata": {
    "id": "Ykie_KaDzZvw"
   },
   "outputs": [
    {
     "name": "stdin",
     "output_type": "stream",
     "text": [
      "정수들을 입력:\n",
      " 10 -10 -20 -30\n"
     ]
    },
    {
     "name": "stdout",
     "output_type": "stream",
     "text": [
      "양수: 1개, 음수: 3개, 합계: -50\n"
     ]
    }
   ],
   "source": [
    "pluse_list = []\n",
    "minus_list = []\n",
    "numbers = input('정수들을 입력:\\n')\n",
    "\n",
    "# 코드를 작성하세요\n",
    "\n",
    "#numbers_new = numbers.split()\n",
    "#numbers_int=[]\n",
    "\n",
    "#for i in range(  len(numbers_new)  ):\n",
    "#    numbers_int.append(int(numbers_new[i]))\n",
    "\n",
    "if not numbers.split() :\n",
    "    print('입력한 숫자가 없습니다')\n",
    "    print('양수: 0개, 음수: 0개, 합계: 0')\n",
    "\n",
    "else :\n",
    "    new_numbers = list(map(int, numbers.split()))\n",
    "    \n",
    "    pluse_list = [x for x in new_numbers if x > 0 ] \n",
    "    minus_list = [x for x in new_numbers if x < 0 ]\n",
    "\n",
    "    total_numbers = sum(pluse_list) + sum(minus_list)\n",
    "    \n",
    "    print( f'양수: {len(pluse_list)}개, 음수: {len(minus_list)}개, 합계: {total_numbers}' )\n",
    "\n",
    "    #numbers, numbers_new, numbers_int, pluse_list, minus_list"
   ]
  },
  {
   "cell_type": "markdown",
   "metadata": {
    "id": "FphAS4JnAsPM"
   },
   "source": [
    "---\n",
    "#  6.\n",
    "\n",
    "과일 가게에는 배, 자몽, 메론, 감을 판매하고 있으며 각 과일의 재고량과 단가를 사전에 저장하여 관리한다.\n",
    "```\n",
    "fruit = {'배' : [2, 1000], '자몽' : [1, 2000], '메론' : [1, 8000], '감' : [6, 800]}\n",
    "```\n",
    "\n",
    "다음과 같이 결과를 출력하는 코드를 작성하시오.\n",
    "- 과일 이름을 입력받아 판매하는 과일인 경우, 재고에서 하나 뺀다.\n",
    "- 과일 당 재고가 5개는 되도록 사전에서 재고정보와 단가를 읽어들여 5개 미만인 경우는 구입하도록 함  \n",
    "  \n",
    "- (추가, 선택가능) 계속 반복해서 주문을 할 수 있습니다.  수량을 받아서 판매할 수 있습니다.\n",
    "\n",
    "**출력 예시**\n",
    "\n",
    "```\n",
    "먹고 싶은 과일은? :사과\n",
    "사과 준비되어 있지 않습니다\n",
    "각 과일 당 최소 5개는 되도록 구입합니다\n",
    "구입에 필요한 총 금액은 : 43000 원 입니다\n",
    "```"
   ]
  },
  {
   "cell_type": "markdown",
   "metadata": {
    "id": "P4KoeI5-cC-F"
   },
   "source": [
    "```\n",
    "먹고 싶은 과일은? :배\n",
    "배 맛있게 드세요\n",
    "각 과일 당 최소 5개는 되도록 구입합니다\n",
    "구입에 필요한 총 금액은 : 44000 원 입니다\n",
    "```"
   ]
  },
  {
   "cell_type": "code",
   "execution_count": 22,
   "metadata": {
    "id": "zUG941Gj6-8C"
   },
   "outputs": [
    {
     "name": "stdin",
     "output_type": "stream",
     "text": [
      "먹고 싶은 과일은? : 배\n"
     ]
    },
    {
     "name": "stdout",
     "output_type": "stream",
     "text": [
      "배 맛있게 드세요\n",
      "각 과일 당 최소 5개는 되도록 구입합니다\n",
      "구입에 필요한 총 금액은 : 44000 원 입니다\n"
     ]
    }
   ],
   "source": [
    "fruit = {'배' : [2, 1000], '자몽' : [1, 2000], '메론' : [1, 8000], '감' : [6, 800]}\n",
    "f = input(\"먹고 싶은 과일은? :\")\n",
    "\n",
    "# 코드를 작성하세요\n",
    "if f in fruit :\n",
    "    #판매\n",
    "    print(f'{f} 맛있게 드세요')\n",
    "    fruit[f][0] -= 1\n",
    "    \n",
    "else:\n",
    "    print(f'{f} 준비되어 있지 않습니다')\n",
    "    \n",
    "#재고 5개 체크\n",
    "total_amt = 0\n",
    "\n",
    "su_limit =5\n",
    "\n",
    "for f, (su, price) in fruit.items():\n",
    "    if su< su_limit :\n",
    "        buy = su_limit - su\n",
    "        total_amt += buy * price\n",
    "        #수량 채우기\n",
    "        #fruit[f][0] = su_limit\n",
    "        fruit[f][0] += buy\n",
    "\n",
    "print('각 과일 당 최소 5개는 되도록 구입합니다')\n",
    "print('구입에 필요한 총 금액은 : {} 원 입니다'.format(total_amt))"
   ]
  },
  {
   "cell_type": "markdown",
   "metadata": {
    "id": "Jo2J2oYO9P9U"
   },
   "source": [
    "#  7\n",
    "사용자로부터 패스워드를 입력 받아 유효한 패스워드인지 검사하는 코드를 작성하시오.\n",
    "(아래의 조건에 맞게 코딩할 것)\n",
    "\n",
    "①  패스워드 유효성 검사 기능은 함수로 구현 할 것\n",
    "\n",
    "②  함수에서는 입력 받은 패스워드의 다음 조건을 체크 <br>\n",
    "- 패스워드는 최소한 8자리 이상, 14자리 미만이면 False 반환  <br>\n",
    "- 영문자, 숫자를 제외한 다른 문자가 있으면 False 반환<br>\n",
    "- 영문자로만 구성되었으면 False 반환<br>\n",
    "- 숫자로만 구성되었으면 False 반환<br>\n",
    "- 패스워드는 최소한 2개의 숫자를 가지고 있어야 함<br>\n",
    "\n",
    "③ 총 5번의 패스워드 유효성 검사, 유효하면 종료함\n",
    "\n",
    "\n",
    "\n",
    "-------------------------------------------------\n",
    "출력예시\n",
    "```\n",
    "Enter password : hankukUniv  \n",
    "error! 숫자도 포함되어야 함  \n",
    "Invalid password  \n",
    "Enter password : 123456789  \n",
    "error! 영문도 포함되어야 함  \n",
    "Invalid password  \n",
    "Enter password : hankuk Univ  \n",
    "error! 영문자, 숫자로만 구성되어야 함  \n",
    "Invalid password  \n",
    "Enter password : hankuk  \n",
    "error! 8 글자 이상이어야 함  \n",
    "Invalid password  \n",
    "Enter password : abcdefgh1  \n",
    "error! 최소한 2개의 숫자를 포함해야 함  \n",
    "Invalid password  \n",
    "Enter password : hankuk12  \n",
    "Valid password  \n",
    "Enter password : 2023freshman  \n",
    "Valid password  \n",
    "```\n"
   ]
  },
  {
   "cell_type": "code",
   "execution_count": null,
   "metadata": {
    "id": "opQ9M5wAzcRw"
   },
   "outputs": [],
   "source": [
    "# 코드를 작성하세요"
   ]
  },
  {
   "cell_type": "code",
   "execution_count": 38,
   "metadata": {
    "id": "X6MD2yrfwWwY"
   },
   "outputs": [],
   "source": [
    "def validate_password(password):\n",
    "    #패스워드는 최소한 8자리 이상, 14자리 미만이면 True, 아니면 False 반환  <br>\n",
    "    if (len(password) < 8) or (len(password) >= 14) :\n",
    "        print('error! 8 글자 이상이어야 함')\n",
    "        return False\n",
    "        \n",
    "    #영문자, 숫자를 제외한 다른 문자가 있으면 False 반환<br>\n",
    "    if not password.isalnum() :\n",
    "        print('error! 영문자, 숫자로만 구성되어야 함')\n",
    "        return False\n",
    "    \n",
    "    #영문자로만 구성되었으면 False 반환<br>\n",
    "    if password.isalpha() :\n",
    "        print('error! 숫자도 포함되어야 함')\n",
    "        return False\n",
    "    \n",
    "    #숫자로만 구성되었으면 False 반환<br>\n",
    "    if password.isdigit() :\n",
    "        print('error! 영문도 포함되어야 함')\n",
    "        return False    \n",
    "        \n",
    "    #패스워드는 최소한 2개의 숫자를 가지고 있어야 함<br>\n",
    "    cnt = sum( d.isdigit()     for d in password )\n",
    "    if cnt < 2 :\n",
    "        print('error! 최소한 2개의 숫자를 포함해야 함')\n",
    "        return False\n",
    "        \n",
    "    return True"
   ]
  },
  {
   "cell_type": "code",
   "execution_count": 46,
   "metadata": {},
   "outputs": [
    {
     "name": "stdin",
     "output_type": "stream",
     "text": [
      "Enter password : \n"
     ]
    },
    {
     "name": "stdout",
     "output_type": "stream",
     "text": [
      "error! 8 글자 이상이어야 함\n",
      "Invalid password\n"
     ]
    },
    {
     "name": "stdin",
     "output_type": "stream",
     "text": [
      "Enter password : \n"
     ]
    },
    {
     "name": "stdout",
     "output_type": "stream",
     "text": [
      "error! 8 글자 이상이어야 함\n",
      "Invalid password\n"
     ]
    },
    {
     "name": "stdin",
     "output_type": "stream",
     "text": [
      "Enter password : \n"
     ]
    },
    {
     "name": "stdout",
     "output_type": "stream",
     "text": [
      "error! 8 글자 이상이어야 함\n",
      "Invalid password\n"
     ]
    },
    {
     "name": "stdin",
     "output_type": "stream",
     "text": [
      "Enter password : \n"
     ]
    },
    {
     "name": "stdout",
     "output_type": "stream",
     "text": [
      "error! 8 글자 이상이어야 함\n",
      "Invalid password\n"
     ]
    },
    {
     "name": "stdin",
     "output_type": "stream",
     "text": [
      "Enter password : \n"
     ]
    },
    {
     "name": "stdout",
     "output_type": "stream",
     "text": [
      "error! 8 글자 이상이어야 함\n",
      "Invalid password\n",
      "바보래요~ ^ㅠ^.\n"
     ]
    }
   ],
   "source": [
    "#총 5번의 패스워드 유효성 검사, 유효하면 종료함\n",
    "count = 0\n",
    "\n",
    "while  count < 5:\n",
    "    in_password = input('Enter password :')\n",
    "    \n",
    "    if validate_password(in_password) :\n",
    "        print('Valid password')\n",
    "        break\n",
    "    else :\n",
    "        print('Invalid password')\n",
    "\n",
    "    count += 1\n",
    "\n",
    "if count == 5 :\n",
    "        print('바보래요~ ^ㅠ^.')\n",
    "else: \n",
    "        print('성공~ ^0^')"
   ]
  },
  {
   "cell_type": "markdown",
   "metadata": {},
   "source": [
    "# 정규표현식 Regular Expression\n",
    "\n",
    "- 파이썬 문서 : https://docs.python.org/ko/3/library/re.html\n",
    "\n",
    "\n"
   ]
  },
  {
   "attachments": {},
   "cell_type": "markdown",
   "metadata": {},
   "source": [
    "정규표현식은 문자열에서 특정 패턴을 찾거나, 대체하거나, 추출하는 데 사용됩니다.  \n",
    "파이썬에서는 `re` 모듈을 사용하여 정규표현식을 다룹니다.\n",
    "\n",
    "```\n",
    "import re  \n",
    "pattern = re.compile(r'\\d+')  \n",
    "match = pattern.match('123abc')  \n",
    "if match:  \n",
    "    print(match.group())  # 123\n",
    "```\n",
    "\n",
    "\n",
    "문자열 앞에 붙는 r은 \"raw string\"을 의미합니다.   \n",
    "파이썬에서 r 접두어를 사용하면 해당 문자열 내에서 백슬래시(\\)를 이스케이프 문자로 처리하지 않습니다.   \n",
    "정규표현식에서 이 기능은 코드의 가독성을 높이고 간결하게 만들어 줍니다."
   ]
  },
  {
   "cell_type": "markdown",
   "metadata": {},
   "source": [
    "| 패턴  | 설명                                   |\n",
    "|-------|----------------------------------------|\n",
    "| .     | 임의의 한 문자 (줄바꿈 문자 제외)        |\n",
    "| ^     | 문자열의 시작                          |\n",
    "| $     | 문자열의 끝                            |\n",
    "| *     | 0회 이상 반복                         |\n",
    "| +     | 1회 이상 반복                         |\n",
    "| ?     | 0회 또는 1회 반복                     |\n",
    "| {n}   | n회 반복                              |\n",
    "| {n,}  | n회 이상 반복                         |\n",
    "| {n,m} | n회 이상 m회 이하 반복                |\n",
    "| []    | 문자 집합, 괄호 안의 문자 중 하나와 매치 |\n",
    "| |     | OR 연산자                             |\n",
    "| \\     | 이스케이프 문자                       |\n",
    "| ()    | 그룹을 지정                           |\n",
    "| \\d    | 숫자와 매치, [0-9]                    |\n",
    "| \\D    | 숫자가 아닌 것과 매치, [^0-9]         |\n",
    "| \\s    | 공백 문자와 매치, [ \\t\\n\\r\\f\\v]       |\n",
    "| \\S    | 공백 문자가 아닌 것과 매치, [^\\t\\n\\r\\f\\v] |\n",
    "| \\w    | 문자 + 숫자와 매치, [a-zA-Z0-9_]      |\n",
    "| \\W    | 문자 + 숫자가 아닌 것과 매치, [^a-zA-Z0-9_] |\n"
   ]
  },
  {
   "cell_type": "code",
   "execution_count": null,
   "metadata": {},
   "outputs": [],
   "source": [
    "import re"
   ]
  },
  {
   "cell_type": "code",
   "execution_count": null,
   "metadata": {
    "scrolled": true
   },
   "outputs": [],
   "source": []
  },
  {
   "cell_type": "code",
   "execution_count": null,
   "metadata": {},
   "outputs": [],
   "source": []
  },
  {
   "cell_type": "code",
   "execution_count": null,
   "metadata": {},
   "outputs": [],
   "source": []
  },
  {
   "cell_type": "markdown",
   "metadata": {},
   "source": [
    "##  정규표현식 함수"
   ]
  },
  {
   "cell_type": "markdown",
   "metadata": {},
   "source": [
    "| 함수     | 설명                                        | 사용 예                                                                                     |\n",
    "|----------|---------------------------------------------|----------------------------------------------------------------------------------------------|\n",
    "| match()  | 문자열의 처음부터 정규식과 매치되는지 확인  | `import re`<br>`pattern = re.compile(r'\\d+')`<br>`match = pattern.match('123abc')`<br>`if match:`<br>`    print(match.group())  # 123` |\n",
    "| search() | 문자열 전체를 검색하여 정규식과 매치되는지 확인 | `import re`<br>`pattern = re.compile(r'\\d+')`<br>`match = pattern.search('abc123')`<br>`if match:`<br>`    print(match.group())  # 123` |\n",
    "| findall()| 정규식과 매치되는 모든 부분을 리스트로 반환 | `import re`<br>`pattern = re.compile(r'\\d+')`<br>`matches = pattern.findall('abc123def456')`<br>`print(matches)  # ['123', '456']` |\n",
    "| sub()    | 정규식과 매치되는 부분을 다른 문자열로 대체 | `import re`<br>`pattern = re.compile(r'\\d+')`<br>`result = pattern.sub('NUMBER', 'abc123def456')`<br>`print(result)  # abcNUMBERdefNUMBER` |\n"
   ]
  },
  {
   "cell_type": "code",
   "execution_count": null,
   "metadata": {},
   "outputs": [],
   "source": []
  },
  {
   "cell_type": "markdown",
   "metadata": {},
   "source": [
    "## 패턴의 몇 가지 예"
   ]
  },
  {
   "cell_type": "markdown",
   "metadata": {},
   "source": [
    "| 패턴    | 설명                                   | 예시                                               |\n",
    "|---------|----------------------------------------|----------------------------------------------------|\n",
    "| \\d+     | 숫자가 하나 이상인 부분과 매치         | `'123abc'.match(r'\\d+') -> '123'`                  |\n",
    "| \\D+     | 숫자가 아닌 부분과 매치                | `'abc123'.match(r'\\D+') -> 'abc'`                  |\n",
    "| \\s+     | 공백 문자가 하나 이상인 부분과 매치    | `'abc 123'.match(r'\\s+') -> ' '`                   |\n",
    "| \\S+     | 공백 문자가 아닌 부분과 매치           | `'abc123'.match(r'\\S+') -> 'abc123'`               |\n",
    "| \\w+     | 문자와 숫자가 하나 이상인 부분과 매치  | `'abc123'.match(r'\\w+') -> 'abc123'`               |\n",
    "| \\W+     | 문자와 숫자가 아닌 부분과 매치         | `'abc123'.match(r'\\W+') -> None`                   |\n",
    "| [a-z]   | 소문자 a부터 z까지 중 하나와 매치      | `'abc'.match(r'[a-z]') -> 'a'`                     |\n",
    "| [^a-z]  | 소문자 a부터 z까지 아닌 것과 매치      | `'ABC'.match(r'[^a-z]') -> 'A'`                    |\n",
    "| ^abc    | 문자열의 시작이 'abc'와 매치           | `'abc123'.match(r'^abc') -> 'abc'`                 |\n",
    "| abc$    | 문자열의 끝이 'abc'와 매치             | `'123abc'.match(r'abc$') -> 'abc'`                 |\n",
    "| a\\|b    | 'a' 또는 'b'와 매치                    | `'a'.match(r'a|b') -> 'a'`                         |\n",
    "| (abc)   | 'abc'와 매치되는 그룹을 생성           | `'abc'.match(r'(abc)') -> 'abc'`                   |\n",
    "| \\bword\\b| 단어 경계에 있는 'word'와 매치         | `'word wordy'.match(r'\\bword\\b') -> 'word'`        |\n"
   ]
  },
  {
   "cell_type": "code",
   "execution_count": null,
   "metadata": {},
   "outputs": [],
   "source": []
  },
  {
   "cell_type": "code",
   "execution_count": null,
   "metadata": {},
   "outputs": [],
   "source": []
  },
  {
   "cell_type": "code",
   "execution_count": null,
   "metadata": {},
   "outputs": [],
   "source": []
  },
  {
   "cell_type": "code",
   "execution_count": null,
   "metadata": {},
   "outputs": [],
   "source": []
  },
  {
   "cell_type": "code",
   "execution_count": null,
   "metadata": {},
   "outputs": [],
   "source": []
  },
  {
   "cell_type": "code",
   "execution_count": null,
   "metadata": {},
   "outputs": [],
   "source": []
  },
  {
   "cell_type": "code",
   "execution_count": null,
   "metadata": {},
   "outputs": [],
   "source": []
  },
  {
   "cell_type": "code",
   "execution_count": null,
   "metadata": {},
   "outputs": [],
   "source": []
  }
 ],
 "metadata": {
  "colab": {
   "include_colab_link": true,
   "provenance": [],
   "toc_visible": true
  },
  "kernelspec": {
   "display_name": "Python 3 (ipykernel)",
   "language": "python",
   "name": "python3"
  },
  "language_info": {
   "codemirror_mode": {
    "name": "ipython",
    "version": 3
   },
   "file_extension": ".py",
   "mimetype": "text/x-python",
   "name": "python",
   "nbconvert_exporter": "python",
   "pygments_lexer": "ipython3",
   "version": "3.11.4"
  },
  "toc": {
   "base_numbering": 1,
   "nav_menu": {},
   "number_sections": false,
   "sideBar": true,
   "skip_h1_title": false,
   "title_cell": "Table of Contents",
   "title_sidebar": "Contents",
   "toc_cell": false,
   "toc_position": {},
   "toc_section_display": true,
   "toc_window_display": false
  }
 },
 "nbformat": 4,
 "nbformat_minor": 4
}
