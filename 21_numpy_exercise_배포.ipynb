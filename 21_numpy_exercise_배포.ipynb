{
 "cells": [
  {
   "cell_type": "markdown",
   "metadata": {
    "colab_type": "text",
    "id": "view-in-github"
   },
   "source": [
    "<a href=\"https://colab.research.google.com/github/zzhining/ml_basic/blob/main/numpy_exercise_skeleton.ipynb\" target=\"_parent\"><img src=\"https://colab.research.google.com/assets/colab-badge.svg\" alt=\"Open In Colab\"/></a>"
   ]
  },
  {
   "cell_type": "markdown",
   "metadata": {
    "id": "rKiHkzUc7VOV"
   },
   "source": [
    "# 연습 1\n",
    "## Q1. \n",
    "\n",
    "\n",
    "<div class=\"alert alert-success\">\n",
    "[문제1]     \n",
    "    \n",
    "원소가 1부터 5까지인 배열 arr이 있다. 각각의 요소의 루트를 씌운 값의 총합을 구하시오. \n",
    "</div>\n",
    "\n",
    "------------\n",
    "[힌트]  \n",
    "np.arange(1, 6)  \n",
    "list = [1,2,3,4,5]   \n",
    "8.382332347441762  "
   ]
  },
  {
   "cell_type": "code",
   "execution_count": 1,
   "metadata": {
    "id": "aOW6jRjDTt__"
   },
   "outputs": [
    {
     "data": {
      "text/plain": [
       "8.382332347441762"
      ]
     },
     "execution_count": 1,
     "metadata": {},
     "output_type": "execute_result"
    }
   ],
   "source": [
    "import numpy as np\n",
    "\n",
    "arr1 = np.array([1,2,3,4,5])\n",
    "np.sum(np.sqrt(arr1))"
   ]
  },
  {
   "cell_type": "markdown",
   "metadata": {
    "id": "jfW2jQRL7VOf"
   },
   "source": [
    "## Q2. \n",
    "\n",
    "<div class=\"alert alert-success\">\n",
    "[문제2]\n",
    "    \n",
    "    \n",
    "다음과 같은 배열 arr2를 만드시오.  \n",
    "    \n",
    "    \n",
    "arr2 = ( arr의 총합, arr의 평균, arr의 최소값, arr의 최대값)  \n",
    "[15.  3.  1.  5.]  \n",
    "</div>"
   ]
  },
  {
   "cell_type": "code",
   "execution_count": 6,
   "metadata": {
    "id": "JTgNQNbFTuAA"
   },
   "outputs": [
    {
     "data": {
      "text/plain": [
       "array([15.,  3.,  1.,  5.])"
      ]
     },
     "execution_count": 6,
     "metadata": {},
     "output_type": "execute_result"
    }
   ],
   "source": [
    "arr1 = np.array([1,2,3,4,5])\n",
    "arr2 = np.array([np.sum(arr1), np.mean(arr1), np.min(arr1), np.max(arr1)])\n",
    "arr2"
   ]
  },
  {
   "cell_type": "markdown",
   "metadata": {
    "id": "_Bvykj0V7VOh"
   },
   "source": [
    "## Q3.\n",
    "\n",
    "<div class=\"alert alert-success\">\n",
    "[문제3]\n",
    "    \n",
    "    \n",
    "arr2의 구조를 확인하고(shape),\n",
    "arr2를 전치(transpose)한 배열 arr3를 만드시오.\n",
    "</div>\n",
    "\n",
    "------------\n",
    "[힌트]  \n",
    "\n",
    "arr3의 출력 결과\n",
    "\n",
    "[[15.]  \n",
    " [ 3.]   \n",
    " [ 1.]  \n",
    " [ 5.]]"
   ]
  },
  {
   "cell_type": "code",
   "execution_count": 8,
   "metadata": {
    "id": "7To-1VpATuAB"
   },
   "outputs": [
    {
     "data": {
      "text/plain": [
       "(4,)"
      ]
     },
     "execution_count": 8,
     "metadata": {},
     "output_type": "execute_result"
    }
   ],
   "source": [
    "arr2.shape"
   ]
  },
  {
   "cell_type": "code",
   "execution_count": 10,
   "metadata": {},
   "outputs": [
    {
     "data": {
      "text/plain": [
       "array([15.,  3.,  1.,  5.])"
      ]
     },
     "execution_count": 10,
     "metadata": {},
     "output_type": "execute_result"
    }
   ],
   "source": [
    "arr3 = arr2.T\n",
    "arr3"
   ]
  },
  {
   "cell_type": "markdown",
   "metadata": {
    "id": "eAyEo1pr7VOj"
   },
   "source": [
    "\n",
    "## Q4. \n",
    "\n",
    "\n",
    "<div class=\"alert alert-success\">\n",
    "[문제4]\n",
    "    \n",
    "    \n",
    "arr2와 arr3를 행렬 곱 연산한 결과 값은 ? \n",
    "</div>\n",
    "\n",
    "[힌트]\n",
    "\n",
    "\n",
    " 260.\n",
    " \n",
    " \n",
    " 또는\n",
    " \n",
    " \n",
    " \n",
    " [[225.  45.  15.  75.]  \n",
    " [ 45.   9.   3.  15.]   \n",
    " [ 15.   3.   1.   5.]   \n",
    " [ 75.  15.   5.  25.]]   \n",
    "\n",
    "\n"
   ]
  },
  {
   "cell_type": "code",
   "execution_count": 12,
   "metadata": {},
   "outputs": [
    {
     "data": {
      "text/plain": [
       "((4,), (4,))"
      ]
     },
     "execution_count": 12,
     "metadata": {},
     "output_type": "execute_result"
    }
   ],
   "source": [
    "arr2.shape, arr3.shape"
   ]
  },
  {
   "cell_type": "code",
   "execution_count": 16,
   "metadata": {
    "id": "R_rZcbN-TuAC"
   },
   "outputs": [
    {
     "data": {
      "text/plain": [
       "260.0"
      ]
     },
     "execution_count": 16,
     "metadata": {},
     "output_type": "execute_result"
    }
   ],
   "source": [
    "np.dot(arr2, arr3.T)"
   ]
  },
  {
   "cell_type": "markdown",
   "metadata": {
    "id": "XXD0gqZd7VOl"
   },
   "source": [
    "# 연습 2\n",
    "## Q5.\n",
    "\n",
    "\n",
    "<div class=\"alert alert-success\">\n",
    "[문제5]\n",
    "    \n",
    "    \n",
    "arange 함수를 이용하여 원소가 1부터 16까지인 배열 arr을 만드세요.\n",
    "</div>\n"
   ]
  },
  {
   "cell_type": "code",
   "execution_count": 18,
   "metadata": {
    "id": "8YdS8C_RTuAC"
   },
   "outputs": [
    {
     "data": {
      "text/plain": [
       "array([ 1,  2,  3,  4,  5,  6,  7,  8,  9, 10, 11, 12, 13, 14, 15, 16])"
      ]
     },
     "execution_count": 18,
     "metadata": {},
     "output_type": "execute_result"
    }
   ],
   "source": [
    "arr = np.arange(1,17)\n",
    "arr"
   ]
  },
  {
   "cell_type": "markdown",
   "metadata": {
    "id": "xQoZlXT37VOo"
   },
   "source": [
    "## Q6. \n",
    "\n",
    "\n",
    "<div class=\"alert alert-success\">\n",
    "[문제6]\n",
    "    \n",
    "    \n",
    "arr 배열을 4행 4열로 형상 변경하세요.\n",
    "</div>\n"
   ]
  },
  {
   "cell_type": "code",
   "execution_count": 20,
   "metadata": {
    "id": "yqR3O1ddTuAD"
   },
   "outputs": [
    {
     "data": {
      "text/plain": [
       "array([[ 1,  2,  3,  4],\n",
       "       [ 5,  6,  7,  8],\n",
       "       [ 9, 10, 11, 12],\n",
       "       [13, 14, 15, 16]])"
      ]
     },
     "execution_count": 20,
     "metadata": {},
     "output_type": "execute_result"
    }
   ],
   "source": [
    "arr = arr.reshape((4,4))\n",
    "arr"
   ]
  },
  {
   "cell_type": "markdown",
   "metadata": {
    "id": "Z1Krivks7VOq"
   },
   "source": [
    "## Q7. \n",
    "\n",
    "\n",
    "<div class=\"alert alert-success\">\n",
    "[문제7]\n",
    "    \n",
    "arr에 대해 인덱싱과 슬라이싱을 이용하여 다음과 같은 배열 arr2, arr3를 만드시오.  \n",
    "arr2 :   \n",
    " [[2 3 4]  \n",
    " [6 7 8]]\n",
    "\n",
    "arr3 :   \n",
    " [[5 6 7]]  \n",
    "</div>\n",
    "\n",
    "\n"
   ]
  },
  {
   "cell_type": "code",
   "execution_count": 22,
   "metadata": {
    "id": "9Ewu4czMTuAD"
   },
   "outputs": [
    {
     "data": {
      "text/plain": [
       "array([[ 1,  2,  3,  4],\n",
       "       [ 5,  6,  7,  8],\n",
       "       [ 9, 10, 11, 12],\n",
       "       [13, 14, 15, 16]])"
      ]
     },
     "execution_count": 22,
     "metadata": {},
     "output_type": "execute_result"
    }
   ],
   "source": [
    "arr"
   ]
  },
  {
   "cell_type": "code",
   "execution_count": 24,
   "metadata": {},
   "outputs": [
    {
     "data": {
      "text/plain": [
       "array([[2, 3, 4],\n",
       "       [6, 7, 8]])"
      ]
     },
     "execution_count": 24,
     "metadata": {},
     "output_type": "execute_result"
    }
   ],
   "source": [
    "arr2 = arr[:2, 1:]\n",
    "arr2"
   ]
  },
  {
   "cell_type": "code",
   "execution_count": 26,
   "metadata": {},
   "outputs": [
    {
     "data": {
      "text/plain": [
       "array([5, 6, 7])"
      ]
     },
     "execution_count": 26,
     "metadata": {},
     "output_type": "execute_result"
    }
   ],
   "source": [
    "arr3 = arr[1, :3]\n",
    "arr3"
   ]
  },
  {
   "cell_type": "markdown",
   "metadata": {
    "id": "dvS0QSuF7VOs"
   },
   "source": [
    "## Q8.\n",
    "\n",
    "<div class=\"alert alert-success\">\n",
    "[문제8]\n",
    "    \n",
    "arr3를 전치(transpose)하세요.\n",
    "</div>\n",
    "\n",
    "-----------------\n",
    "[힌트]\n",
    "\n",
    "\n",
    "[[5]  \n",
    " [6]  \n",
    " [7]]  \n"
   ]
  },
  {
   "cell_type": "code",
   "execution_count": 28,
   "metadata": {
    "id": "cTBB34sUTuAE"
   },
   "outputs": [
    {
     "data": {
      "text/plain": [
       "array([5, 6, 7])"
      ]
     },
     "execution_count": 28,
     "metadata": {},
     "output_type": "execute_result"
    }
   ],
   "source": [
    "arr3"
   ]
  },
  {
   "cell_type": "code",
   "execution_count": 32,
   "metadata": {},
   "outputs": [
    {
     "data": {
      "text/plain": [
       "array([5, 6, 7])"
      ]
     },
     "execution_count": 32,
     "metadata": {},
     "output_type": "execute_result"
    }
   ],
   "source": [
    "arr4 = arr3.T\n",
    "arr4"
   ]
  },
  {
   "cell_type": "markdown",
   "metadata": {
    "id": "B7bP7F3i7VOv"
   },
   "source": [
    "## Q9.\n",
    "\n",
    "\n",
    "<div class=\"alert alert-success\">\n",
    "[문제9]\n",
    "    \n",
    "arr2와 arr3를 행렬 연산한 결과를 구하시오.\n",
    "</div>\n",
    "\n",
    "-----------------\n",
    "\n",
    "\n",
    "\n",
    "\n",
    "**[결과]**  \n",
    "[[ 56]  \n",
    " [128]]"
   ]
  },
  {
   "cell_type": "code",
   "execution_count": 34,
   "metadata": {
    "id": "fpKMMa6wTuAE"
   },
   "outputs": [
    {
     "data": {
      "text/plain": [
       "array([[ 7,  9, 11],\n",
       "       [11, 13, 15]])"
      ]
     },
     "execution_count": 34,
     "metadata": {},
     "output_type": "execute_result"
    }
   ],
   "source": [
    "arr2 + arr3"
   ]
  },
  {
   "cell_type": "code",
   "execution_count": 36,
   "metadata": {},
   "outputs": [
    {
     "data": {
      "text/plain": [
       "array([[-3, -3, -3],\n",
       "       [ 1,  1,  1]])"
      ]
     },
     "execution_count": 36,
     "metadata": {},
     "output_type": "execute_result"
    }
   ],
   "source": [
    "arr2 - arr3"
   ]
  },
  {
   "cell_type": "markdown",
   "metadata": {
    "id": "qiIru0If7VOx"
   },
   "source": [
    "# 연습 3\n",
    "## Q10.\n",
    "\n",
    "<div class=\"alert alert-success\">\n",
    "[문제10]\n",
    "    \n",
    "np.random을 이용하여 모든 요소의 값이 3 <= 값 < 7인   \n",
    "요소 4개를 갖는 1차원 배열 arr을 생성하시오.  \n",
    "예시) arr = [4, 3, 4, 6]  \n",
    "</div>\n",
    "\n",
    "\n",
    "\n"
   ]
  },
  {
   "cell_type": "code",
   "execution_count": 3,
   "metadata": {
    "scrolled": true
   },
   "outputs": [
    {
     "name": "stdout",
     "output_type": "stream",
     "text": [
      "Help on built-in function randint:\n",
      "\n",
      "randint(...) method of numpy.random.mtrand.RandomState instance\n",
      "    randint(low, high=None, size=None, dtype=int)\n",
      "\n",
      "    Return random integers from `low` (inclusive) to `high` (exclusive).\n",
      "\n",
      "    Return random integers from the \"discrete uniform\" distribution of\n",
      "    the specified dtype in the \"half-open\" interval [`low`, `high`). If\n",
      "    `high` is None (the default), then results are from [0, `low`).\n",
      "\n",
      "    .. note::\n",
      "        New code should use the `~numpy.random.Generator.integers`\n",
      "        method of a `~numpy.random.Generator` instance instead;\n",
      "        please see the :ref:`random-quick-start`.\n",
      "\n",
      "    Parameters\n",
      "    ----------\n",
      "    low : int or array-like of ints\n",
      "        Lowest (signed) integers to be drawn from the distribution (unless\n",
      "        ``high=None``, in which case this parameter is one above the\n",
      "        *highest* such integer).\n",
      "    high : int or array-like of ints, optional\n",
      "        If provided, one above the largest (signed) integer to be drawn\n",
      "        from the distribution (see above for behavior if ``high=None``).\n",
      "        If array-like, must contain integer values\n",
      "    size : int or tuple of ints, optional\n",
      "        Output shape.  If the given shape is, e.g., ``(m, n, k)``, then\n",
      "        ``m * n * k`` samples are drawn.  Default is None, in which case a\n",
      "        single value is returned.\n",
      "    dtype : dtype, optional\n",
      "        Desired dtype of the result. Byteorder must be native.\n",
      "        The default value is int.\n",
      "\n",
      "        .. versionadded:: 1.11.0\n",
      "\n",
      "    Returns\n",
      "    -------\n",
      "    out : int or ndarray of ints\n",
      "        `size`-shaped array of random integers from the appropriate\n",
      "        distribution, or a single such random int if `size` not provided.\n",
      "\n",
      "    See Also\n",
      "    --------\n",
      "    random_integers : similar to `randint`, only for the closed\n",
      "        interval [`low`, `high`], and 1 is the lowest value if `high` is\n",
      "        omitted.\n",
      "    random.Generator.integers: which should be used for new code.\n",
      "\n",
      "    Examples\n",
      "    --------\n",
      "    >>> np.random.randint(2, size=10)\n",
      "    array([1, 0, 0, 0, 1, 1, 0, 0, 1, 0]) # random\n",
      "    >>> np.random.randint(1, size=10)\n",
      "    array([0, 0, 0, 0, 0, 0, 0, 0, 0, 0])\n",
      "\n",
      "    Generate a 2 x 4 array of ints between 0 and 4, inclusive:\n",
      "\n",
      "    >>> np.random.randint(5, size=(2, 4))\n",
      "    array([[4, 0, 2, 1], # random\n",
      "           [3, 2, 2, 0]])\n",
      "\n",
      "    Generate a 1 x 3 array with 3 different upper bounds\n",
      "\n",
      "    >>> np.random.randint(1, [3, 5, 10])\n",
      "    array([2, 2, 9]) # random\n",
      "\n",
      "    Generate a 1 by 3 array with 3 different lower bounds\n",
      "\n",
      "    >>> np.random.randint([1, 5, 7], 10)\n",
      "    array([9, 8, 7]) # random\n",
      "\n",
      "    Generate a 2 by 4 array using broadcasting with dtype of uint8\n",
      "\n",
      "    >>> np.random.randint([1, 3, 5, 7], [[10], [20]], dtype=np.uint8)\n",
      "    array([[ 8,  6,  9,  7], # random\n",
      "           [ 1, 16,  9, 12]], dtype=uint8)\n",
      "\n"
     ]
    }
   ],
   "source": [
    "help(np.random.randint)"
   ]
  },
  {
   "cell_type": "code",
   "execution_count": 9,
   "metadata": {
    "id": "yzqVs3ieTuAF"
   },
   "outputs": [
    {
     "data": {
      "text/plain": [
       "array([3, 3, 4, 3])"
      ]
     },
     "execution_count": 9,
     "metadata": {},
     "output_type": "execute_result"
    }
   ],
   "source": [
    "arr = np.random.randint(3, 6, size=4)\n",
    "arr"
   ]
  },
  {
   "cell_type": "markdown",
   "metadata": {
    "id": "XHC6Qbjs7VOz"
   },
   "source": [
    "## Q11. \n",
    "\n",
    "<div class=\"alert alert-success\">\n",
    "[문제11]\n",
    "    \n",
    "arr을 2*2 형상 변경하시오.\n",
    "</div>\n"
   ]
  },
  {
   "cell_type": "code",
   "execution_count": 11,
   "metadata": {},
   "outputs": [
    {
     "data": {
      "text/plain": [
       "array([[3, 3],\n",
       "       [4, 3]])"
      ]
     },
     "execution_count": 11,
     "metadata": {},
     "output_type": "execute_result"
    }
   ],
   "source": [
    "arr.reshape(2,2)"
   ]
  },
  {
   "cell_type": "markdown",
   "metadata": {
    "id": "oqbJuv3tNpuU"
   },
   "source": [
    "## Q12. \n",
    "\n",
    "\n",
    "<div class=\"alert alert-success\">\n",
    "[문제12]\n",
    "다음과 같이 동작하는 로또 번호 생성기를 작성하시오.\n",
    "    \n",
    "    \n",
    "    - 사용자로부터 로또 번호를 몇 개 생성할지 입력받는다    \n",
    "    \n",
    "    - 사용자가 입력한 개수 만큼 로또 번호를 생성하여 출력한다    \n",
    "    \n",
    "    - 로또번호는 숫자가 작은 수부터 순서대로 정렬하여 출력한다\n",
    "    \n",
    "    - 로또 번호는 1부터 46까지 서로 다른 6개의 정수로 이루어져있다    \n",
    "        \n",
    "    - 로또 번호 생성기 로직은 함수로 작성하여 재활용이 가능하도록 한다    \n",
    "   \n",
    "\n",
    "</div>\n",
    "    \n",
    "[실행 예시]\n",
    "로또번호를 몇 개 생성할까요? 3  \n",
    "1. 로또번호: [10 13 16 30 37 41]  \n",
    "2. 로또번호: [ 4 10 15 25 29 42]  \n",
    "3. 로또번호: [ 6 26 31 39 40 45]  \n",
    "\n",
    "  "
   ]
  },
  {
   "cell_type": "code",
   "execution_count": 41,
   "metadata": {
    "scrolled": true
   },
   "outputs": [
    {
     "name": "stdout",
     "output_type": "stream",
     "text": [
      "Help on built-in function choice:\n",
      "\n",
      "choice(...) method of numpy.random.mtrand.RandomState instance\n",
      "    choice(a, size=None, replace=True, p=None)\n",
      "\n",
      "    Generates a random sample from a given 1-D array\n",
      "\n",
      "    .. versionadded:: 1.7.0\n",
      "\n",
      "    .. note::\n",
      "        New code should use the `~numpy.random.Generator.choice`\n",
      "        method of a `~numpy.random.Generator` instance instead;\n",
      "        please see the :ref:`random-quick-start`.\n",
      "\n",
      "    Parameters\n",
      "    ----------\n",
      "    a : 1-D array-like or int\n",
      "        If an ndarray, a random sample is generated from its elements.\n",
      "        If an int, the random sample is generated as if it were ``np.arange(a)``\n",
      "    size : int or tuple of ints, optional\n",
      "        Output shape.  If the given shape is, e.g., ``(m, n, k)``, then\n",
      "        ``m * n * k`` samples are drawn.  Default is None, in which case a\n",
      "        single value is returned.\n",
      "    replace : boolean, optional\n",
      "        Whether the sample is with or without replacement. Default is True,\n",
      "        meaning that a value of ``a`` can be selected multiple times.\n",
      "    p : 1-D array-like, optional\n",
      "        The probabilities associated with each entry in a.\n",
      "        If not given, the sample assumes a uniform distribution over all\n",
      "        entries in ``a``.\n",
      "\n",
      "    Returns\n",
      "    -------\n",
      "    samples : single item or ndarray\n",
      "        The generated random samples\n",
      "\n",
      "    Raises\n",
      "    ------\n",
      "    ValueError\n",
      "        If a is an int and less than zero, if a or p are not 1-dimensional,\n",
      "        if a is an array-like of size 0, if p is not a vector of\n",
      "        probabilities, if a and p have different lengths, or if\n",
      "        replace=False and the sample size is greater than the population\n",
      "        size\n",
      "\n",
      "    See Also\n",
      "    --------\n",
      "    randint, shuffle, permutation\n",
      "    random.Generator.choice: which should be used in new code\n",
      "\n",
      "    Notes\n",
      "    -----\n",
      "    Setting user-specified probabilities through ``p`` uses a more general but less\n",
      "    efficient sampler than the default. The general sampler produces a different sample\n",
      "    than the optimized sampler even if each element of ``p`` is 1 / len(a).\n",
      "\n",
      "    Sampling random rows from a 2-D array is not possible with this function,\n",
      "    but is possible with `Generator.choice` through its ``axis`` keyword.\n",
      "\n",
      "    Examples\n",
      "    --------\n",
      "    Generate a uniform random sample from np.arange(5) of size 3:\n",
      "\n",
      "    >>> np.random.choice(5, 3)\n",
      "    array([0, 3, 4]) # random\n",
      "    >>> #This is equivalent to np.random.randint(0,5,3)\n",
      "\n",
      "    Generate a non-uniform random sample from np.arange(5) of size 3:\n",
      "\n",
      "    >>> np.random.choice(5, 3, p=[0.1, 0, 0.3, 0.6, 0])\n",
      "    array([3, 3, 0]) # random\n",
      "\n",
      "    Generate a uniform random sample from np.arange(5) of size 3 without\n",
      "    replacement:\n",
      "\n",
      "    >>> np.random.choice(5, 3, replace=False)\n",
      "    array([3,1,0]) # random\n",
      "    >>> #This is equivalent to np.random.permutation(np.arange(5))[:3]\n",
      "\n",
      "    Generate a non-uniform random sample from np.arange(5) of size\n",
      "    3 without replacement:\n",
      "\n",
      "    >>> np.random.choice(5, 3, replace=False, p=[0.1, 0, 0.3, 0.6, 0])\n",
      "    array([2, 3, 0]) # random\n",
      "\n",
      "    Any of the above can be repeated with an arbitrary array-like\n",
      "    instead of just integers. For instance:\n",
      "\n",
      "    >>> aa_milne_arr = ['pooh', 'rabbit', 'piglet', 'Christopher']\n",
      "    >>> np.random.choice(aa_milne_arr, 5, p=[0.5, 0.1, 0.1, 0.3])\n",
      "    array(['pooh', 'pooh', 'pooh', 'Christopher', 'piglet'], # random\n",
      "          dtype='<U11')\n",
      "\n"
     ]
    }
   ],
   "source": [
    "help(np.random.choice)"
   ]
  },
  {
   "cell_type": "code",
   "execution_count": 65,
   "metadata": {
    "id": "wDUTTmnETuAF"
   },
   "outputs": [
    {
     "name": "stdin",
     "output_type": "stream",
     "text": [
      "로또번호를 몇 개 생성할까요?  3\n"
     ]
    },
    {
     "name": "stdout",
     "output_type": "stream",
     "text": [
      "1. 로또번호: [ 7 16 30 32 36 44]\n",
      "2. 로또번호: [ 2 11 25 30 32 35]\n",
      "3. 로또번호: [ 2 24 25 32 39 46]\n"
     ]
    }
   ],
   "source": [
    "num = int(input('로또번호를 몇 개 생성할까요? '))\n",
    "\n",
    "def lotto(n):\n",
    "    numbers = []\n",
    "    \n",
    "    for i in range(n):\n",
    "        lotto_number = np.random.choice(np.arange(1, 47), size=6, replace=False)\n",
    "        numbers.append(np.sort(lotto_number))\n",
    "\n",
    "    for i, number in enumerate(numbers):\n",
    "        print(f'{i + 1}. 로또번호: {number}')\n",
    "        \n",
    "lotto(num)"
   ]
  },
  {
   "cell_type": "markdown",
   "metadata": {
    "id": "nZZ1gpFRRxSm"
   },
   "source": [
    "## Q13. \n",
    "\n",
    "\n",
    "<div class=\"alert alert-success\">\n",
    "    \n",
    "[문제13]\n",
    "    \n",
    "오늘의 로또번호는 [9, 12, 17, 21, 40, 42]입니다.  \n",
    "    \n",
    "오늘의 로또번호 합보다 더 큰 조합을 가지고 있는 경우, 이벤트 쿠폰을 발행하려고 합니다.\n",
    "    \n",
    "몇 장의 이벤트 쿠폰을 발행해야하는지 판단하는 로직을 작성하세요\n",
    "\n",
    "</div>\n",
    "\n",
    "[실행 예시]\n",
    "\n",
    "\n",
    "\n",
    "로또번호를 몇 개 생성할까요? 3\n",
    "1. 로또번호: [ 1 15 36 39 41 45]  \n",
    "이벤트 당첨, 오늘의 로또번호 합= 141, 당첨된 로또번호 합=177\n",
    "2. 로또번호: [ 6  9 12 19 27 42]  \n",
    "3. 로또번호: [ 4  7 36 39 39 44]  \n",
    "이벤트 당첨, 오늘의 로또번호 합= 141, 당첨된 로또번호 합=169\n"
   ]
  },
  {
   "cell_type": "code",
   "execution_count": 73,
   "metadata": {
    "id": "03f1vg5CRwhf"
   },
   "outputs": [
    {
     "name": "stdin",
     "output_type": "stream",
     "text": [
      "로또번호를 몇 개 생성할까요?  3\n"
     ]
    },
    {
     "name": "stdout",
     "output_type": "stream",
     "text": [
      "1. 로또번호: [ 5 39  2 35  1 10]\n",
      "2. 로또번호: [43 25 33  8  4 23]\n",
      "3. 로또번호: [25 45 21 38 22  1]\n",
      "이벤트 당첨, 오늘의 로또번호 합= 141, 당첨된 로또번호 합= 152\n"
     ]
    }
   ],
   "source": [
    "today = np.array([9, 12, 17, 21, 40, 42])\n",
    "\n",
    "def createLottoNumber2(count):\n",
    "    lotto_number = []\n",
    "    for i in range(count):\n",
    "        lotto_number.append(np.random.choice(np.arange(1, 47), size=6, replace=False))\n",
    "    for i,j in enumerate(lotto_number):\n",
    "        print(f'{i+1}. 로또번호: {j}')\n",
    "        if np.sum(j) > np.sum(today):\n",
    "            print(f'이벤트 당첨, 오늘의 로또번호 합= {np.sum(today)}, 당첨된 로또번호 합= {np.sum(j)}')\n",
    "    \n",
    "    \n",
    "count = int(input(\"로또번호를 몇 개 생성할까요? \"))\n",
    "createLottoNumber2(count)"
   ]
  },
  {
   "cell_type": "markdown",
   "metadata": {
    "id": "OnXN17-xTuAG"
   },
   "source": [
    "# 연습 4\n",
    "## Q14. \n",
    "\n",
    "\n",
    "<div class=\"alert alert-success\">\n",
    "    \n",
    "[문제14]\n",
    "    \n",
    "수학 시험 답안 채점 프로그램을 만드시오.\n",
    "    \n",
    "    정답 = [3, 2, 1, 4, 4, 3, 4, 4, 3, 3]\n",
    "    \n",
    "    - 문제 수: 10\n",
    "    - 보기: 1번 ~ 5번\n",
    "    - 학생들의 샘플 답안 생성: 10개\n",
    "    - 문항 별 정오답 여부 출력\n",
    "    - 10점 만점에 몇 점인지 출력\n",
    "</div>\n",
    "\n",
    "\n",
    "1. 채점결과: [False  True False False  True False False False  True  True], 점수: 4\n",
    "2. 채점결과: [False  True False  True False False False  True False False], 점수: 3\n",
    "3. 채점결과: [ True  True  True False False False False  True False  True], 점수: 5\n",
    "4. 채점결과: [False False  True False False  True False False False  True], 점수: 3\n",
    "5. 채점결과: [False  True False  True False  True False  True False False], 점수: 4\n",
    "6. 채점결과: [False False False  True False False False False False False], 점수: 1\n",
    "7. 채점결과: [False  True  True False  True False False False False  True], 점수: 4\n",
    "8. 채점결과: [False  True  True False False False  True False False False], 점수: 3\n",
    "9. 채점결과: [ True False False False False  True False  True False False], 점수: 3\n",
    "10. 채점결과: [False  True  True False False False  True False False False], 점수: 3\n"
   ]
  },
  {
   "cell_type": "code",
   "execution_count": 77,
   "metadata": {
    "id": "Xz3gIbnMTuAH"
   },
   "outputs": [
    {
     "data": {
      "text/plain": [
       "array([[1, 4, 1, 2, 1, 3, 4, 4, 4, 4],\n",
       "       [1, 2, 3, 1, 3, 3, 4, 1, 3, 2],\n",
       "       [1, 4, 1, 3, 4, 4, 4, 1, 2, 4],\n",
       "       [2, 3, 3, 1, 3, 1, 4, 4, 2, 4],\n",
       "       [3, 1, 2, 2, 4, 1, 4, 2, 3, 2],\n",
       "       [2, 3, 2, 4, 4, 4, 1, 3, 4, 1],\n",
       "       [2, 4, 3, 2, 3, 3, 4, 4, 2, 1],\n",
       "       [4, 2, 3, 4, 2, 4, 4, 4, 4, 4],\n",
       "       [4, 3, 3, 4, 3, 1, 1, 4, 2, 4],\n",
       "       [1, 4, 3, 2, 3, 4, 4, 4, 2, 3]])"
      ]
     },
     "execution_count": 77,
     "metadata": {},
     "output_type": "execute_result"
    }
   ],
   "source": [
    "# 주어진 코드\n",
    "correct = np.array([3, 2, 1, 4, 4, 3, 4, 4, 3, 3])\n",
    "\n",
    "count = 10\n",
    "students = 10\n",
    "answers = np.random.randint(1, 5, size=count*students)\n",
    "answers = answers.reshape(count, students)\n",
    "answers"
   ]
  },
  {
   "cell_type": "code",
   "execution_count": 83,
   "metadata": {
    "id": "RjMfoJqZTuAH"
   },
   "outputs": [
    {
     "name": "stdout",
     "output_type": "stream",
     "text": [
      "1. 채점결과: [False False  True False False  True  True  True False False], 점수: 4\n",
      "2. 채점결과: [False  True False False False  True  True False  True False], 점수: 4\n",
      "3. 채점결과: [False False  True False  True False  True False False False], 점수: 3\n",
      "4. 채점결과: [False False False False False False  True  True False False], 점수: 2\n",
      "5. 채점결과: [ True False False False  True False  True False  True False], 점수: 4\n",
      "6. 채점결과: [False False False  True  True False False False False False], 점수: 2\n",
      "7. 채점결과: [False False False False False  True  True  True False False], 점수: 3\n",
      "8. 채점결과: [False  True False  True False False  True  True False False], 점수: 4\n",
      "9. 채점결과: [False False False  True False False False  True False False], 점수: 2\n",
      "10. 채점결과: [False False False False False False  True  True False  True], 점수: 3\n"
     ]
    }
   ],
   "source": [
    "def check_answer_sheet(correct, answers):\n",
    "    for i,j in enumerate(answers):\n",
    "        print(f'{i+1}. 채점결과: {answers[i]==correct}, 점수: {np.sum(answers[i]==correct)}')\n",
    "\n",
    "check_answer_sheet(correct, answers)"
   ]
  },
  {
   "cell_type": "code",
   "execution_count": 87,
   "metadata": {},
   "outputs": [
    {
     "data": {
      "text/plain": [
       "['1. 채점결과: [False False  True False False  True  True  True False False], 점수: 4',\n",
       " '2. 채점결과: [False  True False False False  True  True False  True False], 점수: 4',\n",
       " '3. 채점결과: [False False  True False  True False  True False False False], 점수: 3',\n",
       " '4. 채점결과: [False False False False False False  True  True False False], 점수: 2',\n",
       " '5. 채점결과: [ True False False False  True False  True False  True False], 점수: 4',\n",
       " '6. 채점결과: [False False False  True  True False False False False False], 점수: 2',\n",
       " '7. 채점결과: [False False False False False  True  True  True False False], 점수: 3',\n",
       " '8. 채점결과: [False  True False  True False False  True  True False False], 점수: 4',\n",
       " '9. 채점결과: [False False False  True False False False  True False False], 점수: 2',\n",
       " '10. 채점결과: [False False False False False False  True  True False  True], 점수: 3']"
      ]
     },
     "execution_count": 87,
     "metadata": {},
     "output_type": "execute_result"
    }
   ],
   "source": [
    "def check_answer_sheet(correct, answers):\n",
    "    result = []\n",
    "    for i,j in enumerate(answers):\n",
    "        result.append(f'{i+1}. 채점결과: {answers[i]==correct}, 점수: {np.sum(answers[i]==correct)}')\n",
    "    return result\n",
    "\n",
    "check_answer_sheet(correct, answers)"
   ]
  }
 ],
 "metadata": {
  "colab": {
   "include_colab_link": true,
   "provenance": [],
   "toc_visible": true
  },
  "kernelspec": {
   "display_name": "Python 3 (ipykernel)",
   "language": "python",
   "name": "python3"
  },
  "language_info": {
   "codemirror_mode": {
    "name": "ipython",
    "version": 3
   },
   "file_extension": ".py",
   "mimetype": "text/x-python",
   "name": "python",
   "nbconvert_exporter": "python",
   "pygments_lexer": "ipython3",
   "version": "3.12.4"
  },
  "toc": {
   "base_numbering": 1,
   "nav_menu": {},
   "number_sections": false,
   "sideBar": true,
   "skip_h1_title": false,
   "title_cell": "Table of Contents",
   "title_sidebar": "Contents",
   "toc_cell": false,
   "toc_position": {},
   "toc_section_display": true,
   "toc_window_display": true
  }
 },
 "nbformat": 4,
 "nbformat_minor": 4
}
