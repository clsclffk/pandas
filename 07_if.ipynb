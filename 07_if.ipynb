{
 "cells": [
  {
   "cell_type": "markdown",
   "metadata": {
    "colab_type": "text",
    "id": "view-in-github"
   },
   "source": [
    "<a href=\"https://colab.research.google.com/github/zzhining/python_basic/blob/master/07_if.ipynb\" target=\"_parent\"><img src=\"https://colab.research.google.com/assets/colab-badge.svg\" alt=\"Open In Colab\"/></a>"
   ]
  },
  {
   "cell_type": "markdown",
   "metadata": {},
   "source": [
    "## 연산자의 종류\n",
    "- 수치, 대입, 비교, 논리, 식별, 구성원"
   ]
  },
  {
   "cell_type": "code",
   "execution_count": 19,
   "metadata": {},
   "outputs": [],
   "source": [
    "# 대입\n",
    "a = 2\n",
    "b = 3\n",
    "c = a*b"
   ]
  },
  {
   "cell_type": "code",
   "execution_count": 27,
   "metadata": {},
   "outputs": [
    {
     "data": {
      "text/plain": [
       "False"
      ]
     },
     "execution_count": 27,
     "metadata": {},
     "output_type": "execute_result"
    }
   ],
   "source": [
    "list1 = [1,2,3,4,5] # 할당/대입\n",
    "a in list1 # 구성원 연산자\n",
    "a is list1 # 조건식\n",
    "id(list1) == a # 조건식"
   ]
  },
  {
   "cell_type": "markdown",
   "metadata": {
    "id": "LJuUFF9wJqT1"
   },
   "source": [
    "## if문\n",
    "- 지정한 조건에 따라 다르게 분기해 명령을 수행\n",
    "- 조건의 만족 여부에 따라서 코드 수행 결과가 달라짐\n",
    "- 단일  조건에  따른 분기 (if )"
   ]
  },
  {
   "cell_type": "markdown",
   "metadata": {
    "id": "6gk5YI_hKoZH"
   },
   "source": [
    "----\n",
    "⭐ 구문 ⭐\n",
    "- 코드블럭은 들여쓰기로만 구분\n",
    "- 보통은 한줄에 한 문장, 길어지면 '\\'로 연결\n",
    "- 한줄에 여러 문장을 쓸 때 는 ';' 로구분\n",
    "- 주석은 '#'으로 시작\n",
    "----"
   ]
  },
  {
   "cell_type": "code",
   "execution_count": 13,
   "metadata": {
    "id": "QTcSI6XCJlk0",
    "outputId": "ba83260c-948b-4bbb-f28f-15f3d9750b1a"
   },
   "outputs": [
    {
     "name": "stdout",
     "output_type": "stream",
     "text": [
      "pass\n"
     ]
    }
   ],
   "source": [
    "# 변수 x의 값이 90보다 크거나 같으면 ‘Pass’를 출력하는 예\n",
    "x = 95\n",
    "if x >= 90:\n",
    "    print(\"pass\")"
   ]
  },
  {
   "cell_type": "code",
   "execution_count": 15,
   "metadata": {},
   "outputs": [
    {
     "name": "stdout",
     "output_type": "stream",
     "text": [
      "pass\n"
     ]
    }
   ],
   "source": [
    "x = 95\n",
    "\n",
    "if x>=90:\n",
    "    print('pass')"
   ]
  },
  {
   "cell_type": "code",
   "execution_count": 17,
   "metadata": {},
   "outputs": [
    {
     "name": "stdout",
     "output_type": "stream",
     "text": [
      "pass\n",
      "축하합니다\n"
     ]
    }
   ],
   "source": [
    "x = 95\n",
    "if x>=90:\n",
    "    print('pass')\n",
    "print('축하합니다')"
   ]
  },
  {
   "cell_type": "markdown",
   "metadata": {
    "id": "uRGIag2KLQNz"
   },
   "source": [
    "## 비교 연산자\n",
    "\n",
    "| 비교 연산자 | 의미        | 활용 예   | 설명                    |\n",
    "|-------------|-------------|-----------|-------------------------|\n",
    "| ==          | 같다        | a == b    | a는 b와 같다            |\n",
    "| !=          | 같지 않다   | a != b    | a는  b와  같지 않다     |\n",
    "| &lt;        | 작다        | a &lt; b  | a는  b보다 작다         |\n",
    "| &gt;        | 크다        | a &gt; b  | a는  b보다 크다         |\n",
    "| &lt;=       | 작거나 같다 | a &lt;= b | a는  b보다  작거나 같다 |\n",
    "| &gt;=       | 크거나 같다 | a &gt;= b | a는  b보다  크거나 같다 |"
   ]
  },
  {
   "cell_type": "markdown",
   "metadata": {
    "id": "PmccE81sL0KN"
   },
   "source": [
    "----\n",
    "## 논리 연산자\n",
    "| 논리 연산자 | 의미     | 활용 예 | 설명                                                            |   |\n",
    "|-------------|----------|---------|-----------------------------------------------------------------|---|\n",
    "| and         | 논리곱   | A and B | A와  B가  모두  참이면  참이고    그  외에는  거짓              |   |\n",
    "| or          | 논리합   | A or B  | A와  B  중  하나라도  참이면    참이고  둘  다  거짓이면   거짓 |   |\n",
    "| not         | 논리부정 | not A   | A가  참이면  거짓이고    거짓이면  참                           |   |"
   ]
  },
  {
   "cell_type": "markdown",
   "metadata": {
    "id": "t49vdqp7L51V"
   },
   "source": [
    "## if~else\n",
    "<조건문>의 만족 여부에 따라 코드를 다르게 수행하려면 'if ~ else' 구조의 조건문을 이용"
   ]
  },
  {
   "cell_type": "code",
   "execution_count": 7,
   "metadata": {
    "colab": {
     "base_uri": "https://localhost:8080/"
    },
    "id": "DnCIum3mLDKb",
    "outputId": "c952f536-3319-4a45-84a4-19494761d225"
   },
   "outputs": [
    {
     "name": "stdout",
     "output_type": "stream",
     "text": [
      "Bad\n"
     ]
    }
   ],
   "source": [
    "x = 85\n",
    "if x >= 90:\n",
    "    print(\"Very good\")\n",
    "else:\n",
    "    print(\"Bad\")"
   ]
  },
  {
   "cell_type": "code",
   "execution_count": 9,
   "metadata": {},
   "outputs": [
    {
     "name": "stdout",
     "output_type": "stream",
     "text": [
      "택시를 탑니다\n"
     ]
    }
   ],
   "source": [
    "money = 10000\n",
    "\n",
    "if money > 3000:\n",
    "    print('택시를 탑니다')\n",
    "else:\n",
    "    print('버스 타세요')"
   ]
  },
  {
   "cell_type": "code",
   "execution_count": 11,
   "metadata": {},
   "outputs": [
    {
     "name": "stdout",
     "output_type": "stream",
     "text": [
      "택시를 탑니다\n"
     ]
    }
   ],
   "source": [
    "is_there_money = True\n",
    "\n",
    "if is_there_money:\n",
    "    print('택시를 탑니다')\n",
    "else:\n",
    "    print('버스 타세요')"
   ]
  },
  {
   "cell_type": "code",
   "execution_count": 5,
   "metadata": {},
   "outputs": [
    {
     "name": "stdout",
     "output_type": "stream",
     "text": [
      "숫자를 입력하세요 5\n"
     ]
    },
    {
     "data": {
      "text/plain": [
       "'5'"
      ]
     },
     "execution_count": 5,
     "metadata": {},
     "output_type": "execute_result"
    }
   ],
   "source": [
    "# 표준입력\n",
    "input('숫자를 입력하세요')"
   ]
  },
  {
   "cell_type": "code",
   "execution_count": 29,
   "metadata": {},
   "outputs": [
    {
     "name": "stdout",
     "output_type": "stream",
     "text": [
      "숫자 20\n"
     ]
    },
    {
     "data": {
      "text/plain": [
       "'20'"
      ]
     },
     "execution_count": 29,
     "metadata": {},
     "output_type": "execute_result"
    }
   ],
   "source": [
    "data = input('숫자')\n",
    "data"
   ]
  },
  {
   "cell_type": "code",
   "execution_count": 31,
   "metadata": {},
   "outputs": [
    {
     "name": "stdout",
     "output_type": "stream",
     "text": [
      "숫자 20\n"
     ]
    },
    {
     "name": "stdout",
     "output_type": "stream",
     "text": [
      "짝수\n"
     ]
    }
   ],
   "source": [
    "data = int(input('숫자'))\n",
    "if data % 2 ==0:\n",
    "    print('짝수')\n",
    "else:\n",
    "    print('홀수')"
   ]
  },
  {
   "cell_type": "code",
   "execution_count": 33,
   "metadata": {},
   "outputs": [
    {
     "name": "stdout",
     "output_type": "stream",
     "text": [
      "점수를 입력하세요. : 80\n"
     ]
    },
    {
     "name": "stdout",
     "output_type": "stream",
     "text": [
      "우\n"
     ]
    }
   ],
   "source": [
    "# 시험 점수 등급 판정\n",
    "# 수우미양가\n",
    "score = int(input('점수를 입력하세요. :'))\n",
    "\n",
    "if score >= 90:\n",
    "    print('수')\n",
    "elif score >=80:\n",
    "    print('우')\n",
    "elif score >= 70:\n",
    "    print('미')\n",
    "elif score >= 60:\n",
    "    print('양')\n",
    "else:\n",
    "    print('가')"
   ]
  },
  {
   "cell_type": "markdown",
   "metadata": {
    "id": "G0uGvDOPMdQx"
   },
   "source": [
    "## if ~ elif ~ else\n",
    "여러 조건에 따른 분기\n"
   ]
  },
  {
   "cell_type": "code",
   "execution_count": null,
   "metadata": {
    "colab": {
     "base_uri": "https://localhost:8080/"
    },
    "id": "uBf3etBOMk8T",
    "outputId": "b76c6465-e35e-4683-8473-5aaa09814481"
   },
   "outputs": [],
   "source": [
    "x = 85\n",
    "if x >= 90:\n",
    "    print(\"Very good\")\n",
    "elif (x >= 80) and (x < 90):\n",
    "    print(\"Good\")\n",
    "else:\n",
    "    print(\"Bad\")"
   ]
  },
  {
   "cell_type": "markdown",
   "metadata": {
    "id": "TmqGX_5nMvFa"
   },
   "source": [
    "## 중첩 조건문"
   ]
  },
  {
   "cell_type": "code",
   "execution_count": null,
   "metadata": {
    "colab": {
     "base_uri": "https://localhost:8080/"
    },
    "id": "bGSGGADnMpWQ",
    "outputId": "c06473b7-11c2-4772-c9b1-45b14af85bf8"
   },
   "outputs": [],
   "source": [
    "x = 100\n",
    "if x >= 90:\n",
    "    if x==100 :\n",
    "        print(\"Perfect\")\n",
    "    else:\n",
    "        print(\"Very Good\")\n",
    "elif x >= 80 and x < 90:\n",
    "    print(\"Good\")\n",
    "else:\n",
    "    print(\"Bad\")"
   ]
  },
  {
   "cell_type": "markdown",
   "metadata": {},
   "source": [
    "과제 1. 수식을 입력받아 연산 결과를 출력하는 순서도를 작성하고 코드를 완성하세요.  \n",
    "(+, -, *, / 연산자만 허용하고, 그 외의 연산자가 입력되었을 경우, 연산자는 허용하지 않는다는 메시지를 출력)\n",
    "\n",
    "---\n",
    "\n",
    "출력 예시\n",
    "\n",
    "수식 입력(예: 20 * 40) :20 + 4  \n",
    "20.000000 +  4.000000 = 24.000000  \n",
    "수식 입력(예: 20 * 40) :0.3 * 0  \n",
    " 0.300000 *  0.000000 =  0.000000  \n",
    "수식 입력(예: 20 * 40) :30 / 0  \n",
    "0.000000000 로 나누기를 수행할 수 없습니다.  \n",
    "수식 입력(예: 20 * 40) :30 ? 7  \n",
    "? 지원하지 않는 연산자입니다."
   ]
  },
  {
   "cell_type": "code",
   "execution_count": 68,
   "metadata": {},
   "outputs": [
    {
     "name": "stdout",
     "output_type": "stream",
     "text": [
      "수식 입력(예: 20 * 40) : 30 / 0\n"
     ]
    },
    {
     "name": "stdout",
     "output_type": "stream",
     "text": [
      "0.000000000 로 나누기를 수행할 수 없습니다.\n"
     ]
    }
   ],
   "source": [
    "expression = input('수식 입력(예: 20 * 40) :')\n",
    "\n",
    "num1, operator, num2 = expression.split(' ')\n",
    "num1 = float(num1)\n",
    "num2 = float(num2)\n",
    "\n",
    "if operator == '+':\n",
    "    print(f\"{num1:.6f} + {num2:.6f} = {num1 + num2:.6f}\")\n",
    "elif operator == '-':\n",
    "    print(f\"{num1:.6f} - {num2:.6f} = {num1 - num2:.6f}\") \n",
    "elif operator == '*':\n",
    "    print(f\"{num1:.6f} * {num2:.6f} = {num1 * num2:.6f}\") \n",
    "elif operator == '/':\n",
    "    if num2 == 0:  # 0으로 나누는 경우 처리\n",
    "        print(\"0.000000000 로 나누기를 수행할 수 없습니다.\")\n",
    "    else:\n",
    "        print(f\"{num1:.6f} / {num2:.6f} = {num1 / num2:.6f}\")\n",
    "else:\n",
    "    print(f'{operator} 지원하지 않는 연산자입니다.')"
   ]
  },
  {
   "cell_type": "markdown",
   "metadata": {},
   "source": [
    "## 3항 연산자 (조건부 표현식)\n",
    "\n",
    "- 조건 ? 'a' : 'b'\n",
    "- 참일때 입력값 if 조건식 else 대체값"
   ]
  },
  {
   "cell_type": "code",
   "execution_count": 3,
   "metadata": {},
   "outputs": [
    {
     "data": {
      "text/plain": [
       "'success'"
      ]
     },
     "execution_count": 3,
     "metadata": {},
     "output_type": "execute_result"
    }
   ],
   "source": [
    "score = 80\n",
    "message = 'success' if score >= 60 else 'failure'\n",
    "message"
   ]
  },
  {
   "cell_type": "code",
   "execution_count": 13,
   "metadata": {},
   "outputs": [
    {
     "name": "stdout",
     "output_type": "stream",
     "text": [
      "총점을 입력해 주세요:  80\n"
     ]
    },
    {
     "data": {
      "text/plain": [
       "'A0 입니다.'"
      ]
     },
     "execution_count": 13,
     "metadata": {},
     "output_type": "execute_result"
    }
   ],
   "source": [
    "score = int(input('총점을 입력해 주세요: '))\n",
    "grade = 'A+' if score >= 90 else 'A0' if score >= 80 else 'B+' if score >=70 \\\n",
    "else 'B0' if score >= 60 else 'C' if score >= 50 else 'D'\n",
    "f'{grade} 입니다.'"
   ]
  }
 ],
 "metadata": {
  "colab": {
   "include_colab_link": true,
   "provenance": [],
   "toc_visible": true
  },
  "kernelspec": {
   "display_name": "Python 3 (ipykernel)",
   "language": "python",
   "name": "python3"
  },
  "language_info": {
   "codemirror_mode": {
    "name": "ipython",
    "version": 3
   },
   "file_extension": ".py",
   "mimetype": "text/x-python",
   "name": "python",
   "nbconvert_exporter": "python",
   "pygments_lexer": "ipython3",
   "version": "3.12.4"
  },
  "toc": {
   "base_numbering": 1,
   "nav_menu": {},
   "number_sections": false,
   "sideBar": true,
   "skip_h1_title": false,
   "title_cell": "Table of Contents",
   "title_sidebar": "Contents",
   "toc_cell": false,
   "toc_position": {},
   "toc_section_display": true,
   "toc_window_display": false
  }
 },
 "nbformat": 4,
 "nbformat_minor": 4
}
