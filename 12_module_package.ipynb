{
 "cells": [
  {
   "cell_type": "markdown",
   "metadata": {
    "colab_type": "text",
    "id": "view-in-github"
   },
   "source": [
    "<a href=\"https://colab.research.google.com/github/zzhining/python_basic/blob/master/14_module.ipynb\" target=\"_parent\"><img src=\"https://colab.research.google.com/assets/colab-badge.svg\" alt=\"Open In Colab\"/></a>"
   ]
  },
  {
   "cell_type": "markdown",
   "metadata": {
    "id": "YPvCzdgsy5eX"
   },
   "source": [
    "## 모듈 (Module)\n",
    "- 코드가 저장된 파일(.py)\n",
    "- 다른 코드에서도 이 파일의 변수, 함수, 클래스를 불러와 이용할 수 있음\n",
    "---\n",
    "**모듈을 사용하는 이유**\n",
    "- 모듈로  나누면  코드 작성과  관리가 쉬워진다\n",
    "- 이미 작성된 코드를 재사용할  수  있다\n",
    "- 공동 작업이 편리해진다\n",
    "\n",
    "**모듈 생성 및 호출**\n",
    "- 모듈 이름은 확장자 (.py)를 제외한 파일 이름\n",
    "- 모듈이 저장된 위치 (경로)에서 파이썬 (혹은 IPython) 콘솔 혹은 주피터 노트북을 실행해 코드를  작성하거나 파이썬 코드 파일을 실행\n",
    "\n"
   ]
  },
  {
   "cell_type": "markdown",
   "metadata": {},
   "source": [
    "## 캡슐화(Encapsulation)\n",
    "- 속성과 메소드를 하나의 객체로 묶어 외부에서 직접 접근하지 못하도록 보호하는 것"
   ]
  },
  {
   "cell_type": "markdown",
   "metadata": {},
   "source": [
    "## 패키지(Package)란?\n",
    "\n",
    "- 여러 모듈을 체계적으로 모아서 관리하기 위한 꾸러미\n",
    "- 모듈을 폴더로 묶어서 계층적으로 관리\n",
    "- 표준라이브러리: 파이썬에 설치된 모듈, 패키지, 내장함수들"
   ]
  },
  {
   "cell_type": "markdown",
   "metadata": {},
   "source": [
    "## 패키지의 구조\n",
    "- 폴더 구조. 각 폴더에는  `__init__.py`라는 특별한  파일이 존재\n",
    "```\n",
    "\\---image\n",
    "   |   __init__.py\n",
    "   |\n",
    "   +---effect\n",
    "   |       rotate.py\n",
    "   |       zoomInOut.py\n",
    "   |       __init__.py\n",
    "   |\n",
    "   +---filter\n",
    "   |       blur.py\n",
    "   |       sharpen.py\n",
    "   |       __init__.py\n",
    "   |\n",
    "   \\---io_file\n",
    "           imgread.py\n",
    "           imgwrite.py\n",
    "           __init__.py\n",
    "\n",
    "```\n"
   ]
  },
  {
   "cell_type": "markdown",
   "metadata": {
    "id": "A8UpqFvdz0VW"
   },
   "source": [
    "## 모듈 만들기\n",
    "- 코드를 '모듈이름.py'로 저장\n",
    "- IPython의 내장 마술 명령어인 `%%writefile`을 이용\n",
    "- `%%writefile filename`을 셀의 첫 줄에 입력하면, 셀 아래에 있는 모든 내용이 해당 파일로 저장\n",
    "- 매직 명령어 : `%(line magic)`, `%%(cell magic)`\n",
    "- `%run` : 외부 Python 파일을 실행"
   ]
  },
  {
   "cell_type": "code",
   "execution_count": 7,
   "metadata": {
    "colab": {
     "base_uri": "https://localhost:8080/"
    },
    "id": "7NEcerMYwv_r",
    "outputId": "9fb1841f-713f-4a85-8806-3af43d01ca94"
   },
   "outputs": [
    {
     "name": "stdout",
     "output_type": "stream",
     "text": [
      "Writing example.py\n"
     ]
    }
   ],
   "source": [
    "%%writefile example.py\n",
    "\n",
    "def my_function():\n",
    "    print('Hello')"
   ]
  },
  {
   "cell_type": "markdown",
   "metadata": {
    "id": "PgChd6Ar0IkV"
   },
   "source": [
    "## 모듈 불러오기\n",
    "```\n",
    "import 모듈명\n",
    "```"
   ]
  },
  {
   "cell_type": "code",
   "execution_count": 9,
   "metadata": {
    "id": "UrZME7aHwv_s"
   },
   "outputs": [
    {
     "name": "stdout",
     "output_type": "stream",
     "text": [
      "Hello\n"
     ]
    }
   ],
   "source": [
    "import example\n",
    "\n",
    "example.my_function()"
   ]
  },
  {
   "cell_type": "code",
   "execution_count": 11,
   "metadata": {
    "colab": {
     "base_uri": "https://localhost:8080/"
    },
    "id": "tVbr25CQwv_t",
    "outputId": "0ede6bcc-666b-4b9e-80dc-0f06dd39f07e"
   },
   "outputs": [
    {
     "name": "stdout",
     "output_type": "stream",
     "text": [
      "Hello\n"
     ]
    }
   ],
   "source": [
    "import example as ex\n",
    "\n",
    "ex.my_function()"
   ]
  },
  {
   "cell_type": "code",
   "execution_count": null,
   "metadata": {},
   "outputs": [],
   "source": [
    "import pandas as pd\n",
    "import numpy as np\n",
    "import matplotlib.pyplot as plt\n",
    "import seaborn as sns"
   ]
  },
  {
   "cell_type": "markdown",
   "metadata": {},
   "source": [
    "## 새로운 모듈 생성"
   ]
  },
  {
   "cell_type": "code",
   "execution_count": 14,
   "metadata": {},
   "outputs": [
    {
     "name": "stdout",
     "output_type": "stream",
     "text": [
      "Writing example2.py\n"
     ]
    }
   ],
   "source": [
    "%%writefile example2.py\n",
    "\n",
    "PI = 3.14\n",
    "\n",
    "def square_func(a):\n",
    "    return a ** 2\n",
    "def circle_func(r):\n",
    "    return PI * r ** 2"
   ]
  },
  {
   "cell_type": "markdown",
   "metadata": {
    "id": "fFg67K3M0gPg"
   },
   "source": [
    "## 모듈의 변수와 함수 호출\n",
    "- 모듈에서 사용 가능한 변수, 함수, 클래스 확인\n",
    "```\n",
    "dir(모듈명)\n",
    "```"
   ]
  },
  {
   "cell_type": "code",
   "execution_count": 18,
   "metadata": {
    "colab": {
     "base_uri": "https://localhost:8080/"
    },
    "id": "cXMCGv-gwv_t",
    "outputId": "27e0eee2-e209-4215-d5e7-bda133be7ae4"
   },
   "outputs": [
    {
     "data": {
      "text/plain": [
       "['PI',\n",
       " '__builtins__',\n",
       " '__cached__',\n",
       " '__doc__',\n",
       " '__file__',\n",
       " '__loader__',\n",
       " '__name__',\n",
       " '__package__',\n",
       " '__spec__',\n",
       " 'circle_func',\n",
       " 'square_func']"
      ]
     },
     "execution_count": 18,
     "metadata": {},
     "output_type": "execute_result"
    }
   ],
   "source": [
    "import example2\n",
    "\n",
    "dir(example2)"
   ]
  },
  {
   "cell_type": "code",
   "execution_count": 20,
   "metadata": {},
   "outputs": [
    {
     "data": {
      "text/plain": [
       "3.14"
      ]
     },
     "execution_count": 20,
     "metadata": {},
     "output_type": "execute_result"
    }
   ],
   "source": [
    "example2.PI"
   ]
  },
  {
   "cell_type": "code",
   "execution_count": 24,
   "metadata": {
    "colab": {
     "base_uri": "https://localhost:8080/"
    },
    "id": "7OO551Gawv_u",
    "outputId": "6a4a38c4-3358-49a8-e075-14ec7b7f4264"
   },
   "outputs": [
    {
     "data": {
      "text/plain": [
       "314.0"
      ]
     },
     "execution_count": 24,
     "metadata": {},
     "output_type": "execute_result"
    }
   ],
   "source": [
    "example2.circle_func(10)"
   ]
  },
  {
   "cell_type": "markdown",
   "metadata": {
    "id": "LedESzb30qQQ"
   },
   "source": [
    "## 모듈을  불러오는 다른 형식"
   ]
  },
  {
   "cell_type": "markdown",
   "metadata": {
    "id": "k_wzpz7J0tOL"
   },
   "source": [
    "### 모듈의 내용 바로 선언\n",
    "```\n",
    "from 모듈명 import 변수명\n",
    "from 모듈명 import 함수명\n",
    "from 모듈명 import 클래스명\n",
    "```\n",
    "\n",
    "### name space\n",
    "- 프로그래밍에서 이름을 관리하는 공간\n",
    "- 변수, 함수, 클래스 등의 이름이 충돌하지 않도록 서로 다른 이름의 범위를 생성"
   ]
  },
  {
   "cell_type": "code",
   "execution_count": 26,
   "metadata": {
    "colab": {
     "base_uri": "https://localhost:8080/"
    },
    "id": "nh1-iCxlwv_u",
    "outputId": "46a15244-49a1-4faa-fefa-dcc3f5907d23"
   },
   "outputs": [
    {
     "data": {
      "text/plain": [
       "3.14"
      ]
     },
     "execution_count": 26,
     "metadata": {},
     "output_type": "execute_result"
    }
   ],
   "source": [
    "from example2 import PI\n",
    "\n",
    "PI"
   ]
  },
  {
   "cell_type": "markdown",
   "metadata": {
    "id": "gImGzzAU1jJ0"
   },
   "source": [
    "### 모두 불러오기\n",
    "모듈의 모든 변수, 함수, 클래스를 바로 모듈명 없이 바로 이용할 경우\n",
    "\n",
    "```\n",
    "from 모듈명 import *\n",
    "```"
   ]
  },
  {
   "cell_type": "code",
   "execution_count": 29,
   "metadata": {
    "colab": {
     "base_uri": "https://localhost:8080/"
    },
    "id": "jlUSMmFa1qgK",
    "outputId": "bc8b09d1-a711-4ca7-a916-80da92d0b8f8"
   },
   "outputs": [
    {
     "data": {
      "text/plain": [
       "78.5"
      ]
     },
     "execution_count": 29,
     "metadata": {},
     "output_type": "execute_result"
    }
   ],
   "source": [
    "from example2 import *\n",
    "\n",
    "example2.circle_func(5)"
   ]
  },
  {
   "cell_type": "markdown",
   "metadata": {
    "id": "vwyBo2hq1unT"
   },
   "source": [
    "### 모듈명을 별명으로 선언\n",
    "```\n",
    "import 모듈명 as 별명\n",
    "\n",
    "```"
   ]
  },
  {
   "cell_type": "markdown",
   "metadata": {
    "id": "GiHhUmxR1xCl"
   },
   "source": [
    "```\n",
    "from 모듈명 import 변수명 as 별명\n",
    "from 모듈명 import 함수명 as 별명\n",
    "from 모듈명 import 클래스명 as 별명\n",
    "```\n"
   ]
  },
  {
   "cell_type": "code",
   "execution_count": 31,
   "metadata": {
    "colab": {
     "base_uri": "https://localhost:8080/"
    },
    "id": "ZD58IX_X12ae",
    "outputId": "8e941905-5758-4e8a-c03e-6eb642c3b2ea"
   },
   "outputs": [
    {
     "data": {
      "text/plain": [
       "3.14"
      ]
     },
     "execution_count": 31,
     "metadata": {},
     "output_type": "execute_result"
    }
   ],
   "source": [
    "import example2 as ex2\n",
    "\n",
    "ex2.PI"
   ]
  },
  {
   "cell_type": "markdown",
   "metadata": {
    "id": "-2t8LBOf2EYD"
   },
   "source": [
    "### 모듈을 직접 실행"
   ]
  },
  {
   "cell_type": "code",
   "execution_count": 33,
   "metadata": {
    "colab": {
     "base_uri": "https://localhost:8080/"
    },
    "id": "kOQ2ejBy2HpR",
    "outputId": "e004d984-ee05-437a-8058-da0332711365"
   },
   "outputs": [
    {
     "name": "stdout",
     "output_type": "stream",
     "text": [
      "Writing example3.py\n"
     ]
    }
   ],
   "source": [
    "%%writefile example3.py\n",
    "\n",
    "def func(a):\n",
    "    print(a, a)\n",
    "func(10)"
   ]
  },
  {
   "cell_type": "code",
   "execution_count": 35,
   "metadata": {
    "colab": {
     "base_uri": "https://localhost:8080/"
    },
    "id": "I2ZAHPIh2LpP",
    "outputId": "976445be-00d1-4916-c31e-bd34941831c9"
   },
   "outputs": [
    {
     "name": "stdout",
     "output_type": "stream",
     "text": [
      "10 10\n"
     ]
    }
   ],
   "source": [
    "%run example3.py"
   ]
  },
  {
   "cell_type": "code",
   "execution_count": 38,
   "metadata": {},
   "outputs": [
    {
     "name": "stdout",
     "output_type": "stream",
     "text": [
      "10 10\n"
     ]
    }
   ],
   "source": [
    "import example3"
   ]
  },
  {
   "cell_type": "markdown",
   "metadata": {},
   "source": [
    "## %run vs import 구분\n",
    "\n",
    "- 모듈이 직접 실행될 때, __name__의 값은 \"__main__\"\n",
    "- 모듈이 다른 모듈에 의해 임포트될 때, __name__의 값은 모듈의 이름(파일 이름)\n",
    "  \n",
    "```python\n",
    "if __name__ == \"__main__\":\n",
    "    <직접 수행할 때만 실행되는 코드>\n",
    "else:\n",
    "    <임포트됐을 때만 실행되는 코드>\n",
    "```"
   ]
  },
  {
   "cell_type": "code",
   "execution_count": 40,
   "metadata": {},
   "outputs": [
    {
     "name": "stdout",
     "output_type": "stream",
     "text": [
      "Writing example4.py\n"
     ]
    }
   ],
   "source": [
    "%%writefile example4.py\n",
    "\n",
    "def func(a):\n",
    "    print('func', a)\n",
    "if __name__ == \"__main__\":\n",
    "    func(10)\n",
    "else:\n",
    "    print('Hello')"
   ]
  },
  {
   "cell_type": "code",
   "execution_count": 46,
   "metadata": {},
   "outputs": [
    {
     "name": "stdout",
     "output_type": "stream",
     "text": [
      "func 10\n"
     ]
    }
   ],
   "source": [
    "%run example4.py"
   ]
  },
  {
   "cell_type": "code",
   "execution_count": 44,
   "metadata": {},
   "outputs": [
    {
     "name": "stdout",
     "output_type": "stream",
     "text": [
      "Hello\n"
     ]
    }
   ],
   "source": [
    "import example4"
   ]
  },
  {
   "cell_type": "markdown",
   "metadata": {
    "id": "5ntjVijr3BrT"
   },
   "source": [
    "## 내장 모듈\n",
    "- 파이썬에는 개발 환경을 설치할 때 내장 모듈과 다양한 공개 모듈이 함께 설치됨\n",
    "- 자신이 원하는 코드를 쉽고 간편하게  작성할 수  있음"
   ]
  },
  {
   "cell_type": "markdown",
   "metadata": {
    "id": "3MaArLoS4Ss4"
   },
   "source": [
    "### 난수 발생 모듈\n",
    "- 난수(random number): 임의의 숫자\n",
    "- random 모듈을 이용해  난수를  생성\n",
    "\n",
    "**random 모듈 사용법**\n",
    "```\n",
    "import random\n",
    "random.random모듈함수()\n",
    "```"
   ]
  },
  {
   "cell_type": "markdown",
   "metadata": {
    "id": "QL1UhyHf8uuG"
   },
   "source": [
    "|     함수                                  |     설명                                                                          |     사용   예                        |\n",
    "|-------------------------------------------|-----------------------------------------------------------------------------------|--------------------------------------|\n",
    "|     random()                              |     0.0 &lt;= 실수 &lt; 1.0 범위의   임의의 실수를 반환                           |     random.random()                  |\n",
    "|     randint(a,b)                          |     a &lt;= 정수 &lt;= b의   범위의 임의의 정수 반환                              |     random.randint(1,6)              |\n",
    "|     randrange([start,]   stop [,step])    |     range([start,] stop [,step])에서   임의의 정수를 반환                         |     random.randrange(0, 10, 2)       |\n",
    "|     choice(seq)                           |     공백이   아닌 시퀀스(seq)에서 임의의 항목을 반환                              |     random.choice([1,2,3])           |\n",
    "|      sample(population, k)                |     시퀀스로   이뤄진 모집단(population)에서   중복되지 않는 k개의 인자를 반환    |     random.sample([1,2,3,4,5], 2)    |"
   ]
  },
  {
   "cell_type": "markdown",
   "metadata": {
    "id": "3MfV9m-H5Ocv"
   },
   "source": [
    "## 날짜 및 시간 관련 처리 모듈\n",
    "- datetime 모듈\n",
    "    - date 클래스: 날짜를 표현\n",
    "    - time 클래스: 시간을 표현\n",
    "    - datetime 클래스: 날짜와 시간을  표현\n",
    "- datetime 모듈의 각 클래스의 객체를 생성해 이용"
   ]
  },
  {
   "cell_type": "markdown",
   "metadata": {
    "id": "xIBDJg_p5XvQ"
   },
   "source": [
    "```\n",
    "import datatime\n",
    "\n",
    "date_obj = datetime.date(year, month, day)\n",
    "time_obj = datetime.time(hour, minute, second)\n",
    "datetime_obj = datetime.datatime(year, month, day, hour, minute, second)\n",
    "```"
   ]
  },
  {
   "cell_type": "markdown",
   "metadata": {
    "id": "Sb7hpgKp84FK"
   },
   "source": [
    "|     함수                        |     설명                                                                                                                   |     사용   예                            |\n",
    "|---------------------------------|----------------------------------------------------------------------------------------------------------------------------|------------------------------------------|\n",
    "|     calendar(year [,m=3])       |     지정된   연도(year)의   전체 달력을 문자열로 반환(기본   형식은 3개의 열)                                              |     calendar.calendar(2017)              |\n",
    "|     month(year, month)          |     지정된   연도(year)와 월(month)의   달력을 문자열로 반환                                                               |     calendar.month(2019,1)               |\n",
    "|     monthrange(year, month)     |     지정된   연도(year)와 월(month)의   시작 요일과 일수 반환. 요일의   경우 0(월요일)   ~ 6(일요일) 사이의 숫자로 반환    |     calendar.monthrange(2020,1)          |\n",
    "|     firstweekday()              |     달력에   표시되는 주의 첫 번째 요일값을   반환. 기본값으로는 월요일(0)로 지정됨                                        |     calendar.firstweekday()              |\n",
    "|     setfirstweekday(weekday)    |     달력에   표시되는 주의 첫 번째 요일을 지정                                                                             |     calendar.setfirstweekday(6)          |\n",
    "|     weekday(year,month,day)     |     지정된   날짜[연도(year),   월(month), 일(day)]의   요일을 반환                                                        |     calendar. weekday(year,month,day)    |\n",
    "|     isleap(year)                |     지정된   연도(year)가   윤년인지를 판단해 윤년이면 True를, 아니면 False를   반환                                       |     calendar.isleap(2020)                |"
   ]
  },
  {
   "cell_type": "markdown",
   "metadata": {
    "id": "qN8fJts-9Bdv"
   },
   "source": [
    "⭐요일 지정 상수⭐\n",
    "\n",
    "|     요일    |     요일  지정 상수       |     숫자로 표시    |\n",
    "|:-----------:|---------------------------|--------------------|\n",
    "|      월     |     calendar.MONDAY       |     0              |\n",
    "|      화     |     calendar.TUESDAY      |     1              |\n",
    "|      수     |     calendar.WEDNESDAY    |     2              |\n",
    "|      목     |     calendar.THURSDAY     |     3              |\n",
    "|      금     |     calendar.FRIDAY       |     4              |\n",
    "|      토     |     calendar.SATURDAY     |     5              |\n",
    "|      일     |     calendar.SUNDAY       |     6              |"
   ]
  },
  {
   "cell_type": "markdown",
   "metadata": {
    "id": "BPW5mDu85Xsg"
   },
   "source": [
    "datetime 모듈 예제"
   ]
  },
  {
   "cell_type": "code",
   "execution_count": 2,
   "metadata": {
    "id": "OUFqLaOiwv_z"
   },
   "outputs": [
    {
     "name": "stdout",
     "output_type": "stream",
     "text": [
      "날짜: 2024-09-22\n",
      "시간: 14:30:00\n",
      "날짜+시간: 2024-09-22 14:30:00\n"
     ]
    }
   ],
   "source": [
    "import datetime\n",
    "\n",
    "# 날짜 객체 생성\n",
    "date_obj = datetime.date(2024, 9, 22)\n",
    "print(\"날짜:\", date_obj)\n",
    "\n",
    "# 시간 객체\n",
    "time_obj = datetime.time(14, 30, 0)\n",
    "print(\"시간:\", time_obj)\n",
    "\n",
    "# 날짜 + 시간 객체\n",
    "datetime_obj = datetime.datetime(2024, 9, 22, 14, 30, 0)\n",
    "print(\"날짜+시간:\", datetime_obj)"
   ]
  },
  {
   "cell_type": "markdown",
   "metadata": {
    "id": "1Z4g2mqC6R83"
   },
   "source": [
    "## 달력 생성 및 처리 모듈\n",
    "calendar 모듈\n"
   ]
  },
  {
   "cell_type": "code",
   "execution_count": 3,
   "metadata": {
    "colab": {
     "base_uri": "https://localhost:8080/"
    },
    "id": "2OteCkxj6pRj",
    "outputId": "3623273b-70e6-4fb2-cfd0-de1f1b923f46"
   },
   "outputs": [
    {
     "name": "stdout",
     "output_type": "stream",
     "text": [
      "요일(숫자): 6\n",
      "요일(문자): 일\n"
     ]
    }
   ],
   "source": [
    "import calendar\n",
    "\n",
    "# 2024년 9월 22일은 무슨 요일?\n",
    "weekday = calendar.weekday(2024, 9, 22)\n",
    "print(\"요일(숫자):\", weekday)\n",
    "\n",
    "# 숫자를 요일 문자열로 매핑\n",
    "weekdays = ['월', '화', '수', '목', '금', '토', '일']\n",
    "print(\"요일(문자):\", weekdays[weekday])"
   ]
  },
  {
   "cell_type": "code",
   "execution_count": null,
   "metadata": {
    "colab": {
     "base_uri": "https://localhost:8080/"
    },
    "id": "bvUlm8HC6qwt",
    "outputId": "ab195109-6972-46c6-95b8-c6a138a48dfc"
   },
   "outputs": [
    {
     "name": "stdout",
     "output_type": "stream",
     "text": [
      "                                  2024\n",
      "\n",
      "      January                   February                   March\n",
      "Mo Tu We Th Fr Sa Su      Mo Tu We Th Fr Sa Su      Mo Tu We Th Fr Sa Su\n",
      " 1  2  3  4  5  6  7                1  2  3  4                   1  2  3\n",
      " 8  9 10 11 12 13 14       5  6  7  8  9 10 11       4  5  6  7  8  9 10\n",
      "15 16 17 18 19 20 21      12 13 14 15 16 17 18      11 12 13 14 15 16 17\n",
      "22 23 24 25 26 27 28      19 20 21 22 23 24 25      18 19 20 21 22 23 24\n",
      "29 30 31                  26 27 28 29               25 26 27 28 29 30 31\n",
      "\n",
      "       April                      May                       June\n",
      "Mo Tu We Th Fr Sa Su      Mo Tu We Th Fr Sa Su      Mo Tu We Th Fr Sa Su\n",
      " 1  2  3  4  5  6  7             1  2  3  4  5                      1  2\n",
      " 8  9 10 11 12 13 14       6  7  8  9 10 11 12       3  4  5  6  7  8  9\n",
      "15 16 17 18 19 20 21      13 14 15 16 17 18 19      10 11 12 13 14 15 16\n",
      "22 23 24 25 26 27 28      20 21 22 23 24 25 26      17 18 19 20 21 22 23\n",
      "29 30                     27 28 29 30 31            24 25 26 27 28 29 30\n",
      "\n",
      "        July                     August                  September\n",
      "Mo Tu We Th Fr Sa Su      Mo Tu We Th Fr Sa Su      Mo Tu We Th Fr Sa Su\n",
      " 1  2  3  4  5  6  7                1  2  3  4                         1\n",
      " 8  9 10 11 12 13 14       5  6  7  8  9 10 11       2  3  4  5  6  7  8\n",
      "15 16 17 18 19 20 21      12 13 14 15 16 17 18       9 10 11 12 13 14 15\n",
      "22 23 24 25 26 27 28      19 20 21 22 23 24 25      16 17 18 19 20 21 22\n",
      "29 30 31                  26 27 28 29 30 31         23 24 25 26 27 28 29\n",
      "                                                    30\n",
      "\n",
      "      October                   November                  December\n",
      "Mo Tu We Th Fr Sa Su      Mo Tu We Th Fr Sa Su      Mo Tu We Th Fr Sa Su\n",
      "    1  2  3  4  5  6                   1  2  3                         1\n",
      " 7  8  9 10 11 12 13       4  5  6  7  8  9 10       2  3  4  5  6  7  8\n",
      "14 15 16 17 18 19 20      11 12 13 14 15 16 17       9 10 11 12 13 14 15\n",
      "21 22 23 24 25 26 27      18 19 20 21 22 23 24      16 17 18 19 20 21 22\n",
      "28 29 30 31               25 26 27 28 29 30         23 24 25 26 27 28 29\n",
      "                                                    30 31\n",
      "\n",
      "     April 2024\n",
      "Mo Tu We Th Fr Sa Su\n",
      " 1  2  3  4  5  6  7\n",
      " 8  9 10 11 12 13 14\n",
      "15 16 17 18 19 20 21\n",
      "22 23 24 25 26 27 28\n",
      "29 30\n",
      "\n"
     ]
    }
   ],
   "source": [
    "# 2024년 전체 달력\n",
    "print(calendar.calendar(2024))\n",
    "\n",
    "# 2025년 4월 달력\n",
    "print(calendar.month(2024, 4))"
   ]
  },
  {
   "cell_type": "code",
   "execution_count": null,
   "metadata": {
    "colab": {
     "base_uri": "https://localhost:8080/"
    },
    "id": "CWnltEfR6sJL",
    "outputId": "72e3dd8e-141b-4ed0-c1aa-4bef5cad26d2"
   },
   "outputs": [
    {
     "name": "stdout",
     "output_type": "stream",
     "text": [
      "2024는 윤년인가요? True\n",
      "2025는 윤년인가요? False\n"
     ]
    }
   ],
   "source": [
    "# 2024년은 윤년인가?\n",
    "print(\"2024는 윤년인가요?\", calendar.isleap(2024))  # True\n",
    "print(\"2025는 윤년인가요?\", calendar.isleap(2025))  # False"
   ]
  },
  {
   "cell_type": "code",
   "execution_count": 6,
   "metadata": {},
   "outputs": [
    {
     "name": "stdout",
     "output_type": "stream",
     "text": [
      "시작 요일: 6\n",
      "총 일수: 30\n"
     ]
    }
   ],
   "source": [
    "import calendar\n",
    "\n",
    "# 2024년 9월은 무슨 요일부터 시작하고 며칠까지 있을까?\n",
    "start_day, last_day = calendar.monthrange(2024, 9)\n",
    "print(\"시작 요일:\", start_day)  # 0: 월요일 ~ 6: 일요일\n",
    "print(\"총 일수:\", last_day)"
   ]
  },
  {
   "cell_type": "markdown",
   "metadata": {
    "id": "jfVwGr7T6SQ6"
   },
   "source": [
    "## os 모듈\n",
    "\n",
    "파일 및 디렉토리의 이름 변경, 삭제 등 파일 오퍼레이션 수행"
   ]
  },
  {
   "cell_type": "code",
   "execution_count": null,
   "metadata": {
    "colab": {
     "base_uri": "https://localhost:8080/",
     "height": 35
    },
    "id": "86M9kQFo6WkQ",
    "outputId": "157d1893-13c1-44a8-c2e7-79ea9dc89edb"
   },
   "outputs": [
    {
     "name": "stdout",
     "output_type": "stream",
     "text": [
      "현재 작업 디렉토리: c:\\Users\\jisu\\Desktop\\hellopython\n",
      "['.git', '.ipynb_checkpoints', '00_markdown_syntax.ipynb', '01_variable_dtype.ipynb', '02_string.ipynb', '03_list.ipynb', '04_tuple.ipynb', '05_set.ipynb', '06_dict.ipynb', '0718F47C-E533-4E75-B5AE-F393EB211464.png', '07_if.ipynb', '08_for.ipynb', '09_basic_io.ipynb', '10_file_io.ipynb', '11_function_lambda.ipynb', '12_module_package.ipynb', '13_object.ipynb', '14_예외처리.ipynb', '21_numpy.ipynb', '21_numpy_exercise_배포.ipynb', '21_sales_analysis_numpy_exercises_배포.ipynb', '22_pandas.ipynb', '22_데이터프레임_연습1_배포.ipynb', '22_데이터프레임_연습_구조_변경.ipynb', '22_데이터프레임_연습_데이터병합.ipynb', '22_데이터프레임_연습_생성_및_탐색.ipynb', '22_데이터프레임_연습_선택_및_편집.ipynb', '23_데이터 시각화.ipynb', '24_EDA.ipynb', '25_쇼핑몰 데이터(팀).ipynb', '25_쇼핑몰 데이터.ipynb', '25_파이썬데이터분석_실습_통신사고객이탈.ipynb', '28C131D1-7BA9-4982-B683-A232D5CD7908.png', 'B406EF7D-3F84-4FE3-B918-3CA50BBDC257.png', 'cheatsheets-1.webp', 'data', 'example.py', 'example2.py', 'example3.py', 'example4.py', 'Image20241029140825.png', 'Image20241029145219.png', 'my_array.npy', 'scientist_names_series.pickle', 'student_scores.txt', '__pycache__', '과제_자료형(list,_tuple,_dict).ipynb', '과제_자료형(list,_tuple,_dict)_풀이.ipynb', '랩업1_제어문_함수_정규식_배포.ipynb', '랩업2_함수_람다_문자열_배포.ipynb', '랩업3_제어문_함수_클래스_모듈_배포.ipynb', '화면 캡처 2024-10-29 134548.png']\n"
     ]
    }
   ],
   "source": [
    "import os\n",
    "\n",
    "# 현재 작업 디렉토리 및 파일 목록 확인\n",
    "print('현재 작업 디렉토리:', os.getcwd())\n",
    "print(os.listdir())"
   ]
  },
  {
   "cell_type": "code",
   "execution_count": null,
   "metadata": {
    "id": "I_lEz0OK6ajL"
   },
   "outputs": [],
   "source": [
    "# 폴더 생성 및 삭제\n",
    "os.mkdir(\"sample_folder\")\n",
    "os.rmdir(\"sample_folder\") "
   ]
  },
  {
   "cell_type": "code",
   "execution_count": null,
   "metadata": {
    "colab": {
     "base_uri": "https://localhost:8080/",
     "height": 35
    },
    "id": "CZHfkxix6jOh",
    "outputId": "74916479-4f96-495c-f4a2-e8561d23a9f7"
   },
   "outputs": [],
   "source": [
    "# 파일 이름 변경\n",
    "os.rename(\"old_name.txt\", \"new_name.txt\")\n",
    "\n",
    "# 파일 삭제\n",
    "os.remove(\"new_name.txt\")"
   ]
  },
  {
   "cell_type": "markdown",
   "metadata": {
    "id": "5DV6WCDf7PeW"
   },
   "source": [
    "## pickle\n",
    "구조화된 데이터를 저장"
   ]
  },
  {
   "cell_type": "code",
   "execution_count": null,
   "metadata": {
    "id": "q2x9hYmo8G-3"
   },
   "outputs": [],
   "source": [
    "import pickle\n",
    "\n",
    "data = {'name': 'Jisu', 'age': 25, 'skills': ['Python', 'Pandas']}\n",
    "\n",
    "# pickle로 저장\n",
    "with open(\"data.pkl\", \"wb\") as f:\n",
    "    pickle.dump(data, f)"
   ]
  },
  {
   "cell_type": "code",
   "execution_count": null,
   "metadata": {},
   "outputs": [],
   "source": [
    "# pickle 파일 로드\n",
    "with open(\"data.pkl\", \"rb\") as f:\n",
    "    loaded_data = pickle.load(f)\n",
    "\n",
    "print(\"불러온 데이터:\", loaded_data)"
   ]
  }
 ],
 "metadata": {
  "colab": {
   "include_colab_link": true,
   "provenance": [],
   "toc_visible": true
  },
  "kernelspec": {
   "display_name": "my_ml_env",
   "language": "python",
   "name": "python3"
  },
  "language_info": {
   "codemirror_mode": {
    "name": "ipython",
    "version": 3
   },
   "file_extension": ".py",
   "mimetype": "text/x-python",
   "name": "python",
   "nbconvert_exporter": "python",
   "pygments_lexer": "ipython3",
   "version": "3.13.1"
  },
  "toc": {
   "base_numbering": 1,
   "nav_menu": {},
   "number_sections": false,
   "sideBar": true,
   "skip_h1_title": false,
   "title_cell": "Table of Contents",
   "title_sidebar": "Contents",
   "toc_cell": false,
   "toc_position": {},
   "toc_section_display": true,
   "toc_window_display": false
  }
 },
 "nbformat": 4,
 "nbformat_minor": 4
}
