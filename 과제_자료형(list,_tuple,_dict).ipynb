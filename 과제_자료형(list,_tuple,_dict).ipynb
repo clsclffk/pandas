{
 "cells": [
  {
   "cell_type": "markdown",
   "metadata": {
    "colab_type": "text",
    "id": "view-in-github"
   },
   "source": [
    "<a href=\"https://colab.research.google.com/github/zzhining/python_basic/blob/master/exercise/%EC%9E%90%EB%A3%8C%ED%98%95(list%2C_tuple%2C_dict).ipynb\" target=\"_parent\"><img src=\"https://colab.research.google.com/assets/colab-badge.svg\" alt=\"Open In Colab\"/></a>"
   ]
  },
  {
   "cell_type": "markdown",
   "metadata": {
    "id": "wOyc8JEKtj2m"
   },
   "source": [
    "1. 리스트 numbers가 다음과 같을 때, 첫 번째 원소와 마지막 원소의 합을 구하는 코드를 작성하세요."
   ]
  },
  {
   "cell_type": "code",
   "execution_count": null,
   "metadata": {
    "id": "GldE3jITtAKO"
   },
   "outputs": [],
   "source": [
    "numbers = [10, 20,  30,  40,  50,  60, 70, 80, 90, 100]"
   ]
  },
  {
   "cell_type": "code",
   "execution_count": null,
   "metadata": {
    "id": "t3GZWdQpqTiR"
   },
   "outputs": [],
   "source": [
    "#답을 작성하세요.\n",
    "answer1 =\n",
    "\n",
    "print(answer1)"
   ]
  },
  {
   "cell_type": "markdown",
   "metadata": {
    "id": "ubyXowADuNql"
   },
   "source": [
    "2. 리스트 colors가 다음과 같을 때, 첫 3개 원소와 마지막 2개 원소를 슬라이싱을 사용하여 출력하는 코드를 작성하세요."
   ]
  },
  {
   "cell_type": "code",
   "execution_count": null,
   "metadata": {
    "id": "3Qgcb2vvuMwP"
   },
   "outputs": [],
   "source": [
    "colors = [\"red\", \"green\", \"blue\", \"yellow\", \"purple\", \"orange\", \"black\"]"
   ]
  },
  {
   "cell_type": "code",
   "execution_count": null,
   "metadata": {
    "id": "PGb59Mu1qXTK"
   },
   "outputs": [],
   "source": [
    "#답을 작성하세요.\n",
    "answer2_1 =\n",
    "answer2_2 =\n",
    "\n",
    "print(\"첫 3개 원소 : \", answer2_1)\n",
    "print(\"마지막 2개 원소 : \", answer2_2)"
   ]
  },
  {
   "cell_type": "markdown",
   "metadata": {
    "id": "GcrYhNlWzjt8"
   },
   "source": [
    "3. 다음 리스트에서 \"korean\"이라는 문자열을 찾아 출력하는 코드를 작성하세요."
   ]
  },
  {
   "cell_type": "code",
   "execution_count": null,
   "metadata": {
    "id": "opqd26QSzqNo"
   },
   "outputs": [],
   "source": [
    "list_a = [\n",
    "    [1, 2, 3],\n",
    "    [\"red\", \"green\", \"blue\"],\n",
    "    [False, \"korean\", True]\n",
    "]"
   ]
  },
  {
   "cell_type": "code",
   "execution_count": null,
   "metadata": {
    "id": "XxZ4nVRQqo06"
   },
   "outputs": [],
   "source": [
    "#답을 작성하세요.\n",
    "answer3 =\n",
    "\n",
    "print(answer3)"
   ]
  },
  {
   "cell_type": "markdown",
   "metadata": {
    "id": "eHBj8twm0EKJ"
   },
   "source": [
    "4. 리스트 list_a과 list_b가 다음과 같을 때, 두 리스트를 합쳐서 새로운 리스트 list_c를 만드는 코드를 작성하세요."
   ]
  },
  {
   "cell_type": "code",
   "execution_count": null,
   "metadata": {
    "id": "vVs5CpAt0NhM"
   },
   "outputs": [],
   "source": [
    "list_a = [1, 2, 3]\n",
    "list_b = [4, 5, 6]"
   ]
  },
  {
   "cell_type": "code",
   "execution_count": null,
   "metadata": {
    "id": "m3Mj6sFyq4K-"
   },
   "outputs": [],
   "source": [
    "#답을 작성하세요.\n",
    "list_c =\n",
    "\n",
    "print(list_c)"
   ]
  },
  {
   "cell_type": "markdown",
   "metadata": {
    "id": "F5JsDNTd0pAu"
   },
   "source": [
    "5. 아래의 튜플 tuple_a에서 \"banana\"를 \"blueberry\"로 변경하는 코드를 작성하세요."
   ]
  },
  {
   "cell_type": "code",
   "execution_count": null,
   "metadata": {
    "id": "zPYxZgXw0Vn8"
   },
   "outputs": [],
   "source": [
    "tuple_a = (\"apple\", \"banana\", \"cherry\")"
   ]
  },
  {
   "cell_type": "code",
   "execution_count": null,
   "metadata": {
    "id": "JJx5yjelrAHM"
   },
   "outputs": [],
   "source": [
    "#답을 작성하세요.\n",
    "answer5 =\n",
    "\n",
    "print(answer5)"
   ]
  },
  {
   "cell_type": "markdown",
   "metadata": {
    "id": "AUaC64941iNE"
   },
   "source": [
    "6. 변수 a, b, c의 값을 사용하여 튜플 tuple_a를 생성하고 출력하는 코드를 작성하세요."
   ]
  },
  {
   "cell_type": "code",
   "execution_count": null,
   "metadata": {
    "id": "-vuiB0fx0-FG"
   },
   "outputs": [],
   "source": [
    "a = 5\n",
    "b = 10\n",
    "c = 15"
   ]
  },
  {
   "cell_type": "code",
   "execution_count": null,
   "metadata": {
    "id": "GZNmPPDRrGb7"
   },
   "outputs": [],
   "source": [
    "#답을 작성하세요.\n",
    "tuple_a =\n",
    "\n",
    "print(tuple_a)"
   ]
  },
  {
   "cell_type": "markdown",
   "metadata": {
    "id": "q0rukGXK18JD"
   },
   "source": [
    "7. 튜플 numbers가 주어졌을 때, 튜플의 최대값과 최소값을 출력하는 코드를 작성하세요."
   ]
  },
  {
   "cell_type": "code",
   "execution_count": null,
   "metadata": {
    "id": "4H1_jaLT1FIf"
   },
   "outputs": [],
   "source": [
    "numbers = (92, 89, 72, 31, 71, 33, 19)"
   ]
  },
  {
   "cell_type": "code",
   "execution_count": null,
   "metadata": {
    "id": "Xufr6zWBrM9E"
   },
   "outputs": [],
   "source": [
    "#답을 작성하세요.\n",
    "answer7_1 =\n",
    "answer7_2 =\n",
    "\n",
    "print(\"최대값 : \", answer7_1)\n",
    "print(\"최소값 : \", answer7_2)"
   ]
  },
  {
   "cell_type": "markdown",
   "metadata": {
    "id": "OQ4wlbLL2pNY"
   },
   "source": [
    "8. dict 타입의 student(변수명)를 생성하고, 아래의 키-값 쌍을 추가하는 코드를 작성하세요.\n",
    "\n",
    "- name: \"Alice\"\n",
    "- age: 24\n",
    "- major: \"Computer Science\""
   ]
  },
  {
   "cell_type": "code",
   "execution_count": null,
   "metadata": {
    "id": "SmGl3aVU28Av"
   },
   "outputs": [],
   "source": [
    "#답을 작성하세요.\n",
    "student =\n",
    "\n",
    "print(student)"
   ]
  },
  {
   "cell_type": "markdown",
   "metadata": {
    "id": "xCKsKXQ626po"
   },
   "source": [
    "9. 위에서 생성한 student에서, 모든 키와 값을 출력하는 코드를 작성하세요"
   ]
  },
  {
   "cell_type": "code",
   "execution_count": null,
   "metadata": {
    "id": "BISP8V6x2o8p"
   },
   "outputs": [],
   "source": [
    "#답을 작성하세요.\n",
    "answer9_1 =\n",
    "answer9_2 =\n",
    "\n",
    "print(\"모든 키(key) : \", answer9_1)\n",
    "print(\"모든 값(value) : \" , answer9_2)"
   ]
  },
  {
   "cell_type": "markdown",
   "metadata": {
    "id": "44Z6O7gn3Tkl"
   },
   "source": [
    "10. 위에서 생성한 student에서, age(나이)를 26으로 변경하세요."
   ]
  },
  {
   "cell_type": "code",
   "execution_count": null,
   "metadata": {
    "id": "09_EXg8y3kD2"
   },
   "outputs": [],
   "source": [
    "#답을 작성하세요.\n",
    "answer10 =\n",
    "\n",
    "print(answer10)"
   ]
  },
  {
   "cell_type": "markdown",
   "metadata": {
    "id": "_Z8iAUHt3jau"
   },
   "source": [
    "@. 다음 딕셔너리 students에서 name의 값을 리스트(name_list)로, age의 값을 튜플(age_tuple) 만드는 코드를 작성하세요"
   ]
  },
  {
   "cell_type": "code",
   "execution_count": 1,
   "metadata": {
    "id": "vu8l1f_T37YW"
   },
   "outputs": [],
   "source": [
    "students = {\n",
    "    \"student1\": {\"name\": \"Alice\", \"age\": 24},\n",
    "    \"student2\": {\"name\": \"Bob\", \"age\": 22},\n",
    "    \"student3\": {\"name\": \"Charlie\", \"age\": 23}\n",
    "}"
   ]
  },
  {
   "cell_type": "code",
   "execution_count": 9,
   "metadata": {},
   "outputs": [
    {
     "name": "stdout",
     "output_type": "stream",
     "text": [
      "Alice\n",
      "Bob\n",
      "Charlie\n"
     ]
    }
   ],
   "source": [
    "for i in students.values():\n",
    "    print(i['name'])"
   ]
  },
  {
   "cell_type": "code",
   "execution_count": 11,
   "metadata": {
    "id": "Mq8sxoh1sn3S"
   },
   "outputs": [
    {
     "name": "stdout",
     "output_type": "stream",
     "text": [
      "['Alice', 'Bob', 'Charlie']\n",
      "[24, 22, 23]\n"
     ]
    }
   ],
   "source": [
    "#답을 작성하세요.\n",
    "name_list = [i['name'] for i in students.values()]\n",
    "age_tuple = [i['age'] for i in students.values()]\n",
    "\n",
    "print(name_list)\n",
    "print(age_tuple)"
   ]
  }
 ],
 "metadata": {
  "colab": {
   "include_colab_link": true,
   "provenance": []
  },
  "kernelspec": {
   "display_name": "Python 3 (ipykernel)",
   "language": "python",
   "name": "python3"
  },
  "language_info": {
   "codemirror_mode": {
    "name": "ipython",
    "version": 3
   },
   "file_extension": ".py",
   "mimetype": "text/x-python",
   "name": "python",
   "nbconvert_exporter": "python",
   "pygments_lexer": "ipython3",
   "version": "3.12.4"
  }
 },
 "nbformat": 4,
 "nbformat_minor": 4
}
